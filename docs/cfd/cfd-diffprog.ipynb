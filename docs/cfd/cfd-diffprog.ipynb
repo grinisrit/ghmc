{
 "cells": [
  {
   "cell_type": "markdown",
   "id": "39390c51",
   "metadata": {},
   "source": [
    "# Differentiable programming for MHFEM with mass lumping (supplementary material)\n",
    "\n",
    "### Gregory Dushkin and Roland Grinis"
   ]
  },
  {
   "cell_type": "markdown",
   "id": "f85eaaf9",
   "metadata": {},
   "source": [
    "## Problem formulation and solution"
   ]
  },
  {
   "cell_type": "markdown",
   "id": "9ab6407a",
   "metadata": {},
   "source": [
    "### Overview"
   ]
  },
  {
   "cell_type": "markdown",
   "id": "80b1567e",
   "metadata": {},
   "source": [
    "When working with liquids in porous media, it is often the case that only certain scalar values depending on the liquids' distribution are measurable (e.g. particle flow through a detector located underneath the porous media volume).\n",
    "It is natural that fro this arises the problem of determining the behavior of these values with respect to parameters of said media."
   ]
  },
  {
   "cell_type": "markdown",
   "id": "1041d69e",
   "metadata": {},
   "source": [
    "Here, a numeric differentiation model is developed atop of lumped MHFE (LMHFE) method suggested by Yones et al. for the case of single-phase two-dimensional liquid flow.\n",
    "Corresponding differential equations are\n",
    "$$\n",
    "\\begin{cases}\n",
    "    c\\frac{\\partial P}{\\partial t} + \\vec \\nabla \\vec q = f\\text{ in }\\Omega \\\\\n",
    "    \\vec q = -a \\vec\\nabla P\n",
    "\\end{cases}\n",
    "\\tag{1}\n",
    "$$\n",
    "with Dirichlet ($P = P_d$ on $\\partial \\Omega_D$) and Neumann($-a\\frac{\\partial P}{\\partial \\vec\\eta} = g$ on $\\partial \\Omega_N$) boundary conditions."
   ]
  },
  {
   "cell_type": "markdown",
   "id": "ac64b1d1",
   "metadata": {},
   "source": []
  },
  {
   "cell_type": "markdown",
   "id": "105fa270",
   "metadata": {},
   "source": [
    "Our goal is to determine sensitivity"
   ]
  },
  {
   "cell_type": "markdown",
   "id": "0a703658",
   "metadata": {},
   "source": [
    "The solution is found with LMHFE [1] via an introduction of a triangulated solution domain mesh.\n",
    "In these terms, $P$, $a$ and $c$ become vectors $\\vec P$, $\\vec a$ and $\\vec c$ with $i$-th vector elements corrseponding to their mean values over $i$-th triangle (generally speaking, cells aren't required to be triangular, but this is the cell topology we will be using in this case)."
   ]
  },
  {
   "cell_type": "markdown",
   "id": "d9422f03",
   "metadata": {},
   "source": [
    "The method derives the solution in two steps: first, a linear system provides an edge-wise solution $\\vec P_T$ ($i$-th element is a mean value of solution $P$ over $i$-th edge in the mesh):\n",
    "$$\n",
    "M\\vec P_T^{[i]} = \\vec b \\left( \\vec P_T^{[i-1]} \\right)\n",
    "\\tag{2}\n",
    "$$\n",
    "that is then converted to $\\vec P$ via\n",
    "$$\n",
    "P_i^{[i]} = \\frac{a_i}{\\beta_i} \\sum\\limits_{\\text{edge }j \\in \\text{ boundary of }i} \\alpha_{ij} P_{T,j}^{[i]} + \\frac{\\lambda_i}{\\beta_i}\\vec P^{[i-1]} + \\frac{Q_{S,i}}{\\beta_i}\n",
    "\\tag{3.1}\n",
    "$$\n",
    "\n",
    "Here and later indices like $^{[i]}$ denote solution time step.\n",
    "$\\alpha_{ij}$ is a geometric coefficient that could be found in [1], and\n",
    "$$\n",
    "\\lambda_i = \\frac{c_i \\left|A_i\\right|}{\\tau}, \\alpha_i = \\sum\\limits_j \\alpha_{ij}, \\beta_i = \\lambda_i + a_i\\alpha_i,\n",
    "$$\n",
    "where $\\tau$ is solution time step.\n",
    "$Q_{S,i}$ is a value proportional to a mean value of $f$ over $i$-th cell and is, in our case, zero.\n",
    "__(3.1)__ could also be rewritten as:\n",
    "$$\n",
    "\\vec P^{[i]} = U \\vec P_T^{[i]} + V \\vec P^{[i-1]}\n",
    "\\tag{3.2}\n",
    "$$\n",
    "with $U_{ij} = \\frac{a_i \\alpha_{ij}}{\\beta_i}$ if $j \\in \\partial_i$ ($i$-th cell edge), $U_{ij}=0$ otherwise and $V_{ii} = \\frac{\\lambda_i}{\\beta_i}$, $V_{ij} = 0$, $i \\ne j$."
   ]
  },
  {
   "cell_type": "markdown",
   "id": "dcfec493",
   "metadata": {},
   "source": [
    "### Scalar function sensitivity"
   ]
  },
  {
   "cell_type": "markdown",
   "id": "29d72d24",
   "metadata": {},
   "source": [
    "#### Differentiating LMHFE"
   ]
  },
  {
   "cell_type": "markdown",
   "id": "b9e51bcc",
   "metadata": {},
   "source": [
    "We're interested in the derivative $\\frac{dg}{d\\vec a}$ of some scalar function $g=g(\\vec P, \\vec a)$.\n",
    "Applying chain rule:\n",
    "$$\n",
    "\\frac{dg}{d\\vec a}^{[i]}\n",
    "=\n",
    "    \\frac{\\partial g}{\\partial \\vec a}\n",
    "    +\n",
    "    \\frac{\\partial g}{\\partial \\vec P^{[i]}}\n",
    "    \\frac{d\\vec P^{[i]}}{d\\vec a}\n",
    ".\n",
    "\\tag{4}\n",
    "$$\n",
    "\n",
    "$\\frac{\\partial g}{\\partial \\vec a}$ and $\\frac{\\partial g}{\\partial \\vec P^{[i]}}$ could be calculated from knowing an analytical formula for $g$.\n",
    "The point of interest is to calculate $\\frac{d\\vec P^{[i]}}{d \\vec a}$.\n",
    "For this, we will differentiate __(3.2)__:"
   ]
  },
  {
   "cell_type": "markdown",
   "id": "984f28cc",
   "metadata": {},
   "source": [
    "$$\n",
    "\\frac{d\\vec P^{[i]}}{d\\vec a}\n",
    "=\n",
    "\\left( \\frac{dU}{d\\vec a} \\right)\n",
    "\\vec P_T^{[i]}\n",
    "+\n",
    "U\\frac{d\\vec P_T^{[i]}}{d \\vec a}\n",
    "+\n",
    "V \\frac{d\\vec P^{[i-1]}}{d \\vec a}\n",
    "+\n",
    "\\left(\\frac{dV}{d\\vec a}\\right)\\vec P^{[i-1]}.\n",
    "\\tag{5}\n",
    "$$"
   ]
  },
  {
   "cell_type": "markdown",
   "id": "b7883a2b",
   "metadata": {},
   "source": [
    "Let's determine $\\left(\\frac{dU}{d\\vec a}\\right)\\vec P_T^{[i]}$:\n",
    "$$\n",
    "\\left(\\frac{dU}{d\\vec a}\\right)\\vec P_T^{[i]}\n",
    "=\n",
    "\\left[\n",
    "    \\frac{dU}{da_1}\\vec P_T^{[i]}\n",
    "    \\biggr|\n",
    "    \\frac{dU}{da_2}\\vec P_T^{[i]}\n",
    "    \\biggr|\n",
    "    ...\n",
    "    \\biggr|\n",
    "    \\frac{dU}{da_j}\\vec P_T^{[i]}\n",
    "    \\biggr|\n",
    "    ...\n",
    "\\right]\n",
    "\\tag{6}\n",
    "$$"
   ]
  },
  {
   "cell_type": "markdown",
   "id": "4abd25fe",
   "metadata": {},
   "source": [
    "Since $U_{ij} = \\frac{a_i \\alpha_{ij}}{\\beta_i}$ for $j \\in \\partial_i$ and zero otherwise, then $\\left(\\frac{dU}{da_k}\\right)_{ij}$ is zero for all $i \\ne k$ or $j \\notin \\partial i$ which means that $\\left(\\frac{dU}{d\\vec a}\\right)\\vec P_T^{[i]}$ is diagonal.\n",
    "For other $i$, $j$, $k$:\n",
    "$$\n",
    "\\left(\\frac{dU}{da_k}\\right)_{ij} \\bigg|_{i=k} =\n",
    "\\frac{d}{da_i}\\left(\\frac{a_i\\alpha_{ij}}{\\beta_i}\\right)\n",
    "=\n",
    "\\frac{\\alpha_{ij}\\lambda_i}{\\beta_i^2}.\n",
    "\\tag{7}\n",
    "$$"
   ]
  },
  {
   "cell_type": "markdown",
   "id": "0f8def7d",
   "metadata": {},
   "source": [
    "Similarly,\n",
    "$$\n",
    "\\left(\\frac{dV}{da}\\right)\\vec P^{[i-1]} = -\\frac{\\alpha_i\\lambda_i}{\\beta_i^2} \\vec P^{[i-1]}.\n",
    "\\tag{8}\n",
    "$$"
   ]
  },
  {
   "cell_type": "markdown",
   "id": "9246beac",
   "metadata": {},
   "source": [
    "All that's left to evaluate is $\\frac{d\\vec P_T^{[i]}}{d\\vec a}$. Differentiating __(2)__ gives\n",
    "$$\n",
    "M \\frac{d\\vec P_T^{[i]}}{d\\vec a}\n",
    "=\n",
    "\\frac{\\partial \\vec b}{\\partial \\vec a}\n",
    "+\n",
    "\\frac{\\partial \\vec b}{\\partial \\vec P_T^{[i-1]}}\n",
    "\\frac{d \\vec P_T^{[i-1]}}{d\\vec a}\n",
    "-\n",
    "\\left(\\frac{dM}{d\\vec a}\\right) \\vec P_T^{[i]}.\n",
    "\\tag{9}\n",
    "$$"
   ]
  },
  {
   "cell_type": "markdown",
   "id": "88f9383e",
   "metadata": {},
   "source": [
    "$\\left(\\frac{dM}{d\\vec a}\\right) \\vec P_T^{[i]}$ is calculated similarly to __(6)__ as a matrix composed of row vectors $\\frac{dM}{da_k} \\vec P_T^{[i]}$, and $\\frac{d \\vec P_T^{[i]}}{d \\vec a}$ is composed of row vectors that are solutions to\n",
    "$$\n",
    "M\\frac{d\\vec P_T^{[i]}}{d a_k} = \\frac{\\partial \\vec b}{\\partial a_k} + \\frac{\\partial \\vec b}{\\partial \\vec P_T^{[i-1]}}\\frac{d \\vec P_T^{[i-1]}}{d a_k} - \\frac{dM}{d a_k} \\vec P_T^{[i]}.\n",
    "\\tag{10}\n",
    "$$"
   ]
  },
  {
   "cell_type": "markdown",
   "id": "61809c1a",
   "metadata": {},
   "source": [
    "Initial conditions don't depend on $a$:\n",
    "$$\n",
    "\\frac{d\\vec P^{[0]}}{d\\vec a} = 0, \\frac{d\\vec P_T^{[0]}}{d\\vec a} = 0.\n",
    "$$"
   ]
  },
  {
   "cell_type": "markdown",
   "id": "3e4509b3",
   "metadata": {},
   "source": [
    "#### LMHFE matrices derivatives"
   ]
  },
  {
   "cell_type": "markdown",
   "id": "193b01d1",
   "metadata": {},
   "source": [
    "Derivatives for $U$ and $V$ are already found in __(7)__ and __(8)__."
   ]
  },
  {
   "cell_type": "markdown",
   "id": "842e06db",
   "metadata": {},
   "source": [
    "In __(2)__:\n",
    "$$\n",
    "M = \\left(m_{ij}\\right)\n",
    "$$\n",
    "$$\n",
    "m_{ii} = m_{ii,k_1} + m_{ii,k_2}, m_{ii,k} = a_k \\left( \\left( B^{-1}_{ii} \\right)_k - \\frac{\\alpha^2_{ki}}{\\alpha_k} \\right) + \\frac{1}{3} \\frac{c_k \\|A_k\\|}{\\tau}\n",
    "\\tag{11.1}\n",
    "$$\n",
    "$$\n",
    "m_{ij} = a_k \\left( \\left(B_{ij}^{-1}\\right)_k - \\frac{\\alpha_{ki}\\alpha_{kj}}{\\alpha_k}\\right)\n",
    "\\tag{11.2}\n",
    "$$\n",
    "where $k_1$, $k_2$ are cells adjacent to $i$-th edge, $\\|A_k\\|$ is the measure of $k$-th cell, and $B^{-1}$ depends on geometry [1], $k$ is a cell that is adjacent to both $i$-th and $j$-th edges."
   ]
  },
  {
   "cell_type": "markdown",
   "id": "8799ddd9",
   "metadata": {},
   "source": [
    "Therefore, $\\frac{dM^{[i]}}{da_k}$ will only contain elements corresponding to edges $i,j \\in \\partial_k$.\n",
    "$$\n",
    "\\left(\\frac{dM}{da_k}\\right)_{ij} = \\begin{cases}\n",
    "0\\text{ if } i,j \\notin \\partial_k \\\\\n",
    "2\\left(\\left(B_{ii}^{-1}\\right)_k - \\frac{\\alpha_{ki}^2}{\\alpha_k}\\right)\\text{ if }i = j \\in \\partial_k \\\\\n",
    "\\left(B_{ij}^{-1}\\right)_k-\\frac{\\alpha_{ki}\\alpha_{kj}}{\\alpha_k}\\text{ if } i \\ne j\\text{ and }i,j \\in \\partial_k\n",
    "\\end{cases}\n",
    "\\tag{12}\n",
    "$$"
   ]
  },
  {
   "cell_type": "markdown",
   "id": "f7cee13e",
   "metadata": {},
   "source": [
    "For $\\vec b$:"
   ]
  },
  {
   "cell_type": "markdown",
   "id": "5b8dd9ae",
   "metadata": {},
   "source": [
    "$$\n",
    "\\left(\\vec b\\right)_i\n",
    "=\n",
    "\\frac{c_k \\left(\\|A_{k_1}\\| + \\|A_{k_2}\\|\\right)\\left(\\vec P_T^{[i-1]}\\right)_i}{3\\tau}\n",
    "\\tag{13}\n",
    "$$"
   ]
  },
  {
   "cell_type": "markdown",
   "id": "48152d11",
   "metadata": {},
   "source": [
    "It's easy to see that\n",
    "$$\n",
    "\\frac{\\partial \\vec b}{\\partial \\vec a} = \\vec 0\n",
    "$$\n",
    "and\n",
    "$$\n",
    "\\left(\n",
    "    \\frac{\\partial \\vec b}{\\partial \\vec P_T^{[i-1]}}\n",
    "\\right)_{ii}\n",
    "=\n",
    "\\frac{c\\left(\\|A_{k_1}\\| + \\|A_{k_2}\\|\\right)}{3\\tau},\n",
    "\\tag{14.1}\n",
    "$$\n",
    "$$\n",
    "\\left(\n",
    "    \\frac{\\partial \\vec b}{\\partial \\vec P_T^{[i-1]}}\n",
    "\\right)_{ij} = 0\\ \\forall i \\ne j\n",
    "\\tag{14.2}\n",
    "$$\n",
    "&mdash; $\\frac{\\partial \\vec b}{\\partial \\vec P_T^{[i]}}$ is a diagonal matrix."
   ]
  },
  {
   "cell_type": "markdown",
   "id": "6f1b2f13",
   "metadata": {},
   "source": [
    "### Complexity"
   ]
  },
  {
   "cell_type": "markdown",
   "id": "019dbf35",
   "metadata": {},
   "source": [
    "Let's give a crude evalutaion to the solution complexity."
   ]
  },
  {
   "cell_type": "markdown",
   "id": "2830d789",
   "metadata": {},
   "source": [
    "Suppose the mesh has $N$ cells and $K$ edges.\n",
    "LMHFE solution requires us:\n",
    "* Compute $U$ (once) of size $N\\times K$ which has at most $3$ non-zero elements per row (true size less or equal to $3N$)\n",
    "* Construct $\\vec b$ of $K$ elements\n",
    "* Construct $M$ of size $K\\times K$\n",
    "  This is a very sparse matrix, containing at most $5$ (for triangular cells) elements per row ($i$-th row might have non-empty elements only in columns corresponding to edges of cells adjacent to $i$-th edge), so the true size of it is less than $5K$\n",
    "* Solve $M\\vec P_T^{[i]} = \\vec b$\n",
    "* Compute $V\\vec P^{[i-1]}$ &mdash; $N$ operations\n",
    "* Compute $U\\vec P_T^{[i]}$ &mdash; $3N$ operations\n",
    "* Perform $N$ additions to get $\\vec P^{[i]}$."
   ]
  },
  {
   "cell_type": "markdown",
   "id": "2d33f098",
   "metadata": {},
   "source": [
    "Sensitivity calculation requires additionally:\n",
    "* Compute $\\frac{dM}{da_k}$ &mdash; $N$ times less than $6K$ elements each &mdash; less than $N\\times 6K$ operations (once, if time step doesn't vary)\n",
    "* Compute $\\frac{\\partial \\vec b}{\\partial \\vec P_T^{[i-1]}}$ &mdash; $K$ elements since the matrix is diagonal (once, if time step doesn't vary)\n",
    "* Solve $N$ linear systems for $\\frac{d\\vec P_T^{[i]}}{d\\vec a}$, similar in preparation and solution complexity to LMHFE system. Right-hand sides of these systems include matrix-vector multiplications that have a complexity of $N\\times 6K^2$ at most.\n",
    "* Compute $\\frac{dU}{d\\vec a}$ (once) &mdash; $3N$ operations\n",
    "* Compute $\\frac{d\\vec P^{[i]}}{d\\vec a}$ with $\\propto N$ operations"
   ]
  },
  {
   "cell_type": "markdown",
   "id": "122cceca",
   "metadata": {},
   "source": [
    "For big $N$ and $K$ ($N < K$), the most complex operation will require $\\propto NK^2$ flops that will determine the complexity of the entire method."
   ]
  },
  {
   "cell_type": "markdown",
   "id": "720da7cf",
   "metadata": {},
   "source": [
    "### Adjoint methods"
   ]
  },
  {
   "cell_type": "markdown",
   "id": "1501a950",
   "metadata": {},
   "source": [
    "Another differentiable programming approach is the use of adjoint methods.\n",
    "These methods utilize re-ordering of matrix multiplication in order to optimize the computation complexity.\n",
    "There are several reasons they weren't used in this case:\n",
    "* Adjoint methods benefit greatly when multiplication reordering converts chains of matrix-matrix multiplications into chains of matrix-vector multiplications in simple recursive problems.\n",
    "  Two-step recursive nature of the LMHFE solution process makes it very hard to benefit from that kind of reordering _(does it? should we elaborate?)_\n",
    "* Adjoint methods complexity and memory consumption grows linearly with time, which may be devastating in case of very high-resolution meshes\n",
    "\n",
    "Although comparing adjoint methods to a more strightforward chain rule differntiation requires further investigation, these points make the first very unappealing for this task.\n",
    "Furthermore, increasing amounts of required data will make it harder to port the code making use of adjoint methods to GPU since VRAM amount is usually less than RAM, and copying large volumes of data to the GPU could become a serious bottleneck for the computation."
   ]
  },
  {
   "cell_type": "markdown",
   "id": "66e2a554",
   "metadata": {},
   "source": [
    "## Code demonstration"
   ]
  },
  {
   "cell_type": "markdown",
   "id": "5978fa8b",
   "metadata": {},
   "source": [
    "_See also: [Known issues](#Known-code-issues)._"
   ]
  },
  {
   "cell_type": "markdown",
   "id": "f7eec4ae",
   "metadata": {},
   "source": [
    "### NOA Torch extension"
   ]
  },
  {
   "cell_type": "markdown",
   "id": "e07e34da",
   "metadata": {},
   "source": [
    "For the sake of demonstration, our C++ implementation is exposed to Python via a Torch C++ extension.\n",
    "Though the solver itself doesn't use `libtorch`, it is very handy to expose our data as Torch tensors.\n",
    "Additionally, Torch provides a way to compile and load the code on-the-fly, eliminating the process of building .so-s manually."
   ]
  },
  {
   "cell_type": "code",
   "execution_count": 1,
   "id": "297d1cc2",
   "metadata": {},
   "outputs": [
    {
     "name": "stdout",
     "output_type": "stream",
     "text": [
      "No CUDA runtime is found, using CUDA_HOME='/opt/cuda'\n"
     ]
    }
   ],
   "source": [
    "from torch.utils.cpp_extension import load\n",
    "import torch\n",
    "\n",
    "# Numpy, numba and math are needed for some pure python functions\n",
    "import numpy as np\n",
    "from numba import njit\n",
    "import math"
   ]
  },
  {
   "cell_type": "markdown",
   "id": "7d8068e9",
   "metadata": {},
   "source": [
    "Now we need to specify NOA root path and some of the compiler flags.\n",
    "`CALCULATE_CHAIN=true` needs to be defined in order to enable chain rule derivative calculation (_FXIME: I haven't actually implemented feature selection, so, instead of compiling without this feature, it will probably throw a compile-time error_).\n",
    "You can also specify the type to use for real numbers by settings `REAL=type_name` (e.g. `-DREAL=double`).\n",
    "\n",
    "If `stash/build` directory does not exist, it should be created.\n",
    "_Note: sometimes if the first build fails, Torch would not compile the extension. To fix that, clean the buil directory and restart the notebook._"
   ]
  },
  {
   "cell_type": "code",
   "execution_count": 2,
   "id": "40bae6d0",
   "metadata": {},
   "outputs": [],
   "source": [
    "\n",
    "# NOA root path\n",
    "NOA_PATH = \"../..\"\n",
    "\n",
    "# Enable chain rule derivative calculation\n",
    "FEATURES = \"-DCALCULATE_CHAIN=true\"\n",
    "# FEATURES += \" -DREAL=double\"\n",
    "\n",
    "# Make build dir\n",
    "! mkdir -p stash/build\n",
    "\n",
    "# Optional warning flags. We don't want them\n",
    "WARN_FLAGS = \"\"\n",
    "# WARN_FALGS = \"-Wall -Wextra -Wpedantic\""
   ]
  },
  {
   "cell_type": "markdown",
   "id": "66e3c350",
   "metadata": {},
   "source": [
    "#### _If running this notebook outside of NOA_\n",
    "_If you've obtained this notebook without cloning [NOA](https://github.com/grinisrit/noa), you need to do that manually. This could be done by uncommenting and executing the following cell:_"
   ]
  },
  {
   "cell_type": "code",
   "execution_count": 3,
   "id": "c9ca2157",
   "metadata": {},
   "outputs": [
    {
     "data": {
      "text/plain": [
       "'\\n! [ -d stash ] && rm -rf stash\\n!mkdir -p stash\\n!cd stash && git clone https://github.com/gregthemadmonk/noa.git && cd noa && git checkout feature/cfd\\n# Merge into grinisrit/noa and update the link\\n\\nNOA_PATH = \"stash/noa\"\\n'"
      ]
     },
     "execution_count": 3,
     "metadata": {},
     "output_type": "execute_result"
    }
   ],
   "source": [
    "# Uncomment and execute this cell ONLY if you are running this notebook outside of NOA repository\n",
    "\"\"\"\n",
    "! [ -d stash ] && rm -rf stash\n",
    "!mkdir -p stash\n",
    "!cd stash && git clone https://github.com/gregthemadmonk/noa.git && cd noa && git checkout feature/cfd\n",
    "# Merge into grinisrit/noa and update the link\n",
    "\n",
    "NOA_PATH = \"stash/noa\"\n",
    "\"\"\""
   ]
  },
  {
   "cell_type": "markdown",
   "id": "8a9b73c9",
   "metadata": {},
   "source": [
    "Now that the necessary setup has been perform, the extension could be compiled and loaded:"
   ]
  },
  {
   "cell_type": "code",
   "execution_count": 4,
   "id": "7432bb26",
   "metadata": {},
   "outputs": [],
   "source": [
    "mhfem = load(\n",
    "            name = \"mhfem\",\n",
    "            build_directory = \"./stash/build\",\n",
    "            sources = [ f\"{NOA_PATH}/test/cfd/mhfe/torch/mhfe_extension.cc\" ],\n",
    "            extra_include_paths = [ f\"{NOA_PATH}/src\", f\"{NOA_PATH}/test/cfd\" ],\n",
    "            extra_cflags = [ f\"{WARN_FLAGS} -O3 -std=c++17 -DNDEBUG {FEATURES}\" ],\n",
    "            verbose = False\n",
    "            )"
   ]
  },
  {
   "cell_type": "markdown",
   "id": "c629beea",
   "metadata": {},
   "source": [
    "Check everything is loaded:"
   ]
  },
  {
   "cell_type": "code",
   "execution_count": 5,
   "id": "58efe278",
   "metadata": {},
   "outputs": [
    {
     "name": "stdout",
     "output_type": "stream",
     "text": [
      "Hello from NOA MHFEM solver module!\n",
      "Info about this module:\n",
      "\tReal type:                       float\n",
      "\tCell topology:                   noa::TNL::Meshes::Topologies::Triangle\n",
      "\tWrite precise solution:          false\n",
      "\tCalculate chain rule derivative: true\n"
     ]
    }
   ],
   "source": [
    "mhfem.hi()"
   ]
  },
  {
   "cell_type": "markdown",
   "id": "74a0f23d",
   "metadata": {},
   "source": [
    "### Importing other required modules"
   ]
  },
  {
   "cell_type": "markdown",
   "id": "cbc8e6b2",
   "metadata": {},
   "source": [
    "We will be using [PyVista](https://docs.pyvista.org/#) to display our meshes and for more traditional 2D plots we will be using [`matplotlib.pyplot`](https://matplotlib.org/3.5.3/api/_as_gen/matplotlib.pyplot.html)."
   ]
  },
  {
   "cell_type": "code",
   "execution_count": 6,
   "id": "32b05f8d",
   "metadata": {},
   "outputs": [],
   "source": [
    "import pyvista as pv\n",
    "import matplotlib.pyplot as plt"
   ]
  },
  {
   "cell_type": "markdown",
   "id": "abd0c13d",
   "metadata": {},
   "source": [
    "### LMHFEM solution"
   ]
  },
  {
   "cell_type": "markdown",
   "id": "81d867a0",
   "metadata": {},
   "source": [
    "For uniform $a$, and $c=1$ and inlet conditions:\n",
    "$$\n",
    "P = h(y)\\text{ for }x = 0\n",
    "$$\n",
    "and for\n",
    "$$\n",
    "h(y) = \\begin{cases}A, |y| < \\delta \\\\0, |y| > \\delta\\end{cases}\n",
    "$$\n",
    "the analytical solution is known:\n",
    "$$\n",
    "P(x, y, t) = \\frac{x A}{\\sqrt{16\\pi a}}\\int\\limits_0^t\\tau^{-\\frac 3 2} \\left[ \\text{erf } \\frac{\\delta + y}{\\sqrt{4a\\tau}} + \\text{erf } \\frac{\\delta - y}{\\sqrt{4a\\tau}} \\right] \\cdot \\exp \\left[ - \\left( \\frac{x}{\\sqrt{4a\\tau}} \\right)^2 \\right] d\\tau\n",
    "$$"
   ]
  },
  {
   "cell_type": "markdown",
   "id": "1e944152",
   "metadata": {},
   "source": [
    "Let's solve the problem over a $20\\times 10$ mesh for uniform $a = 1$, $c = 1$ and the following boundary conditions:\n",
    "$$\n",
    "\\begin{cases}\n",
    "x=const\\text{ boundary} \\begin{cases}\n",
    "P_T = 1\\text{ when }x = 0\\text{ and }1 \\le y \\le 9 \\\\\n",
    "P_T = 0\\text{ when }x = 1\\text{ or } x = 0\\text{ and }y \\notin [1;9]\n",
    "\\end{cases}\\\\\n",
    "y=const\\text{ boundary }\\frac{\\partial P}{\\partial \\eta} = 0\n",
    "\\end{cases}\n",
    "$$\n",
    "which corrseponds to the solution above with $A = 1$, $\\delta = 4$, and $y$ offset by $5$ ($y \\rightarrow y - 5$)."
   ]
  },
  {
   "cell_type": "code",
   "execution_count": 7,
   "id": "fcc2e2a7",
   "metadata": {},
   "outputs": [],
   "source": [
    "@njit\n",
    "def solPrecise(point, T, tau, delta = 4):\n",
    "    x = point[0]\n",
    "    y = point[1]\n",
    "    def kernel(t):\n",
    "        sr4at = math.sqrt(4 * t)\n",
    "        return math.pow(t, -1.5) * (\n",
    "                math.erf((delta - (y - 5)) / sr4at) + math.erf((delta + (y - 5)) / sr4at)\n",
    "            ) * math.exp(-math.pow(x / sr4at, 2))\n",
    "    integral = 0\n",
    "    t0 = tau\n",
    "    while t0 < T:\n",
    "        integral += kernel(t0) * tau\n",
    "        t0 += tau\n",
    "    return x * integral / math.sqrt(16 * math.pi)"
   ]
  },
  {
   "cell_type": "markdown",
   "id": "9eedf891",
   "metadata": {},
   "source": [
    "_TODO: Add a picture, maybe?_"
   ]
  },
  {
   "cell_type": "markdown",
   "id": "161c0549",
   "metadata": {},
   "source": [
    "First, we need to create the solver and initialize the mesh geometry:"
   ]
  },
  {
   "cell_type": "code",
   "execution_count": 8,
   "id": "e2792f6b",
   "metadata": {},
   "outputs": [],
   "source": [
    "# Create the solver\n",
    "solver = mhfem.Solver()\n",
    "# Generate a 20x10 triangular mesh (elements: triangle 0.5x0.5 square halfs -> 40x10x2 triangles)\n",
    "mhfem.generate2DRect(solver.getDomain(), 40, 20, 0.5, 0.5) # domain, Nx, Ny, dx, dy"
   ]
  },
  {
   "cell_type": "markdown",
   "id": "e9c284ab",
   "metadata": {},
   "source": [
    "Aside from storing the mesh itself, the domain also handles mesh data layers and file I/O.\n",
    "It could be converted to a PyVista mesh object with the `.vistify()` method:"
   ]
  },
  {
   "cell_type": "code",
   "execution_count": 9,
   "id": "ea5c19ed",
   "metadata": {},
   "outputs": [
    {
     "data": {
      "text/html": [
       "\n",
       "<table>\n",
       "<tr><th>UnstructuredGrid</th><th>Information</th></tr>\n",
       "<tr><td>N Cells</td><td>1600</td></tr>\n",
       "<tr><td>N Points</td><td>861</td></tr>\n",
       "<tr><td>X Bounds</td><td>0.000e+00, 2.000e+01</td></tr>\n",
       "<tr><td>Y Bounds</td><td>0.000e+00, 1.000e+01</td></tr>\n",
       "<tr><td>Z Bounds</td><td>0.000e+00, 0.000e+00</td></tr>\n",
       "<tr><td>N Arrays</td><td>0</td></tr>\n",
       "</table>\n",
       "\n"
      ],
      "text/plain": [
       "UnstructuredGrid (0x7f3250f14c40)\n",
       "  N Cells:    1600\n",
       "  N Points:   861\n",
       "  X Bounds:   0.000e+00, 2.000e+01\n",
       "  Y Bounds:   0.000e+00, 1.000e+01\n",
       "  Z Bounds:   0.000e+00, 0.000e+00\n",
       "  N Arrays:   0"
      ]
     },
     "execution_count": 9,
     "metadata": {},
     "output_type": "execute_result"
    }
   ],
   "source": [
    "solver.getDomain().vistify()"
   ]
  },
  {
   "cell_type": "markdown",
   "id": "b8c4c457",
   "metadata": {},
   "source": [
    "Before we could proceed, we need to ask the solver object to populate the domain with data layers required for the solution:"
   ]
  },
  {
   "cell_type": "code",
   "execution_count": 10,
   "id": "8eb8ec9b",
   "metadata": {},
   "outputs": [],
   "source": [
    "solver.updateLayers()"
   ]
  },
  {
   "cell_type": "markdown",
   "id": "420bb8e1",
   "metadata": {},
   "source": [
    "Now the layers are allocated and we can set initial/boundary conditions for our problem:"
   ]
  },
  {
   "cell_type": "markdown",
   "id": "4cac1de6",
   "metadata": {},
   "source": [
    "1. Boundary conditions"
   ]
  },
  {
   "cell_type": "code",
   "execution_count": 11,
   "id": "5c5c76d4",
   "metadata": {},
   "outputs": [],
   "source": [
    "def setBoundaryEdge(edgeIndex, p1, p2):\n",
    "    r = p2 - p1\n",
    "    \n",
    "    if r[0] == 0: # x = const\n",
    "        # Dirichlet boundary conditions\n",
    "        mask = (p1[0] == 0) and ((p1 + r/2)[1] > 1) and ((p1 + r/2)[1] < 9)\n",
    "        value = 1 if mask else 0\n",
    "        \n",
    "        # Boundary conditions\n",
    "        solver.getLayer(\"dirichletMask\")[edgeIndex] = 1\n",
    "        solver.getLayer(\"dirichlet\")[edgeIndex]     = value\n",
    "        # Initial conditions\n",
    "        solver.getLayer(\"edgeSolution\")[edgeIndex]  = value\n",
    "    elif r[1] == 0: # y = const\n",
    "        # Neumann boundary conditions\n",
    "        solver.getLayer(\"neumannMask\")[edgeIndex] = 1\n",
    "        solver.getLayer(\"neumann\")[edgeIndex]     = 0 # \\partial P/\\partial \\eta\n",
    "\n",
    "solver.getDomain().getMesh().forBoundary(setBoundaryEdge)"
   ]
  },
  {
   "cell_type": "markdown",
   "id": "76d57a0d",
   "metadata": {},
   "source": [
    "2. Problem coefficients:"
   ]
  },
  {
   "cell_type": "code",
   "execution_count": 12,
   "id": "d110be78",
   "metadata": {},
   "outputs": [],
   "source": [
    "solver.getLayer(\"a\")[:] = 1\n",
    "solver.getLayer(\"c\")[:] = 1"
   ]
  },
  {
   "cell_type": "markdown",
   "id": "10c396b9",
   "metadata": {},
   "source": [
    "3. Automatically pre-calculate some of the required values"
   ]
  },
  {
   "cell_type": "code",
   "execution_count": 13,
   "id": "33b400e8",
   "metadata": {},
   "outputs": [],
   "source": [
    "solver.cache()"
   ]
  },
  {
   "cell_type": "markdown",
   "id": "c4fda10f",
   "metadata": {},
   "source": [
    "The solver is now ready to perform the solution.\n",
    "Let's calculate first 10000 steps of it and draw the results to a GIF with PyVista:"
   ]
  },
  {
   "cell_type": "code",
   "execution_count": 14,
   "id": "985ac6f5",
   "metadata": {},
   "outputs": [
    {
     "name": "stdout",
     "output_type": "stream",
     "text": [
      "10000/10000\r"
     ]
    }
   ],
   "source": [
    "# Create a PyVista plotter\n",
    "gifPlotter = pv.Plotter(notebook=False, off_screen=True)\n",
    "gifPlotter.open_gif(\"stash/demo1.gif\")\n",
    "\n",
    "steps = 10_000\n",
    "for i in range(steps):\n",
    "    solver.step(\"lmhfe\")\n",
    "    # Write only every 100th frame\n",
    "    if i % 100 == 0:\n",
    "        gifPlotter.clear()\n",
    "        gifPlotter.add_mesh(solver.getDomain().vistify(), scalars=\"Computed solution\")\n",
    "        gifPlotter.add_title(f\"Frame {i}\")\n",
    "        gifPlotter.write_frame()\n",
    "    print(f\"{i + 1}/{steps}\", end='\\r')\n",
    "\n",
    "gifPlotter.close()"
   ]
  },
  {
   "cell_type": "markdown",
   "id": "23fef692",
   "metadata": {},
   "source": [
    "Here, our GIF is diplayed with Python.\n",
    "We need to change image URL every time with a dummy request parameter in order to ensure the image is updated every time the cell is rerun.\n",
    "_TODO: Do we need this in a ready notebook?_"
   ]
  },
  {
   "cell_type": "code",
   "execution_count": 15,
   "id": "47cb5428",
   "metadata": {},
   "outputs": [
    {
     "data": {
      "text/html": [
       "\n",
       "    <div style='text-align: center;'>\n",
       "        <img\n",
       "            width=600\n",
       "            height=600\n",
       "            style='display: inline;'\n",
       "            src='stash/demo1.gif?dummy=5'\n",
       "        />\n",
       "    </div>\n",
       "    "
      ],
      "text/plain": [
       "<IPython.core.display.HTML object>"
      ]
     },
     "execution_count": 15,
     "metadata": {},
     "output_type": "execute_result"
    }
   ],
   "source": [
    "import IPython\n",
    "import random\n",
    "size=600\n",
    "IPython.display.HTML(\n",
    "    f\"\"\"\n",
    "    <div style='text-align: center;'>\n",
    "        <img\n",
    "            width={size}\n",
    "            height={size}\n",
    "            style='display: inline;'\n",
    "            src='stash/demo1.gif?dummy={random.randint(0, 10)}'\n",
    "        />\n",
    "    </div>\n",
    "    \"\"\"\n",
    ") # `randint` forces image update"
   ]
  },
  {
   "cell_type": "markdown",
   "id": "fd6ea676",
   "metadata": {},
   "source": [
    "Let us also calculate precise solution and write it onto the mesh for comparison.\n",
    "\n",
    "The following code is a relatively crude approximation: instead of calculating the mean value of solution the cell, it only evaluates it at its center.\n",
    "Also, rectangular integration used in it is suboptimal.\n",
    "Still, this presents a good demonstration of numerical solution's accuracy."
   ]
  },
  {
   "cell_type": "code",
   "execution_count": 16,
   "id": "5e641f90",
   "metadata": {},
   "outputs": [],
   "source": [
    "cmpsol = solver.getDomain().vistify()\n",
    "cells = solver.getDomain().getMesh().getEntitiesCount(2)\n",
    "precise = np.zeros(cells)\n",
    "def fillPrecise(cidx, p1, p2, p3):\n",
    "    precise[cidx] = solPrecise(np.array((p1 + p2 + p3) / 3), solver.getT(), solver.getTau(), 4)\n",
    "    #print(f\"Cell {cidx}/{cells} solution={precise[cidx]}\", end='\\r')\n",
    "    \n",
    "solver.getDomain().getMesh().forAllCells(fillPrecise)\n",
    "cmpsol.cell_data.set_array(precise, \"Precise solution\")\n",
    "cmpsol.cell_data.set_array(np.abs(precise - np.array(solver.getLayer(\"solution\"))), \"Solution error\")"
   ]
  },
  {
   "cell_type": "code",
   "execution_count": 17,
   "id": "1880dca1",
   "metadata": {
    "scrolled": false
   },
   "outputs": [
    {
     "data": {
      "text/html": [
       "\n",
       "    <div style='display: flex; align-items: baseline; justify-content: space-between;'>\n",
       "        <img style='height: 100%; width: 33%; display: inline;' src='stash/comp.png?977' />\n",
       "        <img style='height: 100%; width: 33%; display: inline;' src='stash/precise.png?977' />\n",
       "        <img style='height: 100%; width: 33%; display: inline;' src='stash/error.png?977' />\n",
       "    </div>\n",
       "    "
      ],
      "text/plain": [
       "<IPython.core.display.HTML object>"
      ]
     },
     "execution_count": 17,
     "metadata": {},
     "output_type": "execute_result"
    }
   ],
   "source": [
    "plotter = pv.Plotter(notebook=False, off_screen=True)\n",
    "\n",
    "plotter.clear()\n",
    "plotter.add_mesh(cmpsol, scalars=\"Computed solution\")\n",
    "plotter.screenshot(\"stash/comp.png\", window_size=(600, 800))\n",
    "plotter.clear()\n",
    "plotter.add_mesh(cmpsol, scalars=\"Precise solution\")\n",
    "plotter.screenshot(\"stash/precise.png\", window_size=(600, 800))\n",
    "plotter.clear()\n",
    "plotter.add_mesh(cmpsol, scalars=\"Solution error\")\n",
    "plotter.screenshot(\"stash/error.png\", window_size=(600, 800))\n",
    "\n",
    "rnd=random.randint(0, 1000) # Random number, again, enforces image updates\n",
    "IPython.display.HTML(\n",
    "    f\"\"\"\n",
    "    <div style='display: flex; align-items: baseline; justify-content: space-between;'>\n",
    "        <img style='height: 100%; width: 33%; display: inline;' src='stash/comp.png?{rnd}' />\n",
    "        <img style='height: 100%; width: 33%; display: inline;' src='stash/precise.png?{rnd}' />\n",
    "        <img style='height: 100%; width: 33%; display: inline;' src='stash/error.png?{rnd}' />\n",
    "    </div>\n",
    "    \"\"\"\n",
    ")"
   ]
  },
  {
   "cell_type": "markdown",
   "id": "a9a3aac0",
   "metadata": {},
   "source": [
    "This result is expected: analytical solution assumes infinite domain and $\\frac{\\partial P}{\\partial y} = 0$ across its entire area, so the error grows around $y = const$ borders.\n",
    "Let us perform the same experiment with a smaller $\\delta$ ($\\delta = 1$) and higher precision:"
   ]
  },
  {
   "cell_type": "code",
   "execution_count": 18,
   "id": "b34572d3",
   "metadata": {},
   "outputs": [],
   "source": [
    "solver.reset()\n",
    "mhfem.generate2DRect(solver.getDomain(), 80, 40, 0.25, 0.25)\n",
    "solver.updateLayers()\n",
    "def setBoundaryEdge2(edgeIndex, p1, p2):\n",
    "    r = p2 - p1\n",
    "    \n",
    "    if r[0] == 0: # x = const\n",
    "        # Dirichlet boundary conditions\n",
    "        mask = (p1[0] == 0) and ((p1 + r/2)[1] > 4) and ((p1 + r/2)[1] < 6)\n",
    "        value = 1 if mask else 0\n",
    "        \n",
    "        # Boundary conditions\n",
    "        solver.getLayer(\"dirichletMask\")[edgeIndex] = 1\n",
    "        solver.getLayer(\"dirichlet\")[edgeIndex]     = value\n",
    "        # Initial conditions\n",
    "        solver.getLayer(\"edgeSolution\")[edgeIndex]  = value\n",
    "    elif r[1] == 0: # y = const\n",
    "        # Neumann boundary conditions\n",
    "        solver.getLayer(\"neumannMask\")[edgeIndex] = 1\n",
    "        solver.getLayer(\"neumann\")[edgeIndex]     = 0 # \\partial P/\\partial \\eta\n",
    "\n",
    "solver.getDomain().getMesh().forBoundary(setBoundaryEdge2)\n",
    "solver.getDomain().getMesh().forBoundary(setBoundaryEdge2)\n",
    "solver.getLayer(\"a\")[:] = 1\n",
    "solver.getLayer(\"c\")[:] = 1\n",
    "solver.cache()\n",
    "\n",
    "steps = 10_000\n",
    "for i in range(steps):\n",
    "    solver.step(\"lmhfe\")\n",
    "    #print(f\"{i + 1}/{steps}\", end='\\r')\n",
    "\n",
    "cmpsol = solver.getDomain().vistify()\n",
    "cells = solver.getDomain().getMesh().getEntitiesCount(2)\n",
    "precise = np.zeros(cells)\n",
    "def fillPrecise2(cidx, p1, p2, p3):\n",
    "    precise[cidx] = solPrecise(np.array((p1 + p2 + p3) / 3), solver.getT(), solver.getTau(), 1)\n",
    "    #print(f\"Cell {cidx}/{cells} solution={precise[cidx]}\", end='\\r')\n",
    "solver.getDomain().getMesh().forAllCells(fillPrecise2)\n",
    "cmpsol.cell_data.set_array(precise, \"Precise solution\")\n",
    "cmpsol.cell_data.set_array(np.abs(precise - np.array(solver.getLayer(\"solution\"))), \"Solution error\")"
   ]
  },
  {
   "cell_type": "code",
   "execution_count": 19,
   "id": "3b5f3030",
   "metadata": {
    "scrolled": false
   },
   "outputs": [
    {
     "data": {
      "text/html": [
       "\n",
       "    <div style='display: flex; align-items: baseline; justify-content: space-between;'>\n",
       "        <img style='height: 100%; width: 33%; display: inline;' src='stash/comp2.png?142' />\n",
       "        <img style='height: 100%; width: 33%; display: inline;' src='stash/precise2.png?142' />\n",
       "        <img style='height: 100%; width: 33%; display: inline;' src='stash/error2.png?142' />\n",
       "    </div>\n",
       "    "
      ],
      "text/plain": [
       "<IPython.core.display.HTML object>"
      ]
     },
     "execution_count": 19,
     "metadata": {},
     "output_type": "execute_result"
    }
   ],
   "source": [
    "plotter = pv.Plotter(notebook=False, off_screen=True)\n",
    "\n",
    "plotter.clear()\n",
    "plotter.add_mesh(cmpsol, scalars=\"Computed solution\")\n",
    "plotter.screenshot(\"stash/comp2.png\", window_size=(600, 800))\n",
    "plotter.clear()\n",
    "plotter.add_mesh(cmpsol, scalars=\"Precise solution\")\n",
    "plotter.screenshot(\"stash/precise2.png\", window_size=(600, 800))\n",
    "plotter.clear()\n",
    "plotter.add_mesh(cmpsol, scalars=\"Solution error\")\n",
    "plotter.screenshot(\"stash/error2.png\", window_size=(600, 800))\n",
    "\n",
    "rnd=random.randint(0, 1000) # Random number, again, enforces image updates\n",
    "IPython.display.HTML(\n",
    "    f\"\"\"\n",
    "    <div style='display: flex; align-items: baseline; justify-content: space-between;'>\n",
    "        <img style='height: 100%; width: 33%; display: inline;' src='stash/comp2.png?{rnd}' />\n",
    "        <img style='height: 100%; width: 33%; display: inline;' src='stash/precise2.png?{rnd}' />\n",
    "        <img style='height: 100%; width: 33%; display: inline;' src='stash/error2.png?{rnd}' />\n",
    "    </div>\n",
    "    \"\"\"\n",
    ")"
   ]
  },
  {
   "cell_type": "markdown",
   "id": "6205c7a2",
   "metadata": {},
   "source": [
    "### Sensitivity"
   ]
  },
  {
   "cell_type": "markdown",
   "id": "127c9dcb",
   "metadata": {},
   "source": [
    "We will test sensitivity calculation on a simple function approximating an average of the solution over the whole domain:\n",
    "$$\n",
    "g = \\frac{1}{|\\Omega|}\\iint\\limits_\\Omega Pd\\Omega\n",
    "= \\frac{1}{|\\Omega|}\\sum\\limits_i \\iint\\limits_{\\Omega_i} Pd\\Omega_i\n",
    "= \\frac{|\\Omega_i|}{|\\Omega|}\\sum\\limits_i \\frac{\\iint\\limits_{\\Omega_i} Pd\\Omega_i}{|\\Omega_i|}\n",
    "\\approx \\frac{\\sum\\limits_{\\text{cell }i}P_i}{N_\\text{cells}} = \\frac{\\vec 1^T \\vec P}{N_\\text{cells}}\n",
    "$$\n",
    "with partial derivatives:\n",
    "$$\n",
    "\\frac{\\partial g}{\\partial \\vec a} = 0 \\\\\n",
    "\\frac{\\partial g}{\\partial \\vec P} = \\left( \\begin{matrix} \\frac{1}{N_\\text{cells}} && ... && \\frac{1}{N_\\text{cells}} \\end{matrix}\\right)\n",
    "$$"
   ]
  },
  {
   "cell_type": "markdown",
   "id": "c9401dfe",
   "metadata": {},
   "source": [
    "We can't use our solver right now to compute sensitivity.\n",
    "It requires to be reset and re-set-up first.\n",
    "Let's repeat steps from the previous section, now in a function"
   ]
  },
  {
   "cell_type": "code",
   "execution_count": 20,
   "id": "cfa3c13a",
   "metadata": {},
   "outputs": [],
   "source": [
    "def resetSolver(da = 0): # da parameter is set up to calculate finite difference\n",
    "    solver.reset()\n",
    "    mhfem.generate2DRect(solver.getDomain(), 40, 20, 0.5, 0.5)\n",
    "    solver.updateLayers()\n",
    "    \n",
    "    solver.getDomain().getMesh().forBoundary(setBoundaryEdge)\n",
    "    \n",
    "    solver.getLayer(\"a\")[:] = 1\n",
    "    solver.getLayer(\"a\")[:] += da\n",
    "    solver.getLayer(\"c\")[:] = 1\n",
    "    \n",
    "    solver.cache()"
   ]
  },
  {
   "cell_type": "code",
   "execution_count": 21,
   "id": "5c972738",
   "metadata": {},
   "outputs": [],
   "source": [
    "resetSolver()"
   ]
  },
  {
   "cell_type": "markdown",
   "id": "087e1d15",
   "metadata": {},
   "source": [
    "Here, we will calculate sensitivity after only 50 steps, because doing it the following way takes a lot of time.\n",
    "In the later section we will benchmark pure C++ implementations exposed to Python via a single function call over a greater amount of steps."
   ]
  },
  {
   "cell_type": "markdown",
   "id": "4f8806ef",
   "metadata": {},
   "source": [
    "_**Note:** even though `.chainStep()` takes a method argument, chain rule derivative calculation is only implemented for LMHFE right now._"
   ]
  },
  {
   "cell_type": "code",
   "execution_count": 22,
   "id": "033eed66",
   "metadata": {},
   "outputs": [
    {
     "name": "stdout",
     "output_type": "stream",
     "text": [
      "49/50\r"
     ]
    }
   ],
   "source": [
    "sensSteps = 50\n",
    "\n",
    "g_wrt_p = lambda s: torch.full( # \\partial g / \\partial \\vec P\n",
    "                ( s.getDomain().getMesh().getEntitiesCount(2), ), # Number of cells (dimension 2)\n",
    "                1.0 / s.getDomain().getMesh().getEntitiesCount(2)\n",
    "        )\n",
    "\n",
    "solver.chainInit(\"lmhfe\", g_wrt_p)\n",
    "    \n",
    "for i in range(sensSteps):\n",
    "    solver.step(\"lmhfe\")\n",
    "    solver.chainStep(\"lmhfe\", g_wrt_p)\n",
    "    print(f\"{i}/{sensSteps}\", end='\\r')"
   ]
  },
  {
   "cell_type": "markdown",
   "id": "203915bf",
   "metadata": {},
   "source": [
    "Needed sensitivity is stored in a domain layer:"
   ]
  },
  {
   "cell_type": "code",
   "execution_count": 23,
   "id": "6f943467",
   "metadata": {},
   "outputs": [
    {
     "data": {
      "text/plain": [
       "tensor([2.4695e-05, 1.3237e-05, 2.8891e-05,  ..., 0.0000e+00, 0.0000e+00,\n",
       "        0.0000e+00])"
      ]
     },
     "execution_count": 23,
     "metadata": {},
     "output_type": "execute_result"
    }
   ],
   "source": [
    "gWrtAChain = solver.getLayer(\"chainA\").clone()\n",
    "gWrtAChain"
   ]
  },
  {
   "cell_type": "markdown",
   "id": "fd8d2a36",
   "metadata": {},
   "source": [
    "Also, save our scalar function value for later calculation of finite difference:"
   ]
  },
  {
   "cell_type": "code",
   "execution_count": 24,
   "id": "59b98603",
   "metadata": {},
   "outputs": [
    {
     "data": {
      "text/plain": [
       "tensor(0.0218)"
      ]
     },
     "execution_count": 24,
     "metadata": {},
     "output_type": "execute_result"
    }
   ],
   "source": [
    "g0 = solver.getLayer(\"solution\").mean()\n",
    "g0"
   ]
  },
  {
   "cell_type": "markdown",
   "id": "1326f858",
   "metadata": {},
   "source": [
    "Now, we compute finite difference:"
   ]
  },
  {
   "cell_type": "code",
   "execution_count": 25,
   "id": "be2af304",
   "metadata": {},
   "outputs": [],
   "source": [
    "cells = solver.getDomain().getMesh().getEntitiesCount(2)\n",
    "gWrtAfd = torch.full((cells,), 0, dtype=torch.float32)"
   ]
  },
  {
   "cell_type": "code",
   "execution_count": 26,
   "id": "47a053da",
   "metadata": {},
   "outputs": [
    {
     "name": "stdout",
     "output_type": "stream",
     "text": [
      "\u001b[2KCell 1599/1600; solution: 0.02178410440683365; sensitivity: 0.0725290298461914e-0766\r"
     ]
    }
   ],
   "source": [
    "daV = 0.01\n",
    "for cell in range(cells):\n",
    "    da = torch.full((cells,), 0, dtype=torch.float32)\n",
    "    da[cell] = daV\n",
    "    resetSolver(da)\n",
    "    \n",
    "    for i in range(sensSteps):\n",
    "        solver.step(\"lmhfe\")\n",
    "    \n",
    "    g = solver.getLayer(\"solution\").mean()\n",
    "    \n",
    "    gWrtAfd[cell] = (g - g0) / daV\n",
    "    \n",
    "    # TODO: \\033[2K is supposed to clear the line but it doesn't :(\n",
    "    print(f\"\\033[2KCell {cell}/{cells}; solution: {g}; sensitivity: {gWrtAfd[cell]}\", end='\\r')"
   ]
  },
  {
   "cell_type": "markdown",
   "id": "08f72a57",
   "metadata": {},
   "source": [
    "Let's compare the results:"
   ]
  },
  {
   "cell_type": "code",
   "execution_count": 27,
   "id": "7cf3ddda",
   "metadata": {},
   "outputs": [
    {
     "data": {
      "text/plain": [
       "tensor(0.0117)"
      ]
     },
     "execution_count": 27,
     "metadata": {},
     "output_type": "execute_result"
    }
   ],
   "source": [
    "gWrtAfd.sum()"
   ]
  },
  {
   "cell_type": "code",
   "execution_count": 28,
   "id": "ae774ef3",
   "metadata": {},
   "outputs": [
    {
     "data": {
      "text/plain": [
       "tensor(0.0117)"
      ]
     },
     "execution_count": 28,
     "metadata": {},
     "output_type": "execute_result"
    }
   ],
   "source": [
    "gWrtAChain.sum()"
   ]
  },
  {
   "cell_type": "code",
   "execution_count": 29,
   "id": "ce626ffb",
   "metadata": {},
   "outputs": [
    {
     "data": {
      "text/plain": [
       "tensor(0.0006)"
      ]
     },
     "execution_count": 29,
     "metadata": {},
     "output_type": "execute_result"
    }
   ],
   "source": [
    "(gWrtAfd - gWrtAChain).max()"
   ]
  },
  {
   "cell_type": "markdown",
   "id": "b68aebcf",
   "metadata": {},
   "source": [
    "We could even plot the sensitivity with PyVista:"
   ]
  },
  {
   "cell_type": "code",
   "execution_count": 30,
   "id": "efa095b0",
   "metadata": {},
   "outputs": [
    {
     "data": {
      "text/html": [
       "\n",
       "    <div style='display: flex; align-items: baseline; justify-content: space-between;'>\n",
       "        <img style='height: 100%; width: 33%; display: inline;' src='stash/chain.png?667' />\n",
       "        <img style='height: 100%; width: 33%; display: inline;' src='stash/fd.png?667' />\n",
       "        <img style='height: 100%; width: 33%; display: inline;' src='stash/sens_error.png?667' />\n",
       "    </div>\n",
       "    "
      ],
      "text/plain": [
       "<IPython.core.display.HTML object>"
      ]
     },
     "execution_count": 30,
     "metadata": {},
     "output_type": "execute_result"
    }
   ],
   "source": [
    "mesh = solver.getDomain().vistify()\n",
    "mesh.cell_data.set_array(gWrtAChain, \"Chain rule derivative\")\n",
    "mesh.cell_data.set_array(gWrtAfd, \"Finite difference derivative\")\n",
    "mesh.cell_data.set_array((gWrtAChain - gWrtAfd).abs(), \"Error betwen two methods\")\n",
    "\n",
    "plotter = pv.Plotter(notebook=False, off_screen=True)\n",
    "\n",
    "plotter.clear()\n",
    "plotter.add_mesh(mesh, scalars=\"Chain rule derivative\")\n",
    "plotter.screenshot(\"stash/chain.png\", window_size=(600, 800))\n",
    "plotter.clear()\n",
    "plotter.add_mesh(mesh, scalars=\"Finite difference derivative\")\n",
    "plotter.screenshot(\"stash/fd.png\", window_size=(600, 800))\n",
    "plotter.clear()\n",
    "plotter.add_mesh(mesh, scalars=\"Error betwen two methods\")\n",
    "plotter.screenshot(\"stash/sens_error.png\", window_size=(600, 800))\n",
    "\n",
    "rnd=random.randint(0, 1000) # Random number, again, enforces image updates\n",
    "IPython.display.HTML(\n",
    "    f\"\"\"\n",
    "    <div style='display: flex; align-items: baseline; justify-content: space-between;'>\n",
    "        <img style='height: 100%; width: 33%; display: inline;' src='stash/chain.png?{rnd}' />\n",
    "        <img style='height: 100%; width: 33%; display: inline;' src='stash/fd.png?{rnd}' />\n",
    "        <img style='height: 100%; width: 33%; display: inline;' src='stash/sens_error.png?{rnd}' />\n",
    "    </div>\n",
    "    \"\"\"\n",
    ")"
   ]
  },
  {
   "cell_type": "markdown",
   "id": "fd4757ea",
   "metadata": {},
   "source": [
    "### Benchmarking and comparison"
   ]
  },
  {
   "cell_type": "markdown",
   "id": "7aee7e04",
   "metadata": {},
   "source": [
    "For benchmarking, as stated earlier, we will be using a pure C++ implementation of the above code to calculate the sensitivity. For simplicity and to reduce code duplication, we will still perform the initial setup here."
   ]
  },
  {
   "cell_type": "code",
   "execution_count": 31,
   "id": "d4f056c8",
   "metadata": {},
   "outputs": [
    {
     "name": "stdout",
     "output_type": "stream",
     "text": [
      "1.87 s ± 0 ns per loop (mean ± std. dev. of 1 run, 1 loop each)\n"
     ]
    }
   ],
   "source": [
    "%%timeit -n1 -r1\n",
    "mhfem.benchmarkChain(10)"
   ]
  },
  {
   "cell_type": "code",
   "execution_count": 32,
   "id": "5c6c56e6",
   "metadata": {},
   "outputs": [
    {
     "name": "stdout",
     "output_type": "stream",
     "text": [
      "7.57 s ± 0 ns per loop (mean ± std. dev. of 1 run, 1 loop each)\n"
     ]
    }
   ],
   "source": [
    "%%timeit -n1 -r1\n",
    "mhfem.benchmarkFindiff(10, 0.01)"
   ]
  },
  {
   "cell_type": "markdown",
   "id": "ffc6c7b9",
   "metadata": {},
   "source": [
    "The current numbers are obtained on the following setup:\n",
    "* Arch Linux 6.2.2 Zen kernel\n",
    "* AMD Ryzen 3600 processor (6 cores, 12 threads)\n",
    "* 16 GB DDR4 RAM"
   ]
  },
  {
   "cell_type": "markdown",
   "id": "df19951e",
   "metadata": {},
   "source": [
    "It should be noted that this benchmark doesn't force full finite difference calculation at each step.\n",
    "It is only done once at the very end of calculation and requires a relatively costly computation, which significantly drops finite difference performance (over $1$ minute instead of $7.5$ seconds on the same machine).\n",
    "In chain rule calculation, obtaining the sensitivity value on every step is always performed (both in this benchmark and in the comparison below)."
   ]
  },
  {
   "cell_type": "markdown",
   "id": "7dea54ba",
   "metadata": {},
   "source": [
    "Now let's save the results and compare them. Both functions return a tensor with a step-wise value of sensitivity $\\frac{d g}{d a} = \\sum\\limits_i \\left(\\frac{d g}{d \\vec a}\\right)_i$.\n",
    "For the sake of saving time, mesh size has been greatly reduced in this example."
   ]
  },
  {
   "cell_type": "code",
   "execution_count": 44,
   "id": "81d1b55b",
   "metadata": {},
   "outputs": [],
   "source": [
    "chainResult = mhfem.statChain(1000)"
   ]
  },
  {
   "cell_type": "code",
   "execution_count": 34,
   "id": "d02e1657",
   "metadata": {},
   "outputs": [],
   "source": [
    "fdResult0_01 = mhfem.statFindiff(1000, 0.01)"
   ]
  },
  {
   "cell_type": "code",
   "execution_count": 35,
   "id": "e0658258",
   "metadata": {},
   "outputs": [],
   "source": [
    "fdResult0_001 = mhfem.statFindiff(1000, 0.001)"
   ]
  },
  {
   "cell_type": "code",
   "execution_count": 36,
   "id": "d82dc895",
   "metadata": {},
   "outputs": [],
   "source": [
    "fdResult0_0001 = mhfem.statFindiff(1000, 0.0001)"
   ]
  },
  {
   "cell_type": "code",
   "execution_count": 37,
   "id": "10ddb2d3",
   "metadata": {},
   "outputs": [],
   "source": [
    "fdResult0_1 = mhfem.statFindiff(1000, 0.1)"
   ]
  },
  {
   "cell_type": "markdown",
   "id": "10f2bce6",
   "metadata": {},
   "source": [
    "Also, we can compute analytical $\\frac{dg}{da}$:\n",
    "$$\n",
    "\\frac{dg}{da} = \\frac{1}{|\\Omega|}\\iint\\limits_\\Omega \\frac{dP}{da} d\\Omega\n",
    "$$\n",
    "$$\n",
    "\\frac{dP}{da} = \\frac{d}{da} \\left(\n",
    "\\frac{x A}{\\sqrt{16\\pi a}}\\int\\limits_0^t\\tau^{-\\frac 3 2} \\left[ \\text{erf } \\frac{\\delta + y}{\\sqrt{4a\\tau}} + \\text{erf } \\frac{\\delta - y}{\\sqrt{4a\\tau}} \\right] \\cdot \\exp \\left[ - \\left( \\frac{x}{\\sqrt{4a\\tau}} \\right)^2 \\right] d\\tau\n",
    "\\right)\n",
    "$$"
   ]
  },
  {
   "cell_type": "markdown",
   "id": "f3694c72",
   "metadata": {},
   "source": [
    "<!-- I give up on typing this \n",
    "$$\n",
    "\\frac{dP}{da} =\n",
    "\\frac{xA}{\\sqrt{16\\pi a}}\n",
    "\\int\\limits_0^t\n",
    "    \\tau^{-\\frac{3}{2}} \\cdot \\left\\{\n",
    "        -\\frac{1}{\\sqrt{4a^3\\pi\\tau}}\\left[\n",
    "            \\exp \\left[-\\left(\\frac{\\delta + y}{\\sqrt{4a\\tau}}\\right)^2\\right]\n",
    "            +\n",
    "            \\exp \\left[-\\left(\\frac{\\delta - y}{\\sqrt{4a\\tau}}\\right)^2\\right]\n",
    "        \\right] \\cdot \\exp \\left[ -\\left( \\frac{x}{\\sqrt{4a\\tau}} \\right)^2 \\right]\n",
    "    \\right\\}\n",
    "$$\n",
    "-->\n",
    "This derivative is easy to calculate, but the formula comes out relatively long.\n",
    "Since its exact form is not the subject of interest for this study, and for the sake of simplicity, we'll use SymPy to help us out here:"
   ]
  },
  {
   "cell_type": "markdown",
   "id": "7c35a011",
   "metadata": {},
   "source": [
    "$$\n",
    "\\frac{dP}{da} = \\frac{d}{da}\\left(\n",
    "R \\cdot \\int\\limits_0^t Qd\\tau\n",
    "\\right)\n",
    "= R \\cdot \\int\\limits_0^t \\frac{dQ}{da} d\\tau + \\frac{dR}{da} \\int\\limits_0^t Qd\\tau\n",
    "$$\n",
    "$$\n",
    "R = \\frac{xA}{\\sqrt{16\\pi a}},\n",
    "Q = \\tau^{-\\frac{3}{2}}\\left[\n",
    "\\text{erf }\\frac{\\delta + y}{\\sqrt{4a\\tau}} + \\text{erf }\\frac{\\delta - y}{\\sqrt{4a\\tau}}\n",
    "\\right] \\cdot \\exp \\left[ -\\left( \\frac{x}{\\sqrt{4a\\tau}} \\right)^2 \\right]\n",
    "$$"
   ]
  },
  {
   "cell_type": "markdown",
   "id": "81c0fd6c",
   "metadata": {},
   "source": [
    "$$\n",
    "\\frac{dR}{da} = -\\frac{xA}{2\\sqrt{16\\pi a^3}}\n",
    "$$"
   ]
  },
  {
   "cell_type": "code",
   "execution_count": 38,
   "id": "42f8025c",
   "metadata": {},
   "outputs": [
    {
     "data": {
      "text/latex": [
       "$\\displaystyle \\frac{\\left(- \\frac{\\left(- y + δ\\right) e^{- \\frac{\\left(- y + δ\\right)^{2}}{4 a τ}}}{2 \\sqrt{\\pi} a \\sqrt{a τ}} - \\frac{\\left(y + δ\\right) e^{- \\frac{\\left(y + δ\\right)^{2}}{4 a τ}}}{2 \\sqrt{\\pi} a \\sqrt{a τ}}\\right) e^{- \\frac{x^{2}}{4 a τ}}}{τ^{1.5}} + \\frac{x^{2} \\left(\\operatorname{erf}{\\left(\\frac{- y + δ}{2 \\sqrt{a τ}} \\right)} + \\operatorname{erf}{\\left(\\frac{y + δ}{2 \\sqrt{a τ}} \\right)}\\right) e^{- \\frac{x^{2}}{4 a τ}}}{4 a^{2} τ^{2.5}}$"
      ],
      "text/plain": [
       "(-(-y + δ)*exp(-(-y + δ)**2/(4*a*τ))/(2*sqrt(pi)*a*sqrt(a*τ)) - (y + δ)*exp(-(y + δ)**2/(4*a*τ))/(2*sqrt(pi)*a*sqrt(a*τ)))*exp(-x**2/(4*a*τ))/τ**1.5 + x**2*(erf((-y + δ)/(2*sqrt(a*τ))) + erf((y + δ)/(2*sqrt(a*τ))))*exp(-x**2/(4*a*τ))/(4*a**2*τ**2.5)"
      ]
     },
     "execution_count": 38,
     "metadata": {},
     "output_type": "execute_result"
    }
   ],
   "source": [
    "import sympy\n",
    "a, tau, d, x, y = sympy.symbols('a τ δ x y')\n",
    "Q = tau**(-3/2) * (\n",
    "        sympy.erf((d + y)/sympy.sqrt(4 * a * tau))\n",
    "        +\n",
    "        sympy.erf((d - y)/sympy.sqrt(4 * a * tau))\n",
    "    ) * sympy.exp(-(x / sympy.sqrt(4 * a * tau))**2)\n",
    "Q_wrt_a = sympy.diff(Q, a)\n",
    "Q_wrt_a"
   ]
  },
  {
   "cell_type": "code",
   "execution_count": 39,
   "id": "7c6de7e5",
   "metadata": {},
   "outputs": [],
   "source": [
    "@njit\n",
    "def g_wrt_a(dx, dy, steps, tau_):\n",
    "    ret = np.zeros(steps)\n",
    "    for step in range(steps - 1):\n",
    "        tt = tau_ * (step + 1)\n",
    "        x = 0\n",
    "        y = 0\n",
    "        ret[step + 1] = ret[step]\n",
    "        while x < 20:\n",
    "            R       =  x / np.sqrt(16 * np.pi)\n",
    "            R_wrt_a = -x / np.sqrt(4 * 16 * np.pi)\n",
    "            \n",
    "            y = 0\n",
    "            while y < 10:\n",
    "                # print(tt, x, y)\n",
    "                \n",
    "                Q = tt**(-3/2) * (\n",
    "                    math.erf((1 + y - 5) / np.sqrt(4 * tt)) + math.erf((1 - y + 5) / np.sqrt(4 * tt))\n",
    "                ) * np.exp(-x**2 / (4 * tt))\n",
    "\n",
    "                Q_wrt_a1 = -tt**(-3/2) * (\n",
    "                    (1 - y + 5) * np.exp(-(1-y+5)**2/(4 * tt))\n",
    "                    +\n",
    "                    (1 + y - 5) * np.exp(-(1-y-5)**2/(4 * tt))\n",
    "                ) / (2 * np.sqrt(np.pi * tt)) * np.exp(-x**2/(4*tt))\n",
    "                Q_wrt_a2 = tt**(-5/2) / 4 * x**2 * (\n",
    "                    math.erf((1 - y + 5)/(2 * np.sqrt(tt))) + math.erf((1 + y - 5)/(2 * np.sqrt(tt)))\n",
    "                ) * np.exp(-x**2/(4 * tt))\n",
    "                \n",
    "                ret[step + 1] += R * (Q_wrt_a1 + Q_wrt_a2) + R_wrt_a * Q\n",
    "                \n",
    "                y += dy\n",
    "            x += dx\n",
    "    return ret * dx * dy * tau_ / 200"
   ]
  },
  {
   "cell_type": "code",
   "execution_count": 40,
   "id": "1b18ad44",
   "metadata": {},
   "outputs": [],
   "source": [
    "g_wrt_a_res = g_wrt_a(0.5, 0.5, 1000, mhfem.Solver().getTau())"
   ]
  },
  {
   "cell_type": "code",
   "execution_count": 45,
   "id": "21c337f8",
   "metadata": {},
   "outputs": [
    {
     "data": {
      "text/plain": [
       "<matplotlib.legend.Legend at 0x7f322c614550>"
      ]
     },
     "execution_count": 45,
     "metadata": {},
     "output_type": "execute_result"
    },
    {
     "data": {
      "image/png": "[encoded data removed]",
      "text/plain": [
       "<Figure size 640x480 with 1 Axes>"
      ]
     },
     "metadata": {},
     "output_type": "display_data"
    }
   ],
   "source": [
    "plt.plot(g_wrt_a_res, label=\"Analytical derivative calculation\")\n",
    "plt.plot(chainResult, label=\"Chain rule calculation\")\n",
    "plt.plot(fdResult0_0001, label=\"Finite difference, da=0.0001\")\n",
    "plt.plot(fdResult0_001, label=\"Finite difference, da=0.001\")\n",
    "plt.plot(fdResult0_01, label=\"Finite difference, da=0.01\")\n",
    "plt.plot(fdResult0_1, label=\"Finite difference, da=0.1\")\n",
    "plt.legend()"
   ]
  },
  {
   "cell_type": "markdown",
   "id": "ecfa83f7",
   "metadata": {},
   "source": [
    "As expected, finite difference becomes increasingly unstable when reducing $da$, while chain rule stays both accurate and fast."
   ]
  },
  {
   "cell_type": "markdown",
   "id": "b51a3de2",
   "metadata": {},
   "source": [
    "## Known code issues"
   ]
  },
  {
   "cell_type": "markdown",
   "id": "a5cfc448",
   "metadata": {},
   "source": [
    "1. Most of the C++ CFD module needs a rewrite.\n",
    "   The design is outdated considering the current task and certain compile-time features selection doesn't work at all and causes a compilation errror.\n",
    "1. In this notebook, we tried using the VT-100 command for clearing the line which doesn't work as intended for some reason\n",
    "1. Despite seemingly having a compile-time feature selection via `Features` structure, CFD module actually doesn't have it.\n",
    "   If you try to compile without `-DCALCULATE_CHAIN=true`, the compilation will probably fail with an error.\n",
    "   The current implementation was written with a plan to account for different options, but it turned out to be problematic on the current codebase and requires a rewrite.\n",
    "1. `Solver` copy-constructor needs a manual implementation since copy's layer views still point to original domain layers as it is now.\n",
    "1. Without `-lpthread` ldflag, chain benchmark has convergence problems. Even with the flag, it still occasionally does. I have no idea why, since I can't reproduce this when building a CFD test binary 😐\n",
    "1. The solver is not optimized to make use of __(6)__ being diagonal\n",
    "\n",
    "In short: the code is essentially a proof-of-concept and is not ready for any outside use.\n",
    "If you're still interested in it, follow [upstream NOA](https://github.com/grinisrit/noa) and [fork feature branch](https://github.com/gregthemadmonk/noa/tree/feature/cfd) for the updates."
   ]
  },
  {
   "cell_type": "markdown",
   "id": "6754468d",
   "metadata": {},
   "source": [
    "## Some of the source code"
   ]
  },
  {
   "cell_type": "markdown",
   "id": "007b33ac",
   "metadata": {},
   "source": [
    "### `benchmarkChain` source code"
   ]
  },
  {
   "cell_type": "markdown",
   "id": "847d309f",
   "metadata": {},
   "source": [
    "```cpp\n",
    "m.def(\n",
    "    \"benchmarkChain\",\n",
    "    [] (std::size_t steps) -> Real {\n",
    "        Solver solver;\n",
    "\n",
    "        initSolver(solver, 40, 20);\n",
    "        solver.cache();\n",
    "\n",
    "        static constexpr auto gWrtP = [] (auto view, auto size, auto output) {\n",
    "            output.forAllElements(\n",
    "                [size] (auto, auto& v) {\n",
    "                    v = Real{1} / size;\n",
    "                }\n",
    "            );\n",
    "        };\n",
    "\n",
    "        const auto cells = solver.getDomain().getMesh().template getEntitiesCount<Solver::dimCell>();\n",
    "\n",
    "        using namespace noa::test::mhfe::methods;\n",
    "        solver.template chainAInit<LMHFE>(gWrtP);\n",
    "\n",
    "        for (std::size_t step = 0; step < steps; ++step) {\n",
    "            solver.template step<LMHFE>();\n",
    "            solver.template chainA<LMHFE>(gWrtP);\n",
    "        }\n",
    "\n",
    "        Real ret = 0;\n",
    "        for (std::size_t cell = 0; cell < cells; ++cell) ret += solver.scalarWrtA[cell];\n",
    "        return ret;\n",
    "    }\n",
    ");\n",
    "```"
   ]
  },
  {
   "cell_type": "markdown",
   "id": "34ba168d",
   "metadata": {},
   "source": [
    "### `benchmarkFindiff` source code"
   ]
  },
  {
   "cell_type": "markdown",
   "id": "00edb2ab",
   "metadata": {},
   "source": [
    "```cpp\n",
    "m.def(\n",
    "    \"benchmarkFindiff\",\n",
    "    [] (std::size_t steps, Real da = 0.01) -> Real {\n",
    "        Solver baseSolver;\n",
    "\n",
    "        initSolver(baseSolver, 40, 20);\n",
    "        baseSolver.cache();\n",
    "\n",
    "        const auto cells = baseSolver.getDomain().getMesh().template getEntitiesCount<Solver::dimCell>();\n",
    "\n",
    "        std::vector<Solver> solvers(cells);\n",
    "        for (std::size_t cell = 0; cell < cells; ++cell) {\n",
    "            auto& s = solvers.at(cell);\n",
    "            initSolver(s, 40, 20);\n",
    "            s.a[cell] += da;\n",
    "            s.cache();\n",
    "        }\n",
    "\n",
    "        for (std::size_t step = 0; step < steps; ++step) {\n",
    "            using namespace noa::test::mhfe::methods;\n",
    "            baseSolver.template step<LMHFE>();\n",
    "            for (auto&& s : solvers) s.template step<LMHFE>();\n",
    "        }\n",
    "\n",
    "        Real ret = 0;\n",
    "        for (const auto& s : solvers) {\n",
    "            for (std::size_t cell = 0; cell < cells; ++cell) ret += s.p[cell] - baseSolver.p[cell];\n",
    "        }\n",
    "        return ret / (cells * da);\n",
    "    }\n",
    ");\n",
    "```"
   ]
  },
  {
   "cell_type": "markdown",
   "id": "279a46bc",
   "metadata": {},
   "source": [
    "### `statChain` source code"
   ]
  },
  {
   "cell_type": "markdown",
   "id": "90c24ba9",
   "metadata": {},
   "source": [
    "```cpp\n",
    "m.def(\n",
    "    \"statChain\",\n",
    "    [] (std::size_t steps) -> torch::Tensor {\n",
    "        Solver solver;\n",
    "\n",
    "        initSolver(solver, 10, 5);\n",
    "        solver.cache();\n",
    "\n",
    "        static constexpr auto gWrtP = [] (auto view, auto size, auto output) {\n",
    "            output.forAllElements(\n",
    "                [size] (auto, auto& v) {\n",
    "                    v = Real{1} / size;\n",
    "                }\n",
    "            );\n",
    "        };\n",
    "\n",
    "        const auto cells = solver.getDomain().getMesh().template getEntitiesCount<Solver::dimCell>();\n",
    "\n",
    "        using namespace noa::test::mhfe::methods;\n",
    "        solver.template chainAInit<LMHFE>(gWrtP);\n",
    "\n",
    "        const auto options = torch::TensorOptions().dtype(tdtReal<Real>);\n",
    "        auto ret = torch::zeros(steps, options);\n",
    "\n",
    "        for (std::size_t step = 0; step < steps; ++step) {\n",
    "            solver.template step<LMHFE>();\n",
    "            solver.template chainA<LMHFE>(gWrtP);\n",
    "\n",
    "            for (std::size_t cell = 0; cell < cells; ++cell) ret[step] += solver.scalarWrtA[cell];\n",
    "        }\n",
    "\n",
    "        return ret;\n",
    "    }\n",
    ");\n",
    "```"
   ]
  },
  {
   "cell_type": "markdown",
   "id": "0951c90a",
   "metadata": {},
   "source": [
    "### `statFindiff` source code"
   ]
  },
  {
   "cell_type": "markdown",
   "id": "33312cca",
   "metadata": {},
   "source": [
    "```cpp\n",
    "m.def(\n",
    "    \"statFindiff\",\n",
    "    [] (std::size_t steps, Real da = 0.01) -> torch::Tensor {\n",
    "        Solver baseSolver;\n",
    "\n",
    "        initSolver(baseSolver, 10, 5);\n",
    "        baseSolver.cache();\n",
    "\n",
    "        const auto cells = baseSolver.getDomain().getMesh().template getEntitiesCount<Solver::dimCell>();\n",
    "\n",
    "        std::vector<Solver> solvers(cells);\n",
    "        for (std::size_t cell = 0; cell < cells; ++cell) {\n",
    "            auto& s = solvers.at(cell);\n",
    "            initSolver(s, 10, 5);\n",
    "            s.a[cell] += da;\n",
    "            s.cache();\n",
    "        }\n",
    "\n",
    "        const auto options = torch::TensorOptions().dtype(tdtReal<Real>);\n",
    "        auto ret = torch::zeros(steps, options);\n",
    "\n",
    "        for (std::size_t step = 0; step < steps; ++step) {\n",
    "            using namespace noa::test::mhfe::methods;\n",
    "            baseSolver.template step<LMHFE>();\n",
    "            for (auto&& s : solvers) s.template step<LMHFE>();\n",
    "\n",
    "            for (const auto& s : solvers) {\n",
    "                for (std::size_t cell = 0; cell < cells; ++cell) ret[step] += s.p[cell] - baseSolver.p[cell];\n",
    "            }\n",
    "            ret[step] /= (cells * da);\n",
    "        }\n",
    "\n",
    "        return ret;\n",
    "    }\n",
    ");\n",
    "```"
   ]
  },
  {
   "cell_type": "markdown",
   "id": "26c610a9",
   "metadata": {},
   "source": [
    "### `initSolver` source code"
   ]
  },
  {
   "cell_type": "markdown",
   "id": "61ff78a2",
   "metadata": {},
   "source": [
    "```cpp\n",
    "static constexpr auto initSolver = [] (Solver& solver, int Nx, int Ny) {\n",
    "    noa::utils::domain::generate2DGrid(\n",
    "        solver.getDomain(),\n",
    "        Nx, Ny,\n",
    "        20.0 / Nx, 10.0 / Ny\n",
    "    );\n",
    "\n",
    "    solver.updateLayers();\n",
    "\n",
    "    // Set up initial & border conditions\n",
    "    const auto& mesh = solver.getDomain().getMesh();\n",
    "\n",
    "    mesh.template forBoundary<Solver::dimEdge>([&solver, &mesh] (auto edge) {\n",
    "        const auto p1 = mesh.getPoint(mesh.template getSubentityIndex<Solver::dimEdge, 0>(edge, 0));\n",
    "        const auto p2 = mesh.getPoint(mesh.template getSubentityIndex<Solver::dimEdge, 0>(edge, 1));\n",
    "\n",
    "        const auto r = p2 - p1;\n",
    "\n",
    "        if (r[0] == 0) { // x = const boundary\n",
    "            float x1v = 0;\n",
    "\n",
    "            const bool mask = (p1[0] == 0) && (((p1 + r / 2)[1] > 4) && ((p1 + r / 2)[1] < 6));\n",
    "\n",
    "            solver.dirichletMask[edge] = 1;\n",
    "            solver.dirichlet[edge] = mask;\n",
    "            solver.tp[edge] = mask;\n",
    "        } else if (r[1] == 0) { // y = const boundary\n",
    "            solver.neumannMask[edge] = 1;\n",
    "            solver.neumann[edge] = 0;\n",
    "        }\n",
    "    });\n",
    "    solver.a.forAllElements([] (auto i, auto& v) { v = 1; });\n",
    "    solver.c.forAllElements([] (auto i, auto& v) { v = 1; });\n",
    "};\n",
    "```"
   ]
  }
 ],
 "metadata": {
  "kernelspec": {
   "display_name": "Python 3 (ipykernel)",
   "language": "python",
   "name": "python3"
  },
  "language_info": {
   "codemirror_mode": {
    "name": "ipython",
    "version": 3
   },
   "file_extension": ".py",
   "mimetype": "text/x-python",
   "name": "python",
   "nbconvert_exporter": "python",
   "pygments_lexer": "ipython3",
   "version": "3.11.5"
  }
 },
 "nbformat": 4,
 "nbformat_minor": 5
}
