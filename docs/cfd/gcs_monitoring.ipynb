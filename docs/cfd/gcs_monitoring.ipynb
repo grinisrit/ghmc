{
 "cells": [
  {
   "cell_type": "markdown",
   "id": "6f853927",
   "metadata": {},
   "source": [
    "#  Differentiable Model for Muon Transport and Two-Phase Flow in Porous Media with applications to Subsurface Pollution Monitoring\n",
    "\n",
    "### Roland Grinis (MIPT, GrinisRIT)"
   ]
  },
  {
   "cell_type": "markdown",
   "id": "993d0f85",
   "metadata": {},
   "source": [
    "## Geological gas storage monitoring and leaks prevention\n",
    "\n",
    "### Overview\n",
    "\n",
    "Various industrial processes in geological formations could present safety and environmental risks including groundwater contamination. Non-aqueous phase liquids such as chlorinated hydrocarbons and oil, but also super-critical CO2 and other compressed gas have low solubility in brine. Their migration, especially due to external forces, must be thoroughly monitored in order to avoid long-time pollution of freshwater aquifers in the subsurface. In the case of geological storage sites, any leaks would be also detrimental for the performance of the capture system itself. \n",
    "We are developing a realistic 3D evolution model for such leakage incidents, a detection technique based on muography, and a materials design platform for membrane capturing technology.\n",
    "\n",
    "\n",
    "### Applications \n",
    "\n",
    "Carbon capture systems are devised to reduce greenhouse gas emissions while\n",
    "relying on fossil fuels to produce energy. After capture and compression, super-\n",
    "critical CO2 is injected into a permeable sandstone capped by low-permeability\n",
    "layer acting as a seal. This type of fluid injection might cause pressure build-up,\n",
    "temperature change and rock structure deformation/fracturing. Hence our aim\n",
    "is to design a system capable to detect a leakage of CO2 through a potential\n",
    "high permeability corridor in the cap-rock layer. Detecting such breakthroughs\n",
    "as early as possible is crucial to prevent further pollution of subsurface layers\n",
    "and assess storage exploitation.\n",
    "\n",
    "Subsurface renewable energy storage for hydrogen, methane or compressed\n",
    "air is another example that shares many of the challenges in breakthrough\n",
    "monitoring tasks. Other sources of renewable energy such as solar panels\n",
    "and wind farms are known to be intermittent. Hence, one has to either build a\n",
    "storage for energy or use a continuous clean energy source in addition. The idea\n",
    "is to compress and store air, hydrogen or other gases underground while demand\n",
    "is low and then exploit them to generate electricity similarly to traditional gas\n",
    "turbine plants. Obviously any leakage from such sites would undermine the\n",
    "whole energy generation system but also pose safety risks for the environment\n",
    "around.\n",
    "\n",
    "Another application is provided by the enhanced oil recovery technology that\n",
    "uses CO2 to extract hard-to-reach oil. Nowadays, researchers and practitioners\n",
    "are trying to find more environment-friendly and economically feasible alternatives. One of them is microbial enhanced oil recovery in which by-products of\n",
    "microorganisms activity are used to extract residual oil left in the reservoir after\n",
    "a primary pass. While biological processes bring additional modelling issues, we\n",
    "should be able to cover such scenarios as well.\n",
    "\n",
    "Other interesting directions to explore involve environmental control and\n",
    "survey tasks for geothermal energy, mountain hydrology and well disposal to mention a few. \n",
    "\n",
    "Regarding geological storage, we are further considering double porosity, thermal effects, electrokinetic flow, geomechanics and faults simulations which are crucial to supervise dangerous seismic activity.\n",
    "\n",
    "\n",
    "### Our approach\n",
    "\n",
    "Modelling of substances migration in porous media with low solubility in water has been addressed by a vast literature. The use of atmospheric muons to monitor underground fluid saturation levels has been also studied, specifically for the case of carbon sequestration.\n",
    "\n",
    "However, the low-contrast and possibly noisy muon flux measurements require accurate and realistic modelling of the main physical processes for the inverse problem behind monitoring.\n",
    "\n",
    "Moreover, first order sensitivity information for control parameters is needed to improve the analysis, as was demonstrated using approximate and simplified dynamics for both the CO2\n",
    "plume evolution and the muon flux computation.\n",
    "\n",
    "We address those issues by incorporating a differentiable programming paradigm into the implementation of the physics with detailed simulations.\n",
    "\n",
    "We model the two-phase flow with capillary barrier effect in heterogeneous\n",
    "porous media for which we rely on the mixed-hybrid finite element method\n",
    "(MHFEM). We develop adjoint sensitivity methods in the context of MHFEM.\n",
    "We perform muon transport building upon the Backward Monte-Carlo (BMC)\n",
    "scheme. Re-using the spatial discretisation from MHFEM, we perform sensitivity computations with respect to the media density and saturation levels. Finally, we put everything together to design a system for detecting CO2 leakage through the cap-rock layer in GCS sites.\n"
   ]
  },
  {
   "cell_type": "markdown",
   "id": "e0fd2b8a",
   "metadata": {},
   "source": [
    "## Geological Carbon Storage\n",
    "\n",
    "\\begin{array}{lccc}\n",
    "\\hline \\text { Parameter } & \\text { Symbol } & \\text { Value } & \\text { Units } \\\\\n",
    "\\hline \\text {Brine density } & \\rho_{\\mathrm{w}} & 1100 & \\mathrm{~kg} \\mathrm{~m}^{-3} \\\\\n",
    "\\text{Supercritical }  \\mathrm{CO}_{2} \\text { density } & \\rho_{\\mathrm{n}} & 720 & \\mathrm{~kg} \\mathrm{~m}^{-3} \\\\\n",
    "\\text {Rock density } & \\rho_{\\mathrm{s}} & 2670 & \\mathrm{~kg} \\mathrm{~m}^{-3} \\\\\n",
    "\\text {Rock matrix porosity } & \\eta_1 & 0.2 & - \\\\\n",
    "\\text {Rock fract. porosity } & \\eta_2 & 0.05 & - \\\\\n",
    "\\text {Reservoir intrinsic permeability } & \\kappa^I & 10^{-13} & \\mathrm{~m}^2 \\\\\n",
    "\\text {Caprock intrinsic permeability } & \\kappa_1^{II} & 10^{-15} & \\mathrm{~m}^2 \\\\\n",
    "\\text {Caprock fract. permeability } & \\kappa_2^{II} & 10^{-11} & \\mathrm{~m}^2 \\\\\n",
    "\\text {Brine residual saturation } & S_{\\mathrm{rw}} & 0.4438 & - \\\\\n",
    "\\text {Well injection depth } & W & 680 & \\mathrm{~m} \\\\\n",
    "\\text {Reservoir height } & H & 170 & \\mathrm{~m} \\\\\n",
    "\\text {Detector depth } & D & 800 & \\mathrm{~m} \\\\\n",
    "\\mathrm{CO}_{2} \\text { mass injection rate } & M_{\\mathrm{n}} & 20 & \\mathrm{~kg} \\mathrm{~s}^{-1} \\\\\n",
    "\\hline\n",
    "\\end{array}"
   ]
  },
  {
   "cell_type": "markdown",
   "id": "11d40a27",
   "metadata": {},
   "source": [
    "<img src=\"muon_coupling.png\" />"
   ]
  },
  {
   "cell_type": "markdown",
   "id": "f6243306",
   "metadata": {},
   "source": [
    "## Modified Gaisser formula\n",
    "Cosmic-ray muon flux in atmosphere:\n",
    "\n",
    "$$\n",
    "\\frac{d\\phi}{dE} = 0.14 \\left[ E \\cdot \\left( 1 + \\frac{3.64}{E\\cdot (\\cos \\theta^*)^{1.29}} \\right) \\right]^{-2.7} \\left( \\frac{1}{1 +  \\frac{1.1E \\cos \\theta^*}{115}} + \\frac{0.054}{1+\\frac{1.1E \\cos \\theta^*}{850}} \\right)\n",
    "$$"
   ]
  }
 ],
 "metadata": {
  "kernelspec": {
   "display_name": "Python 3 (ipykernel)",
   "language": "python",
   "name": "python3"
  },
  "language_info": {
   "codemirror_mode": {
    "name": "ipython",
    "version": 3
   },
   "file_extension": ".py",
   "mimetype": "text/x-python",
   "name": "python",
   "nbconvert_exporter": "python",
   "pygments_lexer": "ipython3",
   "version": "3.9.15"
  }
 },
 "nbformat": 4,
 "nbformat_minor": 5
}
