{
 "cells": [
  {
   "cell_type": "markdown",
   "metadata": {
    "datalore": {
     "hide_input_from_viewers": false,
     "hide_output_from_viewers": false,
     "node_id": "5oKf92DqRHFu5LBZddmUD7",
     "report_properties": {},
     "type": "MD"
    }
   },
   "source": [
    "# Adjoint sensitivity method for Kohn Sham equations (supplementary material)\n",
    "### Evgeny M. Kadilenko (ICKC SB RAS), Roland Grinis (MIPT, GrinisRIT)\n",
    "#### Assistants: Gregory Dushkin (MIPT), Sabina Abdiganieva (MIPT)"
   ]
  },
  {
   "cell_type": "markdown",
   "metadata": {},
   "source": [
    "## Theoretical Section."
   ]
  },
  {
   "cell_type": "markdown",
   "metadata": {},
   "source": [
    "### Unoccupied electron orbitals are not required for calculation of the total derivative\n",
    "\n",
    "Let us denote equations and variables, dealing with occupied orbitals ($f_a \\neq 0$) using *bar* and with unoccupied orbitals using *tilde*.\n",
    "\n",
    "Thus matrices can be rewritten in block form:\n",
    "\n",
    "\\begin{equation}\n",
    "\\begin{gathered}\n",
    "\\boldsymbol{C} = \n",
    "\\begin{pmatrix}\n",
    "\\bar{\\boldsymbol{C}} && \\widetilde{\\boldsymbol{C}}\n",
    "\\end{pmatrix} \\\\\n",
    "\\boldsymbol{f} =  \n",
    "\\begin{pmatrix}\n",
    "\\bar{\\boldsymbol{f}} & \\boldsymbol{0} \\\\\n",
    "\\boldsymbol{0} & \\boldsymbol{0}\n",
    "\\end{pmatrix} \\\\\n",
    "\\boldsymbol{\\epsilon} = \n",
    "\\begin{pmatrix}\n",
    "\\bar{\\boldsymbol{\\epsilon}} & \\boldsymbol{0} \\\\\n",
    "\\boldsymbol{0} & \\widetilde{\\boldsymbol{\\epsilon}}\n",
    "\\end{pmatrix} \n",
    "\\end{gathered}\n",
    "\\end{equation}\n",
    "\n",
    "Using equations from the article we can show:\n",
    "\n",
    "\\begin{equation}\n",
    "\\frac{\\partial \\vec{\\Phi}^{n}}{\\partial \\vec{C}} = \n",
    "2\\bigoplus_a \\vec{e}_a^T \\boldsymbol{C}^T\\boldsymbol{S} = \n",
    "\\begin{pmatrix}\n",
    "2\\bigoplus_{\\bar{a}} \\vec{e}_{\\bar{a}}^T \\bar{\\boldsymbol{C}}^{T}\n",
    "\\boldsymbol{S} && \\boldsymbol{0} \\\\\n",
    "\\boldsymbol{0} && 2\\bigoplus_{\\widetilde{a}} \\vec{e}_{\\widetilde{a}}^T \\widetilde{\\boldsymbol{C}}^{T}\\boldsymbol{S}\n",
    "\\end{pmatrix}\n",
    "\\end{equation}\n",
    "\n",
    "Therefore, using relation between $\\frac{\\partial \\vec{\\Phi}^{KS}}{\\partial \\vec{\\epsilon}}$ and $\\frac{\\partial \\vec{\\Phi}^{n}}{\\partial \\vec{C}}$\n",
    "\n",
    "\\begin{equation}\n",
    "\\frac{\\partial \\vec{\\Phi}^{KS}}{\\partial \\vec{\\epsilon}} = \\begin{pmatrix}\n",
    "-\\bigoplus_{\\bar{a}} \\boldsymbol{S} \\bar{\\boldsymbol{C}}\\vec{e}_{\\bar{a}} \n",
    " && \\boldsymbol{0} \\\\\n",
    "\\boldsymbol{0} && -\\bigoplus_{\\widetilde{a}} \\boldsymbol{S}\\widetilde{\\boldsymbol{C}}\\vec{e}_{\\widetilde{a}} \n",
    "\\end{pmatrix}\n",
    "\\end{equation}\n",
    "\n",
    "\\begin{multline}\n",
    "\\frac{\\partial \\vec{\\Phi}^{KS}}{\\partial \\vec{C}} =\n",
    "2(\\boldsymbol{C}^T \\otimes \\boldsymbol{I}_{N_{bas}})\\boldsymbol{G}(\\boldsymbol{C}\\boldsymbol{f} \\otimes \\boldsymbol{I}_{N_{bas}}) +\n",
    "(\\boldsymbol{I}_{N_{orb}} \\otimes\\boldsymbol{F}) -\n",
    "(\\boldsymbol{\\epsilon} \\otimes \\boldsymbol{S}) = \\\\\n",
    "2\\left(\\begin{pmatrix}\n",
    "\\bar{\\boldsymbol{C}}^T \\\\ \\widetilde{\\boldsymbol{C}}^T\n",
    "\\end{pmatrix} \\otimes \\boldsymbol{I}_{N_{bas}}\\right)\\boldsymbol{G}\\left(\\begin{pmatrix}\n",
    "\\bar{\\boldsymbol{C}} && \\widetilde{\\boldsymbol{C}}\n",
    "\\end{pmatrix}\\begin{pmatrix}\n",
    "\\bar{\\boldsymbol{f}} & \\boldsymbol{0} \\\\\n",
    "\\boldsymbol{0} & \\boldsymbol{0}\n",
    "\\end{pmatrix} \\otimes \\boldsymbol{I}_{N_{bas}}\\right) +\n",
    "\\bigoplus_a\\boldsymbol{F} -\n",
    "\\begin{pmatrix}\n",
    "\\bar{\\boldsymbol{\\epsilon}} & \\boldsymbol{0} \\\\\n",
    "\\boldsymbol{0} & \\widetilde{\\boldsymbol{\\epsilon}}\n",
    "\\end{pmatrix}  \\otimes \\boldsymbol{S} = \\\\\n",
    "2\\begin{pmatrix}\n",
    "(\\bar{\\boldsymbol{C}}^T\\otimes \\boldsymbol{I}_{N_{bas}})\\boldsymbol{G}(\\bar{\\boldsymbol{C}} \\bar{\\boldsymbol{f}} \\otimes \\boldsymbol{I}_{N_{bas}}) && \\boldsymbol{0}\\\\\n",
    "(\\widetilde{\\boldsymbol{C}}^T\\otimes \\boldsymbol{I}_{N_{bas}})\\boldsymbol{G}(\\bar{\\boldsymbol{C}} \\bar{\\boldsymbol{f}} \\otimes \\boldsymbol{I}_{N_{bas}}) && \\boldsymbol{0}\n",
    "\\end{pmatrix}\n",
    " +\n",
    "\\begin{pmatrix}\n",
    "\\bigoplus_{\\bar{a}} \\boldsymbol{F}\n",
    " && \\boldsymbol{0} \\\\\n",
    "\\boldsymbol{0} && \\bigoplus_{\\widetilde{a}} \\boldsymbol{F}\n",
    "\\end{pmatrix} -\n",
    "\\begin{pmatrix}\n",
    "\\bar{\\boldsymbol{\\epsilon}} \\otimes \\boldsymbol{S} & \\boldsymbol{0} \\\\\n",
    "\\boldsymbol{0} & \\widetilde{\\boldsymbol{\\epsilon}} \\otimes \\boldsymbol{S}\n",
    "\\end{pmatrix} = \\\\\n",
    "\\begin{pmatrix}\n",
    "2(\\bar{\\boldsymbol{C}}^T\\otimes \\boldsymbol{I}_{N_{bas}})\\boldsymbol{G}(\\bar{\\boldsymbol{C}} \\bar{\\boldsymbol{f}} \\otimes \\boldsymbol{I}_{N_{bas}}) + \\bigoplus_{\\bar{a}} \\boldsymbol{F} - \\bar{\\boldsymbol{\\epsilon}} \\otimes \\boldsymbol{S} && \\boldsymbol{0}\\\\\n",
    "2(\\widetilde{\\boldsymbol{C}}^T\\otimes \\boldsymbol{I}_{N_{bas}})\\boldsymbol{G}(\\bar{\\boldsymbol{C}} \\bar{\\boldsymbol{f}} \\otimes \\boldsymbol{I}_{N_{bas}}) && \\bigoplus_{\\widetilde{a}} \\boldsymbol{F} -\n",
    "\\widetilde{\\boldsymbol{\\epsilon}} \\otimes \\boldsymbol{S}\n",
    "\\end{pmatrix}\n",
    "\\end{multline}\n",
    "\n",
    "\\begin{multline}\n",
    "\\frac{\\partial \\vec{\\Phi}}{\\partial \\vec{X}} = \n",
    "\\begin{pmatrix}\n",
    "2(\\bar{\\boldsymbol{C}}^T\\otimes \\boldsymbol{I}_{N_{bas}})\\boldsymbol{G}(\\bar{\\boldsymbol{C}} \\bar{\\boldsymbol{f}} \\otimes \\boldsymbol{I}_{N_{bas}}) + \\bigoplus_{\\bar{a}} \\boldsymbol{F} - \\bar{\\boldsymbol{\\epsilon}} \\otimes \\boldsymbol{S} && \\boldsymbol{0} && \n",
    "-\\bigoplus_{\\bar{a}} \\boldsymbol{S} \\bar{\\boldsymbol{C}}\\vec{e}_{\\bar{a}} && \\boldsymbol{0} \\\\\n",
    "2(\\widetilde{\\boldsymbol{C}}^T\\otimes \\boldsymbol{I}_{N_{bas}})\\boldsymbol{G}(\\bar{\\boldsymbol{C}} \\bar{\\boldsymbol{f}} \\otimes \\boldsymbol{I}_{N_{bas}}) && \\bigoplus_{\\widetilde{a}} \\boldsymbol{F} -\n",
    "\\widetilde{\\boldsymbol{\\epsilon}} \\otimes \\boldsymbol{S} && \\boldsymbol{0} && \n",
    "-\\bigoplus_{\\widetilde{a}} \\boldsymbol{S}\\widetilde{\\boldsymbol{C}}\\vec{e}_{\\widetilde{a}} \\\\\n",
    "2\\bigoplus_{\\bar{a}} \\vec{e}_{\\bar{a}}^T \\bar{\\boldsymbol{C}}^{T}\n",
    "\\boldsymbol{S} && \\boldsymbol{0} && \\boldsymbol{0} && \\boldsymbol{0} \\\\\n",
    "\\boldsymbol{0} && 2\\bigoplus_{\\widetilde{a}} \\vec{e}_{\\widetilde{a}}^T \\widetilde{\\boldsymbol{C}}^{T}\\boldsymbol{S} && \\boldsymbol{0} && \\boldsymbol{0}\n",
    "\\end{pmatrix}\n",
    "\\end{multline}\n",
    "\n",
    "\\begin{equation}\n",
    "\\frac{\\partial E}{ \\partial \\vec{C}} =\n",
    "2 \\cdot \\text{vec}(\\boldsymbol{F}\n",
    "\\boldsymbol{C}\\boldsymbol{f} )^T = 2 \\cdot \\text{vec}\\left(\\boldsymbol{F}\n",
    "\\begin{pmatrix}\n",
    "\\bar{\\boldsymbol{C}} && \\widetilde{\\boldsymbol{C}}\n",
    "\\end{pmatrix}\n",
    "\\begin{pmatrix}\n",
    "\\bar{\\boldsymbol{f}} & \\boldsymbol{0} \\\\\n",
    "\\boldsymbol{0} & \\boldsymbol{0}\n",
    "\\end{pmatrix} \\right)^T =\n",
    "\\begin{pmatrix}\n",
    "2 \\cdot\\text{vec}(\\boldsymbol{F}\\bar{\\boldsymbol{C}}\\bar{\\boldsymbol{f}})^T && \\vec{0}^T\n",
    "\\end{pmatrix}\n",
    "\\end{equation}\n",
    "\n",
    "Thus:\n",
    "\n",
    "\\begin{equation}\n",
    "\\frac{\\partial E}{ \\partial \\vec{X}} =  \n",
    "\\begin{pmatrix}\n",
    "2 \\cdot\\text{vec}(\\boldsymbol{F}\\bar{\\boldsymbol{C}}\\bar{\\boldsymbol{f}})^T && \\vec{0}^T && \\vec{0}^T && \\vec{0}^T\n",
    "\\end{pmatrix}\n",
    "\\end{equation}\n",
    "\n",
    "Adjoint vector:\n",
    "\n",
    "\\begin{equation}\n",
    "\\vec{\\lambda} = \\begin{pmatrix}\n",
    "\\vec{\\bar{\\lambda}}^{KS} \\\\\n",
    "\\vec{\\widetilde{\\lambda}}^{KS} \\\\\n",
    "\\vec{\\bar{\\lambda}}^n \\\\\n",
    "\\vec{\\widetilde{\\lambda}}^n\n",
    "\\end{pmatrix}\n",
    "\\end{equation}\n",
    "\n",
    "They produce two matrix equations for $\\vec{\\widetilde{\\lambda}}^{KS}$ and $\\vec{\\widetilde{\\lambda}}^n$:\n",
    "\n",
    "\\begin{equation}\n",
    "\\left(\\bigoplus_{\\widetilde{a}} \\boldsymbol{F} -\n",
    "\\widetilde{\\boldsymbol{\\epsilon}} \\otimes \\boldsymbol{S}\\right)\\vec{\\widetilde{\\lambda}}^{KS} + 2 \\left(\\bigoplus_{\\widetilde{a}} \\boldsymbol{S}\\widetilde{\\boldsymbol{C}}\\vec{e}_{\\widetilde{a}}\\right)\\vec{\\widetilde{\\lambda}}^n = \\vec{0}\n",
    "\\end{equation}\n",
    "\n",
    "\\begin{equation}\n",
    "-\\left(\\bigoplus_{\\widetilde{a}}\n",
    "\\vec{e}_{\\widetilde{a}}^T\n",
    "\\widetilde{\\boldsymbol{C}}^T\\boldsymbol{S}\\right)\\vec{\\widetilde{\\lambda}}^{KS} = \\vec{0}\n",
    "\\end{equation}\n",
    "\n",
    "At first, multiply the first equation by $(\\boldsymbol{I}_{N_{orb}^{unocc}} \\otimes \\widetilde{\\boldsymbol{C}}^T)$ from the left:\n",
    "\n",
    "\\begin{equation*}\n",
    "\\begin{gathered}\n",
    "(\\boldsymbol{I}_{N_{orb}^{unocc}} \\otimes \\widetilde{\\boldsymbol{C}}^T)\\left(\\bigoplus_{\\widetilde{a}} \\boldsymbol{F} -\n",
    "\\widetilde{\\boldsymbol{\\epsilon}} \\otimes \\boldsymbol{S}\\right)\\vec{\\widetilde{\\lambda}}^{KS} + 2(\\boldsymbol{I}_{N_{orb}^{unocc}} \\otimes \\widetilde{\\boldsymbol{C}}^T) \\left(\\bigoplus_{\\widetilde{a}} \\boldsymbol{S}\\widetilde{\\boldsymbol{C}}\\vec{e}_{\\widetilde{a}}\\right)\\vec{\\widetilde{\\lambda}}^n = \\vec{0} \\\\\n",
    "\\left(\\bigoplus_{\\widetilde{a}} \\widetilde{\\boldsymbol{C}}^T\\boldsymbol{F} -\n",
    "(\\boldsymbol{I}_{N_{orb}^{unocc}} \\otimes \\widetilde{\\boldsymbol{C}}^T)(\\widetilde{\\boldsymbol{\\epsilon}} \\otimes \\boldsymbol{S})\\right)\\vec{\\widetilde{\\lambda}}^{KS} + 2 \\left(\\bigoplus_{\\widetilde{a}}\\widetilde{\\boldsymbol{C}}^T \\boldsymbol{S}\\widetilde{\\boldsymbol{C}}\\vec{e}_{\\widetilde{a}}\\right)\\vec{\\widetilde{\\lambda}}^n = \\vec{0} \\\\\n",
    "\\end{gathered}\n",
    "\\end{equation*}\n",
    "\n",
    "\\begin{equation*}\n",
    "\\begin{gathered}\n",
    "\\left(\\bigoplus_{\\widetilde{a}} \\widetilde{\\boldsymbol{\\epsilon}}\\widetilde{\\boldsymbol{C}}^T\\boldsymbol{S} -\n",
    "(\\widetilde{\\boldsymbol{\\epsilon}} \\otimes \\widetilde{\\boldsymbol{C}}^T\\boldsymbol{S})\\right)\\vec{\\widetilde{\\lambda}}^{KS} + 2 \\left(\\bigoplus_{\\widetilde{a}}\\vec{e}_{\\widetilde{a}}\\right)\\vec{\\widetilde{\\lambda}}^n = \\vec{0} \\\\\n",
    "\\bigoplus_{\\widetilde{a}} \\left(\\widetilde{\\boldsymbol{\\epsilon}}\\widetilde{\\boldsymbol{C}}^T\\boldsymbol{S} -\n",
    "\\epsilon_{\\widetilde{a}}\n",
    "\\widetilde{\\boldsymbol{C}}^T\\boldsymbol{S}\\right)\\vec{\\widetilde{\\lambda}}^{KS} + 2 \\left(\\bigoplus_{\\widetilde{a}}\\vec{e}_{\\widetilde{a}}\\right)\\vec{\\widetilde{\\lambda}}^n = \\vec{0}\n",
    "\\end{gathered}\n",
    "\\end{equation*}\n",
    "\n",
    "then by $\\bigoplus_{\\widetilde{a}} \\vec{e}_{\\widetilde{a}}^T$ :\n",
    "\n",
    "\\begin{equation}\n",
    "\\begin{gathered}\n",
    "\\bigoplus_{\\widetilde{a}} \\vec{e}_{\\widetilde{a}}^T\\left(\\widetilde{\\boldsymbol{\\epsilon}}\\widetilde{\\boldsymbol{C}}^T\\boldsymbol{S} -\n",
    "\\epsilon_{\\widetilde{a}}\n",
    "\\widetilde{\\boldsymbol{C}}^T\\boldsymbol{S}\\right)\\vec{\\widetilde{\\lambda}}^{KS} + 2 \\left(\\bigoplus_{\\widetilde{a}}\\vec{e}_{\\widetilde{a}}^T\\vec{e}_{\\widetilde{a}}\\right)\\vec{\\widetilde{\\lambda}}^n = \\vec{0} \\\\ \n",
    "\\bigoplus_{\\widetilde{a}} \\left(\\epsilon_{\\widetilde{a}}\\vec{e}_{\\widetilde{a}}^T\\widetilde{\\boldsymbol{C}}^T\\boldsymbol{S} -\n",
    "\\epsilon_{\\widetilde{a}}\\vec{e}_{\\widetilde{a}}^T\n",
    "\\widetilde{\\boldsymbol{C}}^T\\boldsymbol{S}\\right)\\vec{\\widetilde{\\lambda}}^{KS} + 2 \\boldsymbol{I}_{N_{orb}^{unocc}}\\vec{\\widetilde{\\lambda}}^n = \\vec{0} \\\\\n",
    "\\vec{\\widetilde{\\lambda}}^n = \\vec{0}\n",
    "\\end{gathered}\n",
    "\\end{equation}\n",
    "\n",
    "So, we left with:\n",
    "\n",
    "\\begin{equation}\n",
    "\\left(\\bigoplus_{\\widetilde{a}} \\boldsymbol{F} -\n",
    "\\widetilde{\\boldsymbol{\\epsilon}} \\otimes \\boldsymbol{S}\\right)\\vec{\\widetilde{\\lambda}}^{KS} = \\vec{0}\n",
    "\\end{equation}\n",
    "\n",
    "or, only for block ${\\widetilde{a}}$:\n",
    "\n",
    "\\begin{equation}\n",
    "\\left(\\boldsymbol{F} -\n",
    "{\\epsilon}_{\\widetilde{a}} \\boldsymbol{S}\\right)\\vec{\\widetilde{\\lambda}}_{\\widetilde{a}}^{KS} = \\vec{0}\n",
    "\\end{equation}\n",
    "\n",
    "Let us take a derivative with respect to ${\\epsilon}_{\\widetilde{a}}$:\n",
    "\n",
    "\\begin{equation}\n",
    "- \\boldsymbol{S}\\vec{\\widetilde{\\lambda}}_{\\widetilde{a}}^{KS} = \\vec{0}\n",
    "\\end{equation}\n",
    "\n",
    "$\\boldsymbol{S}$ is a positive-definite matrix, thus it is invertable:\n",
    "\n",
    "\\begin{equation}\n",
    "\\begin{gathered}\n",
    "- \\boldsymbol{S}^{-1}\\boldsymbol{S}\\vec{\\widetilde{\\lambda}}_{\\widetilde{a}}^{KS} = \\boldsymbol{S}^{-1}\\vec{0} \\\\\n",
    "\\vec{\\widetilde{\\lambda}}_{\\widetilde{a}}^{KS} = \\vec{0}\n",
    "\\end{gathered}\n",
    "\\end{equation}\n",
    "\n",
    "Because $\\widetilde{a}$ was arbitary, the whole vector is zero:\n",
    "\n",
    "\\begin{equation}\n",
    "\\vec{\\widetilde{\\lambda}}^{KS} = \\vec{0}\n",
    "\\end{equation}\n",
    "\n",
    "It is easy to show, that:\n",
    "\n",
    "\\begin{equation}\n",
    "\\vec{\\lambda}^T\\frac{\\partial \\vec{\\Phi}}{\\partial \\vec{\\Theta}} =\n",
    "\\begin{pmatrix}\n",
    "\\vec{\\bar{\\lambda}}^{KS,T} & 0 & \\vec{\\bar{\\lambda}}^{n,T} & 0\n",
    "\\end{pmatrix}\n",
    "\\begin{pmatrix}\n",
    "\\frac{\\partial\\vec{\\bar{\\Phi}}^{KS}}{\\partial \\vec{\\Theta}} \\\\\n",
    "\\frac{\\partial\\vec{\\widetilde{\\Phi}}^{KS}}{\\partial \\vec{\\Theta}} \\\\\n",
    "0 \\\\\n",
    "0\n",
    "\\end{pmatrix} = \\vec{\\bar{\\lambda}}^{KS,T}\\frac{\\partial\\vec{\\bar{\\Phi}}^{KS}}{\\partial \\vec{\\Theta}} = \n",
    "\\begin{pmatrix}\n",
    "\\vec{\\bar{\\lambda}}^{KS,T} & \\vec{\\bar{\\lambda}}^{n,T}\n",
    "\\end{pmatrix}\n",
    "\\begin{pmatrix}\n",
    "\\frac{\\partial\\vec{\\bar{\\Phi}}^{KS}}{\\partial \\vec{\\Theta}} \\\\\n",
    "0\n",
    "\\end{pmatrix} = \n",
    "\\vec{\\bar{\\lambda}}^T\\frac{\\partial \\vec{\\bar{\\Phi}}}{\\partial \\vec{\\Theta}}\n",
    "\\end{equation}\n",
    "\n",
    "\\begin{equation}\n",
    "\\left(\\frac{\\partial \\vec{\\bar{\\Phi}}}{\\partial \\vec{\\bar{X}}}\\right)^T\\vec{\\bar{\\lambda}} = \\left(\\frac{\\partial E}{\\partial \\vec{\\bar{X}}}\\right)^T\n",
    "\\end{equation}\n",
    "\n",
    "In practice, this means that we can use $\\vec{\\bar{X}}$ and $\\vec{\\bar{\\Phi}}$ instead of $\\vec{X}$ and $\\vec{\\Phi}$, respectively. It allows us to significantly speed up calculation of adjoint vector."
   ]
  },
  {
   "cell_type": "markdown",
   "metadata": {},
   "source": [
    "### $\\partial\\vec{\\Phi}^{KS}(\\boldsymbol{C},\\boldsymbol{\\epsilon};\\;\\vec{\\Theta}) / \\partial\\vec{C}$ is symmetric for UKS-LDA and RKS-LDA\n",
    "\n",
    "We want to show that $\\boldsymbol{\\alpha}$ is symmetric under certain conditions, namely, if we deal with situation \n",
    "\n",
    "\\begin{equation}\n",
    "\\boldsymbol{\\bar{f}}=\\bar{f}\\boldsymbol{I}_{N_{orb}^{occ}}\n",
    "\\end{equation}\n",
    "\n",
    "It occurs in restricted (RKS, $\\bar{f}=2$) and unrestricted Kohn-Sham (UKS, $\\bar{f}=1$) methods.\n",
    "\n",
    "At first, we have to show, that functional derivative from Hamiltonian with respect to electronic density in the case of LDA:\n",
    "\n",
    "\\begin{equation}\n",
    "\\frac{\\delta \n",
    " H^{LDA}[\\rho](\\vec{r};\\;\\vec{\\Theta})\n",
    "}{\\delta \\rho(\\vec{r'})} = \\frac{1}{|\\vec{r}-\\vec{r'}|}\n",
    "+\n",
    "\\frac{\\partial V_{XC}(\\rho;\\;\\vec{\\Theta})}{\\partial \\rho}\\delta(\\vec{r} - \\vec{r'})\n",
    "\\end{equation}\n",
    "\n",
    "is invariant to $r \\leftrightarrow r'$ exchange:\n",
    "\n",
    "\\begin{equation}\n",
    "\\frac{\\delta \n",
    " H^{LDA}[\\rho](\\vec{r'};\\;\\vec{\\Theta})\n",
    "}{\\delta \\rho(\\vec{r})} = \\frac{1}{|\\vec{r'}-\\vec{r}|}\n",
    "+\n",
    "\\frac{\\partial V_{XC}(\\rho;\\;\\vec{\\Theta})}{\\partial \\rho}\\delta(\\vec{r'} - \\vec{r}) = \\frac{1}{|\\vec{r}-\\vec{r'}|}\n",
    "+\n",
    "\\frac{\\partial V_{XC}(\\rho;\\;\\vec{\\Theta})}{\\partial \\rho}\\delta(\\vec{r} - \\vec{r'}) = \\frac{\\delta \n",
    " H^{LDA}[\\rho](\\vec{r};\\;\\vec{\\Theta})\n",
    "}{\\delta \\rho(\\vec{r'})}\n",
    "\\end{equation}\n",
    "\n",
    "It helps us to show $\\boldsymbol{G} = \\boldsymbol{G}^T$:\n",
    "\n",
    "\\begin{equation}\n",
    "\\begin{aligned}\n",
    "\\boldsymbol{G}^T = &\\left(\\iint (\\vec{\\chi}(\\vec{r}) \\otimes\\vec{\\chi}(\\vec{r}))\\frac{\\delta \n",
    " H[\\rho](\\vec{r};\\;\\vec{\\Theta})\n",
    "}{\\delta \\rho(\\vec{r'})}(\\vec{\\chi}^T(\\vec{r'}) \\otimes\\vec{\\chi}^T(\\vec{r'}))d\\vec{r}d\\vec{r'}\\right)^T \\\\\n",
    "&\\left(\\iint (\\vec{\\chi}(\\vec{r'}) \\otimes\\vec{\\chi}(\\vec{r'}))\\frac{\\delta \n",
    " H[\\rho](\\vec{r};\\;\\vec{\\Theta})\n",
    "}{\\delta \\rho(\\vec{r'})}(\\vec{\\chi}^T(\\vec{r}) \\otimes\\vec{\\chi}^T(\\vec{r})) d\\vec{r}d\\vec{r'}\\right) = \\\\\n",
    "&\\left(\\iint (\\vec{\\chi}(\\vec{r}) \\otimes\\vec{\\chi}(\\vec{r}))\\frac{\\delta \n",
    " H[\\rho](\\vec{r'};\\;\\vec{\\Theta})\n",
    "}{\\delta \\rho(\\vec{r})}(\\vec{\\chi}^T(\\vec{r'}) \\otimes\\vec{\\chi}^T(\\vec{r'})) d\\vec{r'}d\\vec{r}\\right) = \\\\\n",
    "&\\left(\\iint (\\vec{\\chi}(\\vec{r}) \\otimes\\vec{\\chi}(\\vec{r}))\\frac{\\delta \n",
    " H[\\rho](\\vec{r};\\;\\vec{\\Theta})\n",
    "}{\\delta \\rho(\\vec{r'})}(\\vec{\\chi}^T(\\vec{r'}) \\otimes\\vec{\\chi}^T(\\vec{r'})) d\\vec{r}d\\vec{r'}\\right) = \\boldsymbol{G}\n",
    "\\end{aligned}\n",
    "\\end{equation}\n",
    "\n",
    "Now it is clear that\n",
    "\n",
    "\\begin{equation}\n",
    "\\begin{gathered}\n",
    "\\frac{\\partial\\vec{\\Phi}^{KS}(\\boldsymbol{C},\\boldsymbol{\\epsilon};\\;\\vec{\\Theta})}{\\partial \\vec{C}} = 2\\bar{f}(\\boldsymbol{\\bar{C}}^T \\otimes \\boldsymbol{I}_{N_{bas}})\\boldsymbol{G}(\\boldsymbol{\\bar{C}} \\otimes \\boldsymbol{I}_{N_{bas}}) +\n",
    "(\\boldsymbol{I}_{N_{orb}^{occ}} \\otimes\\boldsymbol{F}) -\n",
    "(\\boldsymbol{\\bar{\\epsilon}} \\otimes \\boldsymbol{S})\n",
    "\\end{gathered}\n",
    "\\end{equation}\n",
    "\n",
    "is symmetric. This fact may help us to speed up calculation of this matrix.\n"
   ]
  },
  {
   "cell_type": "markdown",
   "metadata": {},
   "source": [
    "## Computational Section."
   ]
  },
  {
   "cell_type": "markdown",
   "metadata": {
    "datalore": {
     "hide_input_from_viewers": false,
     "hide_output_from_viewers": false,
     "node_id": "2rd8cXFrI617GyeNAptEQ6",
     "report_properties": {},
     "type": "MD"
    }
   },
   "source": [
    "### Preparing the globals"
   ]
  },
  {
   "cell_type": "markdown",
   "metadata": {
    "datalore": {
     "hide_input_from_viewers": false,
     "hide_output_from_viewers": false,
     "node_id": "pC39fktFfS3knkTgR6lG6m",
     "report_properties": {},
     "type": "MD"
    }
   },
   "source": [
    "#### Imports"
   ]
  },
  {
   "cell_type": "code",
   "execution_count": 1,
   "metadata": {
    "datalore": {
     "hide_input_from_viewers": false,
     "hide_output_from_viewers": false,
     "node_id": "V96IjHZ3bQiFZvggM3jn6C",
     "report_properties": {},
     "type": "CODE"
    }
   },
   "outputs": [],
   "source": [
    "import dqc\n",
    "import pyscf\n",
    "from pyscf import gto, dft, scf, cc\n",
    "import numpy\n",
    "import torch\n",
    "import xitorch as xt\n",
    "from math import pi\n",
    "import sys \n",
    "import time\n",
    "import pandas as pd\n",
    "from IPython.display import display, HTML, Math\n",
    "import numba as nb\n",
    "import matplotlib.pyplot as plt\n",
    "from matplotlib import ticker\n",
    "import functools\n",
    "from ast import literal_eval\n",
    "import cpuinfo\n",
    "import psutil"
   ]
  },
  {
   "cell_type": "markdown",
   "metadata": {},
   "source": [
    "#### Hardware and software specifications:"
   ]
  },
  {
   "cell_type": "code",
   "execution_count": 2,
   "metadata": {},
   "outputs": [
    {
     "name": "stdout",
     "output_type": "stream",
     "text": [
      "PySCF version: 2.1.1\n",
      "DQC version: 0.1.0\n"
     ]
    }
   ],
   "source": [
    "print(f'PySCF version: {pyscf.__version__}')\n",
    "print(f'DQC version: {dqc.__version__}')"
   ]
  },
  {
   "cell_type": "code",
   "execution_count": 3,
   "metadata": {},
   "outputs": [
    {
     "name": "stdout",
     "output_type": "stream",
     "text": [
      "Total RAM: 251.88466262817383 Gb\n",
      "CPU: Intel(R) Xeon(R) CPU E5-2630 v2 @ 2.60GHz\n"
     ]
    }
   ],
   "source": [
    "print(f'Total RAM: {psutil.virtual_memory().total / (2**30)} Gb')\n",
    "print(f'CPU: {cpuinfo.get_cpu_info()[\"brand_raw\"]}')"
   ]
  },
  {
   "cell_type": "markdown",
   "metadata": {},
   "source": [
    "#### LDA constants:\n",
    "We use the basic power-type LDA functional with density\n",
    "$$\n",
    "\\epsilon \\left[ \\rho \\right] = a \\cdot \\rho ^ p\n",
    "$$\n",
    "as example."
   ]
  },
  {
   "cell_type": "code",
   "execution_count": 4,
   "metadata": {},
   "outputs": [],
   "source": [
    "LDA_factor = -3.0/4.0 * (3.0 / pi)**(1.0/3.0)\n",
    "LDA_power = 4.0/3.0"
   ]
  },
  {
   "cell_type": "markdown",
   "metadata": {},
   "source": [
    "### Correctness test: energy"
   ]
  },
  {
   "cell_type": "markdown",
   "metadata": {
    "datalore": {
     "hide_input_from_viewers": false,
     "hide_output_from_viewers": false,
     "node_id": "tErq97jOzVSbusn9Qpi8ju",
     "report_properties": {},
     "type": "MD"
    }
   },
   "source": [
    "#### Custom functionals\n",
    "\n",
    "Here we take a look at the ways to implement an LDA functional and compare them to some built-in methods."
   ]
  },
  {
   "cell_type": "markdown",
   "metadata": {
    "datalore": {
     "hide_input_from_viewers": false,
     "hide_output_from_viewers": false,
     "node_id": "c806BJg47HMXR3Eqrppftl",
     "report_properties": {},
     "type": "MD"
    }
   },
   "source": [
    "#### PySCF\n",
    "\n",
    "PySCF accepts custom functionals as Python functions"
   ]
  },
  {
   "cell_type": "code",
   "execution_count": 5,
   "metadata": {
    "datalore": {
     "hide_input_from_viewers": true,
     "hide_output_from_viewers": true,
     "node_id": "iLDNI8SeDIrRd1K7AqA6eB",
     "type": "CODE"
    }
   },
   "outputs": [],
   "source": [
    "def PySCF_LDA_constructor(a, p):\n",
    "    def eval_xc(xc_code, rho, *args, **kwargs):\n",
    "        numpy.nan_to_num(rho) # delete NaNs\n",
    "        rho.clip(0) # delete negative numbers\n",
    "        exc = a * rho ** (p - 1.0)\n",
    "        vrho = a * p * rho ** (p - 1.0)\n",
    "        vxc = (vrho, None, None, None)\n",
    "        return exc, vxc, None, None\n",
    "    return eval_xc"
   ]
  },
  {
   "cell_type": "code",
   "execution_count": 6,
   "metadata": {
    "datalore": {
     "hide_input_from_viewers": true,
     "hide_output_from_viewers": true,
     "node_id": "0ynlH5LkdPZXEsDBKlt7M6",
     "type": "CODE"
    }
   },
   "outputs": [],
   "source": [
    "def pyscf_custom_LDA_calculator_of_energy(_mol, a = LDA_factor, p = LDA_power):\n",
    "    scf_mol = gto.M(atom=_mol, basis=\"6-31G\", unit=\"Bohr\", verbose=0)\n",
    "    \n",
    "    # Timer\n",
    "    start = time.time()\n",
    "    calc_scf = dft.RKS(scf_mol)\n",
    "    calc_scf = calc_scf.define_xc_(PySCF_LDA_constructor(a, p), \"LDA\")\n",
    "    energy = calc_scf.kernel()\n",
    "    dur = time.time() - start\n",
    "    \n",
    "    return energy, calc_scf.converged, dur"
   ]
  },
  {
   "cell_type": "markdown",
   "metadata": {
    "datalore": {
     "hide_input_from_viewers": false,
     "hide_output_from_viewers": false,
     "node_id": "8qLmEZoUjxKVObWR3zoGxx",
     "report_properties": {},
     "type": "MD"
    }
   },
   "source": [
    "#### Built-in functional\n",
    "To compare the results, we would use PySCF's built-in implementation of the same functional"
   ]
  },
  {
   "cell_type": "code",
   "execution_count": 7,
   "metadata": {
    "datalore": {
     "hide_input_from_viewers": false,
     "hide_output_from_viewers": false,
     "node_id": "BaI5aXGDrQurUm2T9Aiy2f",
     "report_properties": {},
     "type": "CODE"
    }
   },
   "outputs": [],
   "source": [
    "def pyscf_builtin_LDA_calculator_of_energy(_mol):\n",
    "    scf_mol = gto.M(atom=_mol, basis=\"6-31G\", unit=\"Bohr\", verbose=0)\n",
    "    \n",
    "    #Timer\n",
    "    start = time.time()\n",
    "    calc_scf = dft.RKS(scf_mol)\n",
    "    calc_scf.xc = \"lda,\" # Built-in LDA functional implementation\n",
    "    energy = calc_scf.kernel()\n",
    "    dur = time.time() - start\n",
    "    \n",
    "    return energy, calc_scf.converged, dur"
   ]
  },
  {
   "cell_type": "markdown",
   "metadata": {
    "datalore": {
     "hide_input_from_viewers": true,
     "hide_output_from_viewers": true,
     "node_id": "tf9s2S2OuoqX9MSN0fHTVn",
     "type": "MD"
    }
   },
   "source": [
    "#### CCSD(T)"
   ]
  },
  {
   "cell_type": "code",
   "execution_count": 8,
   "metadata": {
    "datalore": {
     "hide_input_from_viewers": true,
     "hide_output_from_viewers": true,
     "node_id": "u8lMaSBzCOa4pIYY5pBMlG",
     "type": "CODE"
    }
   },
   "outputs": [],
   "source": [
    "def pyscf_CCSD_T_calculator_of_energy(_mol):\n",
    "    scf_mol = gto.M(atom=_mol, basis=\"6-31G\", unit=\"Bohr\", verbose=0)\n",
    "    \n",
    "    #Timer\n",
    "    start = time.time()\n",
    "    hf_ = scf.HF(scf_mol)\n",
    "    hf = hf_.run()\n",
    "    calc_scf = cc.CCSD(hf)\n",
    "    _en = calc_scf.kernel()\n",
    "    et = calc_scf.ccsd_t()\n",
    "    energy = calc_scf.e_tot + et\n",
    "    dur = time.time() - start\n",
    "    \n",
    "    return energy, calc_scf.converged, dur"
   ]
  },
  {
   "cell_type": "markdown",
   "metadata": {
    "datalore": {
     "hide_input_from_viewers": true,
     "hide_output_from_viewers": true,
     "node_id": "CabErmrEgIuTlRyQ4iQU4l",
     "type": "MD"
    }
   },
   "source": [
    "#### DQC\n",
    "\n",
    "DQC accepts custom functionals as objects of classes derived from `dqc.xc.CustomXC`"
   ]
  },
  {
   "cell_type": "code",
   "execution_count": 9,
   "metadata": {
    "datalore": {
     "hide_input_from_viewers": true,
     "hide_output_from_viewers": true,
     "node_id": "ZXuDyJAUqa73YFbnXcLJaF",
     "type": "CODE"
    }
   },
   "outputs": [],
   "source": [
    "class DQC_LDA_contructor(dqc.xc.CustomXC):\n",
    "    def __init__(self, a_par, p_par):\n",
    "        super().__init__()\n",
    "        self.a_par = a_par\n",
    "        self.p_par = p_par\n",
    "        self.number_of_parameters = 2\n",
    "\n",
    "    @property\n",
    "    def family(self):\n",
    "        # 1 for LDA, 2 for GGA, 4 for MGGA\n",
    "        return 1\n",
    "\n",
    "    def get_edensityxc(self, densinfo):\n",
    "        # densinfo has up and down components\n",
    "        if isinstance(densinfo, dqc.utils.SpinParam):\n",
    "            # spin-scaling of the exchange energy\n",
    "            return 0.5 * (self.get_edensityxc(densinfo.u * 2) + self.get_edensityxc(densinfo.d * 2))\n",
    "        else:\n",
    "            rho = densinfo.value.abs() + 1e-15  # safeguarding from nan\n",
    "            return self.a_par * rho ** self.p_par\n",
    "        \n",
    "    def get_edensityxc_derivative(self, densinfo, number_of_parameter):\n",
    "        # densinfo has up and down components\n",
    "        if isinstance(densinfo, dqc.utils.SpinParam):\n",
    "            # spin-scaling of the exchange energy\n",
    "            return 0.5 * (self.get_edensityxc_derivative(densinfo.u * 2, number_of_parameter) \n",
    "                          + self.get_edensityxc_derivative(densinfo.d * 2, number_of_parameter))\n",
    "        else:\n",
    "            rho = densinfo.value.abs() + 1e-15  # safeguarding from nan\n",
    "            if number_of_parameter == 0: # parameter a\n",
    "                return rho ** self.p_par\n",
    "            elif number_of_parameter == 1: # parameter p\n",
    "                return self.a_par * torch.log(rho) * rho ** self.p_par"
   ]
  },
  {
   "cell_type": "code",
   "execution_count": 10,
   "metadata": {
    "datalore": {
     "hide_input_from_viewers": true,
     "hide_output_from_viewers": true,
     "node_id": "x49ZfU4LdQIL1KsmxSnKbp",
     "type": "CODE"
    }
   },
   "outputs": [],
   "source": [
    "def dqc_nograd_custom_LDA_calculator_of_energy(_mol, a = LDA_factor, p = LDA_power):\n",
    "    with torch.no_grad():\n",
    "        atmozs, atomposs = dqc.parse_moldesc(_mol)\n",
    "        dqc_mol = dqc.Mol((atmozs, atomposs), basis=\"6-31G\")\n",
    "\n",
    "        #Timer\n",
    "        start = time.time()\n",
    "        a_par = torch.nn.Parameter(torch.tensor(a, dtype=torch.double))\n",
    "        p_par = torch.nn.Parameter(torch.tensor(p, dtype=torch.double))\n",
    "        qc = dqc.KS(dqc_mol, xc=DQC_LDA_contructor(a_par, p_par))\n",
    "\n",
    "        energy_tensor = qc.run().energy()\n",
    "        energy = energy_tensor.item()\n",
    "        dur = time.time() - start\n",
    "\n",
    "    return energy_tensor.item(), True, dur"
   ]
  },
  {
   "cell_type": "markdown",
   "metadata": {
    "datalore": {
     "hide_input_from_viewers": true,
     "hide_output_from_viewers": true,
     "node_id": "CSjHTRCB8P0ZifrjITux2s",
     "type": "MD"
    }
   },
   "source": [
    "#### Comparison test\n",
    "\n",
    "Let's compare all of the above methods (also, for convenience, all of the results are compiled at the end of the notebook in tables)."
   ]
  },
  {
   "cell_type": "code",
   "execution_count": 11,
   "metadata": {
    "datalore": {
     "hide_input_from_viewers": false,
     "hide_output_from_viewers": false,
     "node_id": "lESczcDxOmGdqByoPm9dzW",
     "report_properties": {},
     "type": "CODE"
    }
   },
   "outputs": [],
   "source": [
    "molecules_for_correctness_tests = {\n",
    "    \"h2\"       :  \"\"\"\n",
    "                  H 0 0 0; H 1.4 0 0\n",
    "                  \"\"\"\n",
    "    ,\n",
    "    \"n2\"       :  \"\"\"\n",
    "                  N 0 0 0; N 2.07 0 0\n",
    "                  \"\"\"\n",
    "    ,\n",
    "    \"water\"    : \"\"\"\n",
    "                 O        0.000000000      0.000000000      0.000000000;\n",
    "                 H        0.000000000      1.434938863      1.126357947;\n",
    "                 H        0.000000000     -1.434938863      1.12635794\n",
    "                 \"\"\"\n",
    "     ,\n",
    "    \"ammonia\" : \"\"\"\n",
    "                 N  0.000  0.000  0.000;\n",
    "                 H  0.000 -1.772 -0.721; \n",
    "                 H  1.535  0.886 -0.721; \n",
    "                 H -1.535  0.886 -0.721\n",
    "                 \"\"\"\n",
    "    ,\n",
    "    \"benzene\" : \"\"\"\n",
    "                C        0.598362921      0.000000000     -4.742986733;\n",
    "                C       -0.557705772     -0.354690359     -4.044822733;\n",
    "                C        1.754431614      0.354690359     -4.044822733;\n",
    "                H       -1.457130878     -0.630640582     -4.587995733;\n",
    "                H        2.653856720      0.630640582     -4.587995733;\n",
    "                C       -0.557705772     -0.354690359     -2.648492733;\n",
    "                C        1.754431614      0.354690359     -2.648492733;\n",
    "                H       -1.457130878     -0.630640582     -2.105319733;\n",
    "                H        2.653856720      0.630640582     -2.105319733;\n",
    "                C        0.598362921      0.000000000     -1.950328733;\n",
    "                H        0.598362921      0.000000000     -0.863981733;\n",
    "                H        0.598362921      0.000000000     -5.829333733\n",
    "                \"\"\"\n",
    "}"
   ]
  },
  {
   "cell_type": "code",
   "execution_count": 12,
   "metadata": {
    "datalore": {
     "hide_input_from_viewers": true,
     "hide_output_from_viewers": true,
     "node_id": "5GuoHEv6WP9UDWCOUkmyGF",
     "type": "CODE"
    }
   },
   "outputs": [],
   "source": [
    "energy_correctness_results = {\n",
    "    \"pyscf_builtin\":    {},\n",
    "    \"pyscf_custom\":     {},\n",
    "    \"pyscf_ccsdt\":      {},\n",
    "    \"dqc_nograd\":       {},\n",
    "}\n",
    "\n",
    "for data_of_method in energy_correctness_results.values():\n",
    "    for mol_name in molecules_for_correctness_tests:\n",
    "        data_of_method[mol_name] = {}"
   ]
  },
  {
   "cell_type": "code",
   "execution_count": 13,
   "metadata": {
    "datalore": {
     "hide_input_from_viewers": true,
     "hide_output_from_viewers": true,
     "node_id": "UY1XdShEAtxTvCwwmS7Jnx",
     "type": "CODE"
    }
   },
   "outputs": [
    {
     "name": "stdout",
     "output_type": "stream",
     "text": [
      "For h2 molecule and pyscf_ccsdt method: energy=-1.1516791660767665 Eh, duration=0.46305227279663086 s\n",
      "For h2 molecule and pyscf_builtin method: energy=-1.0386177856738819 Eh, duration=0.4423105716705322 s\n",
      "For h2 molecule and pyscf_custom method: energy=-1.0386177856738819 Eh, duration=0.594165563583374 s\n",
      "For h2 molecule and dqc_nograd method: energy=-1.0386170699228434 Eh, duration=0.2612292766571045 s\n",
      "---><---\n",
      "For n2 molecule and pyscf_ccsdt method: energy=-109.10264680034624 Eh, duration=0.30572962760925293 s\n",
      "For n2 molecule and pyscf_builtin method: energy=-107.6394735383106 Eh, duration=0.9274556636810303 s\n",
      "For n2 molecule and pyscf_custom method: energy=-107.63947353831045 Eh, duration=0.8847291469573975 s\n",
      "For n2 molecule and dqc_nograd method: energy=-107.63947314633589 Eh, duration=0.19311904907226562 s\n",
      "---><---\n",
      "For water molecule and pyscf_ccsdt method: energy=-76.12064120720741 Eh, duration=0.2074418067932129 s\n",
      "For water molecule and pyscf_builtin method: energy=-75.15470534025637 Eh, duration=0.9591445922851562 s\n",
      "For water molecule and pyscf_custom method: energy=-75.15470534025634 Eh, duration=0.9339175224304199 s\n",
      "For water molecule and dqc_nograd method: energy=-75.15469465302145 Eh, duration=0.2452716827392578 s\n",
      "---><---\n",
      "For ammonia molecule and pyscf_ccsdt method: energy=-56.292149164904075 Eh, duration=0.2624485492706299 s\n",
      "For ammonia molecule and pyscf_builtin method: energy=-55.4136044067828 Eh, duration=1.0233263969421387 s\n",
      "For ammonia molecule and pyscf_custom method: energy=-55.41360440678283 Eh, duration=1.1421661376953125 s\n",
      "For ammonia molecule and dqc_nograd method: energy=-55.41360102926498 Eh, duration=0.25927138328552246 s\n",
      "---><---\n",
      "For benzene molecule and pyscf_ccsdt method: energy=-217.07797043645735 Eh, duration=8.971181631088257 s\n",
      "For benzene molecule and pyscf_builtin method: energy=-213.41468421598046 Eh, duration=4.1901891231536865 s\n",
      "For benzene molecule and pyscf_custom method: energy=-213.41468421597068 Eh, duration=4.117294788360596 s\n",
      "For benzene molecule and dqc_nograd method: energy=-213.41430597686457 Eh, duration=2.393867254257202 s\n",
      "---><---\n"
     ]
    }
   ],
   "source": [
    "def print_results_energy(mol_name, method_name, e, c, d):\n",
    "    print(f\"For {mol_name} molecule and {method_name} method: energy={e} Eh, duration={d} s\")\n",
    "    if not c:\n",
    "        print(f\"Calculation for {mol_name} and method {method_name} did not converge\", file=sys.stderr)\n",
    "\n",
    "def print_and_save_results_energy(mol_name, method_name, e, c, d):\n",
    "    print_results_energy(mol_name, method_name, e, c, d)\n",
    "    energy_correctness_results[method_name][mol_name][\"energy\"] = e\n",
    "    energy_correctness_results[method_name][mol_name][\"converged\"] = c\n",
    "    energy_correctness_results[method_name][mol_name][\"time\"] = d\n",
    "\n",
    "for mol_name, mol in molecules_for_correctness_tests.items():\n",
    "    e, c, d = pyscf_CCSD_T_calculator_of_energy(mol)\n",
    "    print_and_save_results_energy(mol_name, \"pyscf_ccsdt\", e, c, d)\n",
    "    \n",
    "    e, c, d = pyscf_builtin_LDA_calculator_of_energy(mol)\n",
    "    print_and_save_results_energy(mol_name, \"pyscf_builtin\", e, c, d)\n",
    "\n",
    "    e, c, d = pyscf_custom_LDA_calculator_of_energy(mol, LDA_factor, LDA_power)\n",
    "    print_and_save_results_energy(mol_name, \"pyscf_custom\", e, c, d)\n",
    "\n",
    "    e, c, d = dqc_nograd_custom_LDA_calculator_of_energy(mol, LDA_factor, LDA_power)\n",
    "    print_and_save_results_energy(mol_name, \"dqc_nograd\", e, c, d)\n",
    "    \n",
    "    print(\"---><---\")"
   ]
  },
  {
   "cell_type": "markdown",
   "metadata": {},
   "source": [
    "The results of calculations with custom LDA functionals are in excellent agreement with the results of calculations with builtin LDA functional."
   ]
  },
  {
   "cell_type": "markdown",
   "metadata": {
    "datalore": {
     "hide_input_from_viewers": false,
     "hide_output_from_viewers": false,
     "node_id": "oqSHKSEWrAT2qsYRaJyONL",
     "report_properties": {},
     "type": "MD"
    }
   },
   "source": [
    "### Existing methods for calculation of energy derivatives.\n",
    "\n",
    "The basic way to compute energy derivatives is to use finite differences. DQC also allows to make use of PyTorch's `autograd`. We will also explore the adjoint sensitivity method.\n",
    "\n",
    "From now on, all of the calculations will rely on user defined functionals."
   ]
  },
  {
   "cell_type": "markdown",
   "metadata": {
    "datalore": {
     "hide_input_from_viewers": true,
     "hide_output_from_viewers": true,
     "node_id": "ZjOuChfOcdb0cfKcmfVCns",
     "type": "MD"
    }
   },
   "source": [
    "### Finite differences\n",
    "\n",
    "Calculating derivatives via finite difference is straighforward once there is a way to calculate energy:"
   ]
  },
  {
   "cell_type": "code",
   "execution_count": 14,
   "metadata": {
    "datalore": {
     "hide_input_from_viewers": true,
     "hide_output_from_viewers": true,
     "node_id": "ZS5Qm9R8TG3ohxZlQrEtW5",
     "type": "CODE"
    }
   },
   "outputs": [],
   "source": [
    "def finite_differences_calculator_of_derivatives(method, _mol, a, p, bump_factor=0.00001):\n",
    "    c = True\n",
    "    en, c1, dur = method(_mol, a, p)\n",
    "    c &= c1\n",
    "    da = a * bump_factor\n",
    "    dp = p * bump_factor\n",
    "\n",
    "    en_da, c1, dur1 = method(_mol, a + da, p)\n",
    "    c &= c1\n",
    "    en_dp, c1, dur2 = method(_mol, a, p + dp)\n",
    "    c &= c1\n",
    "\n",
    "    dea = (en_da - en) / da\n",
    "    dep = (en_dp - en) / dp\n",
    "\n",
    "    if not c:\n",
    "        print(f\"One of finite difference computations for {_mol_name} didn't converge with {method}\", file=sys.stderr)\n",
    "\n",
    "    return dea, dep, dur + dur1 + dur2"
   ]
  },
  {
   "cell_type": "markdown",
   "metadata": {
    "datalore": {
     "hide_input_from_viewers": true,
     "hide_output_from_viewers": true,
     "node_id": "qrTQdCyZr8mHVAKz5Dn9tM",
     "type": "MD"
    }
   },
   "source": [
    "### DQC and `torch.autograd`"
   ]
  },
  {
   "cell_type": "code",
   "execution_count": 15,
   "metadata": {
    "datalore": {
     "hide_input_from_viewers": true,
     "hide_output_from_viewers": true,
     "node_id": "qklrokRZgCJ6HaWMU47ZpQ",
     "type": "CODE"
    }
   },
   "outputs": [],
   "source": [
    "def dqc_autograd_calculator_of_derivatives(_mol, a, p):\n",
    "    atmozs, atomposs = dqc.parse_moldesc(_mol)\n",
    "    dqc_mol = dqc.Mol((atmozs, atomposs), basis=\"6-31G\")\n",
    "    \n",
    "    #Timer\n",
    "    start = time.time()\n",
    "    a_par = torch.nn.Parameter(torch.tensor(a, dtype=torch.double))\n",
    "    p_par = torch.nn.Parameter(torch.tensor(p, dtype=torch.double))\n",
    "    qc = dqc.KS(dqc_mol, xc=DQC_LDA_contructor(a_par, p_par))\n",
    "    \n",
    "    energy_tensor = qc.run().energy()\n",
    "    grad = torch.autograd.grad(energy_tensor, (a_par, p_par))\n",
    "    dur = time.time() - start\n",
    "\n",
    "    return grad[0].item(), grad[1].item(), dur"
   ]
  },
  {
   "cell_type": "markdown",
   "metadata": {
    "datalore": {
     "hide_input_from_viewers": true,
     "hide_output_from_viewers": true,
     "node_id": "jE7QhzsPOXSZSHgKohPYF0",
     "type": "MD"
    }
   },
   "source": [
    "### New method: Adjoint sensitivity method"
   ]
  },
  {
   "cell_type": "markdown",
   "metadata": {
    "datalore": {
     "hide_input_from_viewers": true,
     "hide_output_from_viewers": true,
     "node_id": "fDE7wdj18sEXBFfslxXZRt",
     "type": "MD"
    }
   },
   "source": [
    "#### Full algorithm in DQC and pytorch"
   ]
  },
  {
   "cell_type": "markdown",
   "metadata": {
    "datalore": {
     "hide_input_from_viewers": true,
     "hide_output_from_viewers": true,
     "node_id": "Lm4lw1RuKp9OVUYRfwqBts",
     "type": "MD"
    }
   },
   "source": [
    "#### Preparing for calculation\n",
    "\n",
    "Initialize the system, DQC, and set up some variables"
   ]
  },
  {
   "cell_type": "code",
   "execution_count": 16,
   "metadata": {
    "datalore": {
     "hide_input_from_viewers": true,
     "hide_output_from_viewers": true,
     "node_id": "th08MEmgwYVXE0MLgrDk6q",
     "type": "CODE"
    }
   },
   "outputs": [],
   "source": [
    "from dqc.utils.datastruct import SpinParam, ValGrad\n",
    "\n",
    "mol_name_ = \"water\"\n",
    "\n",
    "a_par = torch.nn.Parameter(torch.tensor(LDA_factor, dtype=torch.double))\n",
    "p_par = torch.nn.Parameter(torch.tensor(LDA_power, dtype=torch.double))\n",
    "aj_mol = molecules_for_correctness_tests[mol_name_]\n",
    "atmozs, atomposs = dqc.parse_moldesc(aj_mol)\n",
    "dqc_mol = dqc.Mol((atmozs, atomposs), basis=\"6-31G\")\n",
    "qc = dqc.KS(dqc_mol, xc=DQC_LDA_contructor(a_par, p_par)).run()"
   ]
  },
  {
   "cell_type": "code",
   "execution_count": 17,
   "metadata": {
    "datalore": {
     "hide_input_from_viewers": true,
     "hide_output_from_viewers": true,
     "node_id": "mYbPHZGhmG3u0T0nylnxEC",
     "type": "CODE"
    }
   },
   "outputs": [],
   "source": [
    "def _symm(scp: torch.Tensor):\n",
    "    # forcely symmetrize the tensor\n",
    "    return (scp + scp.transpose(-2, -1)) * 0.5\n",
    "\n",
    "dm = qc._dm.detach().clone()\n",
    "noccorb = qc._engine.hf_engine._norb\n",
    "nallorb = qc.get_system().get_hamiltonian().nao\n",
    "fockian = qc._engine.dm2scp(dm).detach().clone()\n",
    "\n",
    "def eigendecomposition(hf_engine):\n",
    "    if not hf_engine._polarized:\n",
    "        fock = xt.LinearOperator.m(_symm(fockian), is_hermitian=True)\n",
    "        return hf_engine.diagonalize(fock, noccorb)\n",
    "    else:\n",
    "        fock_u = xt.LinearOperator.m(_symm(fockian[0]), is_hermitian=True)\n",
    "        fock_d = xt.LinearOperator.m(_symm(fockian[1]), is_hermitian=True)\n",
    "        return hf_engine.diagonalize(hf_engine, SpinParam(u=fock_u, d=fock_d))\n",
    "\n",
    "energies, coefficients = eigendecomposition(qc._engine.hf_engine)\n",
    "orboccs = qc._engine.orb_weight.detach().clone()"
   ]
  },
  {
   "cell_type": "markdown",
   "metadata": {
    "datalore": {
     "hide_input_from_viewers": true,
     "hide_output_from_viewers": true,
     "node_id": "2hIOmFqZlhml2bMbd0FRws",
     "type": "MD"
    }
   },
   "source": [
    "First, derivatives from energy:\n",
    "\n",
    "#### Calculating $\\frac{\\partial E[\\rho](\\vec{\\theta})}{\\partial \\textbf{C}}$\n",
    "\n",
    "Only canonical (i.e. eigenfunctions of fockian) orbitals can be used:\n",
    "$$ \\frac{\\partial E[\\rho](\\vec{\\theta})}{\\partial C_{bj}} = 2f_b \\sum_i C_{bi}F_{ij} = 2f_b \\epsilon_b C_{bj}$$\n",
    "so\n",
    "$$ \\frac{\\partial E[\\rho](\\vec{\\theta})}{\\partial \\textbf{C}} = 2\\textbf{f}\\epsilon\\textbf{C}$$\n",
    "$\\epsilon$ here is matrix: $\\epsilon_{ab}=\\delta_{ab}\\epsilon_a$"
   ]
  },
  {
   "cell_type": "code",
   "execution_count": 18,
   "metadata": {
    "datalore": {
     "hide_input_from_viewers": true,
     "hide_output_from_viewers": true,
     "node_id": "J8oi9udT0nqtPYzZYWMa2z",
     "type": "CODE"
    }
   },
   "outputs": [],
   "source": [
    "dE_wrt_dC = 2 * torch.einsum(\"b,ib,ij->bj\", orboccs, coefficients, fockian)"
   ]
  },
  {
   "cell_type": "markdown",
   "metadata": {
    "datalore": {
     "hide_input_from_viewers": true,
     "hide_output_from_viewers": true,
     "node_id": "XM813JtTQPwx51HxSJOu0s",
     "type": "MD"
    }
   },
   "source": [
    "#### Calculating $\\frac{\\partial E[\\rho](\\vec{\\theta})}{\\partial \\vec{\\epsilon}}$\n",
    "\n",
    "$$\\frac{\\partial E[\\rho](\\vec{\\theta})}{\\partial \\epsilon_{b}} = 0$$ for all $\\epsilon_b$. So:"
   ]
  },
  {
   "cell_type": "code",
   "execution_count": 19,
   "metadata": {
    "datalore": {
     "hide_input_from_viewers": true,
     "hide_output_from_viewers": true,
     "node_id": "T8ATaKezoqXIRVe6cDbm0Y",
     "type": "CODE"
    }
   },
   "outputs": [],
   "source": [
    "dE_wrt_depsilon = torch.zeros(noccorb)"
   ]
  },
  {
   "cell_type": "markdown",
   "metadata": {
    "datalore": {
     "hide_input_from_viewers": true,
     "hide_output_from_viewers": true,
     "node_id": "QYYMBK3Sw42gvywu1m4bs2",
     "type": "MD"
    }
   },
   "source": [
    "Then, derivatives from normalization equations:\n",
    "\n",
    "#### Calculating $\\frac{\\partial \\vec{\\Phi}^{n}(\\textbf{C})}{\\partial \\textbf{C}}$\n",
    "\n",
    "$$\\frac{\\partial \\Phi^{n}_{a}(\\textbf{C})}{\\partial C_{ck}} = 2\\delta_{ac}C_{ck}$$"
   ]
  },
  {
   "cell_type": "code",
   "execution_count": 20,
   "metadata": {
    "datalore": {
     "hide_input_from_viewers": true,
     "hide_output_from_viewers": true,
     "node_id": "ifqahl0MKmnqpDbRuQ7VEw",
     "type": "CODE"
    }
   },
   "outputs": [],
   "source": [
    "occupied_orbitals_kronecker = torch.eye(noccorb)\n",
    "dnorm_wrt_dC = 2 * torch.einsum(\"ac,kc->kac\", occupied_orbitals_kronecker, coefficients)"
   ]
  },
  {
   "cell_type": "markdown",
   "metadata": {
    "datalore": {
     "hide_input_from_viewers": true,
     "hide_output_from_viewers": true,
     "node_id": "urdg78pCr6YcvsWCfnBD6x",
     "type": "MD"
    }
   },
   "source": [
    "#### Calculating $\\frac{\\partial \\vec{\\Phi}^{n}(\\textbf{C})}{\\partial \\vec{\\epsilon}}$\n",
    "$$\\frac{\\partial \\Phi^{n}_{a}(\\textbf{C})}{\\partial \\epsilon_b} = 0$$"
   ]
  },
  {
   "cell_type": "code",
   "execution_count": 21,
   "metadata": {
    "datalore": {
     "hide_input_from_viewers": true,
     "hide_output_from_viewers": true,
     "node_id": "UQE5aNTCww7ePqalipH3Pg",
     "type": "CODE"
    }
   },
   "outputs": [],
   "source": [
    "dnorm_wrt_depsilon = torch.zeros((noccorb, noccorb))"
   ]
  },
  {
   "cell_type": "markdown",
   "metadata": {
    "datalore": {
     "hide_input_from_viewers": true,
     "hide_output_from_viewers": true,
     "node_id": "cXqmY0ErS20gavbrC8p9xu",
     "type": "MD"
    }
   },
   "source": [
    "Derivatives from Kohn-Sham equations:\n",
    "\n",
    "#### Calculating $\\frac{\\partial {\\Phi}^{KS}(\\textbf{C};\\;\\vec{\\theta})}{\\partial \\textbf{C}}$\n",
    "\n",
    "$$G_{Cou, ijkl} = \\iint b_i(\\vec{r}) \\frac{b_k(\\vec{r'})b_l(\\vec{r'})}{|\\vec{r}-\\vec{r'}|} b_j(\\vec{r})d\\vec{r'}d\\vec{r}$$\n",
    "$$G_{XC, ijkl} = \n",
    "\\int b_i(\\vec{r}) b_k(\\vec{r}) \\frac{\\partial V_{XC}[\\rho](\\vec{r};\\;\\vec{\\theta})}{\\partial \\rho(\\vec{r})}b_l(\\vec{r})b_j(\\vec{r})d\\vec{r}$$\n",
    "$$\\frac{\\partial \\Phi^{KS}_{ia}(\\textbf{C};\\;\\vec{\\theta})}{\\partial C_{ck}} = \n",
    "(F_{ik}[\\rho](\\vec{\\theta}) - \\epsilon_c\\delta_{ik})\\delta_{ac} +\n",
    "2f_c\\sum_j \\sum_{l}C_{cl}\\left(G_{Cou,ijkl} + G_{XC,ijkl}\\right)C_{aj}\n",
    "$$"
   ]
  },
  {
   "cell_type": "markdown",
   "metadata": {
    "datalore": {
     "hide_input_from_viewers": true,
     "hide_output_from_viewers": true,
     "node_id": "CAK9js9lXIxdnUff3aeb1D",
     "type": "MD"
    }
   },
   "source": [
    "First term:"
   ]
  },
  {
   "cell_type": "code",
   "execution_count": 22,
   "metadata": {
    "datalore": {
     "hide_input_from_viewers": true,
     "hide_output_from_viewers": true,
     "node_id": "cyjnsCT5dISFvyhqMGRB4g",
     "type": "CODE"
    }
   },
   "outputs": [],
   "source": [
    "all_orbitals_kronecker = torch.eye(nallorb)\n",
    "dKS_wrt_dC_first_term = torch.einsum(\n",
    "                                            \"ik,ac->iakc\",\n",
    "                                            fockian,\n",
    "                                            occupied_orbitals_kronecker\n",
    "                                        )\n",
    "dKS_wrt_dC_first_term -= torch.einsum(\n",
    "                                            \"c,ik,ac->iakc\",\n",
    "                                            energies,\n",
    "                                            all_orbitals_kronecker,\n",
    "                                            occupied_orbitals_kronecker\n",
    "                                        )"
   ]
  },
  {
   "cell_type": "markdown",
   "metadata": {
    "datalore": {
     "hide_input_from_viewers": true,
     "hide_output_from_viewers": true,
     "node_id": "xnUyHKSTYp8BtijuCDo7l3",
     "type": "MD"
    }
   },
   "source": [
    "Second term (fourDtensor loses symmetry of XC-tensor):"
   ]
  },
  {
   "cell_type": "code",
   "execution_count": 23,
   "metadata": {
    "datalore": {
     "hide_input_from_viewers": true,
     "hide_output_from_viewers": true,
     "node_id": "okGj4baXcZIt7vfiD2Arft",
     "type": "CODE"
    }
   },
   "outputs": [
    {
     "name": "stdout",
     "output_type": "stream",
     "text": [
      "density info torch.Size([52366])\n",
      "started the four term integral computation for torch.Size([52366, 13])...\n"
     ]
    }
   ],
   "source": [
    "four_center_elrep_tensor = torch.einsum(\n",
    "                \"ijkl,lc,ja->iakc\",\n",
    "                qc._engine.hamilton.el_mat.detach().clone(),\n",
    "                coefficients,\n",
    "                coefficients\n",
    "            )\n",
    "\n",
    "def get_dvxc_wrt_dro_xc(xc, densinfo):\n",
    "    # mark the densinfo components as requiring grads\n",
    "    with xc._enable_grad_densinfo(densinfo):\n",
    "        with torch.enable_grad():\n",
    "            edensity = xc.get_edensityxc(densinfo)  # (*BD, ngrid)\n",
    "        grad_outputs = torch.ones_like(edensity)\n",
    "        # print(f'edensity {edensity.shape}')\n",
    "        grad_enabled = torch.is_grad_enabled()\n",
    "\n",
    "        if not isinstance(densinfo, ValGrad):  # polarized case\n",
    "            raise NotImplementedError(\"polarized case is not implemented\")\n",
    "        else:  # unpolarized case\n",
    "            if xc.family == 1:  # LDA\n",
    "                # Here we are taking autograd.grad derivative twice:\n",
    "                potinfo, = torch.autograd.grad(\n",
    "                    edensity, densinfo.value, create_graph=grad_enabled,\n",
    "                    grad_outputs=grad_outputs)\n",
    "                # print(f'potinfo {potinfo.shape}')\n",
    "                derivative_of_potinfo_wrt_ro, = torch.autograd.grad(\n",
    "                    potinfo, densinfo.value, grad_outputs=grad_outputs)\n",
    "                return ValGrad(value=derivative_of_potinfo_wrt_ro)\n",
    "            else:  # GGA and others\n",
    "                raise NotImplementedError(\"Default dvxc wrt dro for this family is not implemented\")\n",
    "\n",
    "@nb.njit(parallel=True)\n",
    "def _four_term_integral(m, b, o):\n",
    "    N = b.shape[1]  # size of basis set\n",
    "    n = o.shape[1]  # number of occupied orbitals\n",
    "    R = m.shape[0]  # size of grid\n",
    "    res = numpy.zeros((N, n, N, n))\n",
    "    for i in nb.prange(N):\n",
    "        for a in range(n):\n",
    "            for k in range(i+1):\n",
    "                for c in range(a+1):\n",
    "                    for r in range(R):\n",
    "                        value = m[r] * b[r, i] * o[r, a] * b[r, k] * o[r, c]\n",
    "                        res[i, a, k, c] += value\n",
    "                        if a != c:\n",
    "                            res[i, c, k, a] += value\n",
    "                            if i != k:\n",
    "                                res[k, a, i, c] += value\n",
    "                                res[k, c, i, a] += value\n",
    "                        elif i != k:\n",
    "                            res[k, a, i, c] += value\n",
    "    return res\n",
    "\n",
    "def get_dvxc_wrt_dro_from_derivative_of_potinfo_wrt_ro(hamiltonian, derivative_of_potinfo_wrt_ro: ValGrad):\n",
    "    print(f'started the four term integral computation for {hamiltonian.basis.shape}...')\n",
    "    molecular_orbitals_at_grid = hamiltonian.basis @ coefficients\n",
    "    derivative_of_potinfo_wrt_ro_dvolume = derivative_of_potinfo_wrt_ro.value * hamiltonian.dvolume\n",
    "    mat = _four_term_integral(derivative_of_potinfo_wrt_ro_dvolume.numpy(),\n",
    "                                hamiltonian.basis.numpy(),\n",
    "                                molecular_orbitals_at_grid.numpy())\n",
    "    return torch.from_numpy(mat)\n",
    "\n",
    "def construct_vxc_derivative_tensor(hamiltonian, dm):\n",
    "    densinfo = SpinParam.apply_fcn(lambda dm_: hamiltonian._dm2densinfo(dm_), dm)  # value: (*BD, ngrid)\n",
    "    print(f'density info {densinfo.value.shape}')\n",
    "    derivative_of_potinfo_wrt_ro = get_dvxc_wrt_dro_xc(hamiltonian.xc, densinfo)  # value: (*BD, ngrid)\n",
    "    dvxc_wrt_dro = get_dvxc_wrt_dro_from_derivative_of_potinfo_wrt_ro(hamiltonian,\n",
    "                                                                                derivative_of_potinfo_wrt_ro)\n",
    "    return dvxc_wrt_dro\n",
    "\n",
    "fourDtensor = four_center_elrep_tensor + \\\n",
    "                construct_vxc_derivative_tensor(qc._engine.hamilton, dm)\n",
    "dKS_wrt_dC_second_term = 2 * torch.einsum(\"c,iakc->iakc\", orboccs, fourDtensor)"
   ]
  },
  {
   "cell_type": "code",
   "execution_count": 24,
   "metadata": {
    "datalore": {
     "hide_input_from_viewers": true,
     "hide_output_from_viewers": true,
     "node_id": "4vZLwpPfc6cuwOqGARRE3w",
     "type": "CODE"
    }
   },
   "outputs": [],
   "source": [
    "dKS_wrt_dC = dKS_wrt_dC_first_term + dKS_wrt_dC_second_term"
   ]
  },
  {
   "cell_type": "markdown",
   "metadata": {
    "datalore": {
     "hide_input_from_viewers": true,
     "hide_output_from_viewers": true,
     "node_id": "jtGrbusSbOws951HDxqpeb",
     "type": "MD"
    }
   },
   "source": [
    "#### Calculating $\\frac{\\partial \\Phi^{KS}(\\textbf{C};\\;\\vec{\\theta})}{\\partial \\vec{\\epsilon}}$\n",
    "\n",
    "$$\\frac{\\partial \\Phi^{KS}_{ia}(\\textbf{C};\\;\\vec{\\theta})}{\\partial \\epsilon_{c}} = -\\delta_{ac}C_{ai}$$"
   ]
  },
  {
   "cell_type": "code",
   "execution_count": 25,
   "metadata": {
    "datalore": {
     "hide_input_from_viewers": true,
     "hide_output_from_viewers": true,
     "node_id": "vy6yaViAwTrZHgXv8dqIZB",
     "type": "CODE"
    }
   },
   "outputs": [],
   "source": [
    "dKS_wrt_depsilon = -1 * torch.einsum(\n",
    "                                            \"ac,ia->iac\",\n",
    "                                            occupied_orbitals_kronecker,\n",
    "                                            coefficients\n",
    "                                        )"
   ]
  },
  {
   "cell_type": "markdown",
   "metadata": {
    "datalore": {
     "hide_input_from_viewers": true,
     "hide_output_from_viewers": true,
     "node_id": "9GO05Nbu6khQcopKEjArsJ",
     "type": "MD"
    }
   },
   "source": [
    "Now, we are ready to calculate the adjoint vector.\n",
    "\n",
    "#### Concatenate tensors:\n",
    "\n",
    "$$\\left( \\frac{\\partial E}{\\partial \\vec{X}} \\right)_{N_{orb}j+c} =  \\begin{cases}\n",
    "   \\frac{\\partial E}{\\partial С_{cj}} &\\text{if $0 \\le j < N_{bas}$} \\\\\n",
    "   \\frac{\\partial E}{\\partial \\epsilon_{c}} &\\text{if $j = N_{bas}$}\n",
    " \\end{cases}$$"
   ]
  },
  {
   "cell_type": "code",
   "execution_count": 26,
   "metadata": {
    "datalore": {
     "hide_input_from_viewers": true,
     "hide_output_from_viewers": true,
     "node_id": "ySmwdfmG8CnP8ZnJfH47VR",
     "type": "CODE"
    }
   },
   "outputs": [],
   "source": [
    "dE_wrt_dX = torch.cat((dE_wrt_dC, dE_wrt_depsilon.unsqueeze(-1)), 1) \\\n",
    "            .t().reshape(-1, )"
   ]
  },
  {
   "cell_type": "markdown",
   "metadata": {
    "datalore": {
     "hide_input_from_viewers": true,
     "hide_output_from_viewers": true,
     "node_id": "cO91MjD3Pkmp1LOJR33XQi",
     "type": "MD"
    }
   },
   "source": [
    "$$\\left( \\frac{\\partial \\vec{\\Phi}}{\\partial \\vec{X}} \\right)_{N_{orb}i+a,N_{orb}j+c} =  \\begin{cases}\n",
    "   \\frac{\\partial \\Phi^{KS}_{ia}}{\\partial С_{cj}} &\\text{if $0 \\le i < N_{bas}$ and $0 \\le j < N_{bas}$} \\\\\n",
    "   \\frac{\\partial \\Phi^{KS}_{ia}}{\\partial \\epsilon_{c}} &\\text{if $0 \\le i < N_{bas}$ and $j = N_{bas}$} \\\\\n",
    "   \\frac{\\partial \\Phi^{n}_{a}}{\\partial С_{cj}} &\\text{if $i = N_{bas}$ and $0 \\le j < N_{bas}$} \\\\\n",
    "   \\frac{\\partial \\Phi^{n}_{a}}{\\partial \\epsilon_{c}} &\\text{if $i = N_{bas}$ and $j = N_{bas}$}\n",
    " \\end{cases}$$"
   ]
  },
  {
   "cell_type": "code",
   "execution_count": 27,
   "metadata": {
    "datalore": {
     "hide_input_from_viewers": true,
     "hide_output_from_viewers": true,
     "node_id": "udf51Zn5CL50RIFXlsSAcC",
     "type": "CODE"
    }
   },
   "outputs": [],
   "source": [
    "N = nallorb * noccorb\n",
    "\n",
    "upper = torch.cat((\n",
    "                    dKS_wrt_dC.reshape((N, N)),\n",
    "                    dKS_wrt_depsilon.reshape((N, noccorb))\n",
    "                ), 1)\n",
    "lower = torch.cat((\n",
    "                    dnorm_wrt_dC.reshape(N, noccorb).t(),\n",
    "                    dnorm_wrt_depsilon\n",
    "                ), 1)\n",
    "dY_wrt_dX = torch.cat((upper, lower), 0)"
   ]
  },
  {
   "cell_type": "markdown",
   "metadata": {
    "datalore": {
     "hide_input_from_viewers": true,
     "hide_output_from_viewers": true,
     "node_id": "2xfxuj6VpB6O8luKgS3nf2",
     "type": "MD"
    }
   },
   "source": [
    "#### Find the adjoint vector:"
   ]
  },
  {
   "cell_type": "code",
   "execution_count": 28,
   "metadata": {
    "datalore": {
     "hide_input_from_viewers": true,
     "hide_output_from_viewers": true,
     "node_id": "WNqSkggDO4en1bkMpAY77a",
     "type": "CODE"
    }
   },
   "outputs": [],
   "source": [
    "adjoint = torch.linalg.solve(dY_wrt_dX, dE_wrt_dX)"
   ]
  },
  {
   "cell_type": "markdown",
   "metadata": {
    "datalore": {
     "hide_input_from_viewers": true,
     "hide_output_from_viewers": true,
     "node_id": "ucGgEk3BsXGhQbErkt63mm",
     "type": "MD"
    }
   },
   "source": [
    "Now, we calculate derivatives with respect to parameters:\n",
    "\n",
    "#### Derivative from energy:\n",
    "$$ \\frac{\\partial E[\\rho](\\vec{\\theta})}{\\partial \\vec{\\theta}} = \n",
    " \\int  \\frac{\\partial \\left(\\rho(\\vec{r})\\epsilon_{XC}[\\rho](\\vec{r};\\;\\vec{\\theta})\\right)}{\\partial \\vec{\\theta}}d\\vec{r} \n",
    "$$\n",
    "so we just can put $\\frac{\\partial}{\\partial \\vec{\\theta}}\\left( \\rho(\\vec{r})\\epsilon_{XC}[\\rho](\\vec{r};\\;\\vec{\\theta}) \\right)$ instead of $\\rho(\\vec{r})\\epsilon_{XC}[\\rho](\\vec{r};\\;\\vec{\\theta})$ to DQC calculation."
   ]
  },
  {
   "cell_type": "code",
   "execution_count": 29,
   "metadata": {
    "datalore": {
     "hide_input_from_viewers": true,
     "hide_output_from_viewers": true,
     "node_id": "zYWNSaTMFQp8JjeevxctVS",
     "type": "CODE"
    }
   },
   "outputs": [],
   "source": [
    "def construct_dexc_wrt_dtheta(hamiltonian, dm, parameter_number):\n",
    "    densinfo = SpinParam.apply_fcn(\n",
    "        lambda dm_: hamiltonian._dm2densinfo(dm_), dm)  # (spin) value: (*BD, nr)\n",
    "    edens_derivative = hamiltonian.xc.get_edensityxc_derivative(densinfo, parameter_number).detach()  # (*BD, nr)\n",
    "    return torch.sum(hamiltonian.grid.get_dvolume() * edens_derivative, dim=-1)\n",
    "\n",
    "number_of_parameters = qc._engine.hamilton.xc.number_of_parameters\n",
    "list_of_tensors = []\n",
    "for parameter_number in range(number_of_parameters):\n",
    "    current_tensor = construct_dexc_wrt_dtheta(qc._engine.hamilton, dm, parameter_number)\n",
    "    list_of_tensors.append(current_tensor.unsqueeze(-1))\n",
    "dE_wrt_dtheta = torch.cat(list_of_tensors, 0)"
   ]
  },
  {
   "cell_type": "markdown",
   "metadata": {
    "datalore": {
     "hide_input_from_viewers": true,
     "hide_output_from_viewers": true,
     "node_id": "Mn9X3YlCem0yy7EvZFWOAi",
     "type": "MD"
    }
   },
   "source": [
    "#### Derivative from normalization equations:\n",
    "\n",
    "$$\\frac{\\partial \\Phi^{n}_{a}(\\textbf{C})}{\\partial\\vec{\\theta}}= 0$$"
   ]
  },
  {
   "cell_type": "code",
   "execution_count": 30,
   "metadata": {
    "datalore": {
     "hide_input_from_viewers": true,
     "hide_output_from_viewers": true,
     "node_id": "fdyB2qDrTjTGgEab8sxsUP",
     "type": "CODE"
    }
   },
   "outputs": [],
   "source": [
    "number_of_parameters = qc._engine.hamilton.xc.number_of_parameters\n",
    "dnorm_wrt_dtheta = torch.zeros(noccorb, number_of_parameters)"
   ]
  },
  {
   "cell_type": "markdown",
   "metadata": {
    "datalore": {
     "hide_input_from_viewers": true,
     "hide_output_from_viewers": true,
     "node_id": "62IyQN4rHloTAVdXj60CTd",
     "type": "MD"
    }
   },
   "source": [
    "#### Derivative from Kohn-Sham equations:\n",
    "\n",
    "$$\\frac{\\partial \\Phi^{KS}_{ia}(\\textbf{C};\\;\\vec{\\theta})}{\\partial \\vec{\\theta}} =\n",
    "\\sum_j C_{aj}\\int b_i(\\vec{r}) \\frac{\\partial V_{XC}[\\rho](\\vec{r};\\;\\vec{\\theta})}{\\partial \\vec{\\theta}} b_j(\\vec{r})d\\vec{r}$$\n",
    "\n",
    "As we know, $$V_{XC}[\\rho](\\vec{r};\\;\\vec{\\theta}) = \\frac{\\delta E_{XC}[\\rho]}{\\delta\\rho(\\vec{r})} = \\frac{\\delta \\left(\\rho(\\vec{r})\\epsilon_{XC}[\\rho](\\vec{r};\\;\\vec{\\theta})\\right)}{\\delta\\rho(\\vec{r})}$$\n",
    "So\n",
    "\n",
    "$$\\frac{\\partial \\Phi^{KS}_{ia}(\\textbf{C};\\;\\vec{\\theta})}{\\partial \\vec{\\theta}} =\n",
    "\\sum_j C_{aj}\\int b_i(\\vec{r}) \\frac{\\partial}{\\partial \\vec{\\theta}}\\frac{\\delta\\left(\\rho(\\vec{r})\\epsilon_{XC}[\\rho](\\vec{r};\\;\\vec{\\theta})\\right)}{\\delta\\rho(\\vec{r})} b_j(\\vec{r})d\\vec{r} = \n",
    "\\sum_j C_{aj}\\int b_i(\\vec{r}) \\frac{\\delta}{\\delta\\rho(\\vec{r})} \\frac{\\partial \\left(\\rho(\\vec{r})\\epsilon_{XC}[\\rho](\\vec{r};\\;\\vec{\\theta})\\right)}{\\partial \\vec{\\theta}} b_j(\\vec{r})d\\vec{r}\n",
    "$$\n",
    "It means, we can use $\\frac{\\partial}{\\partial \\vec{\\theta}}\\left( \\rho(\\vec{r})\\epsilon_{XC}[\\rho](\\vec{r};\\;\\vec{\\theta}) \\right)$ instead of $\\rho(\\vec{r})\\epsilon_{XC}[\\rho](\\vec{r};\\;\\vec{\\theta})$ in DQC function`get_vxc()`and get suitable result. This function takes densinfo and takes functional derivative with respect to density."
   ]
  },
  {
   "cell_type": "code",
   "execution_count": 31,
   "metadata": {
    "datalore": {
     "hide_input_from_viewers": true,
     "hide_output_from_viewers": true,
     "node_id": "bfDx1QiGsQl0xLImAEspk2",
     "type": "CODE"
    }
   },
   "outputs": [],
   "source": [
    "def get_dvxc_wrt_dtheta(xc, densinfo, parameter_number):\n",
    "    # mark the densinfo components as requiring grads\n",
    "    with xc._enable_grad_densinfo(densinfo):\n",
    "        with torch.enable_grad():\n",
    "            edensity_derivative = xc.get_edensityxc_derivative(densinfo, parameter_number)  # (*BD, nr)\n",
    "        grad_outputs = torch.ones_like(edensity_derivative)\n",
    "        grad_enabled = torch.is_grad_enabled()\n",
    "\n",
    "        if not isinstance(densinfo, ValGrad):  # polarized case\n",
    "            raise NotImplementedError(\"polarized case is not implemented\")\n",
    "        else:  # unpolarized case\n",
    "            if xc.family == 1:  # LDA\n",
    "                dedn, = torch.autograd.grad(\n",
    "                    edensity_derivative, densinfo.value, create_graph=grad_enabled,\n",
    "                    grad_outputs=grad_outputs)\n",
    "\n",
    "                return ValGrad(value=dedn)\n",
    "            else:  # GGA and others\n",
    "                raise NotImplementedError(\"Default dvxc wrt dro for this family is not implemented\")\n",
    "\n",
    "def contruct_dvxc_wrt_dtheta(hamiltonian, dm, parameter_number):\n",
    "    densinfo = SpinParam.apply_fcn(lambda dm_: hamiltonian._dm2densinfo(dm_), dm)  # value: (*BD, nr)\n",
    "    potinfo = get_dvxc_wrt_dtheta(hamiltonian.xc, densinfo, parameter_number)  # value: (*BD, nr)\n",
    "    vxc_linop = hamiltonian._get_vxc_from_potinfo(potinfo)\n",
    "    return vxc_linop\n",
    "\n",
    "number_of_parameters = qc._engine.hamilton.xc.number_of_parameters\n",
    "list_of_tensors = []\n",
    "for parameter_number in range(number_of_parameters):\n",
    "    current_tensor = contruct_dvxc_wrt_dtheta(qc._engine.hamilton, dm, parameter_number)\n",
    "    list_of_tensors.append(current_tensor.fullmatrix().detach().unsqueeze(-1))\n",
    "dvxc_wrt_dtheta = torch.cat(list_of_tensors, 2)"
   ]
  },
  {
   "cell_type": "code",
   "execution_count": 32,
   "metadata": {
    "datalore": {
     "hide_input_from_viewers": true,
     "hide_output_from_viewers": true,
     "node_id": "Q5F0mK3UabAu9ZkW9BYh81",
     "type": "CODE"
    }
   },
   "outputs": [],
   "source": [
    "dKS_wrt_dtheta = torch.einsum(\"ijt,ja->iat\", dvxc_wrt_dtheta, coefficients)"
   ]
  },
  {
   "cell_type": "markdown",
   "metadata": {
    "datalore": {
     "hide_input_from_viewers": true,
     "hide_output_from_viewers": true,
     "node_id": "WQhbjn8UQxQbbXTIEnmGdn",
     "type": "MD"
    }
   },
   "source": [
    "#### Concatenate derivatives with respect to parameters:"
   ]
  },
  {
   "cell_type": "code",
   "execution_count": 34,
   "metadata": {
    "datalore": {
     "hide_input_from_viewers": true,
     "hide_output_from_viewers": true,
     "node_id": "hWZr13HkkeQTQbRNrHw3EM",
     "type": "CODE"
    }
   },
   "outputs": [],
   "source": [
    "dY_wrt_dtheta = torch.cat((\n",
    "                            dKS_wrt_dtheta.reshape(N, number_of_parameters),\n",
    "                            dnorm_wrt_dtheta\n",
    "                        ), 0)"
   ]
  },
  {
   "cell_type": "markdown",
   "metadata": {
    "datalore": {
     "hide_input_from_viewers": true,
     "hide_output_from_viewers": true,
     "node_id": "MYmOgKACNmZe0osrlwwSt0",
     "type": "MD"
    }
   },
   "source": [
    "#### Total derivative:"
   ]
  },
  {
   "cell_type": "code",
   "execution_count": 35,
   "metadata": {
    "datalore": {
     "hide_input_from_viewers": true,
     "hide_output_from_viewers": true,
     "node_id": "uGZ3aWvPinonOjeKOCzIW0",
     "type": "CODE"
    }
   },
   "outputs": [
    {
     "name": "stdout",
     "output_type": "stream",
     "text": [
      "tensor([ 10.9490, -11.0801], dtype=torch.float64)\n"
     ]
    }
   ],
   "source": [
    "derivative = dE_wrt_dtheta - torch.matmul(adjoint, dY_wrt_dtheta)\n",
    "print(derivative)"
   ]
  },
  {
   "cell_type": "markdown",
   "metadata": {
    "datalore": {
     "hide_input_from_viewers": true,
     "hide_output_from_viewers": true,
     "node_id": "vRYtdVxp2SNXg82o1Feolt",
     "type": "MD"
    }
   },
   "source": [
    "#### Comparison of adjoint derivatives method with existing methods"
   ]
  },
  {
   "cell_type": "code",
   "execution_count": 36,
   "metadata": {
    "datalore": {
     "hide_input_from_viewers": true,
     "hide_output_from_viewers": true,
     "node_id": "kN8tzGJftinTihqcAURdeo",
     "type": "CODE"
    }
   },
   "outputs": [
    {
     "name": "stdout",
     "output_type": "stream",
     "text": [
      "For water:\n",
      "dE/da = 10.94897919797799\n",
      "dE/dp = -11.080577293043348\n"
     ]
    }
   ],
   "source": [
    "dea_fd, dep_fd, _ = finite_differences_calculator_of_derivatives(dqc_nograd_custom_LDA_calculator_of_energy, aj_mol, LDA_factor, LDA_power)\n",
    "print(f\"For {mol_name_}:\")\n",
    "print(f\"dE/da = {dea_fd}\")\n",
    "print(f\"dE/dp = {dep_fd}\")"
   ]
  },
  {
   "cell_type": "code",
   "execution_count": 37,
   "metadata": {},
   "outputs": [
    {
     "name": "stdout",
     "output_type": "stream",
     "text": [
      "For water:\n",
      "dE/da = 10.94897598930493\n",
      "dE/dp = -11.080098561164473\n"
     ]
    }
   ],
   "source": [
    "dea_dqc_autograd, dep_dqc_autograd, _ = dqc_autograd_calculator_of_derivatives(aj_mol, LDA_factor, LDA_power)\n",
    "print(f\"For {mol_name_}:\")\n",
    "print(f\"dE/da = {dea_dqc_autograd}\")\n",
    "print(f\"dE/dp = {dep_dqc_autograd}\")"
   ]
  },
  {
   "cell_type": "markdown",
   "metadata": {
    "datalore": {
     "hide_input_from_viewers": true,
     "hide_output_from_viewers": true,
     "node_id": "qPKltQaHschZbAKnHbepXO",
     "type": "MD"
    }
   },
   "source": [
    "When calculating derivatives most of the time is spent computing calculations leading to `torch.matmul(adjoint, dY_wrt_dtheta)`, including one four-term integral. This is extremely expensive, but if we print out the result of these calculations:"
   ]
  },
  {
   "cell_type": "code",
   "execution_count": 38,
   "metadata": {
    "datalore": {
     "hide_input_from_viewers": true,
     "hide_output_from_viewers": true,
     "node_id": "OXqMaOVqdBauqLzVmpj8JL",
     "type": "CODE"
    }
   },
   "outputs": [
    {
     "data": {
      "text/plain": [
       "tensor([-1.7746e-14,  6.5266e-15], dtype=torch.float64)"
      ]
     },
     "execution_count": 38,
     "metadata": {},
     "output_type": "execute_result"
    }
   ],
   "source": [
    "torch.matmul(adjoint, dY_wrt_dtheta)"
   ]
  },
  {
   "cell_type": "markdown",
   "metadata": {
    "datalore": {
     "hide_input_from_viewers": true,
     "hide_output_from_viewers": true,
     "node_id": "v6lLUYrE5D2KhVsKaOO1IJ",
     "type": "MD"
    }
   },
   "source": [
    "It could be seen that it is within margin of error from machine zero. In fact, this is expected from the Hellmann-Feynmann theorem in quantum mechanics and in our article we show it still holds exactly in the discrete case of Roothaan's equations. Therefore a majority of calculations could be omitted entirely.\n",
    "\n",
    "With this, we could rewrite the code, now with PySCF, to calculate the derivatives optimally: "
   ]
  },
  {
   "cell_type": "markdown",
   "metadata": {
    "datalore": {
     "hide_input_from_viewers": true,
     "hide_output_from_viewers": true,
     "node_id": "agFQLsE7RgKtOq8cTIEUgn",
     "type": "MD"
    }
   },
   "source": [
    "### Optimal implementation of the adjoint method with PySCF\n",
    "\n",
    "We are only required to calculate energy partial derivatives with respect to problem parameters as described above.\n",
    "It is relatively straightforward as we know the exact for of LDA functional:"
   ]
  },
  {
   "cell_type": "code",
   "execution_count": 39,
   "metadata": {},
   "outputs": [],
   "source": [
    "@nb.njit\n",
    "def pyscf_eval_xc_wrt_a(grids_weights, rho, p):\n",
    "    N = grids_weights.shape[0]\n",
    "    s = 0.0\n",
    "    for i in range(N):\n",
    "        s += grids_weights[i] * (rho[i]**p)\n",
    "    return s\n",
    "\n",
    "@nb.njit\n",
    "def pyscf_eval_xc_wrt_p(grids_weights, rho, a, p):\n",
    "    N = grids_weights.shape[0]\n",
    "    s = 0.0\n",
    "    for i in range(N):\n",
    "        lg_rho_i = numpy.log(rho[i]) if rho[i] > 0 else 0.0\n",
    "        s += grids_weights[i] * lg_rho_i * (rho[i]**p)\n",
    "    return a*s"
   ]
  },
  {
   "cell_type": "code",
   "execution_count": 40,
   "metadata": {},
   "outputs": [],
   "source": [
    "def decorate_pyscf_rks_object(rks):\n",
    "    rks.grids.build(with_non0tab=True)\n",
    "    rks.grids.rho = numpy.empty((rks.grids.coords.shape[0],))\n",
    "    rks.grids.number_of_written_rho_values = 0\n",
    "   \n",
    "    def cached_gen_rho_evaluator(mol, dms, hermi=0, with_lapl=True, grids=None):\n",
    "        make_rho_clear, ndms, nao = dft.numint.NumInt()._gen_rho_evaluator(mol, dms, hermi=0, with_lapl=True, grids=None)\n",
    "        def make_rho_cached(idm, ao, sindex, xctype):\n",
    "            rho = make_rho_clear(idm, ao, sindex, xctype)\n",
    "            \n",
    "            if rks.grids.number_of_written_rho_values == rks.grids.rho.shape[0]:\n",
    "                rks.grids.rho = numpy.empty((rks.grids.coords.shape[0],))\n",
    "                rks.grids.number_of_written_rho_values = 0\n",
    "        \n",
    "            n = rks.grids.number_of_written_rho_values\n",
    "            rks.grids.rho[n:n+rho.shape[0]] = rho\n",
    "            rks.grids.number_of_written_rho_values += rho.shape[0]\n",
    "    \n",
    "            return rho\n",
    "        return make_rho_cached, ndms, nao\n",
    "\n",
    "    rks._numint._gen_rho_evaluator = cached_gen_rho_evaluator"
   ]
  },
  {
   "cell_type": "code",
   "execution_count": 41,
   "metadata": {},
   "outputs": [],
   "source": [
    "def pyscf_adjoint_partial_derivatives_(calc_scf, a, p):\n",
    "    grids_weights = calc_scf.grids.weights\n",
    "    rho = calc_scf.grids.rho\n",
    "\n",
    "    de_da = pyscf_eval_xc_wrt_a(grids_weights, rho, p)\n",
    "    de_dp = pyscf_eval_xc_wrt_p(grids_weights, rho, a, p)\n",
    "    return de_da, de_dp\n",
    "\n",
    "\n",
    "def pyscf_adjoint_calculator_of_derivatives(mol_, a = LDA_factor, p = LDA_power):\n",
    "    scf_mol = gto.M(atom=mol_, basis=\"6-31G\", unit=\"Bohr\", verbose=0)\n",
    "    #Timer \n",
    "    start = time.time()\n",
    "    calc_scf = dft.RKS(scf_mol)\n",
    "    calc_scf.xc = \"lda,\"\n",
    "\n",
    "    decorate_pyscf_rks_object(calc_scf)\n",
    "    \n",
    "    energy = calc_scf.kernel()\n",
    "\n",
    "    de_da, de_dp = pyscf_adjoint_partial_derivatives_(calc_scf, a, p)\n",
    "        \n",
    "    dur = time.time() - start\n",
    "    \n",
    "    return de_da, de_dp, dur"
   ]
  },
  {
   "cell_type": "markdown",
   "metadata": {
    "datalore": {
     "hide_input_from_viewers": true,
     "hide_output_from_viewers": true,
     "node_id": "ipuFdlwmyGdslpwgLzeyhf",
     "type": "MD"
    }
   },
   "source": [
    "#### Comparison of optimal derivatives method with existing methods"
   ]
  },
  {
   "cell_type": "code",
   "execution_count": 43,
   "metadata": {
    "datalore": {
     "hide_input_from_viewers": true,
     "hide_output_from_viewers": true,
     "node_id": "5GuoHEv6WP9UDWCOUkmyGF",
     "type": "CODE"
    }
   },
   "outputs": [],
   "source": [
    "derivative_correctness_results = {\n",
    "    \"fd_of_pyscf_custom\":     {},\n",
    "    \"fd_of_dqc_nograd\":       {},\n",
    "    \"dqc_autograd\":           {},\n",
    "    \"pyscf_adjoint\":          {}\n",
    "}\n",
    "\n",
    "for data_of_method in derivative_correctness_results.values():\n",
    "    for mol_name in molecules_for_correctness_tests:\n",
    "        data_of_method[mol_name] = {}"
   ]
  },
  {
   "cell_type": "code",
   "execution_count": 45,
   "metadata": {
    "datalore": {
     "hide_input_from_viewers": true,
     "hide_output_from_viewers": true,
     "node_id": "QoZufoWSgWiMVPZcFHDQE5",
     "type": "CODE"
    }
   },
   "outputs": [
    {
     "name": "stdout",
     "output_type": "stream",
     "text": [
      "For h2 molecule and fd_of_pyscf_custom method: de_wrt_da=0.7483589556446796, de_wrt_dp=1.4715019695410447, duration=1.9113171100616455 s\n",
      "For h2 molecule and fd_of_dqc_nograd method: de_wrt_da=0.7483576357494067, de_wrt_dp=1.4715006613874593, duration=0.2929568290710449 s\n",
      "For h2 molecule and dqc_autograd method: de_wrt_da=0.7483571267066679, de_wrt_dp=1.4715320100701774, duration=0.12897109985351562 s\n",
      "For h2 molecule and pyscf_adjoint method: de_wrt_da=0.7483584765405509, de_wrt_dp=1.4715333107820578, duration=0.5378336906433105 s\n",
      "---><---\n",
      "For n2 molecule and fd_of_pyscf_custom method: de_wrt_da=16.018396594273973, de_wrt_dp=-17.006171933076075, duration=2.232201337814331 s\n",
      "For n2 molecule and fd_of_dqc_nograd method: de_wrt_da=16.018380154479576, de_wrt_dp=-17.00610110972889, duration=0.4669187068939209 s\n",
      "For n2 molecule and dqc_autograd method: de_wrt_da=16.018376599129727, de_wrt_dp=-17.00545250447672, duration=0.18952465057373047 s\n",
      "For n2 molecule and pyscf_adjoint method: de_wrt_da=16.018393025824935, de_wrt_dp=-17.00552333549798, duration=0.835087776184082 s\n",
      "---><---\n",
      "For water molecule and fd_of_pyscf_custom method: de_wrt_da=10.948997123203245, de_wrt_dp=-11.080604622648593, duration=2.8772201538085938 s\n",
      "For water molecule and fd_of_dqc_nograd method: de_wrt_da=10.94897919797799, de_wrt_dp=-11.080577293043348, duration=0.6421875953674316 s\n",
      "For water molecule and dqc_autograd method: de_wrt_da=10.94897598930493, de_wrt_dp=-11.080098561164473, duration=0.26048898696899414 s\n",
      "For water molecule and pyscf_adjoint method: de_wrt_da=10.948995157080823, de_wrt_dp=-11.080127954412378, duration=0.9359922409057617 s\n",
      "---><---\n",
      "For ammonia molecule and fd_of_pyscf_custom method: de_wrt_da=9.335451429671554, de_wrt_dp=-6.248094175376195, duration=3.1358399391174316 s\n",
      "For ammonia molecule and fd_of_dqc_nograd method: de_wrt_da=9.335447769970134, de_wrt_dp=-6.248103162320717, duration=0.6743063926696777 s\n",
      "For ammonia molecule and dqc_autograd method: de_wrt_da=9.335445167322911, de_wrt_dp=-6.247739839367762, duration=0.30998706817626953 s\n",
      "For ammonia molecule and pyscf_adjoint method: de_wrt_da=9.335449100145219, de_wrt_dp=-6.2477312193439065, duration=0.8176605701446533 s\n",
      "---><---\n",
      "For benzene molecule and fd_of_pyscf_custom method: de_wrt_da=48.74785224263442, de_wrt_dp=-40.54685910546141, duration=12.494086980819702 s\n",
      "For benzene molecule and fd_of_dqc_nograd method: de_wrt_da=48.748090773583826, de_wrt_dp=-40.55476919404555, duration=6.2165117263793945 s\n",
      "For benzene molecule and dqc_autograd method: de_wrt_da=48.74808177774821, de_wrt_dp=-40.553439637716096, duration=2.7002487182617188 s\n",
      "For benzene molecule and pyscf_adjoint method: de_wrt_da=48.74784577034213, de_wrt_dp=-40.54552818628462, duration=4.60528302192688 s\n",
      "---><---\n"
     ]
    }
   ],
   "source": [
    "def print_results_derivatives(mol_name, method_name, de_wrt_da, de_wrt_dp, d):\n",
    "    print(f\"For {mol_name} molecule and {method_name} method: {de_wrt_da=}, {de_wrt_dp=}, duration={d} s\")\n",
    "\n",
    "def print_and_save_results_derivatives(mol_name, method_name, de_wrt_da, de_wrt_dp, d):\n",
    "    print_results_derivatives(mol_name, method_name, ea, ep, dur)\n",
    "    derivative_correctness_results[method_name][mol_name][\"ea\"] = ea\n",
    "    derivative_correctness_results[method_name][mol_name][\"ep\"] = ep\n",
    "    derivative_correctness_results[method_name][mol_name][\"time_d\"] = dur\n",
    "\n",
    "for mol_name, mol in molecules_for_correctness_tests.items():\n",
    "    ea, ep, dur = finite_differences_calculator_of_derivatives(pyscf_custom_LDA_calculator_of_energy, mol, LDA_factor, LDA_power)\n",
    "    print_and_save_results_derivatives(mol_name, \"fd_of_pyscf_custom\", ea, ep, dur)\n",
    "\n",
    "    ea, ep, dur = finite_differences_calculator_of_derivatives(dqc_nograd_custom_LDA_calculator_of_energy, mol, LDA_factor, LDA_power)\n",
    "    print_and_save_results_derivatives(mol_name, \"fd_of_dqc_nograd\", ea, ep, dur)\n",
    "    \n",
    "    ea, ep, dur = dqc_autograd_calculator_of_derivatives(mol, LDA_factor, LDA_power)\n",
    "    print_and_save_results_derivatives(mol_name, \"dqc_autograd\", ea, ep, dur)\n",
    "    \n",
    "    pyscf_adjoint_calculator_of_derivatives(mol, LDA_factor, LDA_power) # numba compilation\n",
    "    ea, ep, dur = pyscf_adjoint_calculator_of_derivatives(mol, LDA_factor, LDA_power)\n",
    "    print_and_save_results_derivatives(mol_name, \"pyscf_adjoint\", ea, ep, dur)\n",
    "    print(\"---><---\")"
   ]
  },
  {
   "cell_type": "markdown",
   "metadata": {
    "datalore": {
     "hide_input_from_viewers": true,
     "hide_output_from_viewers": true,
     "node_id": "4wniOikfCjUQCcWzy5XUY9",
     "type": "MD"
    }
   },
   "source": [
    "## Results\n",
    "In this section, the results of all computations above are assembled."
   ]
  },
  {
   "cell_type": "markdown",
   "metadata": {
    "datalore": {
     "hide_input_from_viewers": true,
     "hide_output_from_viewers": true,
     "node_id": "hukIpEBzzZkQ1BKAoagtJH",
     "type": "MD"
    }
   },
   "source": [
    "### Energy computations"
   ]
  },
  {
   "cell_type": "code",
   "execution_count": 46,
   "metadata": {
    "datalore": {
     "hide_input_from_viewers": true,
     "hide_output_from_viewers": true,
     "node_id": "ihPew4R2jd1Z7ld8hKACgc",
     "type": "CODE"
    }
   },
   "outputs": [],
   "source": [
    "pretty_energy_method_names = {\n",
    "    \"pyscf_builtin\": \"PySCF (Bulitin LDA)\",\n",
    "    \"pyscf_custom\": \"PySCF (Custom LDA)\",\n",
    "    \"pyscf_ccsdt\": \"PySCF (CCST(T))\",\n",
    "    \"dqc_nograd\": \"DQC (Custom LDA)\",\n",
    "}\n",
    "\n",
    "pretty_derivative_method_names = {\n",
    "    \"fd_of_pyscf_custom\": \"FD of PySCF\",\n",
    "    \"fd_of_dqc_nograd\":   \"FD of DQC\",\n",
    "    \"dqc_autograd\":       \"DQC, autograd\",\n",
    "    \"pyscf_adjoint\":      \"Optimal PySCF\"\n",
    "}\n",
    "\n",
    "pretty_molecule_names = {\n",
    "    \"h2\": \"H<sub>2</sub>\",\n",
    "    \"n2\": \"N<sub>2</sub>\",\n",
    "    \"water\": \"Water\",\n",
    "    \"ammonia\": \"Ammonia\",\n",
    "    \"benzene\": \"Benzene\",\n",
    "}"
   ]
  },
  {
   "cell_type": "code",
   "execution_count": 47,
   "metadata": {
    "datalore": {
     "hide_input_from_viewers": true,
     "hide_output_from_viewers": true,
     "node_id": "o2vxywCndQXlqjHHSozaaj",
     "type": "CODE"
    }
   },
   "outputs": [],
   "source": [
    "energy_results = {}\n",
    "\n",
    "for mol_name in molecules_for_correctness_tests:\n",
    "    energy_results[mol_name] = {}\n",
    "    for method in energy_correctness_results:\n",
    "        mb_time = energy_correctness_results[method][mol_name][\"time\"]\n",
    "        time_ = mb_time.average if hasattr(mb_time, \"average\") else mb_time\n",
    "        energy_results[mol_name][pretty_energy_method_names[method]] = {\n",
    "                                                        \"Energy\": energy_correctness_results[method][mol_name][\"energy\"],\n",
    "                                                        \"Elapsed (s)\": time_\n",
    "                                                    }"
   ]
  },
  {
   "cell_type": "code",
   "execution_count": 48,
   "metadata": {
    "datalore": {
     "hide_input_from_viewers": true,
     "hide_output_from_viewers": true,
     "node_id": "2LRvBzITeYkatHea79GpOP",
     "type": "CODE"
    }
   },
   "outputs": [
    {
     "data": {
      "text/html": [
       "<h2>Energy computations results</h2>"
      ],
      "text/plain": [
       "<IPython.core.display.HTML object>"
      ]
     },
     "metadata": {},
     "output_type": "display_data"
    },
    {
     "data": {
      "text/html": [
       "<h3>H<sub>2</sub></h3><style type=\"text/css\">\n",
       "</style>\n",
       "<table id=\"T_99c32\">\n",
       "  <thead>\n",
       "    <tr>\n",
       "      <th class=\"blank level0\" >&nbsp;</th>\n",
       "      <th id=\"T_99c32_level0_col0\" class=\"col_heading level0 col0\" >PySCF (Bulitin LDA)</th>\n",
       "      <th id=\"T_99c32_level0_col1\" class=\"col_heading level0 col1\" >PySCF (Custom LDA)</th>\n",
       "      <th id=\"T_99c32_level0_col2\" class=\"col_heading level0 col2\" >PySCF (CCST(T))</th>\n",
       "      <th id=\"T_99c32_level0_col3\" class=\"col_heading level0 col3\" >DQC (Custom LDA)</th>\n",
       "    </tr>\n",
       "  </thead>\n",
       "  <tbody>\n",
       "    <tr>\n",
       "      <th id=\"T_99c32_level0_row0\" class=\"row_heading level0 row0\" >Energy</th>\n",
       "      <td id=\"T_99c32_row0_col0\" class=\"data row0 col0\" >-1.038618</td>\n",
       "      <td id=\"T_99c32_row0_col1\" class=\"data row0 col1\" >-1.038618</td>\n",
       "      <td id=\"T_99c32_row0_col2\" class=\"data row0 col2\" >-1.151679</td>\n",
       "      <td id=\"T_99c32_row0_col3\" class=\"data row0 col3\" >-1.038617</td>\n",
       "    </tr>\n",
       "    <tr>\n",
       "      <th id=\"T_99c32_level0_row1\" class=\"row_heading level0 row1\" >Elapsed (s)</th>\n",
       "      <td id=\"T_99c32_row1_col0\" class=\"data row1 col0\" >0.442311</td>\n",
       "      <td id=\"T_99c32_row1_col1\" class=\"data row1 col1\" >0.594166</td>\n",
       "      <td id=\"T_99c32_row1_col2\" class=\"data row1 col2\" >0.463052</td>\n",
       "      <td id=\"T_99c32_row1_col3\" class=\"data row1 col3\" >0.261229</td>\n",
       "    </tr>\n",
       "  </tbody>\n",
       "</table>\n"
      ],
      "text/plain": [
       "<IPython.core.display.HTML object>"
      ]
     },
     "metadata": {},
     "output_type": "display_data"
    },
    {
     "data": {
      "text/html": [
       "<h3>N<sub>2</sub></h3><style type=\"text/css\">\n",
       "</style>\n",
       "<table id=\"T_bb3d1\">\n",
       "  <thead>\n",
       "    <tr>\n",
       "      <th class=\"blank level0\" >&nbsp;</th>\n",
       "      <th id=\"T_bb3d1_level0_col0\" class=\"col_heading level0 col0\" >PySCF (Bulitin LDA)</th>\n",
       "      <th id=\"T_bb3d1_level0_col1\" class=\"col_heading level0 col1\" >PySCF (Custom LDA)</th>\n",
       "      <th id=\"T_bb3d1_level0_col2\" class=\"col_heading level0 col2\" >PySCF (CCST(T))</th>\n",
       "      <th id=\"T_bb3d1_level0_col3\" class=\"col_heading level0 col3\" >DQC (Custom LDA)</th>\n",
       "    </tr>\n",
       "  </thead>\n",
       "  <tbody>\n",
       "    <tr>\n",
       "      <th id=\"T_bb3d1_level0_row0\" class=\"row_heading level0 row0\" >Energy</th>\n",
       "      <td id=\"T_bb3d1_row0_col0\" class=\"data row0 col0\" >-107.639474</td>\n",
       "      <td id=\"T_bb3d1_row0_col1\" class=\"data row0 col1\" >-107.639474</td>\n",
       "      <td id=\"T_bb3d1_row0_col2\" class=\"data row0 col2\" >-109.102647</td>\n",
       "      <td id=\"T_bb3d1_row0_col3\" class=\"data row0 col3\" >-107.639473</td>\n",
       "    </tr>\n",
       "    <tr>\n",
       "      <th id=\"T_bb3d1_level0_row1\" class=\"row_heading level0 row1\" >Elapsed (s)</th>\n",
       "      <td id=\"T_bb3d1_row1_col0\" class=\"data row1 col0\" >0.927456</td>\n",
       "      <td id=\"T_bb3d1_row1_col1\" class=\"data row1 col1\" >0.884729</td>\n",
       "      <td id=\"T_bb3d1_row1_col2\" class=\"data row1 col2\" >0.305730</td>\n",
       "      <td id=\"T_bb3d1_row1_col3\" class=\"data row1 col3\" >0.193119</td>\n",
       "    </tr>\n",
       "  </tbody>\n",
       "</table>\n"
      ],
      "text/plain": [
       "<IPython.core.display.HTML object>"
      ]
     },
     "metadata": {},
     "output_type": "display_data"
    },
    {
     "data": {
      "text/html": [
       "<h3>Water</h3><style type=\"text/css\">\n",
       "</style>\n",
       "<table id=\"T_ca9cd\">\n",
       "  <thead>\n",
       "    <tr>\n",
       "      <th class=\"blank level0\" >&nbsp;</th>\n",
       "      <th id=\"T_ca9cd_level0_col0\" class=\"col_heading level0 col0\" >PySCF (Bulitin LDA)</th>\n",
       "      <th id=\"T_ca9cd_level0_col1\" class=\"col_heading level0 col1\" >PySCF (Custom LDA)</th>\n",
       "      <th id=\"T_ca9cd_level0_col2\" class=\"col_heading level0 col2\" >PySCF (CCST(T))</th>\n",
       "      <th id=\"T_ca9cd_level0_col3\" class=\"col_heading level0 col3\" >DQC (Custom LDA)</th>\n",
       "    </tr>\n",
       "  </thead>\n",
       "  <tbody>\n",
       "    <tr>\n",
       "      <th id=\"T_ca9cd_level0_row0\" class=\"row_heading level0 row0\" >Energy</th>\n",
       "      <td id=\"T_ca9cd_row0_col0\" class=\"data row0 col0\" >-75.154705</td>\n",
       "      <td id=\"T_ca9cd_row0_col1\" class=\"data row0 col1\" >-75.154705</td>\n",
       "      <td id=\"T_ca9cd_row0_col2\" class=\"data row0 col2\" >-76.120641</td>\n",
       "      <td id=\"T_ca9cd_row0_col3\" class=\"data row0 col3\" >-75.154695</td>\n",
       "    </tr>\n",
       "    <tr>\n",
       "      <th id=\"T_ca9cd_level0_row1\" class=\"row_heading level0 row1\" >Elapsed (s)</th>\n",
       "      <td id=\"T_ca9cd_row1_col0\" class=\"data row1 col0\" >0.959145</td>\n",
       "      <td id=\"T_ca9cd_row1_col1\" class=\"data row1 col1\" >0.933918</td>\n",
       "      <td id=\"T_ca9cd_row1_col2\" class=\"data row1 col2\" >0.207442</td>\n",
       "      <td id=\"T_ca9cd_row1_col3\" class=\"data row1 col3\" >0.245272</td>\n",
       "    </tr>\n",
       "  </tbody>\n",
       "</table>\n"
      ],
      "text/plain": [
       "<IPython.core.display.HTML object>"
      ]
     },
     "metadata": {},
     "output_type": "display_data"
    },
    {
     "data": {
      "text/html": [
       "<h3>Ammonia</h3><style type=\"text/css\">\n",
       "</style>\n",
       "<table id=\"T_7fdd0\">\n",
       "  <thead>\n",
       "    <tr>\n",
       "      <th class=\"blank level0\" >&nbsp;</th>\n",
       "      <th id=\"T_7fdd0_level0_col0\" class=\"col_heading level0 col0\" >PySCF (Bulitin LDA)</th>\n",
       "      <th id=\"T_7fdd0_level0_col1\" class=\"col_heading level0 col1\" >PySCF (Custom LDA)</th>\n",
       "      <th id=\"T_7fdd0_level0_col2\" class=\"col_heading level0 col2\" >PySCF (CCST(T))</th>\n",
       "      <th id=\"T_7fdd0_level0_col3\" class=\"col_heading level0 col3\" >DQC (Custom LDA)</th>\n",
       "    </tr>\n",
       "  </thead>\n",
       "  <tbody>\n",
       "    <tr>\n",
       "      <th id=\"T_7fdd0_level0_row0\" class=\"row_heading level0 row0\" >Energy</th>\n",
       "      <td id=\"T_7fdd0_row0_col0\" class=\"data row0 col0\" >-55.413604</td>\n",
       "      <td id=\"T_7fdd0_row0_col1\" class=\"data row0 col1\" >-55.413604</td>\n",
       "      <td id=\"T_7fdd0_row0_col2\" class=\"data row0 col2\" >-56.292149</td>\n",
       "      <td id=\"T_7fdd0_row0_col3\" class=\"data row0 col3\" >-55.413601</td>\n",
       "    </tr>\n",
       "    <tr>\n",
       "      <th id=\"T_7fdd0_level0_row1\" class=\"row_heading level0 row1\" >Elapsed (s)</th>\n",
       "      <td id=\"T_7fdd0_row1_col0\" class=\"data row1 col0\" >1.023326</td>\n",
       "      <td id=\"T_7fdd0_row1_col1\" class=\"data row1 col1\" >1.142166</td>\n",
       "      <td id=\"T_7fdd0_row1_col2\" class=\"data row1 col2\" >0.262449</td>\n",
       "      <td id=\"T_7fdd0_row1_col3\" class=\"data row1 col3\" >0.259271</td>\n",
       "    </tr>\n",
       "  </tbody>\n",
       "</table>\n"
      ],
      "text/plain": [
       "<IPython.core.display.HTML object>"
      ]
     },
     "metadata": {},
     "output_type": "display_data"
    },
    {
     "data": {
      "text/html": [
       "<h3>Benzene</h3><style type=\"text/css\">\n",
       "</style>\n",
       "<table id=\"T_376b4\">\n",
       "  <thead>\n",
       "    <tr>\n",
       "      <th class=\"blank level0\" >&nbsp;</th>\n",
       "      <th id=\"T_376b4_level0_col0\" class=\"col_heading level0 col0\" >PySCF (Bulitin LDA)</th>\n",
       "      <th id=\"T_376b4_level0_col1\" class=\"col_heading level0 col1\" >PySCF (Custom LDA)</th>\n",
       "      <th id=\"T_376b4_level0_col2\" class=\"col_heading level0 col2\" >PySCF (CCST(T))</th>\n",
       "      <th id=\"T_376b4_level0_col3\" class=\"col_heading level0 col3\" >DQC (Custom LDA)</th>\n",
       "    </tr>\n",
       "  </thead>\n",
       "  <tbody>\n",
       "    <tr>\n",
       "      <th id=\"T_376b4_level0_row0\" class=\"row_heading level0 row0\" >Energy</th>\n",
       "      <td id=\"T_376b4_row0_col0\" class=\"data row0 col0\" >-213.414684</td>\n",
       "      <td id=\"T_376b4_row0_col1\" class=\"data row0 col1\" >-213.414684</td>\n",
       "      <td id=\"T_376b4_row0_col2\" class=\"data row0 col2\" >-217.077970</td>\n",
       "      <td id=\"T_376b4_row0_col3\" class=\"data row0 col3\" >-213.414306</td>\n",
       "    </tr>\n",
       "    <tr>\n",
       "      <th id=\"T_376b4_level0_row1\" class=\"row_heading level0 row1\" >Elapsed (s)</th>\n",
       "      <td id=\"T_376b4_row1_col0\" class=\"data row1 col0\" >4.190189</td>\n",
       "      <td id=\"T_376b4_row1_col1\" class=\"data row1 col1\" >4.117295</td>\n",
       "      <td id=\"T_376b4_row1_col2\" class=\"data row1 col2\" >8.971182</td>\n",
       "      <td id=\"T_376b4_row1_col3\" class=\"data row1 col3\" >2.393867</td>\n",
       "    </tr>\n",
       "  </tbody>\n",
       "</table>\n"
      ],
      "text/plain": [
       "<IPython.core.display.HTML object>"
      ]
     },
     "metadata": {},
     "output_type": "display_data"
    }
   ],
   "source": [
    "display(HTML(\"<h2>Energy computations results</h2>\"))\n",
    "for mol_name in molecules_for_correctness_tests:\n",
    "    df = pd.DataFrame(energy_results[mol_name])\n",
    "    html = df.style.to_html()\n",
    "    display(HTML(f\"<h3>{pretty_molecule_names[mol_name]}</h3>\" + html))"
   ]
  },
  {
   "cell_type": "markdown",
   "metadata": {
    "datalore": {
     "hide_input_from_viewers": true,
     "hide_output_from_viewers": true,
     "node_id": "TE24Up54Ze41j7n7VhWblo",
     "type": "MD"
    }
   },
   "source": [
    "### Derivative computations"
   ]
  },
  {
   "cell_type": "code",
   "execution_count": 49,
   "metadata": {
    "datalore": {
     "hide_input_from_viewers": true,
     "hide_output_from_viewers": true,
     "node_id": "PLLtRerNFIXNiCDH920ZIg",
     "type": "CODE"
    }
   },
   "outputs": [],
   "source": [
    "derivative_results = {}\n",
    "\n",
    "for mol_name in molecules_for_correctness_tests:\n",
    "    derivative_results[mol_name] = {}\n",
    "    for method in derivative_correctness_results:\n",
    "        mb_time = derivative_correctness_results[method][mol_name][\"time_d\"]\n",
    "        time_ = mb_time.average if hasattr(mb_time, \"average\") else mb_time\n",
    "        derivative_results[mol_name][pretty_derivative_method_names[method]] = {\n",
    "                                                        \"<sup>dE</sup>&frasl;<sub>da</sub>\": derivative_correctness_results[method][mol_name][\"ea\"],\n",
    "                                                        \"<sup>dE</sup>&frasl;<sub>dp</sub>\": derivative_correctness_results[method][mol_name][\"ep\"],\n",
    "                                                        \"Elapsed (s)\": time_\n",
    "                                                    }"
   ]
  },
  {
   "cell_type": "code",
   "execution_count": 50,
   "metadata": {
    "datalore": {
     "hide_input_from_viewers": true,
     "hide_output_from_viewers": true,
     "node_id": "Xy9H5ovh8u8rFtSTHr2DQd",
     "type": "CODE"
    }
   },
   "outputs": [
    {
     "data": {
      "text/html": [
       "<h2>Derivatives computations results</h2>"
      ],
      "text/plain": [
       "<IPython.core.display.HTML object>"
      ]
     },
     "metadata": {},
     "output_type": "display_data"
    },
    {
     "data": {
      "text/html": [
       "<h3>H<sub>2</sub></h3><style type=\"text/css\">\n",
       "</style>\n",
       "<table id=\"T_3bb71\">\n",
       "  <thead>\n",
       "    <tr>\n",
       "      <th class=\"blank level0\" >&nbsp;</th>\n",
       "      <th id=\"T_3bb71_level0_col0\" class=\"col_heading level0 col0\" >FD of PySCF</th>\n",
       "      <th id=\"T_3bb71_level0_col1\" class=\"col_heading level0 col1\" >FD of DQC</th>\n",
       "      <th id=\"T_3bb71_level0_col2\" class=\"col_heading level0 col2\" >DQC, autograd</th>\n",
       "      <th id=\"T_3bb71_level0_col3\" class=\"col_heading level0 col3\" >Optimal PYSCF</th>\n",
       "    </tr>\n",
       "  </thead>\n",
       "  <tbody>\n",
       "    <tr>\n",
       "      <th id=\"T_3bb71_level0_row0\" class=\"row_heading level0 row0\" ><sup>dE</sup>&frasl;<sub>da</sub></th>\n",
       "      <td id=\"T_3bb71_row0_col0\" class=\"data row0 col0\" >0.748359</td>\n",
       "      <td id=\"T_3bb71_row0_col1\" class=\"data row0 col1\" >0.748358</td>\n",
       "      <td id=\"T_3bb71_row0_col2\" class=\"data row0 col2\" >0.748357</td>\n",
       "      <td id=\"T_3bb71_row0_col3\" class=\"data row0 col3\" >0.748358</td>\n",
       "    </tr>\n",
       "    <tr>\n",
       "      <th id=\"T_3bb71_level0_row1\" class=\"row_heading level0 row1\" ><sup>dE</sup>&frasl;<sub>dp</sub></th>\n",
       "      <td id=\"T_3bb71_row1_col0\" class=\"data row1 col0\" >1.471502</td>\n",
       "      <td id=\"T_3bb71_row1_col1\" class=\"data row1 col1\" >1.471501</td>\n",
       "      <td id=\"T_3bb71_row1_col2\" class=\"data row1 col2\" >1.471532</td>\n",
       "      <td id=\"T_3bb71_row1_col3\" class=\"data row1 col3\" >1.471533</td>\n",
       "    </tr>\n",
       "    <tr>\n",
       "      <th id=\"T_3bb71_level0_row2\" class=\"row_heading level0 row2\" >Elapsed (s)</th>\n",
       "      <td id=\"T_3bb71_row2_col0\" class=\"data row2 col0\" >1.911317</td>\n",
       "      <td id=\"T_3bb71_row2_col1\" class=\"data row2 col1\" >0.292957</td>\n",
       "      <td id=\"T_3bb71_row2_col2\" class=\"data row2 col2\" >0.128971</td>\n",
       "      <td id=\"T_3bb71_row2_col3\" class=\"data row2 col3\" >0.537834</td>\n",
       "    </tr>\n",
       "  </tbody>\n",
       "</table>\n"
      ],
      "text/plain": [
       "<IPython.core.display.HTML object>"
      ]
     },
     "metadata": {},
     "output_type": "display_data"
    },
    {
     "data": {
      "text/html": [
       "<h3>N<sub>2</sub></h3><style type=\"text/css\">\n",
       "</style>\n",
       "<table id=\"T_3a86d\">\n",
       "  <thead>\n",
       "    <tr>\n",
       "      <th class=\"blank level0\" >&nbsp;</th>\n",
       "      <th id=\"T_3a86d_level0_col0\" class=\"col_heading level0 col0\" >FD of PySCF</th>\n",
       "      <th id=\"T_3a86d_level0_col1\" class=\"col_heading level0 col1\" >FD of DQC</th>\n",
       "      <th id=\"T_3a86d_level0_col2\" class=\"col_heading level0 col2\" >DQC, autograd</th>\n",
       "      <th id=\"T_3a86d_level0_col3\" class=\"col_heading level0 col3\" >Optimal PYSCF</th>\n",
       "    </tr>\n",
       "  </thead>\n",
       "  <tbody>\n",
       "    <tr>\n",
       "      <th id=\"T_3a86d_level0_row0\" class=\"row_heading level0 row0\" ><sup>dE</sup>&frasl;<sub>da</sub></th>\n",
       "      <td id=\"T_3a86d_row0_col0\" class=\"data row0 col0\" >16.018397</td>\n",
       "      <td id=\"T_3a86d_row0_col1\" class=\"data row0 col1\" >16.018380</td>\n",
       "      <td id=\"T_3a86d_row0_col2\" class=\"data row0 col2\" >16.018377</td>\n",
       "      <td id=\"T_3a86d_row0_col3\" class=\"data row0 col3\" >16.018393</td>\n",
       "    </tr>\n",
       "    <tr>\n",
       "      <th id=\"T_3a86d_level0_row1\" class=\"row_heading level0 row1\" ><sup>dE</sup>&frasl;<sub>dp</sub></th>\n",
       "      <td id=\"T_3a86d_row1_col0\" class=\"data row1 col0\" >-17.006172</td>\n",
       "      <td id=\"T_3a86d_row1_col1\" class=\"data row1 col1\" >-17.006101</td>\n",
       "      <td id=\"T_3a86d_row1_col2\" class=\"data row1 col2\" >-17.005453</td>\n",
       "      <td id=\"T_3a86d_row1_col3\" class=\"data row1 col3\" >-17.005523</td>\n",
       "    </tr>\n",
       "    <tr>\n",
       "      <th id=\"T_3a86d_level0_row2\" class=\"row_heading level0 row2\" >Elapsed (s)</th>\n",
       "      <td id=\"T_3a86d_row2_col0\" class=\"data row2 col0\" >2.232201</td>\n",
       "      <td id=\"T_3a86d_row2_col1\" class=\"data row2 col1\" >0.466919</td>\n",
       "      <td id=\"T_3a86d_row2_col2\" class=\"data row2 col2\" >0.189525</td>\n",
       "      <td id=\"T_3a86d_row2_col3\" class=\"data row2 col3\" >0.835088</td>\n",
       "    </tr>\n",
       "  </tbody>\n",
       "</table>\n"
      ],
      "text/plain": [
       "<IPython.core.display.HTML object>"
      ]
     },
     "metadata": {},
     "output_type": "display_data"
    },
    {
     "data": {
      "text/html": [
       "<h3>Water</h3><style type=\"text/css\">\n",
       "</style>\n",
       "<table id=\"T_816be\">\n",
       "  <thead>\n",
       "    <tr>\n",
       "      <th class=\"blank level0\" >&nbsp;</th>\n",
       "      <th id=\"T_816be_level0_col0\" class=\"col_heading level0 col0\" >FD of PySCF</th>\n",
       "      <th id=\"T_816be_level0_col1\" class=\"col_heading level0 col1\" >FD of DQC</th>\n",
       "      <th id=\"T_816be_level0_col2\" class=\"col_heading level0 col2\" >DQC, autograd</th>\n",
       "      <th id=\"T_816be_level0_col3\" class=\"col_heading level0 col3\" >Optimal PYSCF</th>\n",
       "    </tr>\n",
       "  </thead>\n",
       "  <tbody>\n",
       "    <tr>\n",
       "      <th id=\"T_816be_level0_row0\" class=\"row_heading level0 row0\" ><sup>dE</sup>&frasl;<sub>da</sub></th>\n",
       "      <td id=\"T_816be_row0_col0\" class=\"data row0 col0\" >10.948997</td>\n",
       "      <td id=\"T_816be_row0_col1\" class=\"data row0 col1\" >10.948979</td>\n",
       "      <td id=\"T_816be_row0_col2\" class=\"data row0 col2\" >10.948976</td>\n",
       "      <td id=\"T_816be_row0_col3\" class=\"data row0 col3\" >10.948995</td>\n",
       "    </tr>\n",
       "    <tr>\n",
       "      <th id=\"T_816be_level0_row1\" class=\"row_heading level0 row1\" ><sup>dE</sup>&frasl;<sub>dp</sub></th>\n",
       "      <td id=\"T_816be_row1_col0\" class=\"data row1 col0\" >-11.080605</td>\n",
       "      <td id=\"T_816be_row1_col1\" class=\"data row1 col1\" >-11.080577</td>\n",
       "      <td id=\"T_816be_row1_col2\" class=\"data row1 col2\" >-11.080099</td>\n",
       "      <td id=\"T_816be_row1_col3\" class=\"data row1 col3\" >-11.080128</td>\n",
       "    </tr>\n",
       "    <tr>\n",
       "      <th id=\"T_816be_level0_row2\" class=\"row_heading level0 row2\" >Elapsed (s)</th>\n",
       "      <td id=\"T_816be_row2_col0\" class=\"data row2 col0\" >2.877220</td>\n",
       "      <td id=\"T_816be_row2_col1\" class=\"data row2 col1\" >0.642188</td>\n",
       "      <td id=\"T_816be_row2_col2\" class=\"data row2 col2\" >0.260489</td>\n",
       "      <td id=\"T_816be_row2_col3\" class=\"data row2 col3\" >0.935992</td>\n",
       "    </tr>\n",
       "  </tbody>\n",
       "</table>\n"
      ],
      "text/plain": [
       "<IPython.core.display.HTML object>"
      ]
     },
     "metadata": {},
     "output_type": "display_data"
    },
    {
     "data": {
      "text/html": [
       "<h3>Ammonia</h3><style type=\"text/css\">\n",
       "</style>\n",
       "<table id=\"T_d1a84\">\n",
       "  <thead>\n",
       "    <tr>\n",
       "      <th class=\"blank level0\" >&nbsp;</th>\n",
       "      <th id=\"T_d1a84_level0_col0\" class=\"col_heading level0 col0\" >FD of PySCF</th>\n",
       "      <th id=\"T_d1a84_level0_col1\" class=\"col_heading level0 col1\" >FD of DQC</th>\n",
       "      <th id=\"T_d1a84_level0_col2\" class=\"col_heading level0 col2\" >DQC, autograd</th>\n",
       "      <th id=\"T_d1a84_level0_col3\" class=\"col_heading level0 col3\" >Optimal PYSCF</th>\n",
       "    </tr>\n",
       "  </thead>\n",
       "  <tbody>\n",
       "    <tr>\n",
       "      <th id=\"T_d1a84_level0_row0\" class=\"row_heading level0 row0\" ><sup>dE</sup>&frasl;<sub>da</sub></th>\n",
       "      <td id=\"T_d1a84_row0_col0\" class=\"data row0 col0\" >9.335451</td>\n",
       "      <td id=\"T_d1a84_row0_col1\" class=\"data row0 col1\" >9.335448</td>\n",
       "      <td id=\"T_d1a84_row0_col2\" class=\"data row0 col2\" >9.335445</td>\n",
       "      <td id=\"T_d1a84_row0_col3\" class=\"data row0 col3\" >9.335449</td>\n",
       "    </tr>\n",
       "    <tr>\n",
       "      <th id=\"T_d1a84_level0_row1\" class=\"row_heading level0 row1\" ><sup>dE</sup>&frasl;<sub>dp</sub></th>\n",
       "      <td id=\"T_d1a84_row1_col0\" class=\"data row1 col0\" >-6.248094</td>\n",
       "      <td id=\"T_d1a84_row1_col1\" class=\"data row1 col1\" >-6.248103</td>\n",
       "      <td id=\"T_d1a84_row1_col2\" class=\"data row1 col2\" >-6.247740</td>\n",
       "      <td id=\"T_d1a84_row1_col3\" class=\"data row1 col3\" >-6.247731</td>\n",
       "    </tr>\n",
       "    <tr>\n",
       "      <th id=\"T_d1a84_level0_row2\" class=\"row_heading level0 row2\" >Elapsed (s)</th>\n",
       "      <td id=\"T_d1a84_row2_col0\" class=\"data row2 col0\" >3.135840</td>\n",
       "      <td id=\"T_d1a84_row2_col1\" class=\"data row2 col1\" >0.674306</td>\n",
       "      <td id=\"T_d1a84_row2_col2\" class=\"data row2 col2\" >0.309987</td>\n",
       "      <td id=\"T_d1a84_row2_col3\" class=\"data row2 col3\" >0.817661</td>\n",
       "    </tr>\n",
       "  </tbody>\n",
       "</table>\n"
      ],
      "text/plain": [
       "<IPython.core.display.HTML object>"
      ]
     },
     "metadata": {},
     "output_type": "display_data"
    },
    {
     "data": {
      "text/html": [
       "<h3>Benzene</h3><style type=\"text/css\">\n",
       "</style>\n",
       "<table id=\"T_04120\">\n",
       "  <thead>\n",
       "    <tr>\n",
       "      <th class=\"blank level0\" >&nbsp;</th>\n",
       "      <th id=\"T_04120_level0_col0\" class=\"col_heading level0 col0\" >FD of PySCF</th>\n",
       "      <th id=\"T_04120_level0_col1\" class=\"col_heading level0 col1\" >FD of DQC</th>\n",
       "      <th id=\"T_04120_level0_col2\" class=\"col_heading level0 col2\" >DQC, autograd</th>\n",
       "      <th id=\"T_04120_level0_col3\" class=\"col_heading level0 col3\" >Optimal PYSCF</th>\n",
       "    </tr>\n",
       "  </thead>\n",
       "  <tbody>\n",
       "    <tr>\n",
       "      <th id=\"T_04120_level0_row0\" class=\"row_heading level0 row0\" ><sup>dE</sup>&frasl;<sub>da</sub></th>\n",
       "      <td id=\"T_04120_row0_col0\" class=\"data row0 col0\" >48.747852</td>\n",
       "      <td id=\"T_04120_row0_col1\" class=\"data row0 col1\" >48.748091</td>\n",
       "      <td id=\"T_04120_row0_col2\" class=\"data row0 col2\" >48.748082</td>\n",
       "      <td id=\"T_04120_row0_col3\" class=\"data row0 col3\" >48.747846</td>\n",
       "    </tr>\n",
       "    <tr>\n",
       "      <th id=\"T_04120_level0_row1\" class=\"row_heading level0 row1\" ><sup>dE</sup>&frasl;<sub>dp</sub></th>\n",
       "      <td id=\"T_04120_row1_col0\" class=\"data row1 col0\" >-40.546859</td>\n",
       "      <td id=\"T_04120_row1_col1\" class=\"data row1 col1\" >-40.554769</td>\n",
       "      <td id=\"T_04120_row1_col2\" class=\"data row1 col2\" >-40.553440</td>\n",
       "      <td id=\"T_04120_row1_col3\" class=\"data row1 col3\" >-40.545528</td>\n",
       "    </tr>\n",
       "    <tr>\n",
       "      <th id=\"T_04120_level0_row2\" class=\"row_heading level0 row2\" >Elapsed (s)</th>\n",
       "      <td id=\"T_04120_row2_col0\" class=\"data row2 col0\" >12.494087</td>\n",
       "      <td id=\"T_04120_row2_col1\" class=\"data row2 col1\" >6.216512</td>\n",
       "      <td id=\"T_04120_row2_col2\" class=\"data row2 col2\" >2.700249</td>\n",
       "      <td id=\"T_04120_row2_col3\" class=\"data row2 col3\" >4.605283</td>\n",
       "    </tr>\n",
       "  </tbody>\n",
       "</table>\n"
      ],
      "text/plain": [
       "<IPython.core.display.HTML object>"
      ]
     },
     "metadata": {},
     "output_type": "display_data"
    }
   ],
   "source": [
    "display(HTML(\"<h2>Derivatives computations results</h2>\"))\n",
    "for mol_name in molecules_for_correctness_tests:\n",
    "    df = pd.DataFrame(derivative_results[mol_name])\n",
    "    html = df.style.to_html()\n",
    "    display(HTML(f\"<h3>{pretty_molecule_names[mol_name]}</h3>\" + html))"
   ]
  },
  {
   "cell_type": "markdown",
   "metadata": {},
   "source": [
    "## Comparison of perfomance"
   ]
  },
  {
   "cell_type": "code",
   "execution_count": 51,
   "metadata": {},
   "outputs": [],
   "source": [
    "@functools.cache\n",
    "def pyscf_adjoint_time_of_derivatives_calculation(molecule, a = LDA_factor, p = LDA_power):\n",
    "    scf_mol = gto.M(atom=molecule, basis=\"6-31G\", unit=\"Bohr\", verbose=0)\n",
    "    calc_scf = dft.RKS(scf_mol)\n",
    "    calc_scf.xc = \"lda,\"\n",
    "\n",
    "    decorate_pyscf_rks_object(calc_scf)\n",
    "    \n",
    "    energy = calc_scf.kernel()\n",
    "            \n",
    "    pyscf_adjoint_partial_derivatives_(calc_scf, a, p) # numba compilation\n",
    "    dur = %timeit -o -q -r100 pyscf_adjoint_partial_derivatives_(calc_scf, a, p)\n",
    "        \n",
    "    return dur.average, dur.stdev, dur"
   ]
  },
  {
   "cell_type": "code",
   "execution_count": 52,
   "metadata": {},
   "outputs": [],
   "source": [
    "@functools.cache\n",
    "def dqc_autograd_time_of_derivatives_calculation(molecule, a = LDA_factor, p = LDA_power):\n",
    "    time_with_derivatives_calculation = %timeit -o -q -r100 dqc_autograd_calculator_of_derivatives(mol, LDA_factor, LDA_power)\n",
    "    time_without_derivatives_calculation = %timeit -o -q -r100 dqc_nograd_custom_LDA_calculator_of_energy(mol, LDA_factor, LDA_power)\n",
    "\n",
    "    total_average = time_with_derivatives_calculation.average - time_without_derivatives_calculation.average\n",
    "    total_std_dev = numpy.sqrt(time_with_derivatives_calculation.stdev ** 2 + time_without_derivatives_calculation.stdev ** 2)\n",
    "    \n",
    "    return total_average, total_std_dev, (time_with_derivatives_calculation, time_without_derivatives_calculation)"
   ]
  },
  {
   "cell_type": "code",
   "execution_count": 53,
   "metadata": {},
   "outputs": [],
   "source": [
    "with open('structures/polyglycines_molecules.txt') as polyglycines_molecules_file: \n",
    "    polyglycines_molecules_file_as_string = polyglycines_molecules_file.read() \n",
    "\n",
    "polyglycines_molecules = literal_eval(polyglycines_molecules_file_as_string)"
   ]
  },
  {
   "cell_type": "code",
   "execution_count": 54,
   "metadata": {},
   "outputs": [],
   "source": [
    "polyglycines_performance = {\n",
    "    \"pyscf_adjoint\":    {},\n",
    "    \"dqc_onlygrad\":     {},\n",
    "}\n",
    "\n",
    "for data_of_method in polyglycines_performance.values():\n",
    "    for mol in polyglycines_molecules:\n",
    "        data_of_method[mol] = {}"
   ]
  },
  {
   "cell_type": "code",
   "execution_count": 61,
   "metadata": {},
   "outputs": [
    {
     "name": "stdout",
     "output_type": "stream",
     "text": [
      "For 2:\n",
      "* PySCF 'adjoint':\n",
      "44.1 ms ± 496 µs per loop (mean ± std. dev. of 100 runs, 10 loops each)\n",
      "* DQC:\n",
      "11.7 s ± 399 ms per loop (mean ± std. dev. of 100 runs, 1 loop each)\n",
      "9.26 s ± 267 ms per loop (mean ± std. dev. of 100 runs, 1 loop each)\n",
      "---><---\n",
      "For 4:\n",
      "* PySCF 'adjoint':\n",
      "74.6 ms ± 1.43 ms per loop (mean ± std. dev. of 100 runs, 10 loops each)\n",
      "* DQC:\n",
      "2min 4s ± 2.27 s per loop (mean ± std. dev. of 100 runs, 1 loop each)\n",
      "1min 51s ± 1.67 s per loop (mean ± std. dev. of 100 runs, 1 loop each)\n",
      "---><---\n",
      "For 6:\n",
      "* PySCF 'adjoint':\n",
      "108 ms ± 144 µs per loop (mean ± std. dev. of 100 runs, 10 loops each)\n",
      "* DQC:\n",
      "5min 34s ± 3.84 s per loop (mean ± std. dev. of 100 runs, 1 loop each)\n",
      "4min 55s ± 3.75 s per loop (mean ± std. dev. of 100 runs, 1 loop each)\n",
      "---><---\n",
      "For 8:\n",
      "* PySCF 'adjoint':\n",
      "141 ms ± 3.17 ms per loop (mean ± std. dev. of 100 runs, 10 loops each)\n",
      "---><---\n",
      "For 12:\n",
      "* PySCF 'adjoint':\n",
      "213 ms ± 5.76 ms per loop (mean ± std. dev. of 100 runs, 10 loops each)\n",
      "---><---\n",
      "For 16:\n",
      "* PySCF 'adjoint':\n",
      "271 ms ± 8.21 ms per loop (mean ± std. dev. of 100 runs, 1 loop each)\n",
      "---><---\n",
      "For 24:\n",
      "* PySCF 'adjoint':\n",
      "415 ms ± 1.84 ms per loop (mean ± std. dev. of 100 runs, 1 loop each)\n",
      "---><---\n",
      "For 32:\n",
      "* PySCF 'adjoint':\n",
      "545 ms ± 2.62 ms per loop (mean ± std. dev. of 100 runs, 1 loop each)\n",
      "---><---\n"
     ]
    }
   ],
   "source": [
    "for mol_name, mol in polyglycines_molecules.items():\n",
    "    print(f\"For {mol_name}:\")\n",
    "       \n",
    "    print(\"* PySCF 'adjoint':\")\n",
    "    mean, std_dev, all_times = pyscf_adjoint_time_of_derivatives_calculation(mol, LDA_factor, LDA_power)\n",
    "    polyglycines_performance[\"pyscf_adjoint\"][mol_name][\"mean\"] = mean\n",
    "    polyglycines_performance[\"pyscf_adjoint\"][mol_name][\"std_dev\"] = std_dev\n",
    "    print(all_times)\n",
    "\n",
    "    if mol_name <= 6:\n",
    "        print(\"* DQC:\")\n",
    "        mean, std_dev, all_times = dqc_autograd_time_of_derivatives_calculation(mol, LDA_factor, LDA_power)\n",
    "        polyglycines_performance[\"dqc_onlygrad\"][mol_name][\"mean\"] = mean\n",
    "        polyglycines_performance[\"dqc_onlygrad\"][mol_name][\"std_dev\"] = std_dev\n",
    "        print(all_times[0])\n",
    "        print(all_times[1])\n",
    "\n",
    "    print(\"---><---\")"
   ]
  },
  {
   "cell_type": "code",
   "execution_count": 62,
   "metadata": {},
   "outputs": [
    {
     "data": {
      "image/png": "[encoded data removed]",
      "text/plain": [
       "<Figure size 640x480 with 1 Axes>"
      ]
     },
     "metadata": {},
     "output_type": "display_data"
    }
   ],
   "source": [
    "fig, ax = plt.subplots() \n",
    "\n",
    "adjoint_x_polyglicines = [l for l in polyglycines_performance['pyscf_adjoint'].keys() if polyglycines_performance['pyscf_adjoint'][l]]\n",
    "adjoint_y_polyglicines = [l[\"mean\"] for l in polyglycines_performance['pyscf_adjoint'].values() if l]\n",
    "adjoint_yerr_polyglicines = [l[\"std_dev\"] for l in polyglycines_performance['pyscf_adjoint'].values() if l]\n",
    "ax.errorbar(adjoint_x_polyglicines, adjoint_y_polyglicines, yerr=adjoint_yerr_polyglicines, label='PySCF adjoint')\n",
    "\n",
    "dqc_x_polyglicines = [l for l in polyglycines_performance['dqc_onlygrad'].keys() if polyglycines_performance['dqc_onlygrad'][l]]\n",
    "dqc_y_polyglicines = [l[\"mean\"] for l in polyglycines_performance['dqc_onlygrad'].values() if l]\n",
    "dqc_yerr_polyglicines = [l[\"std_dev\"] for l in polyglycines_performance['dqc_onlygrad'].values() if l]\n",
    "ax.errorbar(dqc_x_polyglicines, dqc_y_polyglicines, yerr=dqc_yerr_polyglicines, label='DQC automatic differentiation')\n",
    "\n",
    "plt.xscale('log')\n",
    "plt.yscale('log')\n",
    "\n",
    "plt.title(r\"Time of derivative calculation of polyglicines\")\n",
    "plt.xlabel(\"n\")\n",
    "plt.ylabel(\"Time, s\")\n",
    "\n",
    "ax.set_xticks(adjoint_x_polyglicines)\n",
    "ax.get_xaxis().set_major_formatter(ticker.ScalarFormatter())\n",
    "ax.get_xaxis().set_minor_locator(ticker.NullLocator())\n",
    "\n",
    "plt.legend(loc='lower right')\n",
    "\n",
    "plt.show()"
   ]
  },
  {
   "cell_type": "code",
   "execution_count": null,
   "metadata": {},
   "outputs": [],
   "source": [
    "with open('structures/alkanes_molecules.txt') as alkanes_molecules_file: \n",
    "    alkanes_molecules_file_as_string = alkanes_molecules_file.read() \n",
    "\n",
    "alkanes_molecules = literal_eval(alkanes_molecules_file_as_string)"
   ]
  },
  {
   "cell_type": "code",
   "execution_count": null,
   "metadata": {},
   "outputs": [],
   "source": [
    "alkanes_performance = {\n",
    "    \"pyscf_adjoint\":    {},\n",
    "    \"dqc_onlygrad\":     {},\n",
    "}\n",
    "\n",
    "for data_of_method in alkanes_performance.values():\n",
    "    for mol_name in alkanes_molecules:\n",
    "        data_of_method[mol_name] = {}"
   ]
  },
  {
   "cell_type": "code",
   "execution_count": 63,
   "metadata": {},
   "outputs": [
    {
     "name": "stdout",
     "output_type": "stream",
     "text": [
      "For n-С4H10:\n",
      "* PySCF 'adjoint':\n",
      "29.7 ms ± 1.06 ms per loop (mean ± std. dev. of 100 runs, 10 loops each)\n",
      "* DQC:\n",
      "2.32 s ± 131 ms per loop (mean ± std. dev. of 100 runs, 1 loop each)\n",
      "1.72 s ± 71.4 ms per loop (mean ± std. dev. of 100 runs, 1 loop each)\n",
      "---><---\n",
      "For n-С6H14:\n",
      "* PySCF 'adjoint':\n",
      "43 ms ± 46.1 µs per loop (mean ± std. dev. of 100 runs, 10 loops each)\n",
      "* DQC:\n",
      "6.65 s ± 222 ms per loop (mean ± std. dev. of 100 runs, 1 loop each)\n",
      "5.23 s ± 173 ms per loop (mean ± std. dev. of 100 runs, 1 loop each)\n",
      "---><---\n",
      "For n-С8H18:\n",
      "* PySCF 'adjoint':\n",
      "56.1 ms ± 1.39 ms per loop (mean ± std. dev. of 100 runs, 10 loops each)\n",
      "* DQC:\n",
      "13.4 s ± 464 ms per loop (mean ± std. dev. of 100 runs, 1 loop each)\n",
      "10.8 s ± 396 ms per loop (mean ± std. dev. of 100 runs, 1 loop each)\n",
      "---><---\n",
      "For n-С10H22:\n",
      "* PySCF 'adjoint':\n",
      "69.5 ms ± 1.77 ms per loop (mean ± std. dev. of 100 runs, 10 loops each)\n",
      "* DQC:\n",
      "24.5 s ± 686 ms per loop (mean ± std. dev. of 100 runs, 1 loop each)\n",
      "19.9 s ± 568 ms per loop (mean ± std. dev. of 100 runs, 1 loop each)\n",
      "---><---\n",
      "For n-С12H26:\n",
      "* PySCF 'adjoint':\n",
      "83.8 ms ± 3.61 ms per loop (mean ± std. dev. of 100 runs, 10 loops each)\n",
      "* DQC:\n",
      "44.6 s ± 1.15 s per loop (mean ± std. dev. of 100 runs, 1 loop each)\n",
      "38 s ± 1.07 s per loop (mean ± std. dev. of 100 runs, 1 loop each)\n",
      "---><---\n",
      "For n-С14H30:\n",
      "* PySCF 'adjoint':\n",
      "93.6 ms ± 1.71 ms per loop (mean ± std. dev. of 100 runs, 10 loops each)\n",
      "* DQC:\n",
      "1min 15s ± 1.3 s per loop (mean ± std. dev. of 100 runs, 1 loop each)\n",
      "1min 5s ± 1.3 s per loop (mean ± std. dev. of 100 runs, 1 loop each)\n",
      "---><---\n",
      "For n-С16H34:\n",
      "* PySCF 'adjoint':\n",
      "109 ms ± 1.28 ms per loop (mean ± std. dev. of 100 runs, 10 loops each)\n",
      "* DQC:\n",
      "4min 2s ± 3.14 s per loop (mean ± std. dev. of 100 runs, 1 loop each)\n",
      "3min 47s ± 3.08 s per loop (mean ± std. dev. of 100 runs, 1 loop each)\n",
      "---><---\n",
      "For n-С18H38:\n",
      "* PySCF 'adjoint':\n",
      "118 ms ± 1.8 ms per loop (mean ± std. dev. of 100 runs, 10 loops each)\n",
      "* DQC:\n",
      "3min 54s ± 3.06 s per loop (mean ± std. dev. of 100 runs, 1 loop each)\n",
      "3min 33s ± 3.12 s per loop (mean ± std. dev. of 100 runs, 1 loop each)\n",
      "---><---\n",
      "For n-С20H42:\n",
      "* PySCF 'adjoint':\n",
      "130 ms ± 640 µs per loop (mean ± std. dev. of 100 runs, 10 loops each)\n",
      "* DQC:\n",
      "4min 7s ± 3.53 s per loop (mean ± std. dev. of 100 runs, 1 loop each)\n",
      "3min 40s ± 2.72 s per loop (mean ± std. dev. of 100 runs, 1 loop each)\n",
      "---><---\n",
      "For n-С22H46:\n",
      "* PySCF 'adjoint':\n",
      "149 ms ± 4.61 ms per loop (mean ± std. dev. of 100 runs, 10 loops each)\n",
      "* DQC:\n",
      "6min 12s ± 6.51 s per loop (mean ± std. dev. of 100 runs, 1 loop each)\n",
      "5min 34s ± 5.22 s per loop (mean ± std. dev. of 100 runs, 1 loop each)\n",
      "---><---\n",
      "For n-С24H50:\n",
      "* PySCF 'adjoint':\n",
      "163 ms ± 6.77 ms per loop (mean ± std. dev. of 100 runs, 10 loops each)\n",
      "---><---\n",
      "For n-С32H66:\n",
      "* PySCF 'adjoint':\n",
      "209 ms ± 513 µs per loop (mean ± std. dev. of 100 runs, 1 loop each)\n",
      "---><---\n",
      "For n-С48H98:\n",
      "* PySCF 'adjoint':\n",
      "313 ms ± 9.14 ms per loop (mean ± std. dev. of 100 runs, 1 loop each)\n",
      "---><---\n",
      "For n-С64H130:\n",
      "* PySCF 'adjoint':\n",
      "414 ms ± 6.6 ms per loop (mean ± std. dev. of 100 runs, 1 loop each)\n",
      "---><---\n"
     ]
    }
   ],
   "source": [
    "for mol_name, mol in alkanes_molecules.items():\n",
    "    print(f\"For n-С{mol_name}H{2*mol_name+2}:\")\n",
    "\n",
    "    print(\"* PySCF 'adjoint':\")\n",
    "    mean, std_dev, all_times = pyscf_adjoint_time_of_derivatives_calculation(mol, LDA_factor, LDA_power)\n",
    "    alkanes_performance[\"pyscf_adjoint\"][mol_name][\"mean\"] = mean\n",
    "    alkanes_performance[\"pyscf_adjoint\"][mol_name][\"std_dev\"] = std_dev\n",
    "    print(all_times)\n",
    "\n",
    "    if mol_name <= 22:\n",
    "        print(\"* DQC:\")\n",
    "        mean, std_dev, all_times = dqc_autograd_time_of_derivatives_calculation(mol, LDA_factor, LDA_power)\n",
    "        alkanes_performance[\"dqc_onlygrad\"][mol_name][\"mean\"] = mean\n",
    "        alkanes_performance[\"dqc_onlygrad\"][mol_name][\"std_dev\"] = std_dev\n",
    "        print(all_times[0])\n",
    "        print(all_times[1])\n",
    "    \n",
    "    print(\"---><---\")"
   ]
  },
  {
   "cell_type": "code",
   "execution_count": 72,
   "metadata": {},
   "outputs": [
    {
     "data": {
      "image/png": "[encoded data removed]",
      "text/plain": [
       "<Figure size 1000x480 with 1 Axes>"
      ]
     },
     "metadata": {},
     "output_type": "display_data"
    }
   ],
   "source": [
    "fig, ax = plt.subplots()\n",
    "fig.set_figwidth(10)\n",
    "\n",
    "adjoint_x_alkanes = [l for l in alkanes_performance['pyscf_adjoint'].keys() if alkanes_performance['pyscf_adjoint'][l]]\n",
    "adjoint_y_alkanes = [l[\"mean\"] for l in alkanes_performance['pyscf_adjoint'].values() if l]\n",
    "adjoint_yerr_alkanes = [l[\"std_dev\"] for l in alkanes_performance['pyscf_adjoint'].values() if l]\n",
    "ax.errorbar(adjoint_x_alkanes, adjoint_y_alkanes, yerr=adjoint_yerr_alkanes, label='PySCF, Hellmann-Feynman')\n",
    "\n",
    "dqc_x_alkanes = [l for l in alkanes_performance['dqc_onlygrad'].keys() if alkanes_performance['dqc_onlygrad'][l]]\n",
    "dqc_y_alkanes = [l[\"mean\"] for l in alkanes_performance['dqc_onlygrad'].values() if l]\n",
    "dqc_yerr_alkanes = [l[\"std_dev\"] for l in alkanes_performance['dqc_onlygrad'].values() if l]\n",
    "ax.errorbar(dqc_x_alkanes, dqc_y_alkanes, yerr=dqc_yerr_alkanes, label='DQC, automatic differentiation')\n",
    "\n",
    "plt.xscale('log')\n",
    "plt.yscale('log')\n",
    "\n",
    "plt.title(r\"Time of derivative calculation of C$_n$H$_{2n+2}$\")\n",
    "plt.xlabel(\"n\")\n",
    "plt.ylabel(\"Time, s\")\n",
    "\n",
    "ax.set_xticks(adjoint_x_alkanes)\n",
    "ax.get_xaxis().set_major_formatter(ticker.ScalarFormatter())\n",
    "ax.get_xaxis().set_minor_locator(ticker.NullLocator())\n",
    "\n",
    "plt.legend(loc='lower right')\n",
    "\n",
    "plt.savefig('figure.png')\n",
    "\n",
    "plt.show()"
   ]
  }
 ],
 "metadata": {
  "datalore": {
   "base_environment": "default",
   "computation_mode": "JUPYTER",
   "package_manager": "pip",
   "packages": [
    {
     "name": "pyscf",
     "source": "PIP",
     "version": "2.1.1"
    },
    {
     "name": "pydqc",
     "source": "PIP",
     "version": "0.1.0"
    }
   ],
   "version": 1
  },
  "kernelspec": {
   "display_name": "Python 3 (ipykernel)",
   "language": "python",
   "name": "python3"
  },
  "language_info": {
   "codemirror_mode": {
    "name": "ipython",
    "version": 3
   },
   "file_extension": ".py",
   "mimetype": "text/x-python",
   "name": "python",
   "nbconvert_exporter": "python",
   "pygments_lexer": "ipython3",
   "version": "3.11.5"
  }
 },
 "nbformat": 4,
 "nbformat_minor": 4
}
