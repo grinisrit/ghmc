{
 "cells": [
  {
   "cell_type": "markdown",
   "metadata": {
    "datalore": {
     "hide_input_from_viewers": false,
     "hide_output_from_viewers": false,
     "node_id": "5oKf92DqRHFu5LBZddmUD7",
     "report_properties": {},
     "type": "MD"
    }
   },
   "source": [
    "# Adjoint sensitivity method for Kohn Sham equations (supplementary material)\n",
    "### Evgeny M. Kadilenko (ICKC SB RAS), Roland Grinis (MIPT, GrinisRIT)\n",
    "#### Assistants: Gregory Dushkin (MIPT), Sabina Abdiganieva (MIPT)"
   ]
  },
  {
   "cell_type": "markdown",
   "metadata": {},
   "source": [
    "## Theoretical Section."
   ]
  },
  {
   "cell_type": "markdown",
   "metadata": {},
   "source": [
    "### Unoccupied electron orbitals are not required for calculation of the total derivative\n",
    "\n",
    "Let us denote equations and variables, dealing with occupied orbitals ($f_a \\neq 0$) using *bar* and with unoccupied orbitals using *tilde*.\n",
    "\n",
    "Thus matrices can be rewritten in block form:\n",
    "\n",
    "\\begin{equation}\n",
    "\\begin{gathered}\n",
    "\\boldsymbol{C} = \n",
    "\\begin{pmatrix}\n",
    "\\bar{\\boldsymbol{C}} && \\widetilde{\\boldsymbol{C}}\n",
    "\\end{pmatrix} \\\\\n",
    "\\boldsymbol{f} =  \n",
    "\\begin{pmatrix}\n",
    "\\bar{\\boldsymbol{f}} & \\boldsymbol{0} \\\\\n",
    "\\boldsymbol{0} & \\boldsymbol{0}\n",
    "\\end{pmatrix} \\\\\n",
    "\\boldsymbol{\\epsilon} = \n",
    "\\begin{pmatrix}\n",
    "\\bar{\\boldsymbol{\\epsilon}} & \\boldsymbol{0} \\\\\n",
    "\\boldsymbol{0} & \\widetilde{\\boldsymbol{\\epsilon}}\n",
    "\\end{pmatrix} \n",
    "\\end{gathered}\n",
    "\\end{equation}\n",
    "\n",
    "Using equations from the article we can show:\n",
    "\n",
    "\\begin{equation}\n",
    "\\frac{\\partial \\vec{\\Phi}^{n}}{\\partial \\vec{C}} = \n",
    "2\\bigoplus_a \\vec{e}_a^T \\boldsymbol{C}^T\\boldsymbol{S} = \n",
    "\\begin{pmatrix}\n",
    "2\\bigoplus_{\\bar{a}} \\vec{e}_{\\bar{a}}^T \\bar{\\boldsymbol{C}}^{T}\n",
    "\\boldsymbol{S} && \\boldsymbol{0} \\\\\n",
    "\\boldsymbol{0} && 2\\bigoplus_{\\widetilde{a}} \\vec{e}_{\\widetilde{a}}^T \\widetilde{\\boldsymbol{C}}^{T}\\boldsymbol{S}\n",
    "\\end{pmatrix}\n",
    "\\end{equation}\n",
    "\n",
    "Therefore, using relation between $\\frac{\\partial \\vec{\\Phi}^{KS}}{\\partial \\vec{\\epsilon}}$ and $\\frac{\\partial \\vec{\\Phi}^{n}}{\\partial \\vec{C}}$\n",
    "\n",
    "\\begin{equation}\n",
    "\\frac{\\partial \\vec{\\Phi}^{KS}}{\\partial \\vec{\\epsilon}} = \\begin{pmatrix}\n",
    "-\\bigoplus_{\\bar{a}} \\boldsymbol{S} \\bar{\\boldsymbol{C}}\\vec{e}_{\\bar{a}} \n",
    " && \\boldsymbol{0} \\\\\n",
    "\\boldsymbol{0} && -\\bigoplus_{\\widetilde{a}} \\boldsymbol{S}\\widetilde{\\boldsymbol{C}}\\vec{e}_{\\widetilde{a}} \n",
    "\\end{pmatrix}\n",
    "\\end{equation}\n",
    "\n",
    "\\begin{multline}\n",
    "\\frac{\\partial \\vec{\\Phi}^{KS}}{\\partial \\vec{C}} =\n",
    "2(\\boldsymbol{C}^T \\otimes \\boldsymbol{I}_{N_{bas}})\\boldsymbol{G}(\\boldsymbol{C}\\boldsymbol{f} \\otimes \\boldsymbol{I}_{N_{bas}}) +\n",
    "(\\boldsymbol{I}_{N_{orb}} \\otimes\\boldsymbol{F}) -\n",
    "(\\boldsymbol{\\epsilon} \\otimes \\boldsymbol{S}) = \\\\\n",
    "2\\left(\\begin{pmatrix}\n",
    "\\bar{\\boldsymbol{C}}^T \\\\ \\widetilde{\\boldsymbol{C}}^T\n",
    "\\end{pmatrix} \\otimes \\boldsymbol{I}_{N_{bas}}\\right)\\boldsymbol{G}\\left(\\begin{pmatrix}\n",
    "\\bar{\\boldsymbol{C}} && \\widetilde{\\boldsymbol{C}}\n",
    "\\end{pmatrix}\\begin{pmatrix}\n",
    "\\bar{\\boldsymbol{f}} & \\boldsymbol{0} \\\\\n",
    "\\boldsymbol{0} & \\boldsymbol{0}\n",
    "\\end{pmatrix} \\otimes \\boldsymbol{I}_{N_{bas}}\\right) +\n",
    "\\bigoplus_a\\boldsymbol{F} -\n",
    "\\begin{pmatrix}\n",
    "\\bar{\\boldsymbol{\\epsilon}} & \\boldsymbol{0} \\\\\n",
    "\\boldsymbol{0} & \\widetilde{\\boldsymbol{\\epsilon}}\n",
    "\\end{pmatrix}  \\otimes \\boldsymbol{S} = \\\\\n",
    "2\\begin{pmatrix}\n",
    "(\\bar{\\boldsymbol{C}}^T\\otimes \\boldsymbol{I}_{N_{bas}})\\boldsymbol{G}(\\bar{\\boldsymbol{C}} \\bar{\\boldsymbol{f}} \\otimes \\boldsymbol{I}_{N_{bas}}) && \\boldsymbol{0}\\\\\n",
    "(\\widetilde{\\boldsymbol{C}}^T\\otimes \\boldsymbol{I}_{N_{bas}})\\boldsymbol{G}(\\bar{\\boldsymbol{C}} \\bar{\\boldsymbol{f}} \\otimes \\boldsymbol{I}_{N_{bas}}) && \\boldsymbol{0}\n",
    "\\end{pmatrix}\n",
    " +\n",
    "\\begin{pmatrix}\n",
    "\\bigoplus_{\\bar{a}} \\boldsymbol{F}\n",
    " && \\boldsymbol{0} \\\\\n",
    "\\boldsymbol{0} && \\bigoplus_{\\widetilde{a}} \\boldsymbol{F}\n",
    "\\end{pmatrix} -\n",
    "\\begin{pmatrix}\n",
    "\\bar{\\boldsymbol{\\epsilon}} \\otimes \\boldsymbol{S} & \\boldsymbol{0} \\\\\n",
    "\\boldsymbol{0} & \\widetilde{\\boldsymbol{\\epsilon}} \\otimes \\boldsymbol{S}\n",
    "\\end{pmatrix} = \\\\\n",
    "\\begin{pmatrix}\n",
    "2(\\bar{\\boldsymbol{C}}^T\\otimes \\boldsymbol{I}_{N_{bas}})\\boldsymbol{G}(\\bar{\\boldsymbol{C}} \\bar{\\boldsymbol{f}} \\otimes \\boldsymbol{I}_{N_{bas}}) + \\bigoplus_{\\bar{a}} \\boldsymbol{F} - \\bar{\\boldsymbol{\\epsilon}} \\otimes \\boldsymbol{S} && \\boldsymbol{0}\\\\\n",
    "2(\\widetilde{\\boldsymbol{C}}^T\\otimes \\boldsymbol{I}_{N_{bas}})\\boldsymbol{G}(\\bar{\\boldsymbol{C}} \\bar{\\boldsymbol{f}} \\otimes \\boldsymbol{I}_{N_{bas}}) && \\bigoplus_{\\widetilde{a}} \\boldsymbol{F} -\n",
    "\\widetilde{\\boldsymbol{\\epsilon}} \\otimes \\boldsymbol{S}\n",
    "\\end{pmatrix}\n",
    "\\end{multline}\n",
    "\n",
    "\\begin{multline}\n",
    "\\frac{\\partial \\vec{\\Phi}}{\\partial \\vec{X}} = \n",
    "\\begin{pmatrix}\n",
    "2(\\bar{\\boldsymbol{C}}^T\\otimes \\boldsymbol{I}_{N_{bas}})\\boldsymbol{G}(\\bar{\\boldsymbol{C}} \\bar{\\boldsymbol{f}} \\otimes \\boldsymbol{I}_{N_{bas}}) + \\bigoplus_{\\bar{a}} \\boldsymbol{F} - \\bar{\\boldsymbol{\\epsilon}} \\otimes \\boldsymbol{S} && \\boldsymbol{0} && \n",
    "-\\bigoplus_{\\bar{a}} \\boldsymbol{S} \\bar{\\boldsymbol{C}}\\vec{e}_{\\bar{a}} && \\boldsymbol{0} \\\\\n",
    "2(\\widetilde{\\boldsymbol{C}}^T\\otimes \\boldsymbol{I}_{N_{bas}})\\boldsymbol{G}(\\bar{\\boldsymbol{C}} \\bar{\\boldsymbol{f}} \\otimes \\boldsymbol{I}_{N_{bas}}) && \\bigoplus_{\\widetilde{a}} \\boldsymbol{F} -\n",
    "\\widetilde{\\boldsymbol{\\epsilon}} \\otimes \\boldsymbol{S} && \\boldsymbol{0} && \n",
    "-\\bigoplus_{\\widetilde{a}} \\boldsymbol{S}\\widetilde{\\boldsymbol{C}}\\vec{e}_{\\widetilde{a}} \\\\\n",
    "2\\bigoplus_{\\bar{a}} \\vec{e}_{\\bar{a}}^T \\bar{\\boldsymbol{C}}^{T}\n",
    "\\boldsymbol{S} && \\boldsymbol{0} && \\boldsymbol{0} && \\boldsymbol{0} \\\\\n",
    "\\boldsymbol{0} && 2\\bigoplus_{\\widetilde{a}} \\vec{e}_{\\widetilde{a}}^T \\widetilde{\\boldsymbol{C}}^{T}\\boldsymbol{S} && \\boldsymbol{0} && \\boldsymbol{0}\n",
    "\\end{pmatrix}\n",
    "\\end{multline}\n",
    "\n",
    "\\begin{equation}\n",
    "\\frac{\\partial E}{ \\partial \\vec{C}} =\n",
    "2 \\cdot \\text{vec}(\\boldsymbol{F}\n",
    "\\boldsymbol{C}\\boldsymbol{f} )^T = 2 \\cdot \\text{vec}\\left(\\boldsymbol{F}\n",
    "\\begin{pmatrix}\n",
    "\\bar{\\boldsymbol{C}} && \\widetilde{\\boldsymbol{C}}\n",
    "\\end{pmatrix}\n",
    "\\begin{pmatrix}\n",
    "\\bar{\\boldsymbol{f}} & \\boldsymbol{0} \\\\\n",
    "\\boldsymbol{0} & \\boldsymbol{0}\n",
    "\\end{pmatrix} \\right)^T =\n",
    "\\begin{pmatrix}\n",
    "2 \\cdot\\text{vec}(\\boldsymbol{F}\\bar{\\boldsymbol{C}}\\bar{\\boldsymbol{f}})^T && \\vec{0}^T\n",
    "\\end{pmatrix}\n",
    "\\end{equation}\n",
    "\n",
    "Thus:\n",
    "\n",
    "\\begin{equation}\n",
    "\\frac{\\partial E}{ \\partial \\vec{X}} =  \n",
    "\\begin{pmatrix}\n",
    "2 \\cdot\\text{vec}(\\boldsymbol{F}\\bar{\\boldsymbol{C}}\\bar{\\boldsymbol{f}})^T && \\vec{0}^T && \\vec{0}^T && \\vec{0}^T\n",
    "\\end{pmatrix}\n",
    "\\end{equation}\n",
    "\n",
    "Adjoint vector:\n",
    "\n",
    "\\begin{equation}\n",
    "\\vec{\\lambda} = \\begin{pmatrix}\n",
    "\\vec{\\bar{\\lambda}}^{KS} \\\\\n",
    "\\vec{\\widetilde{\\lambda}}^{KS} \\\\\n",
    "\\vec{\\bar{\\lambda}}^n \\\\\n",
    "\\vec{\\widetilde{\\lambda}}^n\n",
    "\\end{pmatrix}\n",
    "\\end{equation}\n",
    "\n",
    "They produce two matrix equations for $\\vec{\\widetilde{\\lambda}}^{KS}$ and $\\vec{\\widetilde{\\lambda}}^n$:\n",
    "\n",
    "\\begin{equation}\n",
    "\\left(\\bigoplus_{\\widetilde{a}} \\boldsymbol{F} -\n",
    "\\widetilde{\\boldsymbol{\\epsilon}} \\otimes \\boldsymbol{S}\\right)\\vec{\\widetilde{\\lambda}}^{KS} + 2 \\left(\\bigoplus_{\\widetilde{a}} \\boldsymbol{S}\\widetilde{\\boldsymbol{C}}\\vec{e}_{\\widetilde{a}}\\right)\\vec{\\widetilde{\\lambda}}^n = \\vec{0}\n",
    "\\end{equation}\n",
    "\n",
    "\\begin{equation}\n",
    "-\\left(\\bigoplus_{\\widetilde{a}}\n",
    "\\vec{e}_{\\widetilde{a}}^T\n",
    "\\widetilde{\\boldsymbol{C}}^T\\boldsymbol{S}\\right)\\vec{\\widetilde{\\lambda}}^{KS} = \\vec{0}\n",
    "\\end{equation}\n",
    "\n",
    "At first, multiply the first equation by $(\\boldsymbol{I}_{N_{orb}^{unocc}} \\otimes \\widetilde{\\boldsymbol{C}}^T)$ from the left:\n",
    "\n",
    "\\begin{equation*}\n",
    "\\begin{gathered}\n",
    "(\\boldsymbol{I}_{N_{orb}^{unocc}} \\otimes \\widetilde{\\boldsymbol{C}}^T)\\left(\\bigoplus_{\\widetilde{a}} \\boldsymbol{F} -\n",
    "\\widetilde{\\boldsymbol{\\epsilon}} \\otimes \\boldsymbol{S}\\right)\\vec{\\widetilde{\\lambda}}^{KS} + 2(\\boldsymbol{I}_{N_{orb}^{unocc}} \\otimes \\widetilde{\\boldsymbol{C}}^T) \\left(\\bigoplus_{\\widetilde{a}} \\boldsymbol{S}\\widetilde{\\boldsymbol{C}}\\vec{e}_{\\widetilde{a}}\\right)\\vec{\\widetilde{\\lambda}}^n = \\vec{0} \\\\\n",
    "\\left(\\bigoplus_{\\widetilde{a}} \\widetilde{\\boldsymbol{C}}^T\\boldsymbol{F} -\n",
    "(\\boldsymbol{I}_{N_{orb}^{unocc}} \\otimes \\widetilde{\\boldsymbol{C}}^T)(\\widetilde{\\boldsymbol{\\epsilon}} \\otimes \\boldsymbol{S})\\right)\\vec{\\widetilde{\\lambda}}^{KS} + 2 \\left(\\bigoplus_{\\widetilde{a}}\\widetilde{\\boldsymbol{C}}^T \\boldsymbol{S}\\widetilde{\\boldsymbol{C}}\\vec{e}_{\\widetilde{a}}\\right)\\vec{\\widetilde{\\lambda}}^n = \\vec{0} \\\\\n",
    "\\end{gathered}\n",
    "\\end{equation*}\n",
    "\n",
    "\\begin{equation*}\n",
    "\\begin{gathered}\n",
    "\\left(\\bigoplus_{\\widetilde{a}} \\widetilde{\\boldsymbol{\\epsilon}}\\widetilde{\\boldsymbol{C}}^T\\boldsymbol{S} -\n",
    "(\\widetilde{\\boldsymbol{\\epsilon}} \\otimes \\widetilde{\\boldsymbol{C}}^T\\boldsymbol{S})\\right)\\vec{\\widetilde{\\lambda}}^{KS} + 2 \\left(\\bigoplus_{\\widetilde{a}}\\vec{e}_{\\widetilde{a}}\\right)\\vec{\\widetilde{\\lambda}}^n = \\vec{0} \\\\\n",
    "\\bigoplus_{\\widetilde{a}} \\left(\\widetilde{\\boldsymbol{\\epsilon}}\\widetilde{\\boldsymbol{C}}^T\\boldsymbol{S} -\n",
    "\\epsilon_{\\widetilde{a}}\n",
    "\\widetilde{\\boldsymbol{C}}^T\\boldsymbol{S}\\right)\\vec{\\widetilde{\\lambda}}^{KS} + 2 \\left(\\bigoplus_{\\widetilde{a}}\\vec{e}_{\\widetilde{a}}\\right)\\vec{\\widetilde{\\lambda}}^n = \\vec{0}\n",
    "\\end{gathered}\n",
    "\\end{equation*}\n",
    "\n",
    "then by $\\bigoplus_{\\widetilde{a}} \\vec{e}_{\\widetilde{a}}^T$ :\n",
    "\n",
    "\\begin{equation}\n",
    "\\begin{gathered}\n",
    "\\bigoplus_{\\widetilde{a}} \\vec{e}_{\\widetilde{a}}^T\\left(\\widetilde{\\boldsymbol{\\epsilon}}\\widetilde{\\boldsymbol{C}}^T\\boldsymbol{S} -\n",
    "\\epsilon_{\\widetilde{a}}\n",
    "\\widetilde{\\boldsymbol{C}}^T\\boldsymbol{S}\\right)\\vec{\\widetilde{\\lambda}}^{KS} + 2 \\left(\\bigoplus_{\\widetilde{a}}\\vec{e}_{\\widetilde{a}}^T\\vec{e}_{\\widetilde{a}}\\right)\\vec{\\widetilde{\\lambda}}^n = \\vec{0} \\\\ \n",
    "\\bigoplus_{\\widetilde{a}} \\left(\\epsilon_{\\widetilde{a}}\\vec{e}_{\\widetilde{a}}^T\\widetilde{\\boldsymbol{C}}^T\\boldsymbol{S} -\n",
    "\\epsilon_{\\widetilde{a}}\\vec{e}_{\\widetilde{a}}^T\n",
    "\\widetilde{\\boldsymbol{C}}^T\\boldsymbol{S}\\right)\\vec{\\widetilde{\\lambda}}^{KS} + 2 \\boldsymbol{I}_{N_{orb}^{unocc}}\\vec{\\widetilde{\\lambda}}^n = \\vec{0} \\\\\n",
    "\\vec{\\widetilde{\\lambda}}^n = \\vec{0}\n",
    "\\end{gathered}\n",
    "\\end{equation}\n",
    "\n",
    "So, we left with:\n",
    "\n",
    "\\begin{equation}\n",
    "\\left(\\bigoplus_{\\widetilde{a}} \\boldsymbol{F} -\n",
    "\\widetilde{\\boldsymbol{\\epsilon}} \\otimes \\boldsymbol{S}\\right)\\vec{\\widetilde{\\lambda}}^{KS} = \\vec{0}\n",
    "\\end{equation}\n",
    "\n",
    "or, only for block ${\\widetilde{a}}$:\n",
    "\n",
    "\\begin{equation}\n",
    "\\left(\\boldsymbol{F} -\n",
    "{\\epsilon}_{\\widetilde{a}} \\boldsymbol{S}\\right)\\vec{\\widetilde{\\lambda}}_{\\widetilde{a}}^{KS} = \\vec{0}\n",
    "\\end{equation}\n",
    "\n",
    "Let us take a derivative with respect to ${\\epsilon}_{\\widetilde{a}}$:\n",
    "\n",
    "\\begin{equation}\n",
    "- \\boldsymbol{S}\\vec{\\widetilde{\\lambda}}_{\\widetilde{a}}^{KS} = \\vec{0}\n",
    "\\end{equation}\n",
    "\n",
    "$\\boldsymbol{S}$ is a positive-definite matrix, thus it is invertable:\n",
    "\n",
    "\\begin{equation}\n",
    "\\begin{gathered}\n",
    "- \\boldsymbol{S}^{-1}\\boldsymbol{S}\\vec{\\widetilde{\\lambda}}_{\\widetilde{a}}^{KS} = \\boldsymbol{S}^{-1}\\vec{0} \\\\\n",
    "\\vec{\\widetilde{\\lambda}}_{\\widetilde{a}}^{KS} = \\vec{0}\n",
    "\\end{gathered}\n",
    "\\end{equation}\n",
    "\n",
    "Because $\\widetilde{a}$ was arbitary, the whole vector is zero:\n",
    "\n",
    "\\begin{equation}\n",
    "\\vec{\\widetilde{\\lambda}}^{KS} = \\vec{0}\n",
    "\\end{equation}\n",
    "\n",
    "It is easy to show, that:\n",
    "\n",
    "\\begin{equation}\n",
    "\\vec{\\lambda}^T\\frac{\\partial \\vec{\\Phi}}{\\partial \\vec{\\Theta}} =\n",
    "\\begin{pmatrix}\n",
    "\\vec{\\bar{\\lambda}}^{KS,T} & 0 & \\vec{\\bar{\\lambda}}^{n,T} & 0\n",
    "\\end{pmatrix}\n",
    "\\begin{pmatrix}\n",
    "\\frac{\\partial\\vec{\\bar{\\Phi}}^{KS}}{\\partial \\vec{\\Theta}} \\\\\n",
    "\\frac{\\partial\\vec{\\widetilde{\\Phi}}^{KS}}{\\partial \\vec{\\Theta}} \\\\\n",
    "0 \\\\\n",
    "0\n",
    "\\end{pmatrix} = \\vec{\\bar{\\lambda}}^{KS,T}\\frac{\\partial\\vec{\\bar{\\Phi}}^{KS}}{\\partial \\vec{\\Theta}} = \n",
    "\\begin{pmatrix}\n",
    "\\vec{\\bar{\\lambda}}^{KS,T} & \\vec{\\bar{\\lambda}}^{n,T}\n",
    "\\end{pmatrix}\n",
    "\\begin{pmatrix}\n",
    "\\frac{\\partial\\vec{\\bar{\\Phi}}^{KS}}{\\partial \\vec{\\Theta}} \\\\\n",
    "0\n",
    "\\end{pmatrix} = \n",
    "\\vec{\\bar{\\lambda}}^T\\frac{\\partial \\vec{\\bar{\\Phi}}}{\\partial \\vec{\\Theta}}\n",
    "\\end{equation}\n",
    "\n",
    "\\begin{equation}\n",
    "\\left(\\frac{\\partial \\vec{\\bar{\\Phi}}}{\\partial \\vec{\\bar{X}}}\\right)^T\\vec{\\bar{\\lambda}} = \\left(\\frac{\\partial E}{\\partial \\vec{\\bar{X}}}\\right)^T\n",
    "\\end{equation}\n",
    "\n",
    "In practice, this means that we can use $\\vec{\\bar{X}}$ and $\\vec{\\bar{\\Phi}}$ instead of $\\vec{X}$ and $\\vec{\\Phi}$, respectively. It allows us to significantly speed up calculation of adjoint vector."
   ]
  },
  {
   "cell_type": "markdown",
   "metadata": {},
   "source": [
    "### $\\partial\\vec{\\Phi}^{KS}(\\boldsymbol{C},\\boldsymbol{\\epsilon};\\;\\vec{\\Theta}) / \\partial\\vec{C}$ is symmetric for UKS-LDA and RKS-LDA\n",
    "\n",
    "We want to show that $\\boldsymbol{\\alpha}$ is symmetric under certain conditions, namely, if we deal with situation \n",
    "\n",
    "\\begin{equation}\n",
    "\\boldsymbol{\\bar{f}}=\\bar{f}\\boldsymbol{I}_{N_{orb}^{occ}}\n",
    "\\end{equation}\n",
    "\n",
    "It occurs in restricted (RKS, $\\bar{f}=2$) and unrestricted Kohn-Sham (UKS, $\\bar{f}=1$) methods.\n",
    "\n",
    "At first, we have to show, that functional derivative from Hamiltonian with respect to electronic density in the case of LDA:\n",
    "\n",
    "\\begin{equation}\n",
    "\\frac{\\delta \n",
    " H^{LDA}[\\rho](\\vec{r};\\;\\vec{\\Theta})\n",
    "}{\\delta \\rho(\\vec{r'})} = \\frac{1}{|\\vec{r}-\\vec{r'}|}\n",
    "+\n",
    "\\frac{\\partial V_{XC}(\\rho;\\;\\vec{\\Theta})}{\\partial \\rho}\\delta(\\vec{r} - \\vec{r'})\n",
    "\\end{equation}\n",
    "\n",
    "is invariant to $r \\leftrightarrow r'$ exchange:\n",
    "\n",
    "\\begin{equation}\n",
    "\\frac{\\delta \n",
    " H^{LDA}[\\rho](\\vec{r'};\\;\\vec{\\Theta})\n",
    "}{\\delta \\rho(\\vec{r})} = \\frac{1}{|\\vec{r'}-\\vec{r}|}\n",
    "+\n",
    "\\frac{\\partial V_{XC}(\\rho;\\;\\vec{\\Theta})}{\\partial \\rho}\\delta(\\vec{r'} - \\vec{r}) = \\frac{1}{|\\vec{r}-\\vec{r'}|}\n",
    "+\n",
    "\\frac{\\partial V_{XC}(\\rho;\\;\\vec{\\Theta})}{\\partial \\rho}\\delta(\\vec{r} - \\vec{r'}) = \\frac{\\delta \n",
    " H^{LDA}[\\rho](\\vec{r};\\;\\vec{\\Theta})\n",
    "}{\\delta \\rho(\\vec{r'})}\n",
    "\\end{equation}\n",
    "\n",
    "It helps us to show $\\boldsymbol{G} = \\boldsymbol{G}^T$:\n",
    "\n",
    "\\begin{equation}\n",
    "\\begin{aligned}\n",
    "\\boldsymbol{G}^T = &\\left(\\iint (\\vec{\\chi}(\\vec{r}) \\otimes\\vec{\\chi}(\\vec{r}))\\frac{\\delta \n",
    " H[\\rho](\\vec{r};\\;\\vec{\\Theta})\n",
    "}{\\delta \\rho(\\vec{r'})}(\\vec{\\chi}^T(\\vec{r'}) \\otimes\\vec{\\chi}^T(\\vec{r'}))d\\vec{r}d\\vec{r'}\\right)^T \\\\\n",
    "&\\left(\\iint (\\vec{\\chi}(\\vec{r'}) \\otimes\\vec{\\chi}(\\vec{r'}))\\frac{\\delta \n",
    " H[\\rho](\\vec{r};\\;\\vec{\\Theta})\n",
    "}{\\delta \\rho(\\vec{r'})}(\\vec{\\chi}^T(\\vec{r}) \\otimes\\vec{\\chi}^T(\\vec{r})) d\\vec{r}d\\vec{r'}\\right) = \\\\\n",
    "&\\left(\\iint (\\vec{\\chi}(\\vec{r}) \\otimes\\vec{\\chi}(\\vec{r}))\\frac{\\delta \n",
    " H[\\rho](\\vec{r'};\\;\\vec{\\Theta})\n",
    "}{\\delta \\rho(\\vec{r})}(\\vec{\\chi}^T(\\vec{r'}) \\otimes\\vec{\\chi}^T(\\vec{r'})) d\\vec{r'}d\\vec{r}\\right) = \\\\\n",
    "&\\left(\\iint (\\vec{\\chi}(\\vec{r}) \\otimes\\vec{\\chi}(\\vec{r}))\\frac{\\delta \n",
    " H[\\rho](\\vec{r};\\;\\vec{\\Theta})\n",
    "}{\\delta \\rho(\\vec{r'})}(\\vec{\\chi}^T(\\vec{r'}) \\otimes\\vec{\\chi}^T(\\vec{r'})) d\\vec{r}d\\vec{r'}\\right) = \\boldsymbol{G}\n",
    "\\end{aligned}\n",
    "\\end{equation}\n",
    "\n",
    "Now it is clear that\n",
    "\n",
    "\\begin{equation}\n",
    "\\begin{gathered}\n",
    "\\frac{\\partial\\vec{\\Phi}^{KS}(\\boldsymbol{C},\\boldsymbol{\\epsilon};\\;\\vec{\\Theta})}{\\partial \\vec{C}} = 2\\bar{f}(\\boldsymbol{\\bar{C}}^T \\otimes \\boldsymbol{I}_{N_{bas}})\\boldsymbol{G}(\\boldsymbol{\\bar{C}} \\otimes \\boldsymbol{I}_{N_{bas}}) +\n",
    "(\\boldsymbol{I}_{N_{orb}^{occ}} \\otimes\\boldsymbol{F}) -\n",
    "(\\boldsymbol{\\bar{\\epsilon}} \\otimes \\boldsymbol{S})\n",
    "\\end{gathered}\n",
    "\\end{equation}\n",
    "\n",
    "is symmetric. This fact may help us to speed up calculation of this matrix.\n"
   ]
  },
  {
   "cell_type": "markdown",
   "metadata": {},
   "source": [
    "## Computational Section."
   ]
  },
  {
   "cell_type": "markdown",
   "metadata": {
    "datalore": {
     "hide_input_from_viewers": false,
     "hide_output_from_viewers": false,
     "node_id": "2rd8cXFrI617GyeNAptEQ6",
     "report_properties": {},
     "type": "MD"
    }
   },
   "source": [
    "### Preparing the globals"
   ]
  },
  {
   "cell_type": "markdown",
   "metadata": {
    "datalore": {
     "hide_input_from_viewers": false,
     "hide_output_from_viewers": false,
     "node_id": "pC39fktFfS3knkTgR6lG6m",
     "report_properties": {},
     "type": "MD"
    }
   },
   "source": [
    "#### Imports"
   ]
  },
  {
   "cell_type": "code",
   "execution_count": 1,
   "metadata": {
    "datalore": {
     "hide_input_from_viewers": false,
     "hide_output_from_viewers": false,
     "node_id": "V96IjHZ3bQiFZvggM3jn6C",
     "report_properties": {},
     "type": "CODE"
    }
   },
   "outputs": [],
   "source": [
    "import dqc\n",
    "import pyscf\n",
    "from pyscf import gto, dft, scf, cc\n",
    "import numpy\n",
    "import torch\n",
    "import xitorch as xt\n",
    "from math import pi\n",
    "import sys \n",
    "import time\n",
    "import pandas as pd\n",
    "from IPython.display import display, HTML, Math\n",
    "import numba as nb\n",
    "import matplotlib.pyplot as plt"
   ]
  },
  {
   "cell_type": "markdown",
   "metadata": {},
   "source": [
    "#### Hardware and software specifications:"
   ]
  },
  {
   "cell_type": "code",
   "execution_count": 2,
   "metadata": {},
   "outputs": [
    {
     "name": "stdout",
     "output_type": "stream",
     "text": [
      "PySCF version: 2.1.1\n",
      "DQC version: 0.1.0\n"
     ]
    }
   ],
   "source": [
    "print(f'PySCF version: {pyscf.__version__}')\n",
    "print(f'DQC version: {dqc.__version__}')"
   ]
  },
  {
   "cell_type": "code",
   "execution_count": 3,
   "metadata": {},
   "outputs": [
    {
     "name": "stdout",
     "output_type": "stream",
     "text": [
      "Total RAM: 251.88466262817383 Gb\n",
      "CPU: Intel(R) Xeon(R) CPU E5-2630 v2 @ 2.60GHz\n"
     ]
    }
   ],
   "source": [
    "import cpuinfo\n",
    "import psutil\n",
    "\n",
    "print(f'Total RAM: {psutil.virtual_memory().total / (2**30)} Gb')\n",
    "print(f'CPU: {cpuinfo.get_cpu_info()[\"brand_raw\"]}')"
   ]
  },
  {
   "cell_type": "markdown",
   "metadata": {},
   "source": [
    "#### LDA constants:\n",
    "\n",
    "We use the basic power-type LDA functional with density \n",
    "$$\n",
    "\\epsilon \\left[ \\rho \\right] = a \\cdot \\rho ^ p \n",
    "$$\n",
    "as example."
   ]
  },
  {
   "cell_type": "code",
   "execution_count": 4,
   "metadata": {},
   "outputs": [],
   "source": [
    "LDA_factor = -3.0/4.0 * (3.0 / pi)**(1.0/3.0)\n",
    "LDA_power = 4.0/3.0"
   ]
  },
  {
   "cell_type": "markdown",
   "metadata": {},
   "source": [
    "### Correctness test: energy"
   ]
  },
  {
   "cell_type": "markdown",
   "metadata": {
    "datalore": {
     "hide_input_from_viewers": false,
     "hide_output_from_viewers": false,
     "node_id": "tErq97jOzVSbusn9Qpi8ju",
     "report_properties": {},
     "type": "MD"
    }
   },
   "source": [
    "#### Custom functionals\n",
    "\n",
    "Here we take a look at the ways to implement an LDA functional and compare them to some built-in methods."
   ]
  },
  {
   "cell_type": "markdown",
   "metadata": {
    "datalore": {
     "hide_input_from_viewers": false,
     "hide_output_from_viewers": false,
     "node_id": "c806BJg47HMXR3Eqrppftl",
     "report_properties": {},
     "type": "MD"
    }
   },
   "source": [
    "#### PySCF\n",
    "\n",
    "PySCF accepts custom functionals as Python functions"
   ]
  },
  {
   "cell_type": "code",
   "execution_count": 5,
   "metadata": {
    "datalore": {
     "hide_input_from_viewers": true,
     "hide_output_from_viewers": true,
     "node_id": "iLDNI8SeDIrRd1K7AqA6eB",
     "type": "CODE"
    }
   },
   "outputs": [],
   "source": [
    "def PySCF_LDA_constructor(a, p):\n",
    "    def eval_xc(xc_code, rho, *args, **kwargs):\n",
    "        numpy.nan_to_num(rho) # delete NaNs\n",
    "        rho.clip(0) # delete negative numbers\n",
    "        exc = a * rho ** (p - 1.0)\n",
    "        vrho = a * p * rho ** (p - 1.0)\n",
    "        vxc = (vrho, None, None, None)\n",
    "        fxc = a * p * (p - 1.0) * rho ** (p - 2.0)\n",
    "        return exc, vxc, fxc, None\n",
    "    return eval_xc"
   ]
  },
  {
   "cell_type": "code",
   "execution_count": 6,
   "metadata": {
    "datalore": {
     "hide_input_from_viewers": true,
     "hide_output_from_viewers": true,
     "node_id": "0ynlH5LkdPZXEsDBKlt7M6",
     "type": "CODE"
    }
   },
   "outputs": [],
   "source": [
    "def pyscf_custom_LDA_calculator_of_energy(_mol, a = LDA_factor, p = LDA_power):\n",
    "    scf_mol = gto.M(atom=_mol, basis=\"6-31G\", unit=\"Bohr\", verbose=0)\n",
    "    \n",
    "    # Timer\n",
    "    start = time.time()\n",
    "    calc_scf = dft.RKS(scf_mol)\n",
    "    calc_scf = calc_scf.define_xc_(PySCF_LDA_constructor(a, p), \"LDA\")\n",
    "    energy = calc_scf.kernel()\n",
    "    dur = time.time() - start\n",
    "    \n",
    "    return energy, calc_scf.converged, dur"
   ]
  },
  {
   "cell_type": "markdown",
   "metadata": {
    "datalore": {
     "hide_input_from_viewers": false,
     "hide_output_from_viewers": false,
     "node_id": "8qLmEZoUjxKVObWR3zoGxx",
     "report_properties": {},
     "type": "MD"
    }
   },
   "source": [
    "#### Built-in functional\n",
    "To compare the results, we would use PySCF's built-in implementation of the same functional"
   ]
  },
  {
   "cell_type": "code",
   "execution_count": 7,
   "metadata": {
    "datalore": {
     "hide_input_from_viewers": false,
     "hide_output_from_viewers": false,
     "node_id": "BaI5aXGDrQurUm2T9Aiy2f",
     "report_properties": {},
     "type": "CODE"
    }
   },
   "outputs": [],
   "source": [
    "def pyscf_builtin_LDA_calculator_of_energy(_mol):\n",
    "    scf_mol = gto.M(atom=_mol, basis=\"6-31G\", unit=\"Bohr\", verbose=0)\n",
    "    \n",
    "    #Timer\n",
    "    start = time.time()\n",
    "    calc_scf = dft.RKS(scf_mol)\n",
    "    calc_scf.xc = \"lda,\" # Built-in LDA functional implementation\n",
    "    energy = calc_scf.kernel()\n",
    "    dur = time.time() - start\n",
    "    \n",
    "    return energy, calc_scf.converged, dur"
   ]
  },
  {
   "cell_type": "markdown",
   "metadata": {
    "datalore": {
     "hide_input_from_viewers": true,
     "hide_output_from_viewers": true,
     "node_id": "tf9s2S2OuoqX9MSN0fHTVn",
     "type": "MD"
    }
   },
   "source": [
    "#### CCSD(T)"
   ]
  },
  {
   "cell_type": "code",
   "execution_count": 8,
   "metadata": {
    "datalore": {
     "hide_input_from_viewers": true,
     "hide_output_from_viewers": true,
     "node_id": "u8lMaSBzCOa4pIYY5pBMlG",
     "type": "CODE"
    }
   },
   "outputs": [],
   "source": [
    "def pyscf_CCSD_T_calculator_of_energy(_mol):\n",
    "    scf_mol = gto.M(atom=_mol, basis=\"6-31G\", unit=\"Bohr\", verbose=0)\n",
    "    \n",
    "    #Timer\n",
    "    start = time.time()\n",
    "    hf_ = scf.HF(scf_mol)\n",
    "    hf = hf_.run()\n",
    "    calc_scf = cc.CCSD(hf)\n",
    "    _en = calc_scf.kernel()\n",
    "    et = calc_scf.ccsd_t()\n",
    "    energy = calc_scf.e_tot + et\n",
    "    dur = time.time() - start\n",
    "    \n",
    "    return energy, calc_scf.converged, dur"
   ]
  },
  {
   "cell_type": "markdown",
   "metadata": {
    "datalore": {
     "hide_input_from_viewers": true,
     "hide_output_from_viewers": true,
     "node_id": "CabErmrEgIuTlRyQ4iQU4l",
     "type": "MD"
    }
   },
   "source": [
    "#### DQC\n",
    "\n",
    "DQC accepts custom functionals as objects of classes derived from `dqc.xc.CustomXC`"
   ]
  },
  {
   "cell_type": "code",
   "execution_count": 9,
   "metadata": {
    "datalore": {
     "hide_input_from_viewers": true,
     "hide_output_from_viewers": true,
     "node_id": "ZXuDyJAUqa73YFbnXcLJaF",
     "type": "CODE"
    }
   },
   "outputs": [],
   "source": [
    "class DQC_LDA_contructor(dqc.xc.CustomXC):\n",
    "    def __init__(self, a_par, p_par):\n",
    "        super().__init__()\n",
    "        self.a_par = a_par\n",
    "        self.p_par = p_par\n",
    "        self.number_of_parameters = 2\n",
    "\n",
    "    @property\n",
    "    def family(self):\n",
    "        # 1 for LDA, 2 for GGA, 4 for MGGA\n",
    "        return 1\n",
    "\n",
    "    def get_edensityxc(self, densinfo):\n",
    "        # densinfo has up and down components\n",
    "        if isinstance(densinfo, dqc.utils.SpinParam):\n",
    "            # spin-scaling of the exchange energy\n",
    "            return 0.5 * (self.get_edensityxc(densinfo.u * 2) + self.get_edensityxc(densinfo.d * 2))\n",
    "        else:\n",
    "            rho = densinfo.value.abs() + 1e-15  # safeguarding from nan\n",
    "            return self.a_par * rho ** self.p_par\n",
    "        \n",
    "    def get_edensityxc_derivative(self, densinfo, number_of_parameter):\n",
    "        # densinfo has up and down components\n",
    "        if isinstance(densinfo, dqc.utils.SpinParam):\n",
    "            # spin-scaling of the exchange energy\n",
    "            return 0.5 * (self.get_edensityxc_derivative(densinfo.u * 2, number_of_parameter) \n",
    "                          + self.get_edensityxc_derivative(densinfo.d * 2, number_of_parameter))\n",
    "        else:\n",
    "            rho = densinfo.value.abs() + 1e-15  # safeguarding from nan\n",
    "            if number_of_parameter == 0: # parameter a\n",
    "                return rho ** self.p_par\n",
    "            elif number_of_parameter == 1: # parameter p\n",
    "                return self.a_par * torch.log(rho) * rho ** self.p_par"
   ]
  },
  {
   "cell_type": "code",
   "execution_count": 10,
   "metadata": {
    "datalore": {
     "hide_input_from_viewers": true,
     "hide_output_from_viewers": true,
     "node_id": "x49ZfU4LdQIL1KsmxSnKbp",
     "type": "CODE"
    }
   },
   "outputs": [],
   "source": [
    "def dqc_nograd_custom_LDA_calculator_of_energy(_mol, a = LDA_factor, p = LDA_power):\n",
    "    with torch.no_grad():\n",
    "        atmozs, atomposs = dqc.parse_moldesc(_mol)\n",
    "        dqc_mol = dqc.Mol((atmozs, atomposs), basis=\"6-31G\")\n",
    "\n",
    "        #Timer\n",
    "        start = time.time()\n",
    "        a_par = torch.nn.Parameter(torch.tensor(a, dtype=torch.double))\n",
    "        p_par = torch.nn.Parameter(torch.tensor(p, dtype=torch.double))\n",
    "        qc = dqc.KS(dqc_mol, xc=DQC_LDA_contructor(a_par, p_par))\n",
    "\n",
    "        energy_tensor = qc.run().energy()\n",
    "        energy = energy_tensor.item()\n",
    "        dur = time.time() - start\n",
    "\n",
    "    return energy_tensor, True, dur"
   ]
  },
  {
   "cell_type": "markdown",
   "metadata": {
    "datalore": {
     "hide_input_from_viewers": true,
     "hide_output_from_viewers": true,
     "node_id": "CSjHTRCB8P0ZifrjITux2s",
     "type": "MD"
    }
   },
   "source": [
    "#### Comparison test\n",
    "\n",
    "Let's compare all of the above methods (also, for convenience, all of the results are compiled at the end of the notebook in tables)."
   ]
  },
  {
   "cell_type": "code",
   "execution_count": 11,
   "metadata": {
    "datalore": {
     "hide_input_from_viewers": false,
     "hide_output_from_viewers": false,
     "node_id": "lESczcDxOmGdqByoPm9dzW",
     "report_properties": {},
     "type": "CODE"
    }
   },
   "outputs": [],
   "source": [
    "molecules_for_correctness_tests = {\n",
    "    \"h2\"       :  \"\"\"\n",
    "                  H 0 0 0; H 1.4 0 0\n",
    "                  \"\"\"\n",
    "    ,\n",
    "    \"n2\"       :  \"\"\"\n",
    "                  N 0 0 0; N 2.07 0 0\n",
    "                  \"\"\"\n",
    "    ,\n",
    "    \"water\"    : \"\"\"\n",
    "                 O        0.000000000      0.000000000      0.000000000;\n",
    "                 H        0.000000000      1.434938863      1.126357947;\n",
    "                 H        0.000000000     -1.434938863      1.12635794\n",
    "                 \"\"\"\n",
    "     ,\n",
    "    \"ammonia\" : \"\"\"\n",
    "                 N  0.000  0.000  0.000;\n",
    "                 H  0.000 -1.772 -0.721; \n",
    "                 H  1.535  0.886 -0.721; \n",
    "                 H -1.535  0.886 -0.721\n",
    "                 \"\"\"\n",
    "    ,\n",
    "    \"benzene\" : \"\"\"\n",
    "                C        0.598362921      0.000000000     -4.742986733;\n",
    "                C       -0.557705772     -0.354690359     -4.044822733;\n",
    "                C        1.754431614      0.354690359     -4.044822733;\n",
    "                H       -1.457130878     -0.630640582     -4.587995733;\n",
    "                H        2.653856720      0.630640582     -4.587995733;\n",
    "                C       -0.557705772     -0.354690359     -2.648492733;\n",
    "                C        1.754431614      0.354690359     -2.648492733;\n",
    "                H       -1.457130878     -0.630640582     -2.105319733;\n",
    "                H        2.653856720      0.630640582     -2.105319733;\n",
    "                C        0.598362921      0.000000000     -1.950328733;\n",
    "                H        0.598362921      0.000000000     -0.863981733;\n",
    "                H        0.598362921      0.000000000     -5.829333733\n",
    "                \"\"\"\n",
    "}"
   ]
  },
  {
   "cell_type": "code",
   "execution_count": 12,
   "metadata": {
    "datalore": {
     "hide_input_from_viewers": true,
     "hide_output_from_viewers": true,
     "node_id": "5GuoHEv6WP9UDWCOUkmyGF",
     "type": "CODE"
    }
   },
   "outputs": [],
   "source": [
    "energy_correctness_results = {\n",
    "    \"pyscf_builtin\":    {},\n",
    "    \"pyscf_custom\":     {},\n",
    "    \"pyscf_ccsdt\":      {},\n",
    "    \"dqc_nograd\":       {},\n",
    "}\n",
    "\n",
    "for data_of_method in energy_correctness_results.values():\n",
    "    for mol_name in molecules_for_correctness_tests:\n",
    "        data_of_method[mol_name] = {}"
   ]
  },
  {
   "cell_type": "code",
   "execution_count": 13,
   "metadata": {
    "datalore": {
     "hide_input_from_viewers": true,
     "hide_output_from_viewers": true,
     "node_id": "UY1XdShEAtxTvCwwmS7Jnx",
     "type": "CODE"
    }
   },
   "outputs": [
    {
     "name": "stdout",
     "output_type": "stream",
     "text": [
      "For h2 molecule and pyscf_ccsdt method: energy=-1.151679166076766 Eh, duration=0.2019495964050293 s\n",
      "For h2 molecule and pyscf_builtin method: energy=-1.038617785673881 Eh, duration=0.3523690700531006 s\n"
     ]
    },
    {
     "name": "stderr",
     "output_type": "stream",
     "text": [
      "/tmp/ipykernel_31758/2730193475.py:8: RuntimeWarning: divide by zero encountered in power\n",
      "  fxc = a * p * (p - 1.0) * rho ** (p - 2.0)\n"
     ]
    },
    {
     "name": "stdout",
     "output_type": "stream",
     "text": [
      "For h2 molecule and pyscf_custom method: energy=-1.0386177856738819 Eh, duration=0.5964930057525635 s\n",
      "For h2 molecule and dqc_nograd method: energy=-1.0386170699228434 Eh, duration=0.09677672386169434 s\n",
      "---><---\n",
      "For n2 molecule and pyscf_ccsdt method: energy=-109.1026468001446 Eh, duration=0.30350375175476074 s\n",
      "For n2 molecule and pyscf_builtin method: energy=-107.63947353831045 Eh, duration=0.8276481628417969 s\n",
      "For n2 molecule and pyscf_custom method: energy=-107.63947353831057 Eh, duration=0.8591535091400146 s\n",
      "For n2 molecule and dqc_nograd method: energy=-107.63947314633589 Eh, duration=0.1977062225341797 s\n",
      "---><---\n",
      "For water molecule and pyscf_ccsdt method: energy=-76.12064120720746 Eh, duration=0.21561026573181152 s\n",
      "For water molecule and pyscf_builtin method: energy=-75.15470534025631 Eh, duration=0.987419605255127 s\n",
      "For water molecule and pyscf_custom method: energy=-75.15470534025634 Eh, duration=1.0382978916168213 s\n",
      "For water molecule and dqc_nograd method: energy=-75.15469465302145 Eh, duration=0.25141239166259766 s\n",
      "---><---\n",
      "For ammonia molecule and pyscf_ccsdt method: energy=-56.29214916490409 Eh, duration=0.2841203212738037 s\n",
      "For ammonia molecule and pyscf_builtin method: energy=-55.413604406782845 Eh, duration=1.0541088581085205 s\n",
      "For ammonia molecule and pyscf_custom method: energy=-55.413604406782774 Eh, duration=0.9350714683532715 s\n",
      "For ammonia molecule and dqc_nograd method: energy=-55.41360102926498 Eh, duration=0.251054048538208 s\n",
      "---><---\n",
      "For benzene molecule and pyscf_ccsdt method: energy=-217.07797043633957 Eh, duration=8.881827592849731 s\n",
      "For benzene molecule and pyscf_builtin method: energy=-213.414684215975 Eh, duration=3.9488577842712402 s\n",
      "For benzene molecule and pyscf_custom method: energy=-213.41468421595204 Eh, duration=4.112792253494263 s\n",
      "For benzene molecule and dqc_nograd method: energy=-213.41430597686457 Eh, duration=2.263831853866577 s\n",
      "---><---\n"
     ]
    }
   ],
   "source": [
    "def print_results_energy(mol_name, method_name, e, c, d):\n",
    "    print(f\"For {mol_name} molecule and {method_name} method: energy={e} Eh, duration={d} s\")\n",
    "    if not c:\n",
    "        print(f\"Calculation for {mol_name} and method {method_name} did not converge\", file=sys.stderr)\n",
    "\n",
    "def print_and_save_results_energy(mol_name, method_name, e, c, d):\n",
    "    print_results_energy(mol_name, method_name, e, c, d)\n",
    "    energy_correctness_results[method_name][mol_name][\"energy\"] = e\n",
    "    energy_correctness_results[method_name][mol_name][\"converged\"] = c\n",
    "    energy_correctness_results[method_name][mol_name][\"time\"] = d\n",
    "\n",
    "for mol_name, mol in molecules_for_correctness_tests.items():\n",
    "    e, c, d = pyscf_CCSD_T_calculator_of_energy(mol)\n",
    "    print_and_save_results_energy(mol_name, \"pyscf_ccsdt\", e, c, d)\n",
    "    \n",
    "    e, c, d = pyscf_builtin_LDA_calculator_of_energy(mol)\n",
    "    print_and_save_results_energy(mol_name, \"pyscf_builtin\", e, c, d)\n",
    "\n",
    "    e, c, d = pyscf_custom_LDA_calculator_of_energy(mol, LDA_factor, LDA_power)\n",
    "    print_and_save_results_energy(mol_name, \"pyscf_custom\", e, c, d)\n",
    "\n",
    "    e, c, d = dqc_nograd_custom_LDA_calculator_of_energy(mol, LDA_factor, LDA_power)\n",
    "    print_and_save_results_energy(mol_name, \"dqc_nograd\", e, c, d)\n",
    "    \n",
    "    print(\"---><---\")"
   ]
  },
  {
   "cell_type": "markdown",
   "metadata": {},
   "source": [
    "The results of calculations with custom LDA functionals are in excellent agreement with the results of calculations with builtin LDA functional."
   ]
  },
  {
   "cell_type": "markdown",
   "metadata": {
    "datalore": {
     "hide_input_from_viewers": false,
     "hide_output_from_viewers": false,
     "node_id": "oqSHKSEWrAT2qsYRaJyONL",
     "report_properties": {},
     "type": "MD"
    }
   },
   "source": [
    "### Existing methods for calculation of energy derivatives.\n",
    "\n",
    "The basic way to compute energy derivatives is to use finite differences. DQC also allows to make use of PyTorch's `autograd`. We will also explore the adjoint sensitivity method.\n",
    "\n",
    "From now on, all of the calculations will rely on user defined functionals."
   ]
  },
  {
   "cell_type": "markdown",
   "metadata": {
    "datalore": {
     "hide_input_from_viewers": true,
     "hide_output_from_viewers": true,
     "node_id": "ZjOuChfOcdb0cfKcmfVCns",
     "type": "MD"
    }
   },
   "source": [
    "### Finite differences\n",
    "\n",
    "Calculating derivatives via finite difference is straighforward once there is a way to calculate energy:"
   ]
  },
  {
   "cell_type": "code",
   "execution_count": 14,
   "metadata": {
    "datalore": {
     "hide_input_from_viewers": true,
     "hide_output_from_viewers": true,
     "node_id": "ZS5Qm9R8TG3ohxZlQrEtW5",
     "type": "CODE"
    }
   },
   "outputs": [],
   "source": [
    "def finite_differences_calculator_of_derivatives(method, _mol, a, p, bump_factor=0.00001):\n",
    "    c = True\n",
    "    en, c1, dur = method(_mol, a, p)\n",
    "    c &= c1\n",
    "    da = a * bump_factor\n",
    "    dp = p * bump_factor\n",
    "\n",
    "    en_da, c1, dur1 = method(_mol, a + da, p)\n",
    "    c &= c1\n",
    "    en_dp, c1, dur2 = method(_mol, a, p + dp)\n",
    "    c &= c1\n",
    "\n",
    "    dea = (en_da - en) / da\n",
    "    dep = (en_dp - en) / dp\n",
    "\n",
    "    if not c:\n",
    "        print(f\"One of finite difference computations for {_mol_name} didn't converge with {method}\", file=sys.stderr)\n",
    "\n",
    "    return dea, dep, dur + dur1 + dur2"
   ]
  },
  {
   "cell_type": "markdown",
   "metadata": {
    "datalore": {
     "hide_input_from_viewers": true,
     "hide_output_from_viewers": true,
     "node_id": "qrTQdCyZr8mHVAKz5Dn9tM",
     "type": "MD"
    }
   },
   "source": [
    "### DQC and `torch.autograd`"
   ]
  },
  {
   "cell_type": "code",
   "execution_count": 15,
   "metadata": {
    "datalore": {
     "hide_input_from_viewers": true,
     "hide_output_from_viewers": true,
     "node_id": "qklrokRZgCJ6HaWMU47ZpQ",
     "type": "CODE"
    }
   },
   "outputs": [],
   "source": [
    "def dqc_autograd_calculator_of_derivatives(_mol, a, p):\n",
    "    atmozs, atomposs = dqc.parse_moldesc(_mol)\n",
    "    dqc_mol = dqc.Mol((atmozs, atomposs), basis=\"6-31G\")\n",
    "    \n",
    "    #Timer\n",
    "    start = time.time()\n",
    "    a_par = torch.nn.Parameter(torch.tensor(a, dtype=torch.double))\n",
    "    p_par = torch.nn.Parameter(torch.tensor(p, dtype=torch.double))\n",
    "    qc = dqc.KS(dqc_mol, xc=DQC_LDA_contructor(a_par, p_par))\n",
    "    \n",
    "    energy_tensor = qc.run().energy()\n",
    "    grad = torch.autograd.grad(energy_tensor, (a_par, p_par))\n",
    "    dur = time.time() - start\n",
    "\n",
    "    return grad[0], grad[1], dur"
   ]
  },
  {
   "cell_type": "markdown",
   "metadata": {
    "datalore": {
     "hide_input_from_viewers": true,
     "hide_output_from_viewers": true,
     "node_id": "jE7QhzsPOXSZSHgKohPYF0",
     "type": "MD"
    }
   },
   "source": [
    "### Adjoint sensitivity method"
   ]
  },
  {
   "cell_type": "markdown",
   "metadata": {
    "datalore": {
     "hide_input_from_viewers": true,
     "hide_output_from_viewers": true,
     "node_id": "fDE7wdj18sEXBFfslxXZRt",
     "type": "MD"
    }
   },
   "source": [
    "#### Full algorithm in DQC and pytorch"
   ]
  },
  {
   "cell_type": "markdown",
   "metadata": {
    "datalore": {
     "hide_input_from_viewers": true,
     "hide_output_from_viewers": true,
     "node_id": "Lm4lw1RuKp9OVUYRfwqBts",
     "type": "MD"
    }
   },
   "source": [
    "#### Preparing for calculation\n",
    "\n",
    "Initialize the system, DQC, and set up some variables"
   ]
  },
  {
   "cell_type": "code",
   "execution_count": 16,
   "metadata": {
    "datalore": {
     "hide_input_from_viewers": true,
     "hide_output_from_viewers": true,
     "node_id": "th08MEmgwYVXE0MLgrDk6q",
     "type": "CODE"
    }
   },
   "outputs": [],
   "source": [
    "from dqc.utils.datastruct import SpinParam, ValGrad\n",
    "\n",
    "mol_name_ = \"water\"\n",
    "\n",
    "a_par = torch.nn.Parameter(torch.tensor(LDA_factor, dtype=torch.double))\n",
    "p_par = torch.nn.Parameter(torch.tensor(LDA_power, dtype=torch.double))\n",
    "aj_mol = molecules_for_correctness_tests[mol_name_]\n",
    "atmozs, atomposs = dqc.parse_moldesc(aj_mol)\n",
    "dqc_mol = dqc.Mol((atmozs, atomposs), basis=\"6-31G\")\n",
    "qc = dqc.KS(dqc_mol, xc=DQC_LDA_contructor(a_par, p_par)).run()"
   ]
  },
  {
   "cell_type": "code",
   "execution_count": 17,
   "metadata": {
    "datalore": {
     "hide_input_from_viewers": true,
     "hide_output_from_viewers": true,
     "node_id": "mYbPHZGhmG3u0T0nylnxEC",
     "type": "CODE"
    }
   },
   "outputs": [],
   "source": [
    "def _symm(scp: torch.Tensor):\n",
    "    # forcely symmetrize the tensor\n",
    "    return (scp + scp.transpose(-2, -1)) * 0.5\n",
    "\n",
    "dm = qc._dm.detach().clone()\n",
    "noccorb = qc._engine.hf_engine._norb\n",
    "nallorb = qc.get_system().get_hamiltonian().nao\n",
    "fockian = qc._engine.dm2scp(dm).detach().clone()\n",
    "\n",
    "def eigendecomposition(hf_engine):\n",
    "    if not hf_engine._polarized:\n",
    "        fock = xt.LinearOperator.m(_symm(fockian), is_hermitian=True)\n",
    "        return hf_engine.diagonalize(fock, noccorb)\n",
    "    else:\n",
    "        fock_u = xt.LinearOperator.m(_symm(fockian[0]), is_hermitian=True)\n",
    "        fock_d = xt.LinearOperator.m(_symm(fockian[1]), is_hermitian=True)\n",
    "        return hf_engine.diagonalize(hf_engine, SpinParam(u=fock_u, d=fock_d))\n",
    "\n",
    "energies, coefficients = eigendecomposition(qc._engine.hf_engine)\n",
    "orboccs = qc._engine.orb_weight.detach().clone()"
   ]
  },
  {
   "cell_type": "markdown",
   "metadata": {
    "datalore": {
     "hide_input_from_viewers": true,
     "hide_output_from_viewers": true,
     "node_id": "2hIOmFqZlhml2bMbd0FRws",
     "type": "MD"
    }
   },
   "source": [
    "First, derivatives from energy:\n",
    "\n",
    "#### Calculating $\\frac{\\partial E[\\rho](\\vec{\\theta})}{\\partial \\textbf{C}}$\n",
    "\n",
    "Only canonical (i.e. eigenfunctions of fockian) orbitals can be used:\n",
    "$$ \\frac{\\partial E[\\rho](\\vec{\\theta})}{\\partial C_{bj}} = 2f_b \\sum_i C_{bi}F_{ij} = 2f_b \\epsilon_b C_{bj}$$\n",
    "so\n",
    "$$ \\frac{\\partial E[\\rho](\\vec{\\theta})}{\\partial \\textbf{C}} = 2\\textbf{f}\\epsilon\\textbf{C}$$\n",
    "$\\epsilon$ here is matrix: $\\epsilon_{ab}=\\delta_{ab}\\epsilon_a$"
   ]
  },
  {
   "cell_type": "code",
   "execution_count": 18,
   "metadata": {
    "datalore": {
     "hide_input_from_viewers": true,
     "hide_output_from_viewers": true,
     "node_id": "J8oi9udT0nqtPYzZYWMa2z",
     "type": "CODE"
    }
   },
   "outputs": [],
   "source": [
    "dE_wrt_dC = 2 * torch.einsum(\"b,ib,ij->bj\", orboccs, coefficients, fockian)"
   ]
  },
  {
   "cell_type": "markdown",
   "metadata": {
    "datalore": {
     "hide_input_from_viewers": true,
     "hide_output_from_viewers": true,
     "node_id": "XM813JtTQPwx51HxSJOu0s",
     "type": "MD"
    }
   },
   "source": [
    "#### Calculating $\\frac{\\partial E[\\rho](\\vec{\\theta})}{\\partial \\vec{\\epsilon}}$\n",
    "\n",
    "$$\\frac{\\partial E[\\rho](\\vec{\\theta})}{\\partial \\epsilon_{b}} = 0$$ for all $\\epsilon_b$. So:"
   ]
  },
  {
   "cell_type": "code",
   "execution_count": 19,
   "metadata": {
    "datalore": {
     "hide_input_from_viewers": true,
     "hide_output_from_viewers": true,
     "node_id": "T8ATaKezoqXIRVe6cDbm0Y",
     "type": "CODE"
    }
   },
   "outputs": [],
   "source": [
    "dE_wrt_depsilon = torch.zeros(noccorb)"
   ]
  },
  {
   "cell_type": "markdown",
   "metadata": {
    "datalore": {
     "hide_input_from_viewers": true,
     "hide_output_from_viewers": true,
     "node_id": "QYYMBK3Sw42gvywu1m4bs2",
     "type": "MD"
    }
   },
   "source": [
    "Then, derivatives from normalization equations:\n",
    "\n",
    "#### Calculating $\\frac{\\partial \\vec{\\Phi}(\\textbf{C})}{\\partial \\textbf{C}}$\n",
    "\n",
    "$$\\frac{\\partial \\Phi^{n}_{a}(\\textbf{C})}{\\partial C_{ck}} = 2\\delta_{ac}C_{ck}$$"
   ]
  },
  {
   "cell_type": "code",
   "execution_count": 20,
   "metadata": {
    "datalore": {
     "hide_input_from_viewers": true,
     "hide_output_from_viewers": true,
     "node_id": "ifqahl0MKmnqpDbRuQ7VEw",
     "type": "CODE"
    }
   },
   "outputs": [],
   "source": [
    "occupied_orbitals_kronecker = torch.eye(noccorb)\n",
    "dnorm_wrt_dC = 2 * torch.einsum(\"ac,kc->kac\", occupied_orbitals_kronecker, coefficients)"
   ]
  },
  {
   "cell_type": "markdown",
   "metadata": {
    "datalore": {
     "hide_input_from_viewers": true,
     "hide_output_from_viewers": true,
     "node_id": "urdg78pCr6YcvsWCfnBD6x",
     "type": "MD"
    }
   },
   "source": [
    "#### Calculating $\\frac{\\partial \\vec{\\Phi}(\\textbf{C})}{\\partial \\vec{\\epsilon}}$\n",
    "$$\\frac{\\partial \\Phi^{n}_{a}(\\textbf{C})}{\\partial \\epsilon_b} = 0$$"
   ]
  },
  {
   "cell_type": "code",
   "execution_count": 21,
   "metadata": {
    "datalore": {
     "hide_input_from_viewers": true,
     "hide_output_from_viewers": true,
     "node_id": "UQE5aNTCww7ePqalipH3Pg",
     "type": "CODE"
    }
   },
   "outputs": [],
   "source": [
    "dnorm_wrt_depsilon = torch.zeros((noccorb, noccorb))"
   ]
  },
  {
   "cell_type": "markdown",
   "metadata": {
    "datalore": {
     "hide_input_from_viewers": true,
     "hide_output_from_viewers": true,
     "node_id": "cXqmY0ErS20gavbrC8p9xu",
     "type": "MD"
    }
   },
   "source": [
    "Derivatives from Kohn-Sham equations:\n",
    "\n",
    "#### Calculating $\\frac{\\partial \\textbf{r}(\\textbf{C};\\;\\vec{\\theta})}{\\partial \\textbf{C}}$\n",
    "\n",
    "$$G_{Cou, ijkl} = \\iint b_i(\\vec{r}) \\frac{b_k(\\vec{r'})b_l(\\vec{r'})}{|\\vec{r}-\\vec{r'}|} b_j(\\vec{r})d\\vec{r'}d\\vec{r}$$\n",
    "$$G_{XC, ijkl} = \n",
    "\\int b_i(\\vec{r}) b_k(\\vec{r}) \\frac{\\partial V_{XC}[\\rho](\\vec{r};\\;\\vec{\\theta})}{\\partial \\rho(\\vec{r})}b_l(\\vec{r})b_j(\\vec{r})d\\vec{r}$$\n",
    "$$\\frac{\\partial r_{ia}(\\textbf{C};\\;\\vec{\\theta})}{\\partial C_{ck}} = \n",
    "(F_{ik}[\\rho](\\vec{\\theta}) - \\epsilon_c\\delta_{ik})\\delta_{ac} +\n",
    "2f_c\\sum_j \\sum_{l}C_{cl}\\left(G_{Cou,ijkl} + G_{XC,ijkl}\\right)C_{aj}\n",
    "$$"
   ]
  },
  {
   "cell_type": "markdown",
   "metadata": {
    "datalore": {
     "hide_input_from_viewers": true,
     "hide_output_from_viewers": true,
     "node_id": "CAK9js9lXIxdnUff3aeb1D",
     "type": "MD"
    }
   },
   "source": [
    "First term:"
   ]
  },
  {
   "cell_type": "code",
   "execution_count": 22,
   "metadata": {
    "datalore": {
     "hide_input_from_viewers": true,
     "hide_output_from_viewers": true,
     "node_id": "cyjnsCT5dISFvyhqMGRB4g",
     "type": "CODE"
    }
   },
   "outputs": [],
   "source": [
    "all_orbitals_kronecker = torch.eye(nallorb)\n",
    "dKS_wrt_dC_first_term = torch.einsum(\n",
    "                                            \"ik,ac->iakc\",\n",
    "                                            fockian,\n",
    "                                            occupied_orbitals_kronecker\n",
    "                                        )\n",
    "dKS_wrt_dC_first_term -= torch.einsum(\n",
    "                                            \"c,ik,ac->iakc\",\n",
    "                                            energies,\n",
    "                                            all_orbitals_kronecker,\n",
    "                                            occupied_orbitals_kronecker\n",
    "                                        )"
   ]
  },
  {
   "cell_type": "markdown",
   "metadata": {
    "datalore": {
     "hide_input_from_viewers": true,
     "hide_output_from_viewers": true,
     "node_id": "xnUyHKSTYp8BtijuCDo7l3",
     "type": "MD"
    }
   },
   "source": [
    "Second term (fourDtensor loses symmetry of XC-tensor):"
   ]
  },
  {
   "cell_type": "code",
   "execution_count": 23,
   "metadata": {
    "datalore": {
     "hide_input_from_viewers": true,
     "hide_output_from_viewers": true,
     "node_id": "okGj4baXcZIt7vfiD2Arft",
     "type": "CODE"
    }
   },
   "outputs": [
    {
     "name": "stdout",
     "output_type": "stream",
     "text": [
      "density info torch.Size([52366])\n",
      "started the four term integral computation for torch.Size([52366, 13])...\n"
     ]
    }
   ],
   "source": [
    "four_center_elrep_tensor = torch.einsum(\n",
    "                \"ijkl,lc,ja->iakc\",\n",
    "                qc._engine.hamilton.el_mat.detach().clone(),\n",
    "                coefficients,\n",
    "                coefficients\n",
    "            )\n",
    "\n",
    "def get_dvxc_wrt_dro_xc(xc, densinfo):\n",
    "    # mark the densinfo components as requiring grads\n",
    "    with xc._enable_grad_densinfo(densinfo):\n",
    "        with torch.enable_grad():\n",
    "            edensity = xc.get_edensityxc(densinfo)  # (*BD, ngrid)\n",
    "        grad_outputs = torch.ones_like(edensity)\n",
    "        # print(f'edensity {edensity.shape}')\n",
    "        grad_enabled = torch.is_grad_enabled()\n",
    "\n",
    "        if not isinstance(densinfo, ValGrad):  # polarized case\n",
    "            raise NotImplementedError(\"polarized case is not implemented\")\n",
    "        else:  # unpolarized case\n",
    "            if xc.family == 1:  # LDA\n",
    "                # Here we are taking autograd.grad derivative twice:\n",
    "                potinfo, = torch.autograd.grad(\n",
    "                    edensity, densinfo.value, create_graph=grad_enabled,\n",
    "                    grad_outputs=grad_outputs)\n",
    "                # print(f'potinfo {potinfo.shape}')\n",
    "                derivative_of_potinfo_wrt_ro, = torch.autograd.grad(\n",
    "                    potinfo, densinfo.value, grad_outputs=grad_outputs)\n",
    "                return ValGrad(value=derivative_of_potinfo_wrt_ro)\n",
    "            else:  # GGA and others\n",
    "                raise NotImplementedError(\"Default dvxc wrt dro for this family is not implemented\")\n",
    "\n",
    "@nb.njit(parallel=True)\n",
    "def _four_term_integral(m, b, o):\n",
    "    N = b.shape[1]  # size of basis set\n",
    "    n = o.shape[1]  # number of occupied orbitals\n",
    "    R = m.shape[0]  # size of grid\n",
    "    res = numpy.zeros((N, n, N, n))\n",
    "    for i in nb.prange(N):\n",
    "        for a in range(n):\n",
    "            for k in range(i+1):\n",
    "                for c in range(a+1):\n",
    "                    for r in range(R):\n",
    "                        value = m[r] * b[r, i] * o[r, a] * b[r, k] * o[r, c]\n",
    "                        res[i, a, k, c] += value\n",
    "                        if a != c:\n",
    "                            res[i, c, k, a] += value\n",
    "                            if i != k:\n",
    "                                res[k, a, i, c] += value\n",
    "                                res[k, c, i, a] += value\n",
    "                        elif i != k:\n",
    "                            res[k, a, i, c] += value\n",
    "    return res\n",
    "\n",
    "def get_dvxc_wrt_dro_from_derivative_of_potinfo_wrt_ro(hamiltonian, derivative_of_potinfo_wrt_ro: ValGrad):\n",
    "    print(f'started the four term integral computation for {hamiltonian.basis.shape}...')\n",
    "    molecular_orbitals_at_grid = hamiltonian.basis @ coefficients\n",
    "    derivative_of_potinfo_wrt_ro_dvolume = derivative_of_potinfo_wrt_ro.value * hamiltonian.dvolume\n",
    "    mat = _four_term_integral(derivative_of_potinfo_wrt_ro_dvolume.numpy(),\n",
    "                                hamiltonian.basis.numpy(),\n",
    "                                molecular_orbitals_at_grid.numpy())\n",
    "    return torch.from_numpy(mat)\n",
    "\n",
    "def construct_vxc_derivative_tensor(hamiltonian, dm):\n",
    "    densinfo = SpinParam.apply_fcn(lambda dm_: hamiltonian._dm2densinfo(dm_), dm)  # value: (*BD, ngrid)\n",
    "    print(f'density info {densinfo.value.shape}')\n",
    "    derivative_of_potinfo_wrt_ro = get_dvxc_wrt_dro_xc(hamiltonian.xc, densinfo)  # value: (*BD, ngrid)\n",
    "    dvxc_wrt_dro = get_dvxc_wrt_dro_from_derivative_of_potinfo_wrt_ro(hamiltonian,\n",
    "                                                                                derivative_of_potinfo_wrt_ro)\n",
    "    return dvxc_wrt_dro\n",
    "\n",
    "fourDtensor = four_center_elrep_tensor + \\\n",
    "                construct_vxc_derivative_tensor(qc._engine.hamilton, dm)\n",
    "dKS_wrt_dC_second_term = 2 * torch.einsum(\"c,iakc->iakc\", orboccs, fourDtensor)"
   ]
  },
  {
   "cell_type": "code",
   "execution_count": 24,
   "metadata": {
    "datalore": {
     "hide_input_from_viewers": true,
     "hide_output_from_viewers": true,
     "node_id": "4vZLwpPfc6cuwOqGARRE3w",
     "type": "CODE"
    }
   },
   "outputs": [],
   "source": [
    "dKS_wrt_dC = dKS_wrt_dC_first_term + dKS_wrt_dC_second_term"
   ]
  },
  {
   "cell_type": "markdown",
   "metadata": {
    "datalore": {
     "hide_input_from_viewers": true,
     "hide_output_from_viewers": true,
     "node_id": "jtGrbusSbOws951HDxqpeb",
     "type": "MD"
    }
   },
   "source": [
    "#### Calculating $\\frac{\\partial \\Phi(\\textbf{C};\\;\\vec{\\theta})}{\\partial \\vec{\\epsilon}}$\n",
    "\n",
    "$$\\frac{\\partial \\Phi^{KS}_{ia}(\\textbf{C};\\;\\vec{\\theta})}{\\partial \\epsilon_{c}} = -\\delta_{ac}C_{ai}$$"
   ]
  },
  {
   "cell_type": "code",
   "execution_count": 25,
   "metadata": {
    "datalore": {
     "hide_input_from_viewers": true,
     "hide_output_from_viewers": true,
     "node_id": "vy6yaViAwTrZHgXv8dqIZB",
     "type": "CODE"
    }
   },
   "outputs": [],
   "source": [
    "dKS_wrt_depsilon = -1 * torch.einsum(\n",
    "                                            \"ac,ia->iac\",\n",
    "                                            occupied_orbitals_kronecker,\n",
    "                                            coefficients\n",
    "                                        )"
   ]
  },
  {
   "cell_type": "markdown",
   "metadata": {
    "datalore": {
     "hide_input_from_viewers": true,
     "hide_output_from_viewers": true,
     "node_id": "9GO05Nbu6khQcopKEjArsJ",
     "type": "MD"
    }
   },
   "source": [
    "Now, we are ready to calculate the adjoint vector.\n",
    "\n",
    "#### Concatenate tensors:\n",
    "\n",
    "$$\\left( \\frac{\\partial E}{\\partial \\vec{X}} \\right)_{N_{orb}j+c} =  \\begin{cases}\n",
    "   \\frac{\\partial E}{\\partial С_{cj}} &\\text{if $0 \\le j < N_{bas}$} \\\\\n",
    "   \\frac{\\partial E}{\\partial \\epsilon_{c}} &\\text{if $j = N_{bas}$}\n",
    " \\end{cases}$$"
   ]
  },
  {
   "cell_type": "code",
   "execution_count": 26,
   "metadata": {
    "datalore": {
     "hide_input_from_viewers": true,
     "hide_output_from_viewers": true,
     "node_id": "ySmwdfmG8CnP8ZnJfH47VR",
     "type": "CODE"
    }
   },
   "outputs": [],
   "source": [
    "dE_wrt_dX = torch.cat((dE_wrt_dC, dE_wrt_depsilon.unsqueeze(-1)), 1) \\\n",
    "            .t().reshape(-1, )"
   ]
  },
  {
   "cell_type": "markdown",
   "metadata": {
    "datalore": {
     "hide_input_from_viewers": true,
     "hide_output_from_viewers": true,
     "node_id": "cO91MjD3Pkmp1LOJR33XQi",
     "type": "MD"
    }
   },
   "source": [
    "$$\\left( \\frac{\\partial \\vec{\\Phi}}{\\partial \\vec{X}} \\right)_{N_{orb}i+a,N_{orb}j+c} =  \\begin{cases}\n",
    "   \\frac{\\partial \\Phi^{KS}_{ia}}{\\partial С_{cj}} &\\text{if $0 \\le i < N_{bas}$ and $0 \\le j < N_{bas}$} \\\\\n",
    "   \\frac{\\partial \\Phi^{KS}_{ia}}{\\partial \\epsilon_{c}} &\\text{if $0 \\le i < N_{bas}$ and $j = N_{bas}$} \\\\\n",
    "   \\frac{\\partial \\Phi^{n}_{a}}{\\partial С_{cj}} &\\text{if $i = N_{bas}$ and $0 \\le j < N_{bas}$} \\\\\n",
    "   \\frac{\\partial \\Phi^{n}_{a}}{\\partial \\epsilon_{c}} &\\text{if $i = N_{bas}$ and $j = N_{bas}$}\n",
    " \\end{cases}$$"
   ]
  },
  {
   "cell_type": "code",
   "execution_count": 27,
   "metadata": {
    "datalore": {
     "hide_input_from_viewers": true,
     "hide_output_from_viewers": true,
     "node_id": "udf51Zn5CL50RIFXlsSAcC",
     "type": "CODE"
    }
   },
   "outputs": [],
   "source": [
    "N = nallorb * noccorb\n",
    "\n",
    "upper = torch.cat((\n",
    "                    dKS_wrt_dC.reshape((N, N)),\n",
    "                    dKS_wrt_depsilon.reshape((N, noccorb))\n",
    "                ), 1)\n",
    "lower = torch.cat((\n",
    "                    dnorm_wrt_dC.reshape(N, noccorb).t(),\n",
    "                    dnorm_wrt_depsilon\n",
    "                ), 1)\n",
    "dY_wrt_dX = torch.cat((upper, lower), 0)"
   ]
  },
  {
   "cell_type": "markdown",
   "metadata": {
    "datalore": {
     "hide_input_from_viewers": true,
     "hide_output_from_viewers": true,
     "node_id": "2xfxuj6VpB6O8luKgS3nf2",
     "type": "MD"
    }
   },
   "source": [
    "#### Find the adjoint vector:"
   ]
  },
  {
   "cell_type": "code",
   "execution_count": 28,
   "metadata": {
    "datalore": {
     "hide_input_from_viewers": true,
     "hide_output_from_viewers": true,
     "node_id": "WNqSkggDO4en1bkMpAY77a",
     "type": "CODE"
    }
   },
   "outputs": [],
   "source": [
    "adjoint = torch.linalg.solve(dY_wrt_dX, dE_wrt_dX)"
   ]
  },
  {
   "cell_type": "markdown",
   "metadata": {
    "datalore": {
     "hide_input_from_viewers": true,
     "hide_output_from_viewers": true,
     "node_id": "ucGgEk3BsXGhQbErkt63mm",
     "type": "MD"
    }
   },
   "source": [
    "Now, we calculate derivatives with respect to parameters:\n",
    "\n",
    "#### Derivative from energy:\n",
    "$$ \\frac{\\partial E[\\rho](\\vec{\\theta})}{\\partial \\vec{\\theta}} = \n",
    " \\int  \\frac{\\partial \\left(\\rho(\\vec{r})\\epsilon_{XC}[\\rho](\\vec{r};\\;\\vec{\\theta})\\right)}{\\partial \\vec{\\theta}}d\\vec{r} \n",
    "$$\n",
    "so we just can put $\\frac{\\partial}{\\partial \\vec{\\theta}}\\left( \\rho(\\vec{r})\\epsilon_{XC}[\\rho](\\vec{r};\\;\\vec{\\theta}) \\right)$ instead of $\\rho(\\vec{r})\\epsilon_{XC}[\\rho](\\vec{r};\\;\\vec{\\theta})$ to DQC calculation."
   ]
  },
  {
   "cell_type": "code",
   "execution_count": 29,
   "metadata": {
    "datalore": {
     "hide_input_from_viewers": true,
     "hide_output_from_viewers": true,
     "node_id": "zYWNSaTMFQp8JjeevxctVS",
     "type": "CODE"
    }
   },
   "outputs": [],
   "source": [
    "def construct_dexc_wrt_dtheta(hamiltonian, dm, parameter_number):\n",
    "    densinfo = SpinParam.apply_fcn(\n",
    "        lambda dm_: hamiltonian._dm2densinfo(dm_), dm)  # (spin) value: (*BD, nr)\n",
    "    edens_derivative = hamiltonian.xc.get_edensityxc_derivative(densinfo, parameter_number).detach()  # (*BD, nr)\n",
    "    return torch.sum(hamiltonian.grid.get_dvolume() * edens_derivative, dim=-1)\n",
    "\n",
    "number_of_parameters = qc._engine.hamilton.xc.number_of_parameters\n",
    "list_of_tensors = []\n",
    "for parameter_number in range(number_of_parameters):\n",
    "    current_tensor = construct_dexc_wrt_dtheta(qc._engine.hamilton, dm, parameter_number)\n",
    "    list_of_tensors.append(current_tensor.unsqueeze(-1))\n",
    "dE_wrt_dtheta = torch.cat(list_of_tensors, 0)"
   ]
  },
  {
   "cell_type": "markdown",
   "metadata": {
    "datalore": {
     "hide_input_from_viewers": true,
     "hide_output_from_viewers": true,
     "node_id": "Mn9X3YlCem0yy7EvZFWOAi",
     "type": "MD"
    }
   },
   "source": [
    "#### Derivative from normalization equations:\n",
    "\n",
    "$$\\frac{\\partial \\Phi^{n}_{a}(\\textbf{C})}{\\partial\\vec{\\theta}}= 0$$"
   ]
  },
  {
   "cell_type": "code",
   "execution_count": 30,
   "metadata": {
    "datalore": {
     "hide_input_from_viewers": true,
     "hide_output_from_viewers": true,
     "node_id": "fdyB2qDrTjTGgEab8sxsUP",
     "type": "CODE"
    }
   },
   "outputs": [],
   "source": [
    "number_of_parameters = qc._engine.hamilton.xc.number_of_parameters\n",
    "dnorm_wrt_dtheta = torch.zeros(noccorb, number_of_parameters)"
   ]
  },
  {
   "cell_type": "markdown",
   "metadata": {
    "datalore": {
     "hide_input_from_viewers": true,
     "hide_output_from_viewers": true,
     "node_id": "62IyQN4rHloTAVdXj60CTd",
     "type": "MD"
    }
   },
   "source": [
    "#### Derivative from Kohn-Sham equations:\n",
    "\n",
    "$$\\frac{\\partial \\Phi^{KS}_{ia}(\\textbf{C};\\;\\vec{\\theta})}{\\partial \\vec{\\theta}} =\n",
    "\\sum_j C_{aj}\\int b_i(\\vec{r}) \\frac{\\partial V_{XC}[\\rho](\\vec{r};\\;\\vec{\\theta})}{\\partial \\vec{\\theta}} b_j(\\vec{r})d\\vec{r}$$\n",
    "\n",
    "As we know, $$V_{XC}[\\rho](\\vec{r};\\;\\vec{\\theta}) = \\frac{\\delta E_{XC}[\\rho]}{\\delta\\rho(\\vec{r})} = \\frac{\\delta \\left(\\rho(\\vec{r})\\epsilon_{XC}[\\rho](\\vec{r};\\;\\vec{\\theta})\\right)}{\\delta\\rho(\\vec{r})}$$\n",
    "So\n",
    "\n",
    "$$\\frac{\\partial \\Phi^{KS}_{ia}(\\textbf{C};\\;\\vec{\\theta})}{\\partial \\vec{\\theta}} =\n",
    "\\sum_j C_{aj}\\int b_i(\\vec{r}) \\frac{\\partial}{\\partial \\vec{\\theta}}\\frac{\\delta\\left(\\rho(\\vec{r})\\epsilon_{XC}[\\rho](\\vec{r};\\;\\vec{\\theta})\\right)}{\\delta\\rho(\\vec{r})} b_j(\\vec{r})d\\vec{r} = \n",
    "\\sum_j C_{aj}\\int b_i(\\vec{r}) \\frac{\\delta}{\\delta\\rho(\\vec{r})} \\frac{\\partial \\left(\\rho(\\vec{r})\\epsilon_{XC}[\\rho](\\vec{r};\\;\\vec{\\theta})\\right)}{\\partial \\vec{\\theta}} b_j(\\vec{r})d\\vec{r}\n",
    "$$\n",
    "It means, we can use $\\frac{\\partial}{\\partial \\vec{\\theta}}\\left( \\rho(\\vec{r})\\epsilon_{XC}[\\rho](\\vec{r};\\;\\vec{\\theta}) \\right)$ instead of $\\rho(\\vec{r})\\epsilon_{XC}[\\rho](\\vec{r};\\;\\vec{\\theta})$ in DQC function`get_vxc()`and get suitable result. This function takes densinfo and takes functional derivative with respect to density."
   ]
  },
  {
   "cell_type": "code",
   "execution_count": 31,
   "metadata": {
    "datalore": {
     "hide_input_from_viewers": true,
     "hide_output_from_viewers": true,
     "node_id": "bfDx1QiGsQl0xLImAEspk2",
     "type": "CODE"
    }
   },
   "outputs": [],
   "source": [
    "def get_dvxc_wrt_dtheta(xc, densinfo, parameter_number):\n",
    "    # mark the densinfo components as requiring grads\n",
    "    with xc._enable_grad_densinfo(densinfo):\n",
    "        with torch.enable_grad():\n",
    "            edensity_derivative = xc.get_edensityxc_derivative(densinfo, parameter_number)  # (*BD, nr)\n",
    "        grad_outputs = torch.ones_like(edensity_derivative)\n",
    "        grad_enabled = torch.is_grad_enabled()\n",
    "\n",
    "        if not isinstance(densinfo, ValGrad):  # polarized case\n",
    "            raise NotImplementedError(\"polarized case is not implemented\")\n",
    "        else:  # unpolarized case\n",
    "            if xc.family == 1:  # LDA\n",
    "                dedn, = torch.autograd.grad(\n",
    "                    edensity_derivative, densinfo.value, create_graph=grad_enabled,\n",
    "                    grad_outputs=grad_outputs)\n",
    "\n",
    "                return ValGrad(value=dedn)\n",
    "            else:  # GGA and others\n",
    "                raise NotImplementedError(\"Default dvxc wrt dro for this family is not implemented\")\n",
    "\n",
    "def contruct_dvxc_wrt_dtheta(hamiltonian, dm, parameter_number):\n",
    "    densinfo = SpinParam.apply_fcn(lambda dm_: hamiltonian._dm2densinfo(dm_), dm)  # value: (*BD, nr)\n",
    "    potinfo = get_dvxc_wrt_dtheta(hamiltonian.xc, densinfo, parameter_number)  # value: (*BD, nr)\n",
    "    vxc_linop = hamiltonian._get_vxc_from_potinfo(potinfo)\n",
    "    return vxc_linop\n",
    "\n",
    "number_of_parameters = qc._engine.hamilton.xc.number_of_parameters\n",
    "list_of_tensors = []\n",
    "for parameter_number in range(number_of_parameters):\n",
    "    current_tensor = contruct_dvxc_wrt_dtheta(qc._engine.hamilton, dm, parameter_number)\n",
    "    list_of_tensors.append(current_tensor.fullmatrix().detach().unsqueeze(-1))\n",
    "dvxc_wrt_dtheta = torch.cat(list_of_tensors, 2)"
   ]
  },
  {
   "cell_type": "code",
   "execution_count": 32,
   "metadata": {
    "datalore": {
     "hide_input_from_viewers": true,
     "hide_output_from_viewers": true,
     "node_id": "Q5F0mK3UabAu9ZkW9BYh81",
     "type": "CODE"
    }
   },
   "outputs": [],
   "source": [
    "dKS_wrt_dtheta = torch.einsum(\"ijt,ja->iat\", dvxc_wrt_dtheta, coefficients)"
   ]
  },
  {
   "cell_type": "markdown",
   "metadata": {
    "datalore": {
     "hide_input_from_viewers": true,
     "hide_output_from_viewers": true,
     "node_id": "WQhbjn8UQxQbbXTIEnmGdn",
     "type": "MD"
    }
   },
   "source": [
    "#### Concatenate derivatives with respect to parameters:"
   ]
  },
  {
   "cell_type": "code",
   "execution_count": 33,
   "metadata": {
    "datalore": {
     "hide_input_from_viewers": true,
     "hide_output_from_viewers": true,
     "node_id": "hWZr13HkkeQTQbRNrHw3EM",
     "type": "CODE"
    }
   },
   "outputs": [],
   "source": [
    "dY_wrt_dtheta = torch.cat((\n",
    "                            dKS_wrt_dtheta.reshape(N, number_of_parameters),\n",
    "                            dnorm_wrt_dtheta\n",
    "                        ), 0)"
   ]
  },
  {
   "cell_type": "markdown",
   "metadata": {
    "datalore": {
     "hide_input_from_viewers": true,
     "hide_output_from_viewers": true,
     "node_id": "MYmOgKACNmZe0osrlwwSt0",
     "type": "MD"
    }
   },
   "source": [
    "#### Total derivative:"
   ]
  },
  {
   "cell_type": "code",
   "execution_count": 34,
   "metadata": {
    "datalore": {
     "hide_input_from_viewers": true,
     "hide_output_from_viewers": true,
     "node_id": "uGZ3aWvPinonOjeKOCzIW0",
     "type": "CODE"
    }
   },
   "outputs": [
    {
     "name": "stdout",
     "output_type": "stream",
     "text": [
      "tensor([ 10.9490, -11.0801], dtype=torch.float64)\n"
     ]
    }
   ],
   "source": [
    "derivative = dE_wrt_dtheta - torch.matmul(adjoint, dY_wrt_dtheta)\n",
    "print(derivative)"
   ]
  },
  {
   "cell_type": "markdown",
   "metadata": {
    "datalore": {
     "hide_input_from_viewers": true,
     "hide_output_from_viewers": true,
     "node_id": "vRYtdVxp2SNXg82o1Feolt",
     "type": "MD"
    }
   },
   "source": [
    "#### Comparison of adjoint derivatives method with existing methods"
   ]
  },
  {
   "cell_type": "code",
   "execution_count": 35,
   "metadata": {
    "datalore": {
     "hide_input_from_viewers": true,
     "hide_output_from_viewers": true,
     "node_id": "kN8tzGJftinTihqcAURdeo",
     "type": "CODE"
    }
   },
   "outputs": [
    {
     "name": "stdout",
     "output_type": "stream",
     "text": [
      "For water:\n",
      "dE/da = 10.94897919797799\n",
      "dE/dp = -11.080577293043348\n"
     ]
    }
   ],
   "source": [
    "dea_fd, dep_fd, _ = finite_differences_calculator_of_derivatives(dqc_nograd_custom_LDA_calculator_of_energy, aj_mol, LDA_factor, LDA_power)\n",
    "print(f\"For {mol_name_}:\")\n",
    "print(f\"dE/da = {dea_fd}\")\n",
    "print(f\"dE/dp = {dep_fd}\")"
   ]
  },
  {
   "cell_type": "code",
   "execution_count": 36,
   "metadata": {},
   "outputs": [
    {
     "name": "stdout",
     "output_type": "stream",
     "text": [
      "For water:\n",
      "dE/da = 10.94897598930493\n",
      "dE/dp = -11.080098561164473\n"
     ]
    }
   ],
   "source": [
    "dea_dqc_autograd, dep_dqc_autograd, _ = dqc_autograd_calculator_of_derivatives(aj_mol, LDA_factor, LDA_power)\n",
    "print(f\"For {mol_name_}:\")\n",
    "print(f\"dE/da = {dea_dqc_autograd}\")\n",
    "print(f\"dE/dp = {dep_dqc_autograd}\")"
   ]
  },
  {
   "cell_type": "markdown",
   "metadata": {
    "datalore": {
     "hide_input_from_viewers": true,
     "hide_output_from_viewers": true,
     "node_id": "qPKltQaHschZbAKnHbepXO",
     "type": "MD"
    }
   },
   "source": [
    "When calculating derivatives most of the time is spent computing calculations leading to `torch.matmul(adjoint, dY_wrt_dtheta)`, including one four-term integral. This is extremely expensive, but if we print out the result of these calculations:"
   ]
  },
  {
   "cell_type": "code",
   "execution_count": 37,
   "metadata": {
    "datalore": {
     "hide_input_from_viewers": true,
     "hide_output_from_viewers": true,
     "node_id": "OXqMaOVqdBauqLzVmpj8JL",
     "type": "CODE"
    }
   },
   "outputs": [
    {
     "data": {
      "text/plain": [
       "tensor([-1.7746e-14,  6.5266e-15], dtype=torch.float64)"
      ]
     },
     "execution_count": 37,
     "metadata": {},
     "output_type": "execute_result"
    }
   ],
   "source": [
    "torch.matmul(adjoint, dY_wrt_dtheta)"
   ]
  },
  {
   "cell_type": "markdown",
   "metadata": {
    "datalore": {
     "hide_input_from_viewers": true,
     "hide_output_from_viewers": true,
     "node_id": "v6lLUYrE5D2KhVsKaOO1IJ",
     "type": "MD"
    }
   },
   "source": [
    "It could be seen that it is within margin of error from machine zero. In fact, this is expected from the Hellmann-Feynmann theorem in quantum mechanics and in our article we show it still holds exactly in the discrete case of Roothaan's equations. Therefore a majority of calculations could be omitted entirely.\n",
    "\n",
    "With this, we could rewrite the code, now with PySCF, to calculate the derivatives optimally: "
   ]
  },
  {
   "cell_type": "markdown",
   "metadata": {
    "datalore": {
     "hide_input_from_viewers": true,
     "hide_output_from_viewers": true,
     "node_id": "agFQLsE7RgKtOq8cTIEUgn",
     "type": "MD"
    }
   },
   "source": [
    "### Optimal implementation of the adjoint method with PySCF\n",
    "\n",
    "We are only required to calculate energy partial derivatives with respect to problem parameters as described above.\n",
    "It is relatively straightforward as we know the exact for of LDA functional:"
   ]
  },
  {
   "cell_type": "code",
   "execution_count": 38,
   "metadata": {},
   "outputs": [],
   "source": [
    "@nb.njit\n",
    "def pyscf_eval_xc_wrt_a(grids_weights, rho, p):\n",
    "    N = grids_weights.shape[0]\n",
    "    s = 0.0\n",
    "    for i in range(N):\n",
    "        s += grids_weights[i] * (rho[i]**p)\n",
    "    return s\n",
    "\n",
    "@nb.njit\n",
    "def pyscf_eval_xc_wrt_p(grids_weights, rho, a, p):\n",
    "    N = grids_weights.shape[0]\n",
    "    s = 0.0\n",
    "    for i in range(N):\n",
    "        lg_rho_i = numpy.log(rho[i]) if rho[i] > 0 else 0.0\n",
    "        s += grids_weights[i] * lg_rho_i * (rho[i]**p)\n",
    "    return a*s"
   ]
  },
  {
   "cell_type": "code",
   "execution_count": 39,
   "metadata": {},
   "outputs": [],
   "source": [
    "def pyscf_adjoint_partial_derivatives_(calc_scf, a, p):\n",
    "    dm_in_nonorthogonal_basis = calc_scf.make_rdm1()\n",
    "    grids_coords = calc_scf.grids.coords\n",
    "    grids_weights = calc_scf.grids.weights\n",
    "    non_orthogonal_ao = dft.numint.eval_ao(calc_scf.mol, grids_coords, deriv=0)\n",
    "\n",
    "    rho = dft.numint.eval_rho(calc_scf.mol, non_orthogonal_ao,\n",
    "                            dm_in_nonorthogonal_basis, xctype='LDA')\n",
    "\n",
    "    de_da = pyscf_eval_xc_wrt_a(grids_weights, rho, p)\n",
    "    de_dp = pyscf_eval_xc_wrt_p(grids_weights, rho, a, p)\n",
    "    return de_da, de_dp\n",
    "\n",
    "\n",
    "def pyscf_adjoint_calculator_of_derivatives(mol_, a = LDA_factor, p = LDA_power):\n",
    "    scf_mol = gto.M(atom=mol_, basis=\"6-31G\", unit=\"Bohr\", verbose=0)\n",
    "    #Timer \n",
    "    start = time.time()\n",
    "    calc_scf = dft.RKS(scf_mol)\n",
    "    calc_scf.xc = \"lda,\"\n",
    "    \n",
    "    energy = calc_scf.kernel()\n",
    "\n",
    "    de_da, de_dp = pyscf_adjoint_partial_derivatives_(calc_scf, a, p)\n",
    "        \n",
    "    dur = time.time() - start\n",
    "    \n",
    "    return de_da, de_dp, dur"
   ]
  },
  {
   "cell_type": "markdown",
   "metadata": {
    "datalore": {
     "hide_input_from_viewers": true,
     "hide_output_from_viewers": true,
     "node_id": "ipuFdlwmyGdslpwgLzeyhf",
     "type": "MD"
    }
   },
   "source": [
    "#### Comparison of optimal derivatives method with existing methods"
   ]
  },
  {
   "cell_type": "code",
   "execution_count": 40,
   "metadata": {
    "datalore": {
     "hide_input_from_viewers": true,
     "hide_output_from_viewers": true,
     "node_id": "5GuoHEv6WP9UDWCOUkmyGF",
     "type": "CODE"
    }
   },
   "outputs": [],
   "source": [
    "derivative_correctness_results = {\n",
    "    \"fd_of_pyscf_custom\":     {},\n",
    "    \"fd_of_dqc_nograd\":       {},\n",
    "    \"dqc_autograd\":           {},\n",
    "    \"pyscf_adjoint\":          {}\n",
    "}\n",
    "\n",
    "for data_of_method in derivative_correctness_results.values():\n",
    "    for mol_name in molecules_for_correctness_tests:\n",
    "        data_of_method[mol_name] = {}"
   ]
  },
  {
   "cell_type": "code",
   "execution_count": 41,
   "metadata": {
    "datalore": {
     "hide_input_from_viewers": true,
     "hide_output_from_viewers": true,
     "node_id": "QoZufoWSgWiMVPZcFHDQE5",
     "type": "CODE"
    }
   },
   "outputs": [
    {
     "name": "stderr",
     "output_type": "stream",
     "text": [
      "/tmp/ipykernel_31758/2730193475.py:8: RuntimeWarning: divide by zero encountered in power\n",
      "  fxc = a * p * (p - 1.0) * rho ** (p - 2.0)\n"
     ]
    },
    {
     "name": "stdout",
     "output_type": "stream",
     "text": [
      "For h2 molecule and fd_of_pyscf_custom method: de_wrt_da=0.7483589555845505, de_wrt_dp=1.471501969507738, duration=2.0083086490631104 s\n",
      "For h2 molecule and fd_of_dqc_nograd method: de_wrt_da=tensor(0.7484, dtype=torch.float64), de_wrt_dp=tensor(1.4715, dtype=torch.float64), duration=0.27147579193115234 s\n",
      "For h2 molecule and dqc_autograd method: de_wrt_da=tensor(0.7484, dtype=torch.float64), de_wrt_dp=tensor(1.4715, dtype=torch.float64), duration=0.10982894897460938 s\n",
      "For h2 molecule and pyscf_adjoint method: de_wrt_da=0.7483584761017384, de_wrt_dp=1.4715333105617587, duration=0.6453189849853516 s\n",
      "---><---\n",
      "For n2 molecule and fd_of_pyscf_custom method: de_wrt_da=16.01839659812224, de_wrt_dp=-17.00617192881282, duration=2.760282516479492 s\n",
      "For n2 molecule and fd_of_dqc_nograd method: de_wrt_da=tensor(16.0184, dtype=torch.float64), de_wrt_dp=tensor(-17.0061, dtype=torch.float64), duration=0.4729123115539551 s\n",
      "For n2 molecule and dqc_autograd method: de_wrt_da=tensor(16.0184, dtype=torch.float64), de_wrt_dp=tensor(-17.0055, dtype=torch.float64), duration=0.2280735969543457 s\n",
      "For n2 molecule and pyscf_adjoint method: de_wrt_da=16.01839302574389, de_wrt_dp=-17.005523335261163, duration=0.7222998142242432 s\n",
      "---><---\n"
     ]
    },
    {
     "name": "stderr",
     "output_type": "stream",
     "text": [
      "/tmp/ipykernel_31758/2730193475.py:8: RuntimeWarning: divide by zero encountered in power\n",
      "  fxc = a * p * (p - 1.0) * rho ** (p - 2.0)\n"
     ]
    },
    {
     "name": "stdout",
     "output_type": "stream",
     "text": [
      "For water molecule and fd_of_pyscf_custom method: de_wrt_da=10.948997130899778, de_wrt_dp=-11.080604623714407, duration=2.936717987060547 s\n",
      "For water molecule and fd_of_dqc_nograd method: de_wrt_da=tensor(10.9490, dtype=torch.float64), de_wrt_dp=tensor(-11.0806, dtype=torch.float64), duration=0.6132080554962158 s\n",
      "For water molecule and dqc_autograd method: de_wrt_da=tensor(10.9490, dtype=torch.float64), de_wrt_dp=tensor(-11.0801, dtype=torch.float64), duration=0.24501991271972656 s\n",
      "For water molecule and pyscf_adjoint method: de_wrt_da=10.94899515698013, de_wrt_dp=-11.080127954242231, duration=0.9912502765655518 s\n",
      "---><---\n",
      "For ammonia molecule and fd_of_pyscf_custom method: de_wrt_da=9.335451437368087, de_wrt_dp=-6.248094177507824, duration=3.25527286529541 s\n",
      "For ammonia molecule and fd_of_dqc_nograd method: de_wrt_da=tensor(9.3354, dtype=torch.float64), de_wrt_dp=tensor(-6.2481, dtype=torch.float64), duration=0.6549534797668457 s\n",
      "For ammonia molecule and dqc_autograd method: de_wrt_da=tensor(9.3354, dtype=torch.float64), de_wrt_dp=tensor(-6.2477, dtype=torch.float64), duration=0.3029191493988037 s\n",
      "For ammonia molecule and pyscf_adjoint method: de_wrt_da=9.335449100082979, de_wrt_dp=-6.247731219301114, duration=1.0928165912628174 s\n",
      "---><---\n",
      "For benzene molecule and fd_of_pyscf_custom method: de_wrt_da=48.7478589847973, de_wrt_dp=-40.546858764400895, duration=12.580960035324097 s\n",
      "For benzene molecule and fd_of_dqc_nograd method: de_wrt_da=tensor(48.7481, dtype=torch.float64), de_wrt_dp=tensor(-40.5548, dtype=torch.float64), duration=6.920368194580078 s\n",
      "For benzene molecule and dqc_autograd method: de_wrt_da=tensor(48.7481, dtype=torch.float64), de_wrt_dp=tensor(-40.5534, dtype=torch.float64), duration=2.945526123046875 s\n",
      "For benzene molecule and pyscf_adjoint method: de_wrt_da=48.747845770166855, de_wrt_dp=-40.54552818659164, duration=4.0816686153411865 s\n",
      "---><---\n"
     ]
    }
   ],
   "source": [
    "def print_results_derivatives(mol_name, method_name, de_wrt_da, de_wrt_dp, d):\n",
    "    print(f\"For {mol_name} molecule and {method_name} method: {de_wrt_da=}, {de_wrt_dp=}, duration={d} s\")\n",
    "\n",
    "def print_and_save_results_derivatives(mol_name, method_name, de_wrt_da, de_wrt_dp, d):\n",
    "    print_results_derivatives(mol_name, method_name, ea, ep, dur)\n",
    "    derivative_correctness_results[method_name][mol_name][\"ea\"] = ea\n",
    "    derivative_correctness_results[method_name][mol_name][\"ep\"] = ep\n",
    "    derivative_correctness_results[method_name][mol_name][\"time_d\"] = dur\n",
    "\n",
    "for mol_name, mol in molecules_for_correctness_tests.items():\n",
    "    ea, ep, dur = finite_differences_calculator_of_derivatives(pyscf_custom_LDA_calculator_of_energy, mol, LDA_factor, LDA_power)\n",
    "    print_and_save_results_derivatives(mol_name, \"fd_of_pyscf_custom\", ea, ep, dur)\n",
    "\n",
    "    ea, ep, dur = finite_differences_calculator_of_derivatives(dqc_nograd_custom_LDA_calculator_of_energy, mol, LDA_factor, LDA_power)\n",
    "    print_and_save_results_derivatives(mol_name, \"fd_of_dqc_nograd\", ea.item(), ep.item(), dur)\n",
    "    \n",
    "    ea, ep, dur = dqc_autograd_calculator_of_derivatives(mol, LDA_factor, LDA_power)\n",
    "    print_and_save_results_derivatives(mol_name, \"dqc_autograd\", ea.item(), ep.item(), dur)\n",
    "    \n",
    "    pyscf_adjoint_calculator_of_derivatives(mol, LDA_factor, LDA_power) # numba compilation\n",
    "    ea, ep, dur = pyscf_adjoint_calculator_of_derivatives(mol, LDA_factor, LDA_power)\n",
    "    print_and_save_results_derivatives(mol_name, \"pyscf_adjoint\", ea, ep, dur)\n",
    "    print(\"---><---\")"
   ]
  },
  {
   "cell_type": "markdown",
   "metadata": {
    "datalore": {
     "hide_input_from_viewers": true,
     "hide_output_from_viewers": true,
     "node_id": "4wniOikfCjUQCcWzy5XUY9",
     "type": "MD"
    }
   },
   "source": [
    "## Results\n",
    "In this section, the results of all computations above are assembled."
   ]
  },
  {
   "cell_type": "markdown",
   "metadata": {
    "datalore": {
     "hide_input_from_viewers": true,
     "hide_output_from_viewers": true,
     "node_id": "hukIpEBzzZkQ1BKAoagtJH",
     "type": "MD"
    }
   },
   "source": [
    "### Energy computations"
   ]
  },
  {
   "cell_type": "code",
   "execution_count": null,
   "metadata": {
    "datalore": {
     "hide_input_from_viewers": true,
     "hide_output_from_viewers": true,
     "node_id": "ihPew4R2jd1Z7ld8hKACgc",
     "type": "CODE"
    }
   },
   "outputs": [],
   "source": [
    "pretty_method_names = {\n",
    "    \"pyscf\": \"PySCF (Bulitin LDA)\",\n",
    "    \"pyscf_custom\": \"PySCF (Custom LDA)\",\n",
    "    \"pyscf_ccsdt\": \"PySCF (CCST(T))\",\n",
    "    \"dqc_nograd\": \"DQC (Custom LDA)\",\n",
    "    \"pyscf_adjoint\": \"Optimal PySCF\",\n",
    "    \"dqc_autograd\": \"DQC + Autograd\"\n",
    "}\n",
    "\n",
    "pretty_molecule_names = {\n",
    "    \"h2\": \"H<sub>2</sub>\",\n",
    "    \"n2\": \"N<sub>2</sub>\",\n",
    "    \"water\": \"Water\",\n",
    "    \"ammonia\": \"Ammonia\",\n",
    "    \"benzene\": \"Benzene\",\n",
    "}"
   ]
  },
  {
   "cell_type": "code",
   "execution_count": null,
   "metadata": {
    "datalore": {
     "hide_input_from_viewers": true,
     "hide_output_from_viewers": true,
     "node_id": "o2vxywCndQXlqjHHSozaaj",
     "type": "CODE"
    }
   },
   "outputs": [],
   "source": [
    "energy_results = {}\n",
    "\n",
    "for mol in molecules:\n",
    "    energy_results[mol] = {}\n",
    "    for method in results:\n",
    "        if method not in [ \"pyscf_adjoint\", \"dqc_autograd\" ]:\n",
    "            mb_time = results[method][mol][\"time\"]\n",
    "            time_ = mb_time.average if hasattr(mb_time, \"average\") else mb_time\n",
    "            energy_results[mol][pretty_method_names[method]] = {\n",
    "                                                            \"Energy\": results[method][mol][\"energy\"],\n",
    "                                                            \"Elapsed (s)\": time_\n",
    "                                                        }"
   ]
  },
  {
   "cell_type": "code",
   "execution_count": null,
   "metadata": {
    "datalore": {
     "hide_input_from_viewers": true,
     "hide_output_from_viewers": true,
     "node_id": "2LRvBzITeYkatHea79GpOP",
     "type": "CODE"
    }
   },
   "outputs": [],
   "source": [
    "display(HTML(\"<h2>Energy computations results</h2>\"))\n",
    "for mol in molecules:\n",
    "    df = pd.DataFrame(energy_results[mol])\n",
    "    html = df.style.to_html()\n",
    "    display(HTML(f\"<h3>{pretty_molecule_names[mol]}</h3>\" + html))"
   ]
  },
  {
   "cell_type": "markdown",
   "metadata": {
    "datalore": {
     "hide_input_from_viewers": true,
     "hide_output_from_viewers": true,
     "node_id": "TE24Up54Ze41j7n7VhWblo",
     "type": "MD"
    }
   },
   "source": [
    "### Derivative computations"
   ]
  },
  {
   "cell_type": "code",
   "execution_count": null,
   "metadata": {
    "datalore": {
     "hide_input_from_viewers": true,
     "hide_output_from_viewers": true,
     "node_id": "PLLtRerNFIXNiCDH920ZIg",
     "type": "CODE"
    }
   },
   "outputs": [],
   "source": [
    "derivative_results = {}\n",
    "\n",
    "for mol in molecules:\n",
    "    derivative_results[mol] = {}\n",
    "    for method in results:\n",
    "        if method not in [ \"pyscf\", \"pyscf_ccsdt\", \"dqc_nograd\"]:\n",
    "            mb_time = results[method][mol][\"time_d\"]\n",
    "            time = mb_time.average if hasattr(mb_time, \"average\") else mb_time\n",
    "            derivative_results[mol][pretty_method_names[method]] = {\n",
    "                                                            \"<sup>dE</sup>&frasl;<sub>da</sub>\": results[method][mol][\"ea\"],\n",
    "                                                            \"<sup>dE</sup>&frasl;<sub>dp</sub>\": results[method][mol][\"ep\"],\n",
    "                                                            \"Elapsed (s)\": time\n",
    "                                                        }"
   ]
  },
  {
   "cell_type": "code",
   "execution_count": null,
   "metadata": {},
   "outputs": [],
   "source": [
    "for mol in molecules:\n",
    "    adjoint_pyscf_time_average = results[\"pyscf_adjoint\"][mol][\"time_adjount_only\"].average\n",
    "    adjoint_pyscf_time_stdev = results[\"pyscf_adjoint\"][mol][\"time_adjount_only\"].stdev\n",
    "    derivative_results[mol][\"Optimal PySCF, partial derivatives only\"] = {\n",
    "                                                    \"<sup>dE</sup>&frasl;<sub>da</sub>\": results[\"pyscf_adjoint\"][mol][\"ea\"],\n",
    "                                                    \"<sup>dE</sup>&frasl;<sub>dp</sub>\": results[\"pyscf_adjoint\"][mol][\"ep\"],\n",
    "                                                    \"Elapsed (s)\": f\"{adjoint_pyscf_time_average:.4f} ± {adjoint_pyscf_time_stdev:.6f}\" \n",
    "    }\n",
    "    autograd_dqc_average = results[\"dqc_autograd\"][mol][\"time_d\"].average - results[\"dqc_nograd\"][mol][\"time\"].average\n",
    "    autograd_dqc_stdev = results[\"dqc_autograd\"][mol][\"time_d\"].stdev + results[\"dqc_nograd\"][mol][\"time\"].stdev\n",
    "    derivative_results[mol][\"Autograd only\"] = {\n",
    "                                                    \"<sup>dE</sup>&frasl;<sub>da</sub>\": results[\"dqc_autograd\"][mol][\"ea\"],\n",
    "                                                    \"<sup>dE</sup>&frasl;<sub>dp</sub>\": results[\"dqc_autograd\"][mol][\"ep\"],\n",
    "                                                    \"Elapsed (s)\": f\"{autograd_dqc_average:.4f} ± {autograd_dqc_stdev:.6f}\"\n",
    "    }"
   ]
  },
  {
   "cell_type": "code",
   "execution_count": null,
   "metadata": {
    "datalore": {
     "hide_input_from_viewers": true,
     "hide_output_from_viewers": true,
     "node_id": "Xy9H5ovh8u8rFtSTHr2DQd",
     "type": "CODE"
    }
   },
   "outputs": [],
   "source": [
    "display(HTML(\"<h2>Derivatives computations results</h2>\"))\n",
    "for mol in molecules:\n",
    "    df = pd.DataFrame(derivative_results[mol])\n",
    "    html = df.style.to_html()\n",
    "    display(HTML(f\"<h3>{pretty_molecule_names[mol]}</h3>\" + html))"
   ]
  },
  {
   "cell_type": "markdown",
   "metadata": {},
   "source": [
    "## Comparison of perfomance"
   ]
  },
  {
   "cell_type": "code",
   "execution_count": 59,
   "metadata": {},
   "outputs": [],
   "source": [
    "import functools"
   ]
  },
  {
   "cell_type": "code",
   "execution_count": 61,
   "metadata": {},
   "outputs": [],
   "source": [
    "@functools.cache\n",
    "def pyscf_adjoint_time_of_derivatives_calculation(molecule, a = LDA_factor, p = LDA_power):\n",
    "    scf_mol = gto.M(atom=molecule, basis=\"6-31G\", unit=\"Bohr\", verbose=0)\n",
    "    calc_scf = dft.RKS(scf_mol)\n",
    "    calc_scf.xc = \"lda,\"\n",
    "    \n",
    "    energy = calc_scf.kernel()\n",
    "            \n",
    "    pyscf_adjoint_partial_derivatives_(calc_scf, a, p) # numba compilation\n",
    "    dur = %timeit -o -r100 pyscf_adjoint_partial_derivatives_(calc_scf, a, p)\n",
    "        \n",
    "    return dur.average, dur.stdev, dur"
   ]
  },
  {
   "cell_type": "code",
   "execution_count": 62,
   "metadata": {},
   "outputs": [],
   "source": [
    "@functools.cache\n",
    "def dqc_autograd_time_of_derivatives_calculation(molecule, a = LDA_factor, p = LDA_power):\n",
    "    time_with_derivatives_calculation = %timeit -o -r100 dqc_autograd_calculator_of_derivatives(mol, LDA_factor, LDA_power)\n",
    "    time_without_derivatives_calculation = %timeit -o -r100 dqc_nograd_custom_LDA_calculator_of_energy(mol, LDA_factor, LDA_power)\n",
    "\n",
    "    total_average = time_with_derivatives_calculation.average - time_without_derivatives_calculation.average\n",
    "    total_std_dev = numpy.sqrt(time_with_derivatives_calculation.stdev ** 2 + time_without_derivatives_calculation.stdev ** 2)\n",
    "    \n",
    "    return total_average, total_std_dev, (time_with_derivatives_calculation, time_without_derivatives_calculation)"
   ]
  },
  {
   "cell_type": "code",
   "execution_count": 50,
   "metadata": {},
   "outputs": [],
   "source": [
    "from ast import literal_eval\n",
    "\n",
    "with open('structures/polyglycines_molecules.txt') as polyglycines_molecules_file: \n",
    "    polyglycines_molecules_file_as_string = polyglycines_molecules_file.read() \n",
    "\n",
    "polyglycines_molecules = literal_eval(polyglycines_molecules_file_as_string)"
   ]
  },
  {
   "cell_type": "code",
   "execution_count": 45,
   "metadata": {},
   "outputs": [],
   "source": [
    "polyglycines_performance = {\n",
    "    \"pyscf_adjoint\":    {},\n",
    "    \"dqc_onlygrad\":     {},\n",
    "}\n",
    "\n",
    "for data_of_method in polyglycines_performance.values():\n",
    "    for mol in polyglycines_molecules:\n",
    "        data_of_method[mol] = {}"
   ]
  },
  {
   "cell_type": "code",
   "execution_count": 47,
   "metadata": {},
   "outputs": [
    {
     "name": "stdout",
     "output_type": "stream",
     "text": [
      "For 2:\n",
      "* PySCF 'adjoint':\n",
      "209 ms ± 7.77 ms per loop (mean ± std. dev. of 100 runs, 1 loop each)\n",
      "* DQC:\n",
      "11.6 s ± 424 ms per loop (mean ± std. dev. of 100 runs, 1 loop each)\n",
      "9.3 s ± 281 ms per loop (mean ± std. dev. of 100 runs, 1 loop each)\n",
      "---><---\n",
      "For 4:\n",
      "* PySCF 'adjoint':\n",
      "588 ms ± 20.1 ms per loop (mean ± std. dev. of 100 runs, 1 loop each)\n",
      "* DQC:\n"
     ]
    },
    {
     "name": "stderr",
     "output_type": "stream",
     "text": [
      "/home/kadilenko/miniconda3/envs/noa-docs/lib/python3.9/site-packages/xitorch/_impls/optimize/root/rootsolver.py:165: ConvergenceWarning: The rootfinder does not converge after 50 iterations. Best |dx|=4.509e-06, |f|=1.379e-05 at iter 50\n",
      "  warnings.warn(ConvergenceWarning(msg))\n"
     ]
    },
    {
     "name": "stdout",
     "output_type": "stream",
     "text": [
      "2min 5s ± 2.15 s per loop (mean ± std. dev. of 100 runs, 1 loop each)\n",
      "1min 51s ± 1.74 s per loop (mean ± std. dev. of 100 runs, 1 loop each)\n",
      "---><---\n",
      "For 6:\n",
      "* PySCF 'adjoint':\n",
      "1.18 s ± 59.3 ms per loop (mean ± std. dev. of 100 runs, 1 loop each)\n",
      "* DQC:\n",
      "5min 34s ± 4.09 s per loop (mean ± std. dev. of 100 runs, 1 loop each)\n",
      "4min 56s ± 3.51 s per loop (mean ± std. dev. of 100 runs, 1 loop each)\n",
      "---><---\n",
      "For 8:\n",
      "* PySCF 'adjoint':\n"
     ]
    },
    {
     "ename": "KeyboardInterrupt",
     "evalue": "",
     "output_type": "error",
     "traceback": [
      "\u001b[0;31m---------------------------------------------------------------------------\u001b[0m",
      "\u001b[0;31mKeyboardInterrupt\u001b[0m                         Traceback (most recent call last)",
      "Cell \u001b[0;32mIn[47], line 5\u001b[0m\n\u001b[1;32m      2\u001b[0m \u001b[38;5;28mprint\u001b[39m(\u001b[38;5;124mf\u001b[39m\u001b[38;5;124m\"\u001b[39m\u001b[38;5;124mFor \u001b[39m\u001b[38;5;132;01m{\u001b[39;00mmol_name\u001b[38;5;132;01m}\u001b[39;00m\u001b[38;5;124m:\u001b[39m\u001b[38;5;124m\"\u001b[39m)\n\u001b[1;32m      4\u001b[0m \u001b[38;5;28mprint\u001b[39m(\u001b[38;5;124m\"\u001b[39m\u001b[38;5;124m* PySCF \u001b[39m\u001b[38;5;124m'\u001b[39m\u001b[38;5;124madjoint\u001b[39m\u001b[38;5;124m'\u001b[39m\u001b[38;5;124m:\u001b[39m\u001b[38;5;124m\"\u001b[39m)\n\u001b[0;32m----> 5\u001b[0m mean, std_dev \u001b[38;5;241m=\u001b[39m \u001b[43mpyscf_adjoint_time_of_derivatives_calculation\u001b[49m\u001b[43m(\u001b[49m\u001b[43mmol\u001b[49m\u001b[43m,\u001b[49m\u001b[43m \u001b[49m\u001b[43mLDA_factor\u001b[49m\u001b[43m,\u001b[49m\u001b[43m \u001b[49m\u001b[43mLDA_power\u001b[49m\u001b[43m)\u001b[49m\n\u001b[1;32m      6\u001b[0m polyglycines_performance[\u001b[38;5;124m\"\u001b[39m\u001b[38;5;124mpyscf_adjoint\u001b[39m\u001b[38;5;124m\"\u001b[39m][mol_name][\u001b[38;5;124m\"\u001b[39m\u001b[38;5;124mmean\u001b[39m\u001b[38;5;124m\"\u001b[39m] \u001b[38;5;241m=\u001b[39m mean\n\u001b[1;32m      7\u001b[0m polyglycines_performance[\u001b[38;5;124m\"\u001b[39m\u001b[38;5;124mpyscf_adjoint\u001b[39m\u001b[38;5;124m\"\u001b[39m][mol_name][\u001b[38;5;124m\"\u001b[39m\u001b[38;5;124mstd_dev\u001b[39m\u001b[38;5;124m\"\u001b[39m] \u001b[38;5;241m=\u001b[39m std_dev\n",
      "Cell \u001b[0;32mIn[42], line 6\u001b[0m, in \u001b[0;36mpyscf_adjoint_time_of_derivatives_calculation\u001b[0;34m(molecule, a, p)\u001b[0m\n\u001b[1;32m      3\u001b[0m calc_scf \u001b[38;5;241m=\u001b[39m dft\u001b[38;5;241m.\u001b[39mRKS(scf_mol)\n\u001b[1;32m      4\u001b[0m calc_scf\u001b[38;5;241m.\u001b[39mxc \u001b[38;5;241m=\u001b[39m \u001b[38;5;124m\"\u001b[39m\u001b[38;5;124mlda,\u001b[39m\u001b[38;5;124m\"\u001b[39m\n\u001b[0;32m----> 6\u001b[0m energy \u001b[38;5;241m=\u001b[39m \u001b[43mcalc_scf\u001b[49m\u001b[38;5;241;43m.\u001b[39;49m\u001b[43mkernel\u001b[49m\u001b[43m(\u001b[49m\u001b[43m)\u001b[49m\n\u001b[1;32m      8\u001b[0m pyscf_adjoint_partial_derivatives_(calc_scf, a, p) \u001b[38;5;66;03m# numba compilation\u001b[39;00m\n\u001b[1;32m      9\u001b[0m dur \u001b[38;5;241m=\u001b[39m get_ipython()\u001b[38;5;241m.\u001b[39mrun_line_magic(\u001b[38;5;124m'\u001b[39m\u001b[38;5;124mtimeit\u001b[39m\u001b[38;5;124m'\u001b[39m, \u001b[38;5;124m'\u001b[39m\u001b[38;5;124m-o -r100 pyscf_adjoint_partial_derivatives_(calc_scf, a, p)\u001b[39m\u001b[38;5;124m'\u001b[39m)\n",
      "File \u001b[0;32m<string>:2\u001b[0m, in \u001b[0;36mkernel\u001b[0;34m(self, dm0, **kwargs)\u001b[0m\n",
      "File \u001b[0;32m~/miniconda3/envs/noa-docs/lib/python3.9/site-packages/pyscf/scf/hf.py:1692\u001b[0m, in \u001b[0;36mSCF.scf\u001b[0;34m(self, dm0, **kwargs)\u001b[0m\n\u001b[1;32m   1687\u001b[0m \u001b[38;5;28mself\u001b[39m\u001b[38;5;241m.\u001b[39mbuild(\u001b[38;5;28mself\u001b[39m\u001b[38;5;241m.\u001b[39mmol)\n\u001b[1;32m   1689\u001b[0m \u001b[38;5;28;01mif\u001b[39;00m \u001b[38;5;28mself\u001b[39m\u001b[38;5;241m.\u001b[39mmax_cycle \u001b[38;5;241m>\u001b[39m \u001b[38;5;241m0\u001b[39m \u001b[38;5;129;01mor\u001b[39;00m \u001b[38;5;28mself\u001b[39m\u001b[38;5;241m.\u001b[39mmo_coeff \u001b[38;5;129;01mis\u001b[39;00m \u001b[38;5;28;01mNone\u001b[39;00m:\n\u001b[1;32m   1690\u001b[0m     \u001b[38;5;28mself\u001b[39m\u001b[38;5;241m.\u001b[39mconverged, \u001b[38;5;28mself\u001b[39m\u001b[38;5;241m.\u001b[39me_tot, \\\n\u001b[1;32m   1691\u001b[0m             \u001b[38;5;28mself\u001b[39m\u001b[38;5;241m.\u001b[39mmo_energy, \u001b[38;5;28mself\u001b[39m\u001b[38;5;241m.\u001b[39mmo_coeff, \u001b[38;5;28mself\u001b[39m\u001b[38;5;241m.\u001b[39mmo_occ \u001b[38;5;241m=\u001b[39m \\\n\u001b[0;32m-> 1692\u001b[0m             \u001b[43mkernel\u001b[49m\u001b[43m(\u001b[49m\u001b[38;5;28;43mself\u001b[39;49m\u001b[43m,\u001b[49m\u001b[43m \u001b[49m\u001b[38;5;28;43mself\u001b[39;49m\u001b[38;5;241;43m.\u001b[39;49m\u001b[43mconv_tol\u001b[49m\u001b[43m,\u001b[49m\u001b[43m \u001b[49m\u001b[38;5;28;43mself\u001b[39;49m\u001b[38;5;241;43m.\u001b[39;49m\u001b[43mconv_tol_grad\u001b[49m\u001b[43m,\u001b[49m\n\u001b[1;32m   1693\u001b[0m \u001b[43m                   \u001b[49m\u001b[43mdm0\u001b[49m\u001b[38;5;241;43m=\u001b[39;49m\u001b[43mdm0\u001b[49m\u001b[43m,\u001b[49m\u001b[43m \u001b[49m\u001b[43mcallback\u001b[49m\u001b[38;5;241;43m=\u001b[39;49m\u001b[38;5;28;43mself\u001b[39;49m\u001b[38;5;241;43m.\u001b[39;49m\u001b[43mcallback\u001b[49m\u001b[43m,\u001b[49m\n\u001b[1;32m   1694\u001b[0m \u001b[43m                   \u001b[49m\u001b[43mconv_check\u001b[49m\u001b[38;5;241;43m=\u001b[39;49m\u001b[38;5;28;43mself\u001b[39;49m\u001b[38;5;241;43m.\u001b[39;49m\u001b[43mconv_check\u001b[49m\u001b[43m,\u001b[49m\u001b[43m \u001b[49m\u001b[38;5;241;43m*\u001b[39;49m\u001b[38;5;241;43m*\u001b[39;49m\u001b[43mkwargs\u001b[49m\u001b[43m)\u001b[49m\n\u001b[1;32m   1695\u001b[0m \u001b[38;5;28;01melse\u001b[39;00m:\n\u001b[1;32m   1696\u001b[0m     \u001b[38;5;66;03m# Avoid to update SCF orbitals in the non-SCF initialization\u001b[39;00m\n\u001b[1;32m   1697\u001b[0m     \u001b[38;5;66;03m# (issue #495).  But run regular SCF for initial guess if SCF was\u001b[39;00m\n\u001b[1;32m   1698\u001b[0m     \u001b[38;5;66;03m# not initialized.\u001b[39;00m\n\u001b[1;32m   1699\u001b[0m     \u001b[38;5;28mself\u001b[39m\u001b[38;5;241m.\u001b[39me_tot \u001b[38;5;241m=\u001b[39m kernel(\u001b[38;5;28mself\u001b[39m, \u001b[38;5;28mself\u001b[39m\u001b[38;5;241m.\u001b[39mconv_tol, \u001b[38;5;28mself\u001b[39m\u001b[38;5;241m.\u001b[39mconv_tol_grad,\n\u001b[1;32m   1700\u001b[0m                         dm0\u001b[38;5;241m=\u001b[39mdm0, callback\u001b[38;5;241m=\u001b[39m\u001b[38;5;28mself\u001b[39m\u001b[38;5;241m.\u001b[39mcallback,\n\u001b[1;32m   1701\u001b[0m                         conv_check\u001b[38;5;241m=\u001b[39m\u001b[38;5;28mself\u001b[39m\u001b[38;5;241m.\u001b[39mconv_check, \u001b[38;5;241m*\u001b[39m\u001b[38;5;241m*\u001b[39mkwargs)[\u001b[38;5;241m1\u001b[39m]\n",
      "File \u001b[0;32m~/miniconda3/envs/noa-docs/lib/python3.9/site-packages/pyscf/scf/hf.py:178\u001b[0m, in \u001b[0;36mkernel\u001b[0;34m(mf, conv_tol, conv_tol_grad, dump_chk, dm0, callback, conv_check, **kwargs)\u001b[0m\n\u001b[1;32m    176\u001b[0m \u001b[38;5;66;03m# attach mo_coeff and mo_occ to dm to improve DFT get_veff efficiency\u001b[39;00m\n\u001b[1;32m    177\u001b[0m dm \u001b[38;5;241m=\u001b[39m lib\u001b[38;5;241m.\u001b[39mtag_array(dm, mo_coeff\u001b[38;5;241m=\u001b[39mmo_coeff, mo_occ\u001b[38;5;241m=\u001b[39mmo_occ)\n\u001b[0;32m--> 178\u001b[0m vhf \u001b[38;5;241m=\u001b[39m \u001b[43mmf\u001b[49m\u001b[38;5;241;43m.\u001b[39;49m\u001b[43mget_veff\u001b[49m\u001b[43m(\u001b[49m\u001b[43mmol\u001b[49m\u001b[43m,\u001b[49m\u001b[43m \u001b[49m\u001b[43mdm\u001b[49m\u001b[43m,\u001b[49m\u001b[43m \u001b[49m\u001b[43mdm_last\u001b[49m\u001b[43m,\u001b[49m\u001b[43m \u001b[49m\u001b[43mvhf\u001b[49m\u001b[43m)\u001b[49m\n\u001b[1;32m    179\u001b[0m e_tot \u001b[38;5;241m=\u001b[39m mf\u001b[38;5;241m.\u001b[39menergy_tot(dm, h1e, vhf)\n\u001b[1;32m    181\u001b[0m \u001b[38;5;66;03m# Here Fock matrix is h1e + vhf, without DIIS.  Calling get_fock\u001b[39;00m\n\u001b[1;32m    182\u001b[0m \u001b[38;5;66;03m# instead of the statement \"fock = h1e + vhf\" because Fock matrix may\u001b[39;00m\n\u001b[1;32m    183\u001b[0m \u001b[38;5;66;03m# be modified in some methods.\u001b[39;00m\n",
      "File \u001b[0;32m~/miniconda3/envs/noa-docs/lib/python3.9/site-packages/pyscf/dft/rks.py:98\u001b[0m, in \u001b[0;36mget_veff\u001b[0;34m(ks, mol, dm, dm_last, vhf_last, hermi)\u001b[0m\n\u001b[1;32m     95\u001b[0m \u001b[38;5;28;01mif\u001b[39;00m (ks\u001b[38;5;241m.\u001b[39m_eri \u001b[38;5;129;01mis\u001b[39;00m \u001b[38;5;28;01mNone\u001b[39;00m \u001b[38;5;129;01mand\u001b[39;00m ks\u001b[38;5;241m.\u001b[39mdirect_scf \u001b[38;5;129;01mand\u001b[39;00m\n\u001b[1;32m     96\u001b[0m     \u001b[38;5;28mgetattr\u001b[39m(vhf_last, \u001b[38;5;124m'\u001b[39m\u001b[38;5;124mvj\u001b[39m\u001b[38;5;124m'\u001b[39m, \u001b[38;5;28;01mNone\u001b[39;00m) \u001b[38;5;129;01mis\u001b[39;00m \u001b[38;5;129;01mnot\u001b[39;00m \u001b[38;5;28;01mNone\u001b[39;00m):\n\u001b[1;32m     97\u001b[0m     ddm \u001b[38;5;241m=\u001b[39m numpy\u001b[38;5;241m.\u001b[39masarray(dm) \u001b[38;5;241m-\u001b[39m numpy\u001b[38;5;241m.\u001b[39masarray(dm_last)\n\u001b[0;32m---> 98\u001b[0m     vj \u001b[38;5;241m=\u001b[39m \u001b[43mks\u001b[49m\u001b[38;5;241;43m.\u001b[39;49m\u001b[43mget_j\u001b[49m\u001b[43m(\u001b[49m\u001b[43mmol\u001b[49m\u001b[43m,\u001b[49m\u001b[43m \u001b[49m\u001b[43mddm\u001b[49m\u001b[43m,\u001b[49m\u001b[43m \u001b[49m\u001b[43mhermi\u001b[49m\u001b[43m)\u001b[49m\n\u001b[1;32m     99\u001b[0m     vj \u001b[38;5;241m+\u001b[39m\u001b[38;5;241m=\u001b[39m vhf_last\u001b[38;5;241m.\u001b[39mvj\n\u001b[1;32m    100\u001b[0m \u001b[38;5;28;01melse\u001b[39;00m:\n",
      "File \u001b[0;32m~/miniconda3/envs/noa-docs/lib/python3.9/site-packages/pyscf/scf/hf.py:1753\u001b[0m, in \u001b[0;36mSCF.get_j\u001b[0;34m(self, mol, dm, hermi, omega)\u001b[0m\n\u001b[1;32m   1750\u001b[0m \u001b[38;5;28;01mdef\u001b[39;00m \u001b[38;5;21mget_j\u001b[39m(\u001b[38;5;28mself\u001b[39m, mol\u001b[38;5;241m=\u001b[39m\u001b[38;5;28;01mNone\u001b[39;00m, dm\u001b[38;5;241m=\u001b[39m\u001b[38;5;28;01mNone\u001b[39;00m, hermi\u001b[38;5;241m=\u001b[39m\u001b[38;5;241m1\u001b[39m, omega\u001b[38;5;241m=\u001b[39m\u001b[38;5;28;01mNone\u001b[39;00m):\n\u001b[1;32m   1751\u001b[0m \u001b[38;5;250m    \u001b[39m\u001b[38;5;124;03m'''Compute J matrices for all input density matrices\u001b[39;00m\n\u001b[1;32m   1752\u001b[0m \u001b[38;5;124;03m    '''\u001b[39;00m\n\u001b[0;32m-> 1753\u001b[0m     \u001b[38;5;28;01mreturn\u001b[39;00m \u001b[38;5;28;43mself\u001b[39;49m\u001b[38;5;241;43m.\u001b[39;49m\u001b[43mget_jk\u001b[49m\u001b[43m(\u001b[49m\u001b[43mmol\u001b[49m\u001b[43m,\u001b[49m\u001b[43m \u001b[49m\u001b[43mdm\u001b[49m\u001b[43m,\u001b[49m\u001b[43m \u001b[49m\u001b[43mhermi\u001b[49m\u001b[43m,\u001b[49m\u001b[43m \u001b[49m\u001b[43mwith_k\u001b[49m\u001b[38;5;241;43m=\u001b[39;49m\u001b[38;5;28;43;01mFalse\u001b[39;49;00m\u001b[43m,\u001b[49m\u001b[43m \u001b[49m\u001b[43momega\u001b[49m\u001b[38;5;241;43m=\u001b[39;49m\u001b[43momega\u001b[49m\u001b[43m)\u001b[49m[\u001b[38;5;241m0\u001b[39m]\n",
      "File \u001b[0;32m~/miniconda3/envs/noa-docs/lib/python3.9/site-packages/pyscf/scf/hf.py:2050\u001b[0m, in \u001b[0;36mRHF.get_jk\u001b[0;34m(self, mol, dm, hermi, with_j, with_k, omega)\u001b[0m\n\u001b[1;32m   2048\u001b[0m     vj, vk \u001b[38;5;241m=\u001b[39m dot_eri_dm(\u001b[38;5;28mself\u001b[39m\u001b[38;5;241m.\u001b[39m_eri, dm, hermi, with_j, with_k)\n\u001b[1;32m   2049\u001b[0m \u001b[38;5;28;01melse\u001b[39;00m:\n\u001b[0;32m-> 2050\u001b[0m     vj, vk \u001b[38;5;241m=\u001b[39m \u001b[43mSCF\u001b[49m\u001b[38;5;241;43m.\u001b[39;49m\u001b[43mget_jk\u001b[49m\u001b[43m(\u001b[49m\u001b[38;5;28;43mself\u001b[39;49m\u001b[43m,\u001b[49m\u001b[43m \u001b[49m\u001b[43mmol\u001b[49m\u001b[43m,\u001b[49m\u001b[43m \u001b[49m\u001b[43mdm\u001b[49m\u001b[43m,\u001b[49m\u001b[43m \u001b[49m\u001b[43mhermi\u001b[49m\u001b[43m,\u001b[49m\u001b[43m \u001b[49m\u001b[43mwith_j\u001b[49m\u001b[43m,\u001b[49m\u001b[43m \u001b[49m\u001b[43mwith_k\u001b[49m\u001b[43m,\u001b[49m\u001b[43m \u001b[49m\u001b[43momega\u001b[49m\u001b[43m)\u001b[49m\n\u001b[1;32m   2051\u001b[0m \u001b[38;5;28;01mreturn\u001b[39;00m vj, vk\n",
      "File \u001b[0;32m~/miniconda3/envs/noa-docs/lib/python3.9/site-packages/pyscf/scf/hf.py:1745\u001b[0m, in \u001b[0;36mSCF.get_jk\u001b[0;34m(self, mol, dm, hermi, with_j, with_k, omega)\u001b[0m\n\u001b[1;32m   1743\u001b[0m         prescreen \u001b[38;5;241m=\u001b[39m \u001b[38;5;124m'\u001b[39m\u001b[38;5;124mCVHFnrs8_vk_prescreen\u001b[39m\u001b[38;5;124m'\u001b[39m\n\u001b[1;32m   1744\u001b[0m     \u001b[38;5;28;01mwith\u001b[39;00m lib\u001b[38;5;241m.\u001b[39mtemporary_env(\u001b[38;5;28mself\u001b[39m\u001b[38;5;241m.\u001b[39mopt, prescreen\u001b[38;5;241m=\u001b[39mprescreen):\n\u001b[0;32m-> 1745\u001b[0m         vj, vk \u001b[38;5;241m=\u001b[39m \u001b[43mget_jk\u001b[49m\u001b[43m(\u001b[49m\u001b[43mmol\u001b[49m\u001b[43m,\u001b[49m\u001b[43m \u001b[49m\u001b[43mdm\u001b[49m\u001b[43m,\u001b[49m\u001b[43m \u001b[49m\u001b[43mhermi\u001b[49m\u001b[43m,\u001b[49m\u001b[43m \u001b[49m\u001b[38;5;28;43mself\u001b[39;49m\u001b[38;5;241;43m.\u001b[39;49m\u001b[43mopt\u001b[49m\u001b[43m,\u001b[49m\u001b[43m \u001b[49m\u001b[43mwith_j\u001b[49m\u001b[43m,\u001b[49m\u001b[43m \u001b[49m\u001b[43mwith_k\u001b[49m\u001b[43m,\u001b[49m\u001b[43m \u001b[49m\u001b[43momega\u001b[49m\u001b[43m)\u001b[49m\n\u001b[1;32m   1747\u001b[0m logger\u001b[38;5;241m.\u001b[39mtimer(\u001b[38;5;28mself\u001b[39m, \u001b[38;5;124m'\u001b[39m\u001b[38;5;124mvj and vk\u001b[39m\u001b[38;5;124m'\u001b[39m, \u001b[38;5;241m*\u001b[39mcpu0)\n\u001b[1;32m   1748\u001b[0m \u001b[38;5;28;01mreturn\u001b[39;00m vj, vk\n",
      "File \u001b[0;32m~/miniconda3/envs/noa-docs/lib/python3.9/site-packages/pyscf/scf/hf.py:822\u001b[0m, in \u001b[0;36mget_jk\u001b[0;34m(mol, dm, hermi, vhfopt, with_j, with_k, omega)\u001b[0m\n\u001b[1;32m    819\u001b[0m     hermi \u001b[38;5;241m=\u001b[39m \u001b[38;5;241m0\u001b[39m\n\u001b[1;32m    821\u001b[0m \u001b[38;5;28;01mif\u001b[39;00m omega \u001b[38;5;129;01mis\u001b[39;00m \u001b[38;5;28;01mNone\u001b[39;00m:\n\u001b[0;32m--> 822\u001b[0m     vj, vk \u001b[38;5;241m=\u001b[39m \u001b[43m_vhf\u001b[49m\u001b[38;5;241;43m.\u001b[39;49m\u001b[43mdirect\u001b[49m\u001b[43m(\u001b[49m\u001b[43mdm\u001b[49m\u001b[43m,\u001b[49m\u001b[43m \u001b[49m\u001b[43mmol\u001b[49m\u001b[38;5;241;43m.\u001b[39;49m\u001b[43m_atm\u001b[49m\u001b[43m,\u001b[49m\u001b[43m \u001b[49m\u001b[43mmol\u001b[49m\u001b[38;5;241;43m.\u001b[39;49m\u001b[43m_bas\u001b[49m\u001b[43m,\u001b[49m\u001b[43m \u001b[49m\u001b[43mmol\u001b[49m\u001b[38;5;241;43m.\u001b[39;49m\u001b[43m_env\u001b[49m\u001b[43m,\u001b[49m\n\u001b[1;32m    823\u001b[0m \u001b[43m                         \u001b[49m\u001b[43mvhfopt\u001b[49m\u001b[43m,\u001b[49m\u001b[43m \u001b[49m\u001b[43mhermi\u001b[49m\u001b[43m,\u001b[49m\u001b[43m \u001b[49m\u001b[43mmol\u001b[49m\u001b[38;5;241;43m.\u001b[39;49m\u001b[43mcart\u001b[49m\u001b[43m,\u001b[49m\u001b[43m \u001b[49m\u001b[43mwith_j\u001b[49m\u001b[43m,\u001b[49m\u001b[43m \u001b[49m\u001b[43mwith_k\u001b[49m\u001b[43m)\u001b[49m\n\u001b[1;32m    824\u001b[0m \u001b[38;5;28;01melse\u001b[39;00m:\n\u001b[1;32m    825\u001b[0m     \u001b[38;5;66;03m# The vhfopt of standard Coulomb operator can be used here as an approximate\u001b[39;00m\n\u001b[1;32m    826\u001b[0m     \u001b[38;5;66;03m# integral prescreening conditioner since long-range part Coulomb is always\u001b[39;00m\n\u001b[1;32m    827\u001b[0m     \u001b[38;5;66;03m# smaller than standard Coulomb.  It's safe to filter LR integrals with the\u001b[39;00m\n\u001b[1;32m    828\u001b[0m     \u001b[38;5;66;03m# integral estimation from standard Coulomb.\u001b[39;00m\n\u001b[1;32m    829\u001b[0m     \u001b[38;5;28;01mwith\u001b[39;00m mol\u001b[38;5;241m.\u001b[39mwith_range_coulomb(omega):\n",
      "File \u001b[0;32m~/miniconda3/envs/noa-docs/lib/python3.9/site-packages/pyscf/scf/_vhf.py:362\u001b[0m, in \u001b[0;36mdirect\u001b[0;34m(dms, atm, bas, env, vhfopt, hermi, cart, with_j, with_k)\u001b[0m\n\u001b[1;32m    360\u001b[0m n_ops \u001b[38;5;241m=\u001b[39m \u001b[38;5;28mlen\u001b[39m(dmsptr)\n\u001b[1;32m    361\u001b[0m comp \u001b[38;5;241m=\u001b[39m \u001b[38;5;241m1\u001b[39m\n\u001b[0;32m--> 362\u001b[0m \u001b[43mfdrv\u001b[49m\u001b[43m(\u001b[49m\u001b[43mcintor\u001b[49m\u001b[43m,\u001b[49m\u001b[43m \u001b[49m\u001b[43mfdot\u001b[49m\u001b[43m,\u001b[49m\u001b[43m \u001b[49m\u001b[43m(\u001b[49m\u001b[43mctypes\u001b[49m\u001b[38;5;241;43m.\u001b[39;49m\u001b[43mc_void_p\u001b[49m\u001b[38;5;241;43m*\u001b[39;49m\u001b[43mn_ops\u001b[49m\u001b[43m)\u001b[49m\u001b[43m(\u001b[49m\u001b[38;5;241;43m*\u001b[39;49m\u001b[43mfjk\u001b[49m\u001b[43m)\u001b[49m\u001b[43m,\u001b[49m\n\u001b[1;32m    363\u001b[0m \u001b[43m     \u001b[49m\u001b[43m(\u001b[49m\u001b[43mctypes\u001b[49m\u001b[38;5;241;43m.\u001b[39;49m\u001b[43mc_void_p\u001b[49m\u001b[38;5;241;43m*\u001b[39;49m\u001b[43mn_ops\u001b[49m\u001b[43m)\u001b[49m\u001b[43m(\u001b[49m\u001b[38;5;241;43m*\u001b[39;49m\u001b[43mdmsptr\u001b[49m\u001b[43m)\u001b[49m\u001b[43m,\u001b[49m\u001b[43m \u001b[49m\u001b[43m(\u001b[49m\u001b[43mctypes\u001b[49m\u001b[38;5;241;43m.\u001b[39;49m\u001b[43mc_void_p\u001b[49m\u001b[38;5;241;43m*\u001b[39;49m\u001b[43mn_ops\u001b[49m\u001b[43m)\u001b[49m\u001b[43m(\u001b[49m\u001b[38;5;241;43m*\u001b[39;49m\u001b[43mvjkptr\u001b[49m\u001b[43m)\u001b[49m\u001b[43m,\u001b[49m\n\u001b[1;32m    364\u001b[0m \u001b[43m     \u001b[49m\u001b[43mctypes\u001b[49m\u001b[38;5;241;43m.\u001b[39;49m\u001b[43mc_int\u001b[49m\u001b[43m(\u001b[49m\u001b[43mn_ops\u001b[49m\u001b[43m)\u001b[49m\u001b[43m,\u001b[49m\u001b[43m \u001b[49m\u001b[43mctypes\u001b[49m\u001b[38;5;241;43m.\u001b[39;49m\u001b[43mc_int\u001b[49m\u001b[43m(\u001b[49m\u001b[43mcomp\u001b[49m\u001b[43m)\u001b[49m\u001b[43m,\u001b[49m\n\u001b[1;32m    365\u001b[0m \u001b[43m     \u001b[49m\u001b[43mshls_slice\u001b[49m\u001b[43m,\u001b[49m\u001b[43m \u001b[49m\u001b[43mao_loc\u001b[49m\u001b[38;5;241;43m.\u001b[39;49m\u001b[43mctypes\u001b[49m\u001b[38;5;241;43m.\u001b[39;49m\u001b[43mdata_as\u001b[49m\u001b[43m(\u001b[49m\u001b[43mctypes\u001b[49m\u001b[38;5;241;43m.\u001b[39;49m\u001b[43mc_void_p\u001b[49m\u001b[43m)\u001b[49m\u001b[43m,\u001b[49m\u001b[43m \u001b[49m\u001b[43mcintopt\u001b[49m\u001b[43m,\u001b[49m\u001b[43m \u001b[49m\u001b[43mcvhfopt\u001b[49m\u001b[43m,\u001b[49m\n\u001b[1;32m    366\u001b[0m \u001b[43m     \u001b[49m\u001b[43mc_atm\u001b[49m\u001b[38;5;241;43m.\u001b[39;49m\u001b[43mctypes\u001b[49m\u001b[38;5;241;43m.\u001b[39;49m\u001b[43mdata_as\u001b[49m\u001b[43m(\u001b[49m\u001b[43mctypes\u001b[49m\u001b[38;5;241;43m.\u001b[39;49m\u001b[43mc_void_p\u001b[49m\u001b[43m)\u001b[49m\u001b[43m,\u001b[49m\u001b[43m \u001b[49m\u001b[43mnatm\u001b[49m\u001b[43m,\u001b[49m\n\u001b[1;32m    367\u001b[0m \u001b[43m     \u001b[49m\u001b[43mc_bas\u001b[49m\u001b[38;5;241;43m.\u001b[39;49m\u001b[43mctypes\u001b[49m\u001b[38;5;241;43m.\u001b[39;49m\u001b[43mdata_as\u001b[49m\u001b[43m(\u001b[49m\u001b[43mctypes\u001b[49m\u001b[38;5;241;43m.\u001b[39;49m\u001b[43mc_void_p\u001b[49m\u001b[43m)\u001b[49m\u001b[43m,\u001b[49m\u001b[43m \u001b[49m\u001b[43mnbas\u001b[49m\u001b[43m,\u001b[49m\n\u001b[1;32m    368\u001b[0m \u001b[43m     \u001b[49m\u001b[43mc_env\u001b[49m\u001b[38;5;241;43m.\u001b[39;49m\u001b[43mctypes\u001b[49m\u001b[38;5;241;43m.\u001b[39;49m\u001b[43mdata_as\u001b[49m\u001b[43m(\u001b[49m\u001b[43mctypes\u001b[49m\u001b[38;5;241;43m.\u001b[39;49m\u001b[43mc_void_p\u001b[49m\u001b[43m)\u001b[49m\u001b[43m)\u001b[49m\n\u001b[1;32m    370\u001b[0m \u001b[38;5;28;01mif\u001b[39;00m with_j:\n\u001b[1;32m    371\u001b[0m     \u001b[38;5;66;03m# vj must be symmetric\u001b[39;00m\n\u001b[1;32m    372\u001b[0m     \u001b[38;5;28;01mfor\u001b[39;00m i \u001b[38;5;129;01min\u001b[39;00m \u001b[38;5;28mrange\u001b[39m(n_dm):\n",
      "\u001b[0;31mKeyboardInterrupt\u001b[0m: "
     ]
    }
   ],
   "source": [
    "for mol_name, mol in polyglycines_molecules.items():\n",
    "    print(f\"For {mol_name}:\")\n",
    "       \n",
    "    print(\"* PySCF 'adjoint':\")\n",
    "    mean, std_dev, _ = pyscf_adjoint_time_of_derivatives_calculation(mol, LDA_factor, LDA_power)\n",
    "    polyglycines_performance[\"pyscf_adjoint\"][mol_name][\"mean\"] = mean\n",
    "    polyglycines_performance[\"pyscf_adjoint\"][mol_name][\"std_dev\"] = std_dev\n",
    "\n",
    "    if mol_name <= 6:\n",
    "        print(\"* DQC:\")\n",
    "        mean, std_dev, _ = dqc_autograd_time_of_derivatives_calculation(mol, LDA_factor, LDA_power)\n",
    "        polyglycines_performance[\"dqc_onlygrad\"][mol_name][\"mean\"] = mean\n",
    "        polyglycines_performance[\"dqc_onlygrad\"][mol_name][\"std_dev\"] = std_dev\n",
    "\n",
    "    print(\"---><---\")"
   ]
  },
  {
   "cell_type": "code",
   "execution_count": 114,
   "metadata": {},
   "outputs": [],
   "source": [
    "from ast import literal_eval\n",
    "\n",
    "with open('structures/alkanes_molecules.txt') as alkanes_molecules_file: \n",
    "    alkanes_molecules_file_as_string = alkanes_molecules_file.read() \n",
    "\n",
    "alkanes_molecules = literal_eval(alkanes_molecules_file_as_string)"
   ]
  },
  {
   "cell_type": "code",
   "execution_count": 115,
   "metadata": {},
   "outputs": [],
   "source": [
    "alkanes_performance = {\n",
    "    \"pyscf_adjoint\":    {},\n",
    "    \"dqc_onlygrad\":     {},\n",
    "}\n",
    "\n",
    "for data_of_method in alkanes_performance.values():\n",
    "    for mol_name in alkanes_molecules:\n",
    "        data_of_method[mol_name] = {}"
   ]
  },
  {
   "cell_type": "code",
   "execution_count": null,
   "metadata": {},
   "outputs": [
    {
     "name": "stdout",
     "output_type": "stream",
     "text": [
      "For n-С4H10:\n",
      "* PySCF 'adjoint':\n",
      "63.9 ms ± 2.72 ms per loop (mean ± std. dev. of 100 runs, 10 loops each)\n",
      "* DQC:\n",
      "2.35 s ± 129 ms per loop (mean ± std. dev. of 100 runs, 1 loop each)\n",
      "1.68 s ± 81.6 ms per loop (mean ± std. dev. of 100 runs, 1 loop each)\n",
      "---><---\n",
      "For n-С6H14:\n",
      "* PySCF 'adjoint':\n",
      "145 ms ± 7.42 ms per loop (mean ± std. dev. of 100 runs, 10 loops each)\n",
      "* DQC:\n",
      "6.63 s ± 193 ms per loop (mean ± std. dev. of 100 runs, 1 loop each)\n",
      "5.2 s ± 186 ms per loop (mean ± std. dev. of 100 runs, 1 loop each)\n",
      "---><---\n",
      "For n-С8H18:\n",
      "* PySCF 'adjoint':\n",
      "271 ms ± 12.4 ms per loop (mean ± std. dev. of 100 runs, 1 loop each)\n",
      "* DQC:\n",
      "13.5 s ± 508 ms per loop (mean ± std. dev. of 100 runs, 1 loop each)\n",
      "10.9 s ± 391 ms per loop (mean ± std. dev. of 100 runs, 1 loop each)\n",
      "---><---\n",
      "For n-С10H22:\n",
      "* PySCF 'adjoint':\n",
      "367 ms ± 19.4 ms per loop (mean ± std. dev. of 100 runs, 1 loop each)\n",
      "367 ms ± 19.4 ms per loop (mean ± std. dev. of 100 runs, 1 loop each)\n",
      "* DQC:\n"
     ]
    }
   ],
   "source": [
    "for mol_name, mol in alkanes_molecules.items():\n",
    "    print(f\"For n-С{mol_name}H{2*mol_name+2}:\")\n",
    "\n",
    "    print(\"* PySCF 'adjoint':\")\n",
    "    mean, std_dev, all_times = pyscf_adjoint_time_of_derivatives_calculation(mol, LDA_factor, LDA_power)\n",
    "    alkanes_performance[\"pyscf_adjoint\"][mol_name][\"mean\"] = mean\n",
    "    alkanes_performance[\"pyscf_adjoint\"][mol_name][\"std_dev\"] = std_dev\n",
    "    print(all_times)\n",
    "\n",
    "    if mol_name <= 22:\n",
    "        print(\"* DQC:\")\n",
    "        mean, std_dev, all_times = dqc_autograd_time_of_derivatives_calculation(mol, LDA_factor, LDA_power)\n",
    "        alkanes_performance[\"dqc_onlygrad\"][mol_name][\"mean\"] = mean\n",
    "        alkanes_performance[\"dqc_onlygrad\"][mol_name][\"std_dev\"] = std_dev\n",
    "        print(all_times[0])\n",
    "        print(all_times[1])\n",
    "    \n",
    "    print(\"---><---\")"
   ]
  },
  {
   "cell_type": "code",
   "execution_count": 110,
   "metadata": {},
   "outputs": [
    {
     "data": {
      "image/png": "[encoded data removed]",
      "text/plain": [
       "<Figure size 640x480 with 1 Axes>"
      ]
     },
     "metadata": {},
     "output_type": "display_data"
    }
   ],
   "source": [
    "import matplotlib.pyplot as plt\n",
    "\n",
    "adjoint_x = [l for l in alkanes_performance['pyscf_adjoint'].keys() if alkanes_performance['pyscf_adjoint'][l]]\n",
    "adjoint_y = [l[\"mean\"] for l in alkanes_performance['pyscf_adjoint'].values() if l]\n",
    "adjoint_yerr = [l[\"std_dev\"] for l in alkanes_performance['pyscf_adjoint'].values() if l]\n",
    "plt.errorbar(adjoint_x, adjoint_y, yerr=adjoint_yerr, label='PySCF adjoint')\n",
    "\n",
    "dqc_x = [l for l in alkanes_performance['dqc_onlygrad'].keys() if alkanes_performance['dqc_onlygrad'][l]]\n",
    "dqc_y = [l[\"mean\"] for l in alkanes_performance['dqc_onlygrad'].values() if l]\n",
    "dqc_yerr = [l[\"std_dev\"] for l in alkanes_performance['dqc_onlygrad'].values() if l]\n",
    "plt.errorbar(dqc_x, dqc_y, yerr=dqc_yerr, label='DQC autograd')\n",
    "\n",
    "plt.xscale('log')\n",
    "plt.yscale('log')\n",
    "\n",
    "plt.title(r\"Time of derivative calculation of C$_n$H$_{2n+2}$\")\n",
    "plt.xlabel(\"n\")\n",
    "plt.ylabel(\"Time, s\")\n",
    "\n",
    "plt.legend(loc='lower right')\n",
    "\n",
    "plt.show()"
   ]
  }
 ],
 "metadata": {
  "datalore": {
   "base_environment": "default",
   "computation_mode": "JUPYTER",
   "package_manager": "pip",
   "packages": [
    {
     "name": "pyscf",
     "source": "PIP",
     "version": "2.1.1"
    },
    {
     "name": "pydqc",
     "source": "PIP",
     "version": "0.1.0"
    }
   ],
   "version": 1
  },
  "kernelspec": {
   "display_name": "Python 3 (ipykernel)",
   "language": "python",
   "name": "python3"
  },
  "language_info": {
   "codemirror_mode": {
    "name": "ipython",
    "version": 3
   },
   "file_extension": ".py",
   "mimetype": "text/x-python",
   "name": "python",
   "nbconvert_exporter": "python",
   "pygments_lexer": "ipython3",
   "version": "3.11.5"
  }
 },
 "nbformat": 4,
 "nbformat_minor": 4
}
