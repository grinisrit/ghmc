{
 "cells": [
  {
   "cell_type": "markdown",
   "id": "8074ca50",
   "metadata": {},
   "source": [
    "## <center> SVI Jump Wings</center>"
   ]
  },
  {
   "cell_type": "markdown",
   "id": "31dbf250",
   "metadata": {},
   "source": [
    "$$ w(k, X_R) = a + b\\{\\rho(k - m) + \\sqrt{(k - m)^2 + \\sigma^2} \\}$$\n",
    "\n",
    "$$ v_t = \\frac{a + b\\{-\\rho m + \\sqrt{m^2 + \\sigma^2} \\}}{T} $$\n",
    "\n",
    "$$ \\psi_t = \\frac{b}{2\\sqrt{v_t T}} (-\\frac{m}{\\sqrt{m^2 + \\sigma^2}} + \\rho)$$\n",
    "\n",
    "$$ p_t = \\frac{b(1 - \\rho)}{\\sqrt{v_t T}} $$\n",
    "\n",
    "$$ c_t = \\frac{b(1 + \\rho)}{\\sqrt{v_t T}} $$\n",
    "\n",
    "$$ \\tilde{v_t} = \\frac{a + b\\sigma \\sqrt{1 - \\rho^2})}{T} $$"
   ]
  },
  {
   "cell_type": "markdown",
   "id": "520994d0",
   "metadata": {},
   "source": [
    "Reconvert:\n",
    "\n",
    "$$ b = \\frac{\\sqrt{v_t T} (c_t + p_t)}{2} $$\n",
    "$$ \\rho = 1 - \\frac{p_t\\sqrt{v_t T}}{b} $$\n",
    "$$ \\beta = \\rho - \\frac{2 \\psi_t \\sqrt{v_t T}}{b} $$\n",
    "$$ \\alpha = sign{\\beta} \\sqrt{\\frac{1}{\\beta^2} -1}$$\n",
    "$$ m = \\frac{(v_t-\\tilde{v_t})T}{b(-\\rho + sign(\\alpha)\\sqrt{1+\\alpha^2}-\\alpha\\sqrt{1-\\rho^2})} $$\n",
    "\n",
    "$$ \\sigma = \\begin{cases}\n",
    "      \\frac{(\\tilde{v_t}   - v_t) T }{b(\\sqrt{1 - \\rho^2} - 1)} , m = 0 \\\\\n",
    "      m \\alpha , other\n",
    "    \\end{cases} $$\n",
    "    \n",
    "$$ a = \\tilde{v_t} T  - b \\sigma \\sqrt{1 - \\rho^2} $$\n",
    "\n",
    "$$ \\sigma = \\max(\\sigma, 0) $$\n"
   ]
  }
 ],
 "metadata": {
  "kernelspec": {
   "display_name": "Python 3 (ipykernel)",
   "language": "python",
   "name": "python3"
  },
  "language_info": {
   "codemirror_mode": {
    "name": "ipython",
    "version": 3
   },
   "file_extension": ".py",
   "mimetype": "text/x-python",
   "name": "python",
   "nbconvert_exporter": "python",
   "pygments_lexer": "ipython3",
   "version": "3.8.13"
  }
 },
 "nbformat": 4,
 "nbformat_minor": 5
}
