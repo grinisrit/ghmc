{
 "cells": [
  {
   "cell_type": "markdown",
   "id": "8074ca50",
   "metadata": {},
   "source": [
    "## <center> SVI Jump Wings</center>"
   ]
  },
  {
   "cell_type": "markdown",
   "id": "31dbf250",
   "metadata": {},
   "source": [
    "$$ w(k, X_R) = a + b\\{\\rho(k - m) + \\sqrt{(k - m)^2 + \\sigma^2} \\}$$\n",
    "\n",
    "$$ v_t = \\frac{a + b\\{-\\rho m + \\sqrt{m^2 + \\sigma^2} \\}}{T} $$\n",
    "\n",
    "$$ \\psi_t = \\frac{b}{2\\sqrt{v_t T}} (-\\frac{m}{\\sqrt{m^2 + \\sigma^2}} + \\rho)$$\n",
    "\n",
    "$$ p_t = \\frac{b(1 - \\rho)}{\\sqrt{v_t T}} $$\n",
    "\n",
    "$$ c_t = \\frac{b(1 + \\rho)}{\\sqrt{v_t T}} $$\n",
    "\n",
    "$$ \\tilde{v_t} = \\frac{a + b\\sigma \\sqrt{1 - \\rho^2})}{T} $$"
   ]
  },
  {
   "cell_type": "markdown",
   "id": "520994d0",
   "metadata": {},
   "source": [
    "Reconvert:\n",
    "\n",
    "$$ b = \\frac{\\sqrt{v_t T} (c_t + p_t)}{2} $$\n",
    "$$ \\rho = 1 - \\frac{p_t\\sqrt{v_t T}}{b} $$\n",
    "$$ \\beta = \\rho - \\frac{2 \\psi_t \\sqrt{v_t T}}{b} $$\n",
    "$$ \\alpha = sign{\\beta} \\sqrt{\\frac{1}{\\beta^2} -1}$$\n",
    "$$ m = \\frac{(v_t-\\tilde{v_t})T}{b(-\\rho + sign(\\alpha)\\sqrt{1+\\alpha^2}-\\alpha\\sqrt{1-\\rho^2})} $$\n",
    "\n",
    "$$ \\sigma = \\begin{cases}\n",
    "      \\frac{(\\tilde{v_t}   - v_t) T }{b(\\sqrt{1 - \\rho^2} - 1)} , m = 0 \\\\\n",
    "      m \\alpha , other\n",
    "    \\end{cases} $$\n",
    "    \n",
    "$$ a = \\tilde{v_t} T  - b \\sigma \\sqrt{1 - \\rho^2} $$\n",
    "\n",
    "$$ \\sigma = \\max(\\sigma, 0) $$\n"
   ]
  },
  {
   "cell_type": "markdown",
   "id": "4e7ac004",
   "metadata": {},
   "source": [
    "Производные по параметрам в raw калибровке"
   ]
  },
  {
   "cell_type": "code",
   "execution_count": 1,
   "id": "2c1e4df0",
   "metadata": {},
   "outputs": [],
   "source": [
    "import sympy as sym\n"
   ]
  },
  {
   "cell_type": "code",
   "execution_count": 7,
   "id": "eedf2bdc",
   "metadata": {},
   "outputs": [],
   "source": [
    "a, b, rho, m, sigma, f, K, T = sym.symbols('a b rho m sigma f K T')\n",
    "k = sym.log(K/f)\n",
    "w = a + b *(rho*(k - m) + sym.sqrt((k-m)**2 + sigma**2))"
   ]
  },
  {
   "cell_type": "code",
   "execution_count": 18,
   "id": "493db27c",
   "metadata": {},
   "outputs": [
    {
     "data": {
      "text/latex": [
       "$\\displaystyle b \\left(- \\frac{\\rho}{f} - \\frac{k - m}{f \\sqrt{\\sigma^{2} + \\left(k - m\\right)^{2}}}\\right)$"
      ],
      "text/plain": [
       "b*(-rho/f - (k - m)/(f*sqrt(sigma**2 + (k - m)**2)))"
      ]
     },
     "execution_count": 18,
     "metadata": {},
     "output_type": "execute_result"
    }
   ],
   "source": [
    "#delta\n",
    "w.diff(f).subs(k, \"k\")"
   ]
  },
  {
   "cell_type": "code",
   "execution_count": 28,
   "id": "864a3f17",
   "metadata": {},
   "outputs": [
    {
     "data": {
      "text/latex": [
       "$\\displaystyle b \\left(\\frac{\\rho}{f^{2}} - \\frac{\\left(k - m\\right)^{2}}{f^{2} \\left(\\sigma^{2} + \\left(k - m\\right)^{2}\\right)^{\\frac{3}{2}}} + \\frac{k - m}{f^{2} \\sqrt{\\sigma^{2} + \\left(k - m\\right)^{2}}} + \\frac{1}{f^{2} \\sqrt{\\sigma^{2} + \\left(k - m\\right)^{2}}}\\right)$"
      ],
      "text/plain": [
       "b*(rho/f**2 - (k - m)**2/(f**2*(sigma**2 + (k - m)**2)**(3/2)) + (k - m)/(f**2*sqrt(sigma**2 + (k - m)**2)) + 1/(f**2*sqrt(sigma**2 + (k - m)**2)))"
      ]
     },
     "execution_count": 28,
     "metadata": {},
     "output_type": "execute_result"
    }
   ],
   "source": [
    "#gamma\n",
    "w.diff(f).diff(f).subs(k, \"k\")"
   ]
  },
  {
   "cell_type": "code",
   "execution_count": 19,
   "id": "a2312579",
   "metadata": {
    "scrolled": true
   },
   "outputs": [
    {
     "data": {
      "text/latex": [
       "$\\displaystyle 1$"
      ],
      "text/plain": [
       "1"
      ]
     },
     "execution_count": 19,
     "metadata": {},
     "output_type": "execute_result"
    }
   ],
   "source": [
    "# a\n",
    "w.diff(a).subs(k, \"k\")"
   ]
  },
  {
   "cell_type": "code",
   "execution_count": 20,
   "id": "9ed7a68e",
   "metadata": {},
   "outputs": [
    {
     "data": {
      "text/latex": [
       "$\\displaystyle \\rho \\left(k - m\\right) + \\sqrt{\\sigma^{2} + \\left(k - m\\right)^{2}}$"
      ],
      "text/plain": [
       "rho*(k - m) + sqrt(sigma**2 + (k - m)**2)"
      ]
     },
     "execution_count": 20,
     "metadata": {},
     "output_type": "execute_result"
    }
   ],
   "source": [
    "# b\n",
    "w.diff(b).subs(k, \"k\")"
   ]
  },
  {
   "cell_type": "code",
   "execution_count": 21,
   "id": "995d792d",
   "metadata": {},
   "outputs": [
    {
     "data": {
      "text/latex": [
       "$\\displaystyle b \\left(k - m\\right)$"
      ],
      "text/plain": [
       "b*(k - m)"
      ]
     },
     "execution_count": 21,
     "metadata": {},
     "output_type": "execute_result"
    }
   ],
   "source": [
    "# rho\n",
    "w.diff(rho).subs(k, \"k\")"
   ]
  },
  {
   "cell_type": "code",
   "execution_count": 22,
   "id": "2bc8440b",
   "metadata": {},
   "outputs": [
    {
     "data": {
      "text/latex": [
       "$\\displaystyle b \\left(- \\rho + \\frac{- k + m}{\\sqrt{\\sigma^{2} + \\left(k - m\\right)^{2}}}\\right)$"
      ],
      "text/plain": [
       "b*(-rho + (-k + m)/sqrt(sigma**2 + (k - m)**2))"
      ]
     },
     "execution_count": 22,
     "metadata": {},
     "output_type": "execute_result"
    }
   ],
   "source": [
    "# m\n",
    "w.diff(m).subs(k, \"k\")"
   ]
  },
  {
   "cell_type": "code",
   "execution_count": 23,
   "id": "42e21b50",
   "metadata": {},
   "outputs": [
    {
     "data": {
      "text/latex": [
       "$\\displaystyle \\frac{b \\sigma}{\\sqrt{\\sigma^{2} + \\left(k - m\\right)^{2}}}$"
      ],
      "text/plain": [
       "b*sigma/sqrt(sigma**2 + (k - m)**2)"
      ]
     },
     "execution_count": 23,
     "metadata": {},
     "output_type": "execute_result"
    }
   ],
   "source": [
    "# sigma\n",
    "w.diff(sigma).subs(k, \"k\")"
   ]
  }
 ],
 "metadata": {
  "kernelspec": {
   "display_name": "Python 3 (ipykernel)",
   "language": "python",
   "name": "python3"
  },
  "language_info": {
   "codemirror_mode": {
    "name": "ipython",
    "version": 3
   },
   "file_extension": ".py",
   "mimetype": "text/x-python",
   "name": "python",
   "nbconvert_exporter": "python",
   "pygments_lexer": "ipython3",
   "version": "3.8.13"
  }
 },
 "nbformat": 4,
 "nbformat_minor": 5
}
