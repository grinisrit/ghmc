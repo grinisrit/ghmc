{
 "cells": [
  {
   "cell_type": "code",
   "execution_count": 155,
   "id": "f0fb913f",
   "metadata": {},
   "outputs": [],
   "source": [
    "# from pyquant.SVI import SVICalc\n",
    "from importlib import reload\n",
    "import pyquant.svi\n",
    "reload(pyquant.svi)\n",
    "\n",
    "from pyquant.svi import *\n",
    "from pyquant.common import *\n",
    "import numpy as np\n",
    "import numba as nb\n",
    "import matplotlib.pyplot as plt\n"
   ]
  },
  {
   "cell_type": "code",
   "execution_count": 156,
   "id": "ffea5d43",
   "metadata": {},
   "outputs": [],
   "source": [
    "bs_calc = BSCalc()\n",
    "\n",
    "strikes = np.array([1300., 1400, 1500, 1600, 1700, 1800., 1900, 2000, 2100, 2200])\n",
    "call_strikes = np.array([1800., 1900, 2000, 2100, 2200])\n",
    "tau = 0.01\n",
    "F = 1723.75\n",
    "pvs = np.array([ 1.72375, 1.72375, 3.4475, 6.895, 26.718125, 11.204375,\n",
    "                4.309375, 1.72375, 0.861875, 0.861875])\n",
    "\n",
    "implied_vols = bs_calc.implied_vols(\n",
    "    Forward(Spot(F), ForwardYield(0.), TimeToMaturity(tau)), \n",
    "    Strikes(strikes),\n",
    "    Premiums(pvs)\n",
    ").data\n",
    "\n",
    "vol_smile_chain = VolSmileChain(\n",
    "    Forward(Spot(F), ForwardYield(0.), TimeToMaturity(tau)),\n",
    "    Strikes(strikes),\n",
    "    ImpliedVols(implied_vols)\n",
    ")\n",
    "weights = CalibrationWeights(np.ones_like(vol_smile_chain.Ks))\n",
    "\n"
   ]
  },
  {
   "cell_type": "code",
   "execution_count": 157,
   "id": "3be89b93",
   "metadata": {},
   "outputs": [],
   "source": [
    "svi_calc = SVICalc()"
   ]
  },
  {
   "cell_type": "code",
   "execution_count": 158,
   "id": "9401280f",
   "metadata": {},
   "outputs": [
    {
     "name": "stderr",
     "output_type": "stream",
     "text": [
      "/Users/zugzvangg/Desktop/Projects/noa/docs/quant/pyquant/svi.py:395: RuntimeWarning: invalid value encountered in sqrt\n",
      "/Users/zugzvangg/Desktop/Projects/noa/docs/quant/pyquant/svi.py:362: RuntimeWarning: invalid value encountered in sqrt\n"
     ]
    }
   ],
   "source": [
    "calibrated_params = svi_calc.calibrate(vol_smile_chain, weights)"
   ]
  },
  {
   "cell_type": "code",
   "execution_count": 159,
   "id": "8de65f03",
   "metadata": {},
   "outputs": [
    {
     "data": {
      "text/plain": [
       "array([-0.05516348,  0.19508255, -0.53059706, -0.22331506,  0.35125428])"
      ]
     },
     "execution_count": 159,
     "metadata": {},
     "output_type": "execute_result"
    }
   ],
   "source": [
    "calibrated_params.array()"
   ]
  },
  {
   "cell_type": "code",
   "execution_count": 160,
   "id": "53b46821",
   "metadata": {},
   "outputs": [
    {
     "data": {
      "text/plain": [
       "1.4068043478413755e-05"
      ]
     },
     "execution_count": 160,
     "metadata": {},
     "output_type": "execute_result"
    }
   ],
   "source": [
    "svi_calc.calibration_error"
   ]
  },
  {
   "cell_type": "code",
   "execution_count": 161,
   "id": "d7d1ff71",
   "metadata": {},
   "outputs": [],
   "source": [
    "jw_params = svi_calc._get_jump_wing_params(0.1)"
   ]
  },
  {
   "cell_type": "code",
   "execution_count": 162,
   "id": "1d49e9be",
   "metadata": {},
   "outputs": [
    {
     "data": {
      "text/plain": [
       "array([0.0292075 , 0.0106822 , 5.52499778, 1.69440429, 0.02918762])"
      ]
     },
     "execution_count": 162,
     "metadata": {},
     "output_type": "execute_result"
    }
   ],
   "source": [
    "jw_params.array()"
   ]
  },
  {
   "cell_type": "code",
   "execution_count": 163,
   "id": "e9604077",
   "metadata": {},
   "outputs": [],
   "source": [
    "test_strikes = Strikes(np.linspace(strikes[0], strikes[-1], 100))"
   ]
  },
  {
   "cell_type": "code",
   "execution_count": 164,
   "id": "a25e8b7b",
   "metadata": {},
   "outputs": [],
   "source": [
    "test_iv = svi_calc.implied_vols(\n",
    "    Forward(Spot(F), ForwardYield(0.), TimeToMaturity(tau)),\n",
    "    test_strikes,\n",
    "    calibrated_params\n",
    ")"
   ]
  },
  {
   "cell_type": "code",
   "execution_count": 165,
   "id": "70f95db3",
   "metadata": {},
   "outputs": [
    {
     "data": {
      "image/png": "[encoded data removed]",
      "text/plain": [
       "<Figure size 936x504 with 1 Axes>"
      ]
     },
     "metadata": {
      "needs_background": "light"
     },
     "output_type": "display_data"
    }
   ],
   "source": [
    "plt.figure(figsize=(13, 7))\n",
    "plt.plot(strikes, 100*implied_vols, '.C3', markersize=20)\n",
    "plt.plot(test_strikes.data, 100*test_iv.data, 'C1')\n",
    "plt.title('Market skew', fontsize=15)\n",
    "plt.xlabel('Strikes', color='white', fontsize=15)\n",
    "plt.ylabel('IV(%)', color='white', fontsize=15)\n",
    "plt.grid()\n",
    "plt.show()"
   ]
  }
 ],
 "metadata": {
  "kernelspec": {
   "display_name": "Python 3 (ipykernel)",
   "language": "python",
   "name": "python3"
  },
  "language_info": {
   "codemirror_mode": {
    "name": "ipython",
    "version": 3
   },
   "file_extension": ".py",
   "mimetype": "text/x-python",
   "name": "python",
   "nbconvert_exporter": "python",
   "pygments_lexer": "ipython3",
   "version": "3.10.5"
  }
 },
 "nbformat": 4,
 "nbformat_minor": 5
}
