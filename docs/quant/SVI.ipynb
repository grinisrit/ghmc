{
 "cells": [
  {
   "cell_type": "markdown",
   "id": "8cf68108",
   "metadata": {},
   "source": [
    "## <center> SVI Jump Wings</center>"
   ]
  },
  {
   "cell_type": "markdown",
   "id": "9e07021d",
   "metadata": {},
   "source": [
    "$$ w(k, X_R) = a + b\\{\\rho(k - m) + \\sqrt{(k - m)^2 + \\sigma^2} \\}$$\n",
    "\n",
    "$$ v_t = \\frac{a + b\\{-\\rho m + \\sqrt{m^2 + \\sigma^2} \\}}{T} $$\n",
    "\n",
    "$$ \\psi_t = \\frac{b}{2\\sqrt{v_t T}} (-\\frac{m}{\\sqrt{m^2 + \\sigma^2}} + \\rho)$$\n",
    "\n",
    "$$ p_t = \\frac{b(1 - \\rho)}{\\sqrt{v_t T}} $$\n",
    "\n",
    "$$ c_t = \\frac{b(1 + \\rho)}{\\sqrt{v_t T}} $$\n",
    "\n",
    "$$ \\tilde{v_t} = \\frac{a + b\\sigma \\sqrt{1 - \\rho^2})}{T} $$"
   ]
  },
  {
   "cell_type": "markdown",
   "id": "2834f161",
   "metadata": {},
   "source": [
    "Reconvert:\n",
    "\n",
    "$$ b = \\frac{\\sqrt{v_t T} (c_t + p_t)}{2} $$\n",
    "$$ \\rho = 1 - \\frac{p_t\\sqrt{v_t T}}{b} $$\n",
    "$$ \\beta = \\rho - \\frac{2 \\psi_t \\sqrt{v_t T}}{b} $$\n",
    "$$ \\alpha = sign{\\beta} \\sqrt{\\frac{1}{\\beta^2} -1}$$\n",
    "$$ m = \\frac{(v_t-\\tilde{v_t})T}{b(-\\rho + sign(\\alpha)\\sqrt{1+\\alpha^2}-\\alpha\\sqrt{1-\\rho^2})} $$\n",
    "\n",
    "$$ \\sigma = \\begin{cases}\n",
    "      \\frac{(\\tilde{v_t}   - v_t) T }{b(\\sqrt{1 - \\rho^2} - 1)} , m = 0 \\\\\n",
    "      m \\alpha , other\n",
    "    \\end{cases} $$\n",
    "    \n",
    "$$ a = \\tilde{v_t} T  - b \\sigma \\sqrt{1 - \\rho^2} $$\n",
    "\n",
    "$$ \\sigma = \\max(\\sigma, 0) $$\n"
   ]
  },
  {
   "cell_type": "markdown",
   "id": "3ccf6506",
   "metadata": {},
   "source": [
    "Производные по параметрам в raw калибровке"
   ]
  },
  {
   "cell_type": "code",
   "execution_count": 1,
   "id": "04d72ee0",
   "metadata": {},
   "outputs": [],
   "source": [
    "import sympy as sym"
   ]
  },
  {
   "cell_type": "code",
   "execution_count": 2,
   "id": "bd7472da",
   "metadata": {},
   "outputs": [],
   "source": [
    "a, b, rho, m, sigma, f, K, T = sym.symbols('a b rho m sigma f K T')\n",
    "k = sym.log(K/f)\n",
    "w = a + b *(rho*(k - m) + sym.sqrt((k-m)**2 + sigma**2))"
   ]
  },
  {
   "cell_type": "code",
   "execution_count": 3,
   "id": "13f1c638",
   "metadata": {},
   "outputs": [
    {
     "data": {
      "text/latex": [
       "$\\displaystyle b \\left(- \\frac{\\rho}{f} - \\frac{k - m}{f \\sqrt{\\sigma^{2} + \\left(k - m\\right)^{2}}}\\right)$"
      ],
      "text/plain": [
       "b*(-rho/f - (k - m)/(f*sqrt(sigma**2 + (k - m)**2)))"
      ]
     },
     "execution_count": 3,
     "metadata": {},
     "output_type": "execute_result"
    }
   ],
   "source": [
    "#delta\n",
    "w.diff(f).subs(k, \"k\")"
   ]
  },
  {
   "cell_type": "code",
   "execution_count": 4,
   "id": "050b3bff",
   "metadata": {},
   "outputs": [
    {
     "data": {
      "text/latex": [
       "$\\displaystyle b \\left(\\frac{\\rho}{f^{2}} - \\frac{\\left(k - m\\right)^{2}}{f^{2} \\left(\\sigma^{2} + \\left(k - m\\right)^{2}\\right)^{\\frac{3}{2}}} + \\frac{k - m}{f^{2} \\sqrt{\\sigma^{2} + \\left(k - m\\right)^{2}}} + \\frac{1}{f^{2} \\sqrt{\\sigma^{2} + \\left(k - m\\right)^{2}}}\\right)$"
      ],
      "text/plain": [
       "b*(rho/f**2 - (k - m)**2/(f**2*(sigma**2 + (k - m)**2)**(3/2)) + (k - m)/(f**2*sqrt(sigma**2 + (k - m)**2)) + 1/(f**2*sqrt(sigma**2 + (k - m)**2)))"
      ]
     },
     "execution_count": 4,
     "metadata": {},
     "output_type": "execute_result"
    }
   ],
   "source": [
    "#gamma\n",
    "w.diff(f).diff(f).subs(k, \"k\")"
   ]
  },
  {
   "cell_type": "code",
   "execution_count": 5,
   "id": "1ab8262e",
   "metadata": {},
   "outputs": [
    {
     "data": {
      "text/latex": [
       "$\\displaystyle 1$"
      ],
      "text/plain": [
       "1"
      ]
     },
     "execution_count": 5,
     "metadata": {},
     "output_type": "execute_result"
    }
   ],
   "source": [
    "# a\n",
    "w.diff(a).subs(k, \"k\")"
   ]
  },
  {
   "cell_type": "code",
   "execution_count": 6,
   "id": "3ba3ee40",
   "metadata": {},
   "outputs": [
    {
     "data": {
      "text/latex": [
       "$\\displaystyle \\rho \\left(k - m\\right) + \\sqrt{\\sigma^{2} + \\left(k - m\\right)^{2}}$"
      ],
      "text/plain": [
       "rho*(k - m) + sqrt(sigma**2 + (k - m)**2)"
      ]
     },
     "execution_count": 6,
     "metadata": {},
     "output_type": "execute_result"
    }
   ],
   "source": [
    "# b\n",
    "w.diff(b).subs(k, \"k\")"
   ]
  },
  {
   "cell_type": "code",
   "execution_count": 7,
   "id": "857f47ff",
   "metadata": {},
   "outputs": [
    {
     "data": {
      "text/latex": [
       "$\\displaystyle b \\left(k - m\\right)$"
      ],
      "text/plain": [
       "b*(k - m)"
      ]
     },
     "execution_count": 7,
     "metadata": {},
     "output_type": "execute_result"
    }
   ],
   "source": [
    "# rho\n",
    "w.diff(rho).subs(k, \"k\")"
   ]
  },
  {
   "cell_type": "code",
   "execution_count": 8,
   "id": "51b1c147",
   "metadata": {},
   "outputs": [
    {
     "data": {
      "text/latex": [
       "$\\displaystyle b \\left(- \\rho + \\frac{- k + m}{\\sqrt{\\sigma^{2} + \\left(k - m\\right)^{2}}}\\right)$"
      ],
      "text/plain": [
       "b*(-rho + (-k + m)/sqrt(sigma**2 + (k - m)**2))"
      ]
     },
     "execution_count": 8,
     "metadata": {},
     "output_type": "execute_result"
    }
   ],
   "source": [
    "# m\n",
    "w.diff(m).subs(k, \"k\")"
   ]
  },
  {
   "cell_type": "code",
   "execution_count": 9,
   "id": "5b4ef8b6",
   "metadata": {},
   "outputs": [
    {
     "data": {
      "text/latex": [
       "$\\displaystyle \\frac{b \\sigma}{\\sqrt{\\sigma^{2} + \\left(k - m\\right)^{2}}}$"
      ],
      "text/plain": [
       "b*sigma/sqrt(sigma**2 + (k - m)**2)"
      ]
     },
     "execution_count": 9,
     "metadata": {},
     "output_type": "execute_result"
    }
   ],
   "source": [
    "# sigma\n",
    "w.diff(sigma).subs(k, \"k\")"
   ]
  },
  {
   "cell_type": "markdown",
   "id": "bc4a985f",
   "metadata": {},
   "source": [
    " ##  <center> Калибровка </center> "
   ]
  },
  {
   "cell_type": "code",
   "execution_count": 10,
   "id": "868e25cf",
   "metadata": {},
   "outputs": [],
   "source": [
    "from importlib import reload\n",
    "import pyquant.svi\n",
    "reload(pyquant.svi)\n",
    "\n",
    "from pyquant.svi import *\n",
    "from pyquant.common import *\n",
    "import numpy as np\n",
    "import numba as nb\n",
    "import matplotlib.pyplot as plt\n",
    "import pandas as pd\n",
    "\n",
    "import itertools\n",
    "from scipy.stats import norm\n",
    "import matplotlib.pyplot as plt\n",
    "pd.set_option('display.max_columns', 1000)\n",
    "%matplotlib inline"
   ]
  },
  {
   "cell_type": "code",
   "execution_count": 11,
   "id": "cd2f3b27",
   "metadata": {},
   "outputs": [],
   "source": [
    "bs_calc = BSCalc()\n",
    "\n",
    "strikes = np.array([1300., 1400, 1500, 1600, 1700, 1800., 1900, 2000, 2100, 2200])\n",
    "call_strikes = np.array([1800., 1900, 2000, 2100, 2200])\n",
    "tau = 0.01\n",
    "F = 1723.75\n",
    "pvs = np.array([ 1.72375, 1.72375, 3.4475, 6.895, 26.718125, 11.204375,\n",
    "                4.309375, 1.72375, 0.861875, 0.861875])\n",
    "\n",
    "implied_vols = bs_calc.implied_vols(\n",
    "    Forward(Spot(F), ForwardYield(0.), TimeToMaturity(tau)), \n",
    "    Strikes(strikes),\n",
    "    Premiums(pvs)\n",
    ").data\n",
    "\n",
    "vol_smile_chain = VolSmileChain(\n",
    "    Forward(Spot(F), ForwardYield(0.), TimeToMaturity(tau)),\n",
    "    Strikes(strikes),\n",
    "    ImpliedVols(implied_vols)\n",
    ")\n",
    "weights = CalibrationWeights(np.ones_like(vol_smile_chain.Ks))\n",
    "\n"
   ]
  },
  {
   "cell_type": "code",
   "execution_count": 12,
   "id": "4965b519",
   "metadata": {},
   "outputs": [],
   "source": [
    "svi_calc = SVICalc()"
   ]
  },
  {
   "cell_type": "code",
   "execution_count": 13,
   "id": "6f45a79c",
   "metadata": {},
   "outputs": [
    {
     "name": "stderr",
     "output_type": "stream",
     "text": [
      "/Users/zugzvangg/Desktop/Projects/noa/docs/quant/pyquant/svi.py:403: RuntimeWarning: invalid value encountered in sqrt\n",
      "  denominator = 2 * np.sqrt(T * w)\n",
      "/Users/zugzvangg/Desktop/Projects/noa/docs/quant/pyquant/svi.py:370: RuntimeWarning: invalid value encountered in sqrt\n",
      "  iv = np.sqrt(w / T)\n"
     ]
    }
   ],
   "source": [
    "calibrated_params = svi_calc.calibrate(vol_smile_chain, weights)"
   ]
  },
  {
   "cell_type": "code",
   "execution_count": 14,
   "id": "ca1faf0b",
   "metadata": {},
   "outputs": [
    {
     "data": {
      "text/plain": [
       "array([-0.05516348,  0.19508255, -0.53059706, -0.22331506,  0.35125428])"
      ]
     },
     "execution_count": 14,
     "metadata": {},
     "output_type": "execute_result"
    }
   ],
   "source": [
    "calibrated_params.array()"
   ]
  },
  {
   "cell_type": "code",
   "execution_count": 15,
   "id": "3e5a7d42",
   "metadata": {},
   "outputs": [
    {
     "data": {
      "text/plain": [
       "1.4068043478413755e-05"
      ]
     },
     "execution_count": 15,
     "metadata": {},
     "output_type": "execute_result"
    }
   ],
   "source": [
    "svi_calc.calibration_error"
   ]
  },
  {
   "cell_type": "code",
   "execution_count": 16,
   "id": "f1ffa92e",
   "metadata": {},
   "outputs": [
    {
     "data": {
      "text/plain": [
       "array([-0.05516348,  0.19508255, -0.53059706, -0.22331506,  0.35125428])"
      ]
     },
     "execution_count": 16,
     "metadata": {},
     "output_type": "execute_result"
    }
   ],
   "source": [
    "svi_calc.raw_cached_params"
   ]
  },
  {
   "cell_type": "code",
   "execution_count": 17,
   "id": "224ad9ec",
   "metadata": {},
   "outputs": [
    {
     "data": {
      "text/plain": [
       "array([0.292075  , 0.0106822 , 5.52499778, 1.69440429, 0.29187617])"
      ]
     },
     "execution_count": 17,
     "metadata": {},
     "output_type": "execute_result"
    }
   ],
   "source": [
    "svi_calc.jump_wing_cached_params"
   ]
  },
  {
   "cell_type": "code",
   "execution_count": 18,
   "id": "38861e18",
   "metadata": {},
   "outputs": [],
   "source": [
    "test_strikes = Strikes(np.linspace(strikes[0], strikes[-1], 100))"
   ]
  },
  {
   "cell_type": "code",
   "execution_count": 19,
   "id": "fed883ef",
   "metadata": {},
   "outputs": [],
   "source": [
    "test_iv = svi_calc.implied_vols(\n",
    "    Forward(Spot(F), ForwardYield(0.), TimeToMaturity(tau)),\n",
    "    test_strikes,\n",
    "    calibrated_params\n",
    ")"
   ]
  },
  {
   "cell_type": "code",
   "execution_count": 20,
   "id": "66ea413c",
   "metadata": {
    "scrolled": false
   },
   "outputs": [
    {
     "data": {
      "image/png": "[encoded data removed]",
      "text/plain": [
       "<Figure size 936x504 with 1 Axes>"
      ]
     },
     "metadata": {
      "needs_background": "light"
     },
     "output_type": "display_data"
    }
   ],
   "source": [
    "plt.figure(figsize=(13, 7))\n",
    "plt.plot(strikes, 100*implied_vols, '.C3', markersize=20)\n",
    "plt.plot(test_strikes.data, 100*test_iv.data, 'C1')\n",
    "plt.title('Market skew', fontsize=15)\n",
    "plt.xlabel('Strikes', color='white', fontsize=15)\n",
    "plt.ylabel('IV(%)', color='white', fontsize=15)\n",
    "plt.grid()\n",
    "plt.show()"
   ]
  },
  {
   "cell_type": "markdown",
   "id": "ce78ccd0",
   "metadata": {},
   "source": [
    "#### Warm starting"
   ]
  },
  {
   "cell_type": "code",
   "execution_count": 21,
   "id": "cc7e19ae",
   "metadata": {},
   "outputs": [],
   "source": [
    "new_forward = 1723.25\n",
    "new_pvs = np.array([ 0.861625,  1.72325 ,  3.4465  ,  6.893   , 26.710375,\n",
    "                    11.201125,  4.308125,  1.72325 ,  1.72325 ,  0.861625])"
   ]
  },
  {
   "cell_type": "code",
   "execution_count": 22,
   "id": "c8e39556",
   "metadata": {},
   "outputs": [],
   "source": [
    "new_implied_vols = bs_calc.implied_vols(\n",
    "    Forward(Spot(new_forward), ForwardYield(0.), TimeToMaturity(tau)),\n",
    "    Strikes(strikes),\n",
    "    Premiums(new_pvs)\n",
    ").data"
   ]
  },
  {
   "cell_type": "code",
   "execution_count": 23,
   "id": "e0461d0a",
   "metadata": {},
   "outputs": [],
   "source": [
    "new_vol_smile_chain = VolSmileChain(\n",
    "    Forward(Spot(new_forward), ForwardYield(0.), TimeToMaturity(tau)),\n",
    "    Strikes(strikes),\n",
    "    ImpliedVols(new_implied_vols)\n",
    ")"
   ]
  },
  {
   "cell_type": "code",
   "execution_count": 24,
   "id": "d2ce05e1",
   "metadata": {},
   "outputs": [],
   "source": [
    "svi_calc.cached_params = calibrated_params.array()"
   ]
  },
  {
   "cell_type": "code",
   "execution_count": 25,
   "id": "e46792b2",
   "metadata": {},
   "outputs": [
    {
     "name": "stdout",
     "output_type": "stream",
     "text": [
      "6.0128917261860604e-06\n"
     ]
    },
    {
     "data": {
      "text/plain": [
       "array([-0.01094361,  0.08051245, -0.00554534,  0.01066677,  0.172677  ])"
      ]
     },
     "execution_count": 25,
     "metadata": {},
     "output_type": "execute_result"
    }
   ],
   "source": [
    "new_calibrated_params = svi_calc.calibrate(new_vol_smile_chain,  weights)\n",
    "print(svi_calc.calibration_error)\n",
    "new_calibrated_params.array()"
   ]
  },
  {
   "cell_type": "markdown",
   "id": "635c0fe0",
   "metadata": {},
   "source": [
    "#### BSM limit"
   ]
  },
  {
   "cell_type": "code",
   "execution_count": 26,
   "id": "d38b5f1a",
   "metadata": {},
   "outputs": [
    {
     "name": "stdout",
     "output_type": "stream",
     "text": [
      "8.326443965321616e-09\n"
     ]
    },
    {
     "name": "stderr",
     "output_type": "stream",
     "text": [
      "/Users/zugzvangg/Desktop/Projects/noa/docs/quant/pyquant/svi.py:403: RuntimeWarning: invalid value encountered in sqrt\n",
      "  denominator = 2 * np.sqrt(T * w)\n",
      "/Users/zugzvangg/Desktop/Projects/noa/docs/quant/pyquant/svi.py:370: RuntimeWarning: invalid value encountered in sqrt\n",
      "  iv = np.sqrt(w / T)\n"
     ]
    },
    {
     "data": {
      "text/plain": [
       "array([ 6.41282966e-03,  1.00000000e-04, -9.99900000e-01, -2.35533478e+01,\n",
       "        1.00000000e-04])"
      ]
     },
     "execution_count": 26,
     "metadata": {},
     "output_type": "execute_result"
    }
   ],
   "source": [
    "flat_implied_vols = np.ones_like(implied_vols)*0.8\n",
    "flat_vol_smile_chain = VolSmileChain(\n",
    "    Forward(Spot(new_forward), ForwardYield(0.), TimeToMaturity(tau)),\n",
    "    Strikes(strikes),\n",
    "    ImpliedVols(flat_implied_vols)\n",
    ")\n",
    "svi_calc.update_raw_cached_params(\n",
    "    SVIRawParams(A(100.0), B(1.0), Rho(0.0), M(1.0), Sigma(1.0))\n",
    ")\n",
    "flat_calibrated_params = svi_calc.calibrate(flat_vol_smile_chain,  weights)\n",
    "print(svi_calc.calibration_error)\n",
    "flat_calibrated_params.array()"
   ]
  },
  {
   "cell_type": "code",
   "execution_count": 27,
   "id": "f45846e1",
   "metadata": {},
   "outputs": [
    {
     "data": {
      "image/png": "[encoded data removed]",
      "text/plain": [
       "<Figure size 936x504 with 1 Axes>"
      ]
     },
     "metadata": {
      "needs_background": "light"
     },
     "output_type": "display_data"
    }
   ],
   "source": [
    "flat_test_iv = svi_calc.implied_vols(\n",
    "    Forward(Spot(new_forward), ForwardYield(0.), TimeToMaturity(tau)),\n",
    "    test_strikes,\n",
    "    flat_calibrated_params\n",
    ")\n",
    "new_test_iv = svi_calc.implied_vols(\n",
    "    Forward(Spot(new_forward), ForwardYield(0.), TimeToMaturity(tau)),\n",
    "    test_strikes,\n",
    "    new_calibrated_params\n",
    ")\n",
    "plt.figure(figsize=(13, 7))\n",
    "plt.plot(strikes, 100*implied_vols, '.C3', markersize=20)\n",
    "plt.plot(strikes, 100*new_implied_vols, '.C2', markersize=20)\n",
    "plt.plot(strikes, 100*flat_implied_vols, '.C4', markersize=20)\n",
    "plt.plot(test_strikes.data, 100*test_iv.data, 'C1')\n",
    "plt.plot(test_strikes.data, 100*new_test_iv.data, 'C0')\n",
    "plt.plot(test_strikes.data, 100*flat_test_iv.data, 'C5')\n",
    "plt.title('Market skew', fontsize=15)\n",
    "plt.xlabel('Strikes', color='white', fontsize=15)\n",
    "plt.ylabel('IV(%)', color='white', fontsize=15)\n",
    "plt.grid()\n",
    "plt.show()"
   ]
  }
 ],
 "metadata": {
  "kernelspec": {
   "display_name": "Python 3 (ipykernel)",
   "language": "python",
   "name": "python3"
  },
  "language_info": {
   "codemirror_mode": {
    "name": "ipython",
    "version": 3
   },
   "file_extension": ".py",
   "mimetype": "text/x-python",
   "name": "python",
   "nbconvert_exporter": "python",
   "pygments_lexer": "ipython3",
   "version": "3.10.5"
  }
 },
 "nbformat": 4,
 "nbformat_minor": 5
}
