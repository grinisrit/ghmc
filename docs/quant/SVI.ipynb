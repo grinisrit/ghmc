{
 "cells": [
  {
   "cell_type": "code",
   "execution_count": 1,
   "id": "c9389595",
   "metadata": {},
   "outputs": [],
   "source": [
    "# from pyquant.SVI import SVICalc\n",
    "from importlib import reload\n",
    "import pyquant.svi\n",
    "reload(pyquant.svi)\n",
    "\n",
    "from pyquant.svi import *\n",
    "from pyquant.common import *\n",
    "import numpy as np\n",
    "import numba as nb\n",
    "import matplotlib.pyplot as plt\n",
    "import pandas as pd\n",
    "\n",
    "import itertools\n",
    "from scipy.stats import norm\n",
    "import matplotlib.pyplot as plt\n",
    "# plt.style.use(\"dark_background\")\n",
    "pd.set_option('display.max_columns', 1000)\n",
    "%matplotlib inline"
   ]
  },
  {
   "cell_type": "code",
   "execution_count": 2,
   "id": "fa70d4f6",
   "metadata": {},
   "outputs": [],
   "source": [
    "bs_calc = BSCalc()\n",
    "\n",
    "strikes = np.array([1300., 1400, 1500, 1600, 1700, 1800., 1900, 2000, 2100, 2200])\n",
    "call_strikes = np.array([1800., 1900, 2000, 2100, 2200])\n",
    "tau = 0.01\n",
    "F = 1723.75\n",
    "pvs = np.array([ 1.72375, 1.72375, 3.4475, 6.895, 26.718125, 11.204375,\n",
    "                4.309375, 1.72375, 0.861875, 0.861875])\n",
    "\n",
    "implied_vols = bs_calc.implied_vols(\n",
    "    Forward(Spot(F), ForwardYield(0.), TimeToMaturity(tau)), \n",
    "    Strikes(strikes),\n",
    "    Premiums(pvs)\n",
    ").data\n",
    "\n",
    "vol_smile_chain = VolSmileChain(\n",
    "    Forward(Spot(F), ForwardYield(0.), TimeToMaturity(tau)),\n",
    "    Strikes(strikes),\n",
    "    ImpliedVols(implied_vols)\n",
    ")\n",
    "weights = CalibrationWeights(np.ones_like(vol_smile_chain.Ks))\n",
    "\n"
   ]
  },
  {
   "cell_type": "code",
   "execution_count": 3,
   "id": "c181ad86",
   "metadata": {},
   "outputs": [],
   "source": [
    "svi_calc = SVICalc()"
   ]
  },
  {
   "cell_type": "code",
   "execution_count": 4,
   "id": "6ce2972b",
   "metadata": {},
   "outputs": [
    {
     "name": "stderr",
     "output_type": "stream",
     "text": [
      "/Users/zugzvangg/Desktop/Projects/noa/docs/quant/pyquant/svi.py:403: RuntimeWarning: invalid value encountered in sqrt\n",
      "  denominator = 2 * np.sqrt(T * w)\n",
      "/Users/zugzvangg/Desktop/Projects/noa/docs/quant/pyquant/svi.py:370: RuntimeWarning: invalid value encountered in sqrt\n",
      "  iv = np.sqrt(w / T)\n"
     ]
    }
   ],
   "source": [
    "calibrated_params = svi_calc.calibrate(vol_smile_chain, weights)"
   ]
  },
  {
   "cell_type": "code",
   "execution_count": 5,
   "id": "fae3e869",
   "metadata": {},
   "outputs": [
    {
     "data": {
      "text/plain": [
       "array([-0.05516348,  0.19508255, -0.53059706, -0.22331506,  0.35125428])"
      ]
     },
     "execution_count": 5,
     "metadata": {},
     "output_type": "execute_result"
    }
   ],
   "source": [
    "calibrated_params.array()"
   ]
  },
  {
   "cell_type": "code",
   "execution_count": 6,
   "id": "9708e4cb",
   "metadata": {},
   "outputs": [
    {
     "data": {
      "text/plain": [
       "1.4068043478413755e-05"
      ]
     },
     "execution_count": 6,
     "metadata": {},
     "output_type": "execute_result"
    }
   ],
   "source": [
    "svi_calc.calibration_error"
   ]
  },
  {
   "cell_type": "code",
   "execution_count": 7,
   "id": "72b1c773",
   "metadata": {},
   "outputs": [
    {
     "data": {
      "text/plain": [
       "array([-0.05516348,  0.19508255, -0.53059706, -0.22331506,  0.35125428])"
      ]
     },
     "execution_count": 7,
     "metadata": {},
     "output_type": "execute_result"
    }
   ],
   "source": [
    "svi_calc.raw_cached_params"
   ]
  },
  {
   "cell_type": "code",
   "execution_count": 8,
   "id": "05798037",
   "metadata": {},
   "outputs": [
    {
     "data": {
      "text/plain": [
       "array([0.292075  , 0.0106822 , 5.52499778, 1.69440429, 0.29187617])"
      ]
     },
     "execution_count": 8,
     "metadata": {},
     "output_type": "execute_result"
    }
   ],
   "source": [
    "svi_calc.jump_wing_cached_params"
   ]
  },
  {
   "cell_type": "code",
   "execution_count": 9,
   "id": "7198e1b4",
   "metadata": {},
   "outputs": [],
   "source": [
    "test_strikes = Strikes(np.linspace(strikes[0], strikes[-1], 100))"
   ]
  },
  {
   "cell_type": "code",
   "execution_count": 10,
   "id": "8b57e6ed",
   "metadata": {},
   "outputs": [],
   "source": [
    "test_iv = svi_calc.implied_vols(\n",
    "    Forward(Spot(F), ForwardYield(0.), TimeToMaturity(tau)),\n",
    "    test_strikes,\n",
    "    calibrated_params\n",
    ")"
   ]
  },
  {
   "cell_type": "code",
   "execution_count": 11,
   "id": "ebdcbbc6",
   "metadata": {
    "scrolled": false
   },
   "outputs": [
    {
     "data": {
      "image/png": "[encoded data removed]",
      "text/plain": [
       "<Figure size 936x504 with 1 Axes>"
      ]
     },
     "metadata": {
      "needs_background": "light"
     },
     "output_type": "display_data"
    }
   ],
   "source": [
    "plt.figure(figsize=(13, 7))\n",
    "plt.plot(strikes, 100*implied_vols, '.C3', markersize=20)\n",
    "plt.plot(test_strikes.data, 100*test_iv.data, 'C1')\n",
    "plt.title('Market skew', fontsize=15)\n",
    "plt.xlabel('Strikes', color='white', fontsize=15)\n",
    "plt.ylabel('IV(%)', color='white', fontsize=15)\n",
    "plt.grid()\n",
    "plt.show()"
   ]
  },
  {
   "cell_type": "markdown",
   "id": "c258f8c0",
   "metadata": {},
   "source": [
    "#### Warm starting"
   ]
  },
  {
   "cell_type": "code",
   "execution_count": 12,
   "id": "b4d3c35e",
   "metadata": {},
   "outputs": [],
   "source": [
    "new_forward = 1723.25\n",
    "new_pvs = np.array([ 0.861625,  1.72325 ,  3.4465  ,  6.893   , 26.710375,\n",
    "                    11.201125,  4.308125,  1.72325 ,  1.72325 ,  0.861625])"
   ]
  },
  {
   "cell_type": "code",
   "execution_count": 13,
   "id": "c10b134d",
   "metadata": {},
   "outputs": [],
   "source": [
    "new_implied_vols = bs_calc.implied_vols(\n",
    "    Forward(Spot(new_forward), ForwardYield(0.), TimeToMaturity(tau)),\n",
    "    Strikes(strikes),\n",
    "    Premiums(new_pvs)\n",
    ").data"
   ]
  },
  {
   "cell_type": "code",
   "execution_count": 14,
   "id": "566b3265",
   "metadata": {},
   "outputs": [],
   "source": [
    "new_vol_smile_chain = VolSmileChain(\n",
    "    Forward(Spot(new_forward), ForwardYield(0.), TimeToMaturity(tau)),\n",
    "    Strikes(strikes),\n",
    "    ImpliedVols(new_implied_vols)\n",
    ")"
   ]
  },
  {
   "cell_type": "code",
   "execution_count": 15,
   "id": "1abff0b8",
   "metadata": {},
   "outputs": [],
   "source": [
    "svi_calc.cached_params = calibrated_params.array()"
   ]
  },
  {
   "cell_type": "code",
   "execution_count": 16,
   "id": "01364f3b",
   "metadata": {},
   "outputs": [
    {
     "name": "stdout",
     "output_type": "stream",
     "text": [
      "6.0128917261860604e-06\n"
     ]
    },
    {
     "data": {
      "text/plain": [
       "array([-0.01094361,  0.08051245, -0.00554534,  0.01066677,  0.172677  ])"
      ]
     },
     "execution_count": 16,
     "metadata": {},
     "output_type": "execute_result"
    }
   ],
   "source": [
    "new_calibrated_params = svi_calc.calibrate(new_vol_smile_chain,  weights)\n",
    "print(svi_calc.calibration_error)\n",
    "new_calibrated_params.array()"
   ]
  },
  {
   "cell_type": "markdown",
   "id": "541952fb",
   "metadata": {},
   "source": [
    "#### BSM limit"
   ]
  },
  {
   "cell_type": "code",
   "execution_count": 17,
   "id": "611fd5e8",
   "metadata": {},
   "outputs": [
    {
     "name": "stdout",
     "output_type": "stream",
     "text": [
      "9.900607893905262e-09\n"
     ]
    },
    {
     "data": {
      "text/plain": [
       "array([ 0.00410207,  0.00166228, -0.15346144, -0.23384131,  1.3887245 ])"
      ]
     },
     "execution_count": 17,
     "metadata": {},
     "output_type": "execute_result"
    }
   ],
   "source": [
    "flat_implied_vols = np.ones_like(implied_vols)*0.8\n",
    "flat_vol_smile_chain = VolSmileChain(\n",
    "    Forward(Spot(new_forward), ForwardYield(0.), TimeToMaturity(tau)),\n",
    "    Strikes(strikes),\n",
    "    ImpliedVols(flat_implied_vols)\n",
    ")\n",
    "svi_calc.update_raw_cached_params(\n",
    "    SVIRawParams(A(1.0), B(1.0), Rho(0.0), M(1.0), Sigma(1.0))\n",
    ")\n",
    "flat_calibrated_params = svi_calc.calibrate(flat_vol_smile_chain,  weights)\n",
    "print(svi_calc.calibration_error)\n",
    "flat_calibrated_params.array()"
   ]
  },
  {
   "cell_type": "code",
   "execution_count": 18,
   "id": "85164641",
   "metadata": {},
   "outputs": [
    {
     "data": {
      "image/png": "[encoded data removed]",
      "text/plain": [
       "<Figure size 936x504 with 1 Axes>"
      ]
     },
     "metadata": {
      "needs_background": "light"
     },
     "output_type": "display_data"
    }
   ],
   "source": [
    "flat_test_iv = svi_calc.implied_vols(\n",
    "    Forward(Spot(new_forward), ForwardYield(0.), TimeToMaturity(tau)),\n",
    "    test_strikes,\n",
    "    flat_calibrated_params\n",
    ")\n",
    "new_test_iv = svi_calc.implied_vols(\n",
    "    Forward(Spot(new_forward), ForwardYield(0.), TimeToMaturity(tau)),\n",
    "    test_strikes,\n",
    "    new_calibrated_params\n",
    ")\n",
    "plt.figure(figsize=(13, 7))\n",
    "plt.plot(strikes, 100*implied_vols, '.C3', markersize=20)\n",
    "plt.plot(strikes, 100*new_implied_vols, '.C2', markersize=20)\n",
    "plt.plot(strikes, 100*flat_implied_vols, '.C4', markersize=20)\n",
    "plt.plot(test_strikes.data, 100*test_iv.data, 'C1')\n",
    "plt.plot(test_strikes.data, 100*new_test_iv.data, 'C0')\n",
    "plt.plot(test_strikes.data, 100*flat_test_iv.data, 'C5')\n",
    "plt.title('Market skew', fontsize=15)\n",
    "plt.xlabel('Strikes', color='white', fontsize=15)\n",
    "plt.ylabel('IV(%)', color='white', fontsize=15)\n",
    "plt.grid()\n",
    "plt.show()"
   ]
  },
  {
   "cell_type": "markdown",
   "id": "c3972291",
   "metadata": {},
   "source": [
    "#### Greeks and Pricing tests"
   ]
  },
  {
   "cell_type": "code",
   "execution_count": 19,
   "id": "60f9c0a7",
   "metadata": {},
   "outputs": [],
   "source": [
    "tenors = {\n",
    "    'ON' : 1/365,\n",
    "    '1W' : 7/365,\n",
    "    '2W' : 14/365,\n",
    "    '1M' : 1/12,\n",
    "    '3M' : 1/4,\n",
    "    '6M' : 1/2,\n",
    "    '1Y' : 1.,\n",
    "    '2Y' : 2.,\n",
    "    '5Y' : 5.\n",
    "}"
   ]
  }
 ],
 "metadata": {
  "kernelspec": {
   "display_name": "Python 3 (ipykernel)",
   "language": "python",
   "name": "python3"
  },
  "language_info": {
   "codemirror_mode": {
    "name": "ipython",
    "version": 3
   },
   "file_extension": ".py",
   "mimetype": "text/x-python",
   "name": "python",
   "nbconvert_exporter": "python",
   "pygments_lexer": "ipython3",
   "version": "3.10.5"
  }
 },
 "nbformat": 4,
 "nbformat_minor": 5
}
