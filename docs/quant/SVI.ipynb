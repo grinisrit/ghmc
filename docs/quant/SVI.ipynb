{
 "cells": [
  {
   "cell_type": "markdown",
   "id": "53188fb1",
   "metadata": {},
   "source": [
    "## <center> SVI Jump Wings</center>"
   ]
  },
  {
   "cell_type": "markdown",
   "id": "23f8e6d0",
   "metadata": {},
   "source": [
    "$$ w(k, X_R) = a + b\\{\\rho(k - m) + \\sqrt{(k - m)^2 + \\sigma^2} \\}$$\n",
    "\n",
    "$$ v_t = \\frac{a + b\\{-\\rho m + \\sqrt{m^2 + \\sigma^2} \\}}{T} $$\n",
    "\n",
    "$$ \\psi_t = \\frac{b}{2\\sqrt{v_t T}} (-\\frac{m}{\\sqrt{m^2 + \\sigma^2}} + \\rho)$$\n",
    "\n",
    "$$ p_t = \\frac{b(1 - \\rho)}{\\sqrt{v_t T}} $$\n",
    "\n",
    "$$ c_t = \\frac{b(1 + \\rho)}{\\sqrt{v_t T}} $$\n",
    "\n",
    "$$ \\tilde{v_t} = \\frac{a + b\\sigma \\sqrt{1 - \\rho^2})}{T} $$"
   ]
  },
  {
   "cell_type": "markdown",
   "id": "1b7b83b1",
   "metadata": {},
   "source": [
    "Reconvert\n",
    "\n",
    "Define:\n",
    "\n",
    "$$ \\beta = \\rho - \\frac{2 \\psi_t \\sqrt{v_t T}}{b} $$\n",
    "$$ \\alpha = sign{\\beta} \\sqrt{\\frac{1}{\\beta^2} -1}$$\n",
    "\n",
    "So:\n",
    "\n",
    "$$ b = \\frac{\\sqrt{v_t T} (c_t + p_t)}{2} $$\n",
    "\n",
    "$$ \\rho = 1 - \\frac{p_t\\sqrt{v_t T}}{b} $$\n",
    "\n",
    "$$ a = \\tilde{v_t} T  - b \\sigma \\sqrt{1 - \\rho^2} $$\n",
    "\n",
    "$$ m = \\frac{(v_t-\\tilde{v_t})T}{b(-\\rho + sign(\\alpha)\\sqrt{1+\\alpha^2}-\\alpha\\sqrt{1-\\rho^2})} $$\n",
    "\n",
    "$$ \\sigma = \\begin{cases}\n",
    "      \\frac{(\\tilde{v_t}   - v_t) T }{b(\\sqrt{1 - \\rho^2} - 1)} , m = 0 \\\\\n",
    "      m \\alpha , other\n",
    "    \\end{cases} $$\n",
    "    \n",
    "\n",
    "\n"
   ]
  },
  {
   "cell_type": "markdown",
   "id": "e51a354f",
   "metadata": {},
   "source": [
    "So compute greeks by JW params as: \n",
    "\n",
    "$$\\Delta = \\frac{d C}{d f} = \\frac{d C}{d \\sigma} \\frac{d \\sigma}{d f} = \\frac{d C}{d \\sigma} \\frac{d \\sigma}{d w} \\frac{d w}{d f} = Vega_{BSM} \\frac{d \\sigma}{d w} \\frac{d w}{d f} $$\n",
    "\n",
    "$$\\Gamma = \\frac{d^ 2C}{d f ^2} = \\frac{d \\Delta}{d f}  = Vanna_{BSM}\\frac{d \\sigma}{d w} \\frac{d w}{d f} + Vega_{BSM}  \\frac{d}{d f} (\\frac{d \\sigma}{d w} \\frac{d w}{d f}) $$\n",
    "\n",
    "\n",
    "$$ \\frac{d C}{d v_t} = \\frac{d C}{d \\sigma} \\frac{d \\sigma}{d v_t} = \\frac{d C}{d \\sigma} \\frac{d \\sigma}{d a} \\frac{d a}{d v_t}  = Vega_{BSM} \\frac{d \\sigma}{d a} \\frac{d a}{d v_t} $$\n",
    "\n",
    "$$ \\frac{d C}{d \\psi_t} = \\frac{d C}{d \\sigma} \\frac{d \\sigma}{d \\psi_t} = \\frac{d C}{d \\sigma} \\frac{d \\sigma}{d a} \\frac{d a}{d \\psi_t}  = Vega_{BSM} \\frac{d \\sigma}{d a} \\frac{d a}{d \\psi_t} $$\n",
    "\n",
    "$$ \\frac{d C}{d p_t} = \\frac{d C}{d \\sigma} \\frac{d \\sigma}{d p_t} = \\frac{d C}{d \\sigma} \\frac{d \\sigma}{d a} \\frac{d a}{d p_t}  = Vega_{BSM} \\frac{d \\sigma}{d a} \\frac{d a}{d p_t} $$\n",
    "\n",
    "$$ \\frac{d C}{d c_t} = \\frac{d C}{d \\sigma} \\frac{d \\sigma}{d c_t} = \\frac{d C}{d \\sigma} \\frac{d \\sigma}{d a} \\frac{d a}{d c_t}  = Vega_{BSM} \\frac{d \\sigma}{d a} \\frac{d a}{d c_t} $$\n",
    "\n",
    "$$ \\frac{d C}{d \\tilde{v_t}} = \\frac{d C}{d \\sigma} \\frac{d \\sigma}{d \\tilde{v_t}} = \\frac{d C}{d \\sigma} \\frac{d \\sigma}{d a} \\frac{d a}{d \\tilde{v_t}}  = Vega_{BSM} \\frac{d \\sigma}{d a} \\frac{d a}{d \\tilde{v_t}} $$"
   ]
  },
  {
   "cell_type": "markdown",
   "id": "277265f1",
   "metadata": {},
   "source": [
    "$$ \\frac{d C}{d \\sigma} \\frac{d \\sigma}{d b} \\frac{d b}{d \\psi_t} =  \\frac{d b}{d \\psi_t} = 0(\\text{вообще не может быть 0 по всей сетке}) \\neq \\frac{d C}{d \\sigma} \\frac{d \\sigma}{d a} \\frac{d a}{d \\psi_t} $$\n",
    "\n",
    "$$ \\frac{d C}{d \\psi_t} = \\frac{d C}{d \\sigma} \\frac{d \\sigma}{d \\psi_t} = \\frac{d C}{d \\sigma} \\frac{d \\sigma}{d b} \\frac{d b}{d \\psi_t} = \\frac{d C}{d \\sigma} \\frac{d \\sigma}{d b} \\frac{d(\\frac{\\sqrt{v_t T} (c_t + p_t))}{2}}{d \\psi_t} = 0$$"
   ]
  },
  {
   "cell_type": "markdown",
   "id": "c839b773",
   "metadata": {},
   "source": [
    "Производные по параметрам в raw калибровке"
   ]
  },
  {
   "cell_type": "code",
   "execution_count": 1,
   "id": "3828f385",
   "metadata": {},
   "outputs": [],
   "source": [
    "import sympy as sym\n",
    "import sympy.printing as printing\n"
   ]
  },
  {
   "cell_type": "code",
   "execution_count": 2,
   "id": "88e35740",
   "metadata": {},
   "outputs": [],
   "source": [
    "# Jump wing parametrization\n",
    "sym.init_printing()\n",
    "v_t, psi_t, p_t, c_t, v_tilde, f, K, T = sym.symbols('v_t psi_t p_t c_t vtilde_t f K T')\n",
    "k = sym.log(K/f)\n",
    "b = sym.sqrt(T*v_t)*(c_t + p_t)/2\n",
    "rho = 1 - p_t*sym.sqrt(T*v_t)/b\n",
    "beta = rho - 2*psi_t*sym.sqrt(T*v_t)/b\n",
    "alpha = sym.sqrt(1/beta**2 -1)\n",
    "m = T*(v_t - v_tilde)/(b*(-rho + sym.sign(alpha)*sym.sqrt(1+alpha**2) - alpha*sym.sqrt(1 - rho**2)))\n",
    "sigma = m*alpha\n",
    "a = v_tilde*T - b*sigma*sym.sqrt(1 - rho**2)"
   ]
  },
  {
   "cell_type": "code",
   "execution_count": 3,
   "id": "41132d4a",
   "metadata": {},
   "outputs": [],
   "source": [
    "# sym.simplify(a.diff(psi_t))"
   ]
  },
  {
   "cell_type": "code",
   "execution_count": null,
   "id": "1f9ca581",
   "metadata": {},
   "outputs": [],
   "source": []
  },
  {
   "cell_type": "code",
   "execution_count": 4,
   "id": "a526b4ee",
   "metadata": {},
   "outputs": [
    {
     "data": {
      "image/png": "[encoded data removed]",
      "text/latex": [
       "$\\displaystyle \\frac{\\sqrt{T v_{t}} \\left(c_{t} + p_{t}\\right)}{2}$"
      ],
      "text/plain": [
       "  ______          \n",
       "╲╱ T⋅vₜ ⋅(cₜ + pₜ)\n",
       "──────────────────\n",
       "        2         "
      ]
     },
     "execution_count": 4,
     "metadata": {},
     "output_type": "execute_result"
    }
   ],
   "source": [
    "b"
   ]
  },
  {
   "cell_type": "code",
   "execution_count": 5,
   "id": "10ecf774",
   "metadata": {},
   "outputs": [
    {
     "data": {
      "image/png": "[encoded data removed]",
      "text/latex": [
       "$\\displaystyle \\frac{\\sqrt{T v_{t}} \\left(c_{t} + p_{t}\\right)}{4 v_{t}}$"
      ],
      "text/plain": [
       "  ______          \n",
       "╲╱ T⋅vₜ ⋅(cₜ + pₜ)\n",
       "──────────────────\n",
       "       4⋅vₜ       "
      ]
     },
     "execution_count": 5,
     "metadata": {},
     "output_type": "execute_result"
    }
   ],
   "source": [
    "b.diff(v_t)"
   ]
  },
  {
   "cell_type": "code",
   "execution_count": 6,
   "id": "9e20f7f4",
   "metadata": {},
   "outputs": [
    {
     "data": {
      "image/png": "[encoded data removed]",
      "text/latex": [
       "$\\displaystyle 0$"
      ],
      "text/plain": [
       "0"
      ]
     },
     "execution_count": 6,
     "metadata": {},
     "output_type": "execute_result"
    }
   ],
   "source": [
    "b.diff(psi_t)"
   ]
  },
  {
   "cell_type": "code",
   "execution_count": 7,
   "id": "ee9c0633",
   "metadata": {},
   "outputs": [
    {
     "data": {
      "image/png": "[encoded data removed]",
      "text/latex": [
       "$\\displaystyle \\frac{\\sqrt{T v_{t}}}{2}$"
      ],
      "text/plain": [
       "  ______\n",
       "╲╱ T⋅vₜ \n",
       "────────\n",
       "   2    "
      ]
     },
     "execution_count": 7,
     "metadata": {},
     "output_type": "execute_result"
    }
   ],
   "source": [
    "b.diff(p_t)"
   ]
  },
  {
   "cell_type": "code",
   "execution_count": 8,
   "id": "3f967a8d",
   "metadata": {},
   "outputs": [
    {
     "data": {
      "image/png": "[encoded data removed]",
      "text/latex": [
       "$\\displaystyle \\frac{\\sqrt{T v_{t}} \\left(c_{t} + p_{t}\\right)}{2}$"
      ],
      "text/plain": [
       "  ______          \n",
       "╲╱ T⋅vₜ ⋅(cₜ + pₜ)\n",
       "──────────────────\n",
       "        2         "
      ]
     },
     "execution_count": 8,
     "metadata": {},
     "output_type": "execute_result"
    }
   ],
   "source": [
    "b"
   ]
  },
  {
   "cell_type": "code",
   "execution_count": 9,
   "id": "c53c219b",
   "metadata": {},
   "outputs": [],
   "source": [
    "# in ordinary parametrization\n",
    "a, b, rho, m, sigma, f, K, T = sym.symbols('a b rho m sigma f K T')\n",
    "k = sym.log(K/f)\n",
    "w = a + b *(rho*(k - m) + sym.sqrt((k-m)**2 + sigma**2))\n",
    "v = sym.sqrt(w/T)"
   ]
  },
  {
   "cell_type": "code",
   "execution_count": 10,
   "id": "833b24a6",
   "metadata": {},
   "outputs": [
    {
     "data": {
      "image/png": "[encoded data removed]",
      "text/latex": [
       "$\\displaystyle \\sqrt{\\frac{a + b \\left(\\rho \\left(- m + \\log{\\left(\\frac{K}{f} \\right)}\\right) + \\sqrt{\\sigma^{2} + \\left(- m + \\log{\\left(\\frac{K}{f} \\right)}\\right)^{2}}\\right)}{T}}$"
      ],
      "text/plain": [
       "        ______________________________________________________\n",
       "       ╱       ⎛                       _____________________⎞ \n",
       "      ╱        ⎜                      ╱                   2 ⎟ \n",
       "     ╱         ⎜  ⎛        ⎛K⎞⎞      ╱   2   ⎛        ⎛K⎞⎞  ⎟ \n",
       "    ╱    a + b⋅⎜ρ⋅⎜-m + log⎜─⎟⎟ +   ╱   σ  + ⎜-m + log⎜─⎟⎟  ⎟ \n",
       "   ╱           ⎝  ⎝        ⎝f⎠⎠   ╲╱         ⎝        ⎝f⎠⎠  ⎠ \n",
       "  ╱      ──────────────────────────────────────────────────── \n",
       "╲╱                                T                           "
      ]
     },
     "execution_count": 10,
     "metadata": {},
     "output_type": "execute_result"
    }
   ],
   "source": [
    "v"
   ]
  },
  {
   "cell_type": "code",
   "execution_count": 11,
   "id": "3d14c6c0",
   "metadata": {},
   "outputs": [
    {
     "data": {
      "image/png": "[encoded data removed]",
      "text/latex": [
       "$\\displaystyle \\frac{b \\sqrt{\\frac{a + b \\left(\\rho \\left(k - m\\right) + \\sqrt{\\sigma^{2} + \\left(k - m\\right)^{2}}\\right)}{T}} \\left(- \\frac{\\rho}{f} - \\frac{k - m}{f \\sqrt{\\sigma^{2} + \\left(k - m\\right)^{2}}}\\right)}{2 \\left(a + b \\left(\\rho \\left(k - m\\right) + \\sqrt{\\sigma^{2} + \\left(k - m\\right)^{2}}\\right)\\right)}$"
      ],
      "text/plain": [
       "        ________________________________________                             \n",
       "       ╱       ⎛               _______________⎞                              \n",
       "      ╱        ⎜              ╱  2          2 ⎟                              \n",
       "     ╱   a + b⋅⎝ρ⋅(k - m) + ╲╱  σ  + (k - m)  ⎠  ⎛  ρ          k - m        ⎞\n",
       "b⋅  ╱    ────────────────────────────────────── ⋅⎜- ─ - ────────────────────⎟\n",
       "  ╲╱                       T                     ⎜  f        _______________⎟\n",
       "                                                 ⎜          ╱  2          2 ⎟\n",
       "                                                 ⎝      f⋅╲╱  σ  + (k - m)  ⎠\n",
       "─────────────────────────────────────────────────────────────────────────────\n",
       "                    ⎛      ⎛               _______________⎞⎞                 \n",
       "                    ⎜      ⎜              ╱  2          2 ⎟⎟                 \n",
       "                  2⋅⎝a + b⋅⎝ρ⋅(k - m) + ╲╱  σ  + (k - m)  ⎠⎠                 "
      ]
     },
     "execution_count": 11,
     "metadata": {},
     "output_type": "execute_result"
    }
   ],
   "source": [
    "v.diff(f).subs(k, \"k\")"
   ]
  },
  {
   "cell_type": "code",
   "execution_count": 12,
   "id": "b2e83bce",
   "metadata": {},
   "outputs": [
    {
     "data": {
      "image/png": "[encoded data removed]",
      "text/latex": [
       "$\\displaystyle \\frac{b \\left(- \\frac{\\rho}{f} - \\frac{k - m}{f \\sqrt{\\sigma^{2} + \\left(k - m\\right)^{2}}}\\right)}{\\sqrt{T \\left(a + b \\left(\\rho \\left(- m + \\log{\\left(\\frac{K}{f} \\right)}\\right) + \\sqrt{\\sigma^{2} + \\left(- m + \\log{\\left(\\frac{K}{f} \\right)}\\right)^{2}}\\right)\\right)}}$"
      ],
      "text/plain": [
       "                   ⎛  ρ          k - m        ⎞                 \n",
       "                 b⋅⎜- ─ - ────────────────────⎟                 \n",
       "                   ⎜  f        _______________⎟                 \n",
       "                   ⎜          ╱  2          2 ⎟                 \n",
       "                   ⎝      f⋅╲╱  σ  + (k - m)  ⎠                 \n",
       "────────────────────────────────────────────────────────────────\n",
       "      __________________________________________________________\n",
       "     ╱   ⎛      ⎛                       _____________________⎞⎞ \n",
       "    ╱    ⎜      ⎜                      ╱                   2 ⎟⎟ \n",
       "   ╱     ⎜      ⎜  ⎛        ⎛K⎞⎞      ╱   2   ⎛        ⎛K⎞⎞  ⎟⎟ \n",
       "  ╱    T⋅⎜a + b⋅⎜ρ⋅⎜-m + log⎜─⎟⎟ +   ╱   σ  + ⎜-m + log⎜─⎟⎟  ⎟⎟ \n",
       "╲╱       ⎝      ⎝  ⎝        ⎝f⎠⎠   ╲╱         ⎝        ⎝f⎠⎠  ⎠⎠ "
      ]
     },
     "execution_count": 12,
     "metadata": {},
     "output_type": "execute_result"
    }
   ],
   "source": [
    "#delta\n",
    "w.diff(f).subs(k, \"k\")/sym.sqrt(T*w)"
   ]
  },
  {
   "cell_type": "code",
   "execution_count": 13,
   "id": "73e9e81d",
   "metadata": {},
   "outputs": [
    {
     "data": {
      "image/png": "[encoded data removed]",
      "text/latex": [
       "$\\displaystyle b \\left(\\frac{\\rho}{f^{2}} - \\frac{\\left(k - m\\right)^{2}}{f^{2} \\left(\\sigma^{2} + \\left(k - m\\right)^{2}\\right)^{\\frac{3}{2}}} + \\frac{k - m}{f^{2} \\sqrt{\\sigma^{2} + \\left(k - m\\right)^{2}}} + \\frac{1}{f^{2} \\sqrt{\\sigma^{2} + \\left(k - m\\right)^{2}}}\\right)$"
      ],
      "text/plain": [
       "  ⎛                   2                                                      ⎞\n",
       "  ⎜ρ           (k - m)                  k - m                     1          ⎟\n",
       "b⋅⎜── - ───────────────────── + ───────────────────── + ─────────────────────⎟\n",
       "  ⎜ 2                     3/2         _______________         _______________⎟\n",
       "  ⎜f     2 ⎛ 2          2⎞       2   ╱  2          2     2   ╱  2          2 ⎟\n",
       "  ⎝     f ⋅⎝σ  + (k - m) ⎠      f ⋅╲╱  σ  + (k - m)     f ⋅╲╱  σ  + (k - m)  ⎠"
      ]
     },
     "execution_count": 13,
     "metadata": {},
     "output_type": "execute_result"
    }
   ],
   "source": [
    "#gamma\n",
    "w.diff(f).diff(f).subs(k, \"k\")"
   ]
  },
  {
   "cell_type": "code",
   "execution_count": 14,
   "id": "8f0f585a",
   "metadata": {},
   "outputs": [
    {
     "data": {
      "image/png": "[encoded data removed]",
      "text/latex": [
       "$\\displaystyle 1$"
      ],
      "text/plain": [
       "1"
      ]
     },
     "execution_count": 14,
     "metadata": {},
     "output_type": "execute_result"
    }
   ],
   "source": [
    "# a\n",
    "w.diff(a).subs(k, \"k\")"
   ]
  },
  {
   "cell_type": "code",
   "execution_count": 15,
   "id": "364cb238",
   "metadata": {},
   "outputs": [
    {
     "data": {
      "image/png": "[encoded data removed]",
      "text/latex": [
       "$\\displaystyle \\rho \\left(k - m\\right) + \\sqrt{\\sigma^{2} + \\left(k - m\\right)^{2}}$"
      ],
      "text/plain": [
       "               _______________\n",
       "              ╱  2          2 \n",
       "ρ⋅(k - m) + ╲╱  σ  + (k - m)  "
      ]
     },
     "execution_count": 15,
     "metadata": {},
     "output_type": "execute_result"
    }
   ],
   "source": [
    "# b\n",
    "w.diff(b).subs(k, \"k\")"
   ]
  },
  {
   "cell_type": "code",
   "execution_count": 16,
   "id": "b558dcf5",
   "metadata": {},
   "outputs": [
    {
     "data": {
      "image/png": "[encoded data removed]",
      "text/latex": [
       "$\\displaystyle b \\left(k - m\\right)$"
      ],
      "text/plain": [
       "b⋅(k - m)"
      ]
     },
     "execution_count": 16,
     "metadata": {},
     "output_type": "execute_result"
    }
   ],
   "source": [
    "# rho\n",
    "w.diff(rho).subs(k, \"k\")"
   ]
  },
  {
   "cell_type": "code",
   "execution_count": 17,
   "id": "bd6f14a5",
   "metadata": {},
   "outputs": [
    {
     "data": {
      "image/png": "[encoded data removed]",
      "text/latex": [
       "$\\displaystyle b \\left(- \\rho + \\frac{- k + m}{\\sqrt{\\sigma^{2} + \\left(k - m\\right)^{2}}}\\right)$"
      ],
      "text/plain": [
       "  ⎛           -k + m      ⎞\n",
       "b⋅⎜-ρ + ──────────────────⎟\n",
       "  ⎜        _______________⎟\n",
       "  ⎜       ╱  2          2 ⎟\n",
       "  ⎝     ╲╱  σ  + (k - m)  ⎠"
      ]
     },
     "execution_count": 17,
     "metadata": {},
     "output_type": "execute_result"
    }
   ],
   "source": [
    "# m\n",
    "w.diff(m).subs(k, \"k\")"
   ]
  },
  {
   "cell_type": "code",
   "execution_count": 18,
   "id": "b9d4e265",
   "metadata": {},
   "outputs": [
    {
     "data": {
      "image/png": "[encoded data removed]",
      "text/latex": [
       "$\\displaystyle \\frac{b \\sigma}{\\sqrt{\\sigma^{2} + \\left(k - m\\right)^{2}}}$"
      ],
      "text/plain": [
       "       b⋅σ        \n",
       "──────────────────\n",
       "   _______________\n",
       "  ╱  2          2 \n",
       "╲╱  σ  + (k - m)  "
      ]
     },
     "execution_count": 18,
     "metadata": {},
     "output_type": "execute_result"
    }
   ],
   "source": [
    "# sigma\n",
    "w.diff(sigma).subs(k, \"k\")"
   ]
  },
  {
   "cell_type": "markdown",
   "id": "67f2039a",
   "metadata": {},
   "source": [
    " ##  <center> Калибровка </center> "
   ]
  },
  {
   "cell_type": "code",
   "execution_count": 19,
   "id": "868e25cf",
   "metadata": {},
   "outputs": [],
   "source": [
    "from importlib import reload\n",
    "import pyquant.svi\n",
    "reload(pyquant.svi)\n",
    "\n",
    "from pyquant.svi import *\n",
    "from pyquant.common import *\n",
    "import numpy as np\n",
    "import numba as nb\n",
    "import matplotlib.pyplot as plt\n",
    "import pandas as pd\n",
    "\n",
    "import itertools\n",
    "from scipy.stats import norm\n",
    "import matplotlib.pyplot as plt\n",
    "pd.set_option('display.max_columns', 1000)\n",
    "%matplotlib inline"
   ]
  },
  {
   "cell_type": "code",
   "execution_count": 20,
   "id": "cd2f3b27",
   "metadata": {},
   "outputs": [],
   "source": [
    "bs_calc = BSCalc()\n",
    "\n",
    "strikes = np.array([1300., 1400, 1500, 1600, 1700, 1800., 1900, 2000, 2100, 2200])\n",
    "call_strikes = np.array([1800., 1900, 2000, 2100, 2200])\n",
    "tau = 0.01\n",
    "F = 1723.75\n",
    "pvs = np.array([ 1.72375, 1.72375, 3.4475, 6.895, 26.718125, 11.204375,\n",
    "                4.309375, 1.72375, 0.861875, 0.861875])\n",
    "\n",
    "implied_vols = bs_calc.implied_vols(\n",
    "    Forward(Spot(F), ForwardYield(0.), TimeToMaturity(tau)), \n",
    "    Strikes(strikes),\n",
    "    Premiums(pvs)\n",
    ").data\n",
    "\n",
    "vol_smile_chain = VolSmileChain(\n",
    "    Forward(Spot(F), ForwardYield(0.), TimeToMaturity(tau)),\n",
    "    Strikes(strikes),\n",
    "    ImpliedVols(implied_vols)\n",
    ")\n",
    "weights = CalibrationWeights(np.ones_like(vol_smile_chain.Ks))\n",
    "\n"
   ]
  },
  {
   "cell_type": "code",
   "execution_count": 21,
   "id": "4965b519",
   "metadata": {},
   "outputs": [],
   "source": [
    "svi_calc = SVICalc()"
   ]
  },
  {
   "cell_type": "code",
   "execution_count": 22,
   "id": "6f45a79c",
   "metadata": {},
   "outputs": [
    {
     "name": "stderr",
     "output_type": "stream",
     "text": [
      "/Users/zugzvangg/Desktop/Projects/noa/docs/quant/pyquant/svi.py:405: RuntimeWarning: invalid value encountered in sqrt\n",
      "  denominator = 2 * np.sqrt(T * w)\n",
      "/Users/zugzvangg/Desktop/Projects/noa/docs/quant/pyquant/svi.py:372: RuntimeWarning: invalid value encountered in sqrt\n",
      "  iv = np.sqrt(w / T)\n"
     ]
    }
   ],
   "source": [
    "calibrated_params = svi_calc.calibrate(vol_smile_chain, weights)"
   ]
  },
  {
   "cell_type": "code",
   "execution_count": 23,
   "id": "ca1faf0b",
   "metadata": {},
   "outputs": [
    {
     "data": {
      "text/plain": [
       "array([-0.05516348,  0.19508255, -0.53059706, -0.22331506,  0.35125428])"
      ]
     },
     "execution_count": 23,
     "metadata": {},
     "output_type": "execute_result"
    }
   ],
   "source": [
    "calibrated_params.array()"
   ]
  },
  {
   "cell_type": "code",
   "execution_count": 24,
   "id": "3e5a7d42",
   "metadata": {},
   "outputs": [
    {
     "data": {
      "image/png": "[encoded data removed]",
      "text/latex": [
       "$\\displaystyle 1.40680434784138 \\cdot 10^{-5}$"
      ],
      "text/plain": [
       "1.4068043478413755e-05"
      ]
     },
     "execution_count": 24,
     "metadata": {},
     "output_type": "execute_result"
    }
   ],
   "source": [
    "svi_calc.calibration_error"
   ]
  },
  {
   "cell_type": "code",
   "execution_count": 25,
   "id": "f1ffa92e",
   "metadata": {},
   "outputs": [
    {
     "data": {
      "text/plain": [
       "array([-0.05516348,  0.19508255, -0.53059706, -0.22331506,  0.35125428])"
      ]
     },
     "execution_count": 25,
     "metadata": {},
     "output_type": "execute_result"
    }
   ],
   "source": [
    "svi_calc.raw_cached_params"
   ]
  },
  {
   "cell_type": "code",
   "execution_count": 26,
   "id": "224ad9ec",
   "metadata": {},
   "outputs": [
    {
     "data": {
      "text/plain": [
       "array([70.,  1.,  0.,  1.,  1.])"
      ]
     },
     "execution_count": 26,
     "metadata": {},
     "output_type": "execute_result"
    }
   ],
   "source": [
    "svi_calc.jump_wing_cached_params"
   ]
  },
  {
   "cell_type": "code",
   "execution_count": 27,
   "id": "38861e18",
   "metadata": {},
   "outputs": [],
   "source": [
    "test_strikes = Strikes(np.linspace(strikes[0], strikes[-1], 100))"
   ]
  },
  {
   "cell_type": "code",
   "execution_count": 28,
   "id": "fed883ef",
   "metadata": {},
   "outputs": [],
   "source": [
    "test_iv = svi_calc.implied_vols(\n",
    "    Forward(Spot(F), ForwardYield(0.), TimeToMaturity(tau)),\n",
    "    test_strikes,\n",
    "    calibrated_params\n",
    ")"
   ]
  },
  {
   "cell_type": "code",
   "execution_count": 29,
   "id": "66ea413c",
   "metadata": {
    "scrolled": false
   },
   "outputs": [
    {
     "data": {
      "image/png": "[encoded data removed]",
      "text/plain": [
       "<Figure size 936x504 with 1 Axes>"
      ]
     },
     "metadata": {
      "needs_background": "light"
     },
     "output_type": "display_data"
    }
   ],
   "source": [
    "plt.figure(figsize=(13, 7))\n",
    "plt.plot(strikes, 100*implied_vols, '.C3', markersize=20)\n",
    "plt.plot(test_strikes.data, 100*test_iv.data, 'C1')\n",
    "plt.title('Market skew', fontsize=15)\n",
    "plt.xlabel('Strikes', color='white', fontsize=15)\n",
    "plt.ylabel('IV(%)', color='white', fontsize=15)\n",
    "plt.grid()\n",
    "plt.show()"
   ]
  },
  {
   "cell_type": "markdown",
   "id": "ce78ccd0",
   "metadata": {},
   "source": [
    "#### Warm starting"
   ]
  },
  {
   "cell_type": "code",
   "execution_count": 30,
   "id": "cc7e19ae",
   "metadata": {},
   "outputs": [],
   "source": [
    "new_forward = 1723.25\n",
    "new_pvs = np.array([ 0.861625,  1.72325 ,  3.4465  ,  6.893   , 26.710375,\n",
    "                    11.201125,  4.308125,  1.72325 ,  1.72325 ,  0.861625])"
   ]
  },
  {
   "cell_type": "code",
   "execution_count": 31,
   "id": "c8e39556",
   "metadata": {},
   "outputs": [],
   "source": [
    "new_implied_vols = bs_calc.implied_vols(\n",
    "    Forward(Spot(new_forward), ForwardYield(0.), TimeToMaturity(tau)),\n",
    "    Strikes(strikes),\n",
    "    Premiums(new_pvs)\n",
    ").data"
   ]
  },
  {
   "cell_type": "code",
   "execution_count": 32,
   "id": "e0461d0a",
   "metadata": {},
   "outputs": [],
   "source": [
    "new_vol_smile_chain = VolSmileChain(\n",
    "    Forward(Spot(new_forward), ForwardYield(0.), TimeToMaturity(tau)),\n",
    "    Strikes(strikes),\n",
    "    ImpliedVols(new_implied_vols)\n",
    ")"
   ]
  },
  {
   "cell_type": "code",
   "execution_count": 33,
   "id": "d2ce05e1",
   "metadata": {},
   "outputs": [],
   "source": [
    "svi_calc.cached_params = calibrated_params.array()"
   ]
  },
  {
   "cell_type": "code",
   "execution_count": 34,
   "id": "e46792b2",
   "metadata": {},
   "outputs": [
    {
     "name": "stdout",
     "output_type": "stream",
     "text": [
      "6.0128917261860604e-06\n"
     ]
    },
    {
     "data": {
      "text/plain": [
       "array([-0.01094361,  0.08051245, -0.00554534,  0.01066677,  0.172677  ])"
      ]
     },
     "execution_count": 34,
     "metadata": {},
     "output_type": "execute_result"
    }
   ],
   "source": [
    "new_calibrated_params = svi_calc.calibrate(new_vol_smile_chain,  weights)\n",
    "print(svi_calc.calibration_error)\n",
    "new_calibrated_params.array()"
   ]
  },
  {
   "cell_type": "markdown",
   "id": "635c0fe0",
   "metadata": {},
   "source": [
    "#### BSM limit"
   ]
  },
  {
   "cell_type": "code",
   "execution_count": 35,
   "id": "d38b5f1a",
   "metadata": {},
   "outputs": [
    {
     "name": "stdout",
     "output_type": "stream",
     "text": [
      "8.326443965321616e-09\n"
     ]
    },
    {
     "name": "stderr",
     "output_type": "stream",
     "text": [
      "/Users/zugzvangg/Desktop/Projects/noa/docs/quant/pyquant/svi.py:405: RuntimeWarning: invalid value encountered in sqrt\n",
      "  denominator = 2 * np.sqrt(T * w)\n",
      "/Users/zugzvangg/Desktop/Projects/noa/docs/quant/pyquant/svi.py:372: RuntimeWarning: invalid value encountered in sqrt\n",
      "  iv = np.sqrt(w / T)\n"
     ]
    },
    {
     "data": {
      "text/plain": [
       "array([ 6.41282966e-03,  1.00000000e-04, -9.99900000e-01, -2.35533478e+01,\n",
       "        1.00000000e-04])"
      ]
     },
     "execution_count": 35,
     "metadata": {},
     "output_type": "execute_result"
    }
   ],
   "source": [
    "flat_implied_vols = np.ones_like(implied_vols)*0.8\n",
    "flat_vol_smile_chain = VolSmileChain(\n",
    "    Forward(Spot(new_forward), ForwardYield(0.), TimeToMaturity(tau)),\n",
    "    Strikes(strikes),\n",
    "    ImpliedVols(flat_implied_vols)\n",
    ")\n",
    "svi_calc.update_raw_cached_params(\n",
    "    SVIRawParams(A(100.0), B(1.0), Rho(0.0), M(1.0), Sigma(1.0))\n",
    ")\n",
    "flat_calibrated_params = svi_calc.calibrate(flat_vol_smile_chain,  weights)\n",
    "print(svi_calc.calibration_error)\n",
    "flat_calibrated_params.array()"
   ]
  },
  {
   "cell_type": "code",
   "execution_count": 36,
   "id": "f45846e1",
   "metadata": {},
   "outputs": [
    {
     "data": {
      "image/png": "[encoded data removed]",
      "text/plain": [
       "<Figure size 936x504 with 1 Axes>"
      ]
     },
     "metadata": {
      "needs_background": "light"
     },
     "output_type": "display_data"
    }
   ],
   "source": [
    "flat_test_iv = svi_calc.implied_vols(\n",
    "    Forward(Spot(new_forward), ForwardYield(0.), TimeToMaturity(tau)),\n",
    "    test_strikes,\n",
    "    flat_calibrated_params\n",
    ")\n",
    "new_test_iv = svi_calc.implied_vols(\n",
    "    Forward(Spot(new_forward), ForwardYield(0.), TimeToMaturity(tau)),\n",
    "    test_strikes,\n",
    "    new_calibrated_params\n",
    ")\n",
    "plt.figure(figsize=(13, 7))\n",
    "plt.plot(strikes, 100*implied_vols, '.C3', markersize=20)\n",
    "plt.plot(strikes, 100*new_implied_vols, '.C2', markersize=20)\n",
    "plt.plot(strikes, 100*flat_implied_vols, '.C4', markersize=20)\n",
    "plt.plot(test_strikes.data, 100*test_iv.data, 'C1')\n",
    "plt.plot(test_strikes.data, 100*new_test_iv.data, 'C0')\n",
    "plt.plot(test_strikes.data, 100*flat_test_iv.data, 'C5')\n",
    "plt.title('Market skew', fontsize=15)\n",
    "plt.xlabel('Strikes', color='white', fontsize=15)\n",
    "plt.ylabel('IV(%)', color='white', fontsize=15)\n",
    "plt.grid()\n",
    "plt.show()"
   ]
  },
  {
   "cell_type": "code",
   "execution_count": 37,
   "id": "646c3799",
   "metadata": {},
   "outputs": [],
   "source": [
    "from importlib import reload\n",
    "import pyquant.svi\n",
    "reload(pyquant.svi)\n",
    "from pyquant.svi import *"
   ]
  },
  {
   "cell_type": "code",
   "execution_count": 38,
   "id": "7d4cfae8",
   "metadata": {},
   "outputs": [],
   "source": [
    "svi_calc = SVICalc()"
   ]
  },
  {
   "cell_type": "code",
   "execution_count": 39,
   "id": "11fa029f",
   "metadata": {},
   "outputs": [
    {
     "data": {
      "image/png": "[encoded data removed]",
      "text/latex": [
       "$\\displaystyle 6.36337842828894 \\cdot 10^{-6}$"
      ],
      "text/plain": [
       "6.363378428288943e-06"
      ]
     },
     "execution_count": 39,
     "metadata": {},
     "output_type": "execute_result"
    }
   ],
   "source": [
    "test_K = 1000\n",
    "test_delta = svi_calc.gamma(\n",
    "    Forward(Spot(F), ForwardYield(0.), TimeToMaturity(tau)),\n",
    "    Strike(test_K),\n",
    "    calibrated_params\n",
    ")\n",
    "test_delta.pv"
   ]
  },
  {
   "cell_type": "code",
   "execution_count": 40,
   "id": "42c5645c",
   "metadata": {},
   "outputs": [
    {
     "data": {
      "text/plain": [
       "[<matplotlib.lines.Line2D at 0x1629051b0>]"
      ]
     },
     "execution_count": 40,
     "metadata": {},
     "output_type": "execute_result"
    },
    {
     "data": {
      "image/png": "[encoded data removed]",
      "text/plain": [
       "<Figure size 432x288 with 1 Axes>"
      ]
     },
     "metadata": {
      "needs_background": "light"
     },
     "output_type": "display_data"
    }
   ],
   "source": [
    "test_K = np.linspace(100.0, 3000.0, 1000)\n",
    "# test_K = np.array([1000.0])\n",
    "test_deltas = svi_calc.v_t_greeks(\n",
    "    Forward(Spot(F), ForwardYield(0.), TimeToMaturity(tau)),\n",
    "    TimeToMaturity(0.5),\n",
    "    Strikes(test_K),\n",
    "    calibrated_params\n",
    ")\n",
    "test_deltas.data\n",
    "\n",
    "plt.plot(test_K, test_deltas)#.data)"
   ]
  },
  {
   "cell_type": "code",
   "execution_count": null,
   "id": "04b2e688",
   "metadata": {},
   "outputs": [],
   "source": []
  }
 ],
 "metadata": {
  "kernelspec": {
   "display_name": "Python 3 (ipykernel)",
   "language": "python",
   "name": "python3"
  },
  "language_info": {
   "codemirror_mode": {
    "name": "ipython",
    "version": 3
   },
   "file_extension": ".py",
   "mimetype": "text/x-python",
   "name": "python",
   "nbconvert_exporter": "python",
   "pygments_lexer": "ipython3",
   "version": "3.10.5"
  }
 },
 "nbformat": 4,
 "nbformat_minor": 5
}
