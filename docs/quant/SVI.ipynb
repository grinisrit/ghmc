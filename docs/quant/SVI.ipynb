{
 "cells": [
  {
   "cell_type": "code",
   "execution_count": 76,
   "id": "e52e3a99",
   "metadata": {},
   "outputs": [],
   "source": [
    "# from pyquant.SVI import SVICalc\n",
    "from importlib import reload\n",
    "import pyquant.svi\n",
    "reload(pyquant.svi)\n",
    "\n",
    "from pyquant.svi import *\n",
    "from pyquant.common import *\n",
    "import numpy as np\n",
    "import numba as nb\n"
   ]
  },
  {
   "cell_type": "code",
   "execution_count": 77,
   "id": "40034619",
   "metadata": {},
   "outputs": [],
   "source": [
    "F = 1000\n",
    "tau = 0.1\n",
    "strikes = np.array([800.0, 900.0, 1000.0, 1100.0, 1200.0])\n",
    "implied_vols = np.array([100.0, 90.0, 80.0, 92.0, 104.0])\n",
    "vol_smile_chain = VolSmileChain(\n",
    "    Forward(Spot(F), ForwardYield(0.), TimeToMaturity(tau)),\n",
    "    Strikes(strikes),\n",
    "    ImpliedVols(implied_vols)\n",
    ")\n",
    "weights = CalibrationWeights(np.ones_like(vol_smile_chain.Ks))\n",
    "\n"
   ]
  },
  {
   "cell_type": "code",
   "execution_count": 78,
   "id": "2001c6f4",
   "metadata": {},
   "outputs": [],
   "source": [
    "svi_calc = SVICalc()"
   ]
  },
  {
   "cell_type": "code",
   "execution_count": 86,
   "id": "acfa34ad",
   "metadata": {},
   "outputs": [],
   "source": [
    "calibrated_params = svi_calc.calibrate(vol_smile_chain, weights)"
   ]
  },
  {
   "cell_type": "code",
   "execution_count": 87,
   "id": "8596c8de",
   "metadata": {},
   "outputs": [
    {
     "data": {
      "text/plain": [
       "array([6.20880276e+02, 2.15810527e+03, 2.52516279e-01, 1.18769311e-02,\n",
       "       1.00000000e-04])"
      ]
     },
     "execution_count": 87,
     "metadata": {},
     "output_type": "execute_result"
    }
   ],
   "source": [
    "calibrated_params.array()"
   ]
  },
  {
   "cell_type": "code",
   "execution_count": 88,
   "id": "57827835",
   "metadata": {},
   "outputs": [],
   "source": [
    "jw_params = svi_calc._get_jump_wing_params(0.1)"
   ]
  },
  {
   "cell_type": "code",
   "execution_count": 90,
   "id": "7a906887",
   "metadata": {},
   "outputs": [
    {
     "data": {
      "text/plain": [
       "array([6400.40438449,  -31.88012877,   63.76328103,  106.84453088,\n",
       "       6210.89092371])"
      ]
     },
     "execution_count": 90,
     "metadata": {},
     "output_type": "execute_result"
    }
   ],
   "source": [
    "jw_params.array()"
   ]
  }
 ],
 "metadata": {
  "kernelspec": {
   "display_name": "Python 3 (ipykernel)",
   "language": "python",
   "name": "python3"
  },
  "language_info": {
   "codemirror_mode": {
    "name": "ipython",
    "version": 3
   },
   "file_extension": ".py",
   "mimetype": "text/x-python",
   "name": "python",
   "nbconvert_exporter": "python",
   "pygments_lexer": "ipython3",
   "version": "3.10.5"
  }
 },
 "nbformat": 4,
 "nbformat_minor": 5
}
