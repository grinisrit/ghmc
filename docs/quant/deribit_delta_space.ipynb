{
 "cells": [
  {
   "cell_type": "code",
   "execution_count": 1,
   "id": "740b0932-eccd-47f8-8e26-1029c0163611",
   "metadata": {},
   "outputs": [],
   "source": [
    "import pandas as pd\n",
    "import numpy as np\n",
    "import datetime as dt\n",
    "import os\n",
    "import matplotlib.pyplot as plt\n",
    "plt.style.use(\"dark_background\")"
   ]
  },
  {
   "cell_type": "code",
   "execution_count": 2,
   "id": "a5133dc2-c377-45e3-aa8e-b7d16d05afa9",
   "metadata": {},
   "outputs": [],
   "source": [
    "from pyquant.utils import InstrumentId, InstrumentType"
   ]
  },
  {
   "cell_type": "code",
   "execution_count": 3,
   "id": "67d33618-477b-4377-b5f5-90342252a93a",
   "metadata": {},
   "outputs": [],
   "source": [
    "DAYS_COUNT_CONVENTION = 365"
   ]
  }
 ],
 "metadata": {
  "kernelspec": {
   "display_name": "Python 3 (ipykernel)",
   "language": "python",
   "name": "python3"
  },
  "language_info": {
   "codemirror_mode": {
    "name": "ipython",
    "version": 3
   },
   "file_extension": ".py",
   "mimetype": "text/x-python",
   "name": "python",
   "nbconvert_exporter": "python",
   "pygments_lexer": "ipython3",
   "version": "3.12.4"
  }
 },
 "nbformat": 4,
 "nbformat_minor": 5
}
