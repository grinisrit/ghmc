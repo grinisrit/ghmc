{
 "cells": [
  {
   "cell_type": "markdown",
   "id": "9e5a9beb",
   "metadata": {},
   "source": [
    "# Volatility surface calibration\n",
    "#### Roland Grinis, Dmitry Bazanov, Maksim Sosnin, Ivan Novikov"
   ]
  },
  {
   "cell_type": "code",
   "execution_count": 24,
   "id": "f5f2e87d",
   "metadata": {
    "ExecuteTime": {
     "end_time": "2024-01-24T17:13:20.406635240Z",
     "start_time": "2024-01-24T17:13:18.107911852Z"
    }
   },
   "outputs": [],
   "source": [
    "import numpy as np\n",
    "import pandas as pd\n",
    "import numba as nb\n",
    "from scipy.stats import norm\n",
    "import matplotlib.pyplot as plt\n",
    "import plotly.graph_objects as go\n",
    "plt.style.use(\"dark_background\")\n",
    "pd.set_option('display.max_columns', 1000)\n",
    "pd.set_option(\"display.precision\", 2)\n",
    "%matplotlib inline"
   ]
  },
  {
   "cell_type": "markdown",
   "id": "6b58dc9f",
   "metadata": {},
   "source": [
    "## 1. Implied Volatility\n",
    "\n",
    "#### 1.1 CDF Approximation\n",
    "Zelen & Severo approximation for the standard normal CDF $\\text{N}(x) = \\frac{1}{\\sqrt{2\\pi}}\\int^x_{-\\infty} \\text{d}z \\exp(-z^2/2)$ is given by: \n",
    "$$\n",
    "\\text{N}(x) = 1 - \\text{N}'(x) \\sum_{i=1}^{5} b_i t^i + \\epsilon (x)\n",
    "$$\n",
    "where $t = (1 + b_0 x)^{-1}$, the error is bounded by $|\\epsilon (x)| < 7.5 \\cdot 10^{-8}$ and the coefficients $b_i$ are fixed (see implementation).\n",
    "\n",
    "$$\n",
    "b_0 = 0.2316419 \n",
    "$$\n",
    "$$\n",
    "b_1 = 0.319381530 \n",
    "$$\n",
    "$$\n",
    "b_2 = -0.356563782 \n",
    "$$\n",
    "$$\n",
    "b_3 = 1.781477937 \n",
    "$$\n",
    "$$\n",
    "b_4 = -1.821255978 \n",
    "$$\n",
    "$$\n",
    "b_5 = 1.330274429\n",
    "$$"
   ]
  },
  {
   "cell_type": "code",
   "execution_count": 2,
   "id": "6c3e67b4",
   "metadata": {
    "ExecuteTime": {
     "end_time": "2024-01-24T17:13:20.920999254Z",
     "start_time": "2024-01-24T17:13:20.451906792Z"
    },
    "pycharm": {
     "name": "#%%\n"
    }
   },
   "outputs": [
    {
     "data": {
      "text/plain": [
       "np.float64(7.214301397939771e-08)"
      ]
     },
     "execution_count": 2,
     "metadata": {},
     "output_type": "execute_result"
    }
   ],
   "source": [
    "from pyquant.utils import normal_cdf_vec\n",
    "\n",
    "x = np.linspace(-5, 5, 100)\n",
    "np.max(np.abs(norm.cdf(x) - normal_cdf_vec(x)))"
   ]
  },
  {
   "cell_type": "markdown",
   "id": "3ce80b64",
   "metadata": {},
   "source": [
    "#### 1.2 Black-Scholes-Merton formulae revisited\n",
    "\n",
    "Present value:\n",
    "$$\n",
    "PV_{C,P} = \\pm S_t \\text{N}(\\pm d_1) - \\pm e^{-r(T-t)}K \\text{N}(\\pm d_2)\n",
    "$$\n",
    "\n",
    "where $d_1 = \\frac{\\log \\frac{f_t}{K} + \\frac{1}{2}\\sigma^2(T-t) }{\\sigma \\sqrt{T-t}}$ and $d_2 = d_1 - \\sigma \\sqrt{T-t}$, and $f_t = S_t / e^{-r(T-t)}$\n",
    "\n",
    "\n",
    "Delta risk:\n",
    "$$\n",
    "\\Delta_{C,BSM} = \\frac{\\partial PV_C}{\\partial S_t} = N(d_1), \\quad \\Delta_{P,BSM} = \\frac{\\partial PV_P}{\\partial S_t} = \\Delta_{C,BSM} - 1\n",
    "$$\n",
    "\n",
    "Gamma risk:\n",
    "$$\n",
    "\\Gamma_{BSM} =  \\frac{\\partial \\Delta_{BSM}}{\\partial S_t} = \\frac{\\text{N}'(d_1)}{S_t\\sigma \\sqrt{T-t}}\n",
    "$$\n",
    "\n",
    "Vega risk:\n",
    "$$\n",
    "\\mathcal{V}_{BSM}= \\frac{\\partial PV}{\\partial \\sigma} =\\text{N}'(d_1) S_t \\sqrt{T-t}\n",
    "$$\n",
    "\n",
    "Vanna risk:\n",
    "$$\n",
    "\\text{Vanna}_{BSM} = \\frac{\\partial \\mathcal{V}_{BSM}}{\\partial S_t} = \\mathcal{V}_{BSM} \\cdot \\frac{d_2}{\\sigma S_t}\n",
    "$$\n",
    "\n",
    "Volga/Vomma risk:\n",
    "$$\n",
    "\\text{Volga}_{BSM} =  \\frac{\\partial \\mathcal{V}_{BSM}}{\\partial \\sigma} = \\mathcal{V}_{BSM} \\frac{d_1 d_2}{\\sigma}\n",
    "$$"
   ]
  },
  {
   "cell_type": "markdown",
   "id": "782de094",
   "metadata": {},
   "source": [
    "#### 1.2 Newton-Raphson for Implied Volatility\n",
    "\n",
    "Implied volatility is defined as the volatility level $\\sigma$ one needs to plug into the Black-Scholes formula $\\mathcal{BS}$ to obtain the market present value $PV^{m k t}$ of the option:\n",
    "\n",
    "$$\n",
    "g\\left(\\sigma_{\\text {imp }}\\right)=PV^{m k t}(K, T)-\\mathcal{BS}\\left(t_0=0, S_0 ; K, T, \\sigma_{\\text {imp }}, r\\right)=0 \n",
    "$$\n",
    "\n",
    "Given an initial guess for the implied volatility, i.e. $\\sigma_{\\text {imp }}^{(0)}$, we can find the next approximations, $\\sigma_{\\text {imp }}^{(k)}, k=1,2, \\ldots$, by means of the Newton-Raphson iterative algorithm, as follows\n",
    "\n",
    "$$\n",
    "\\sigma_{\\text {imp }}^{(k+1)}=\\sigma_{\\text {imp }}^{(k)}-\\frac{g\\left(\\sigma_{\\text {imp }}^{(k)}\\right)}{g^{\\prime}\\left(\\sigma_{\\text {imp }}^{(k)}\\right)}, \\text { for } k \\geq 0 .\n",
    "$$\n",
    "where actually the derivative is negative vega:\n",
    "$$\n",
    "g^{\\prime}\\left(\\sigma_{\\text {imp }}^{(k)} \\right) = - \\mathcal{V}_{BSM}(\\sigma_{\\text {imp}}^{(k)})\n",
    "$$\n",
    "This algorithm has second order convergence.\n",
    "\n",
    "For deep OTM options vega is close to zero - this might lead to instabilities for the Newton-Raphson method. To deal with this, we augment the later with the bisection method."
   ]
  },
  {
   "cell_type": "code",
   "execution_count": 3,
   "id": "ccd7a069",
   "metadata": {
    "ExecuteTime": {
     "end_time": "2024-01-24T17:13:21.163114707Z",
     "start_time": "2024-01-24T17:13:20.920312108Z"
    }
   },
   "outputs": [],
   "source": [
    "from pyquant.black_scholes import *"
   ]
  },
  {
   "cell_type": "code",
   "execution_count": 4,
   "id": "ea21c712",
   "metadata": {
    "ExecuteTime": {
     "end_time": "2024-01-24T17:13:21.745948107Z",
     "start_time": "2024-01-24T17:13:21.164495931Z"
    }
   },
   "outputs": [],
   "source": [
    "bs_calc = BSCalc()"
   ]
  },
  {
   "cell_type": "code",
   "execution_count": 5,
   "id": "2c8ba51c-c5e1-42f3-9cac-9ad88a361695",
   "metadata": {},
   "outputs": [],
   "source": [
    "forward = Forward(Spot(100.), ForwardYield(0.01), TimeToMaturity(0.8))"
   ]
  },
  {
   "cell_type": "code",
   "execution_count": 6,
   "id": "af8dfe6d-7ccb-4d41-a9a7-95d1d2805a63",
   "metadata": {},
   "outputs": [
    {
     "data": {
      "text/plain": [
       "2.5612819321972253"
      ]
     },
     "execution_count": 6,
     "metadata": {},
     "output_type": "execute_result"
    }
   ],
   "source": [
    "PV_put = bs_calc.premium(\n",
    "    forward, \n",
    "    Vanilla(\n",
    "        OptionType(False),\n",
    "        Strike(80.),\n",
    "        Notional(1.),\n",
    "        TimeToMaturity(0.8)\n",
    "    ),\n",
    "    ImpliedVol(.3)\n",
    ")\n",
    "PV_put.pv"
   ]
  },
  {
   "cell_type": "code",
   "execution_count": 7,
   "id": "8b93816a-ea1a-4296-a53b-1daa588976ed",
   "metadata": {},
   "outputs": [
    {
     "data": {
      "text/plain": [
       "1.6887047316060944e-12"
      ]
     },
     "execution_count": 7,
     "metadata": {},
     "output_type": "execute_result"
    }
   ],
   "source": [
    "abs(bs_calc.implied_vol(\n",
    "    forward, \n",
    "    Strike(80.), \n",
    "    PV_put).sigma - .3)"
   ]
  },
  {
   "cell_type": "code",
   "execution_count": 8,
   "id": "004092d6-2b6b-4a2d-866f-8f80d0b195b1",
   "metadata": {},
   "outputs": [
    {
     "data": {
      "text/plain": [
       "4.52881138621516"
      ]
     },
     "execution_count": 8,
     "metadata": {},
     "output_type": "execute_result"
    }
   ],
   "source": [
    "PV_call = bs_calc.premium(\n",
    "    forward, \n",
    "    Vanilla(\n",
    "        OptionType(True),\n",
    "        Strike(120.),\n",
    "        Notional(1.),\n",
    "        TimeToMaturity(0.8)\n",
    "    ),\n",
    "    ImpliedVol(.3)\n",
    ")\n",
    "PV_call.pv"
   ]
  },
  {
   "cell_type": "code",
   "execution_count": 9,
   "id": "3611fc3d-49a9-4699-b1d2-3bdd4930e20a",
   "metadata": {},
   "outputs": [
    {
     "data": {
      "text/plain": [
       "1.913857961000076e-12"
      ]
     },
     "execution_count": 9,
     "metadata": {},
     "output_type": "execute_result"
    }
   ],
   "source": [
    "abs(bs_calc.implied_vol(\n",
    "    forward, \n",
    "    Strike(120.), \n",
    "    PV_call).sigma - .3)"
   ]
  },
  {
   "cell_type": "markdown",
   "id": "3dc838d7-f725-4f4f-93bb-667987715b4f",
   "metadata": {},
   "source": [
    "#### 1.3 Delta-space quotes\n",
    "\n",
    "In some markets, e.g. FX, quotes for the volatility smile are not presented as an options chain of strikes and implied vols. Rather, markets makers quote:\n",
    "- the ATM straddle $\\sigma_{ATM} = \\sigma(K=f_t)$\n",
    "- the risk-reversal $\\sigma_{\\delta RR} = \\sigma(K_{\\delta,c}) - \\sigma(K_{\\delta,p})$\n",
    "- the butterfly $\\sigma_{\\delta BF} = \\frac{1}{2}[\\sigma(K_{\\delta,c}) + \\sigma(K_{\\delta,p})] - \\sigma_{ATM}$\n",
    "\n",
    "where $K_{\\delta,c}$ and $K_{\\delta,p}$ are respectively call and put strikes for which the Black-Scholes delta is exatly $\\Delta_{BSM} = \\pm \\delta$. Typically one takes $\\delta=\\frac{1}{4}$ and $\\delta=\\frac{1}{10}$ for 25RR, 25BF and 10RR, 10BF respectively. \n",
    "\n",
    "One can easily map delta-space quotes to strikes chain solving:\n",
    "$$\n",
    "g(K) = \\Delta_{BSM} \\pm \\delta = 0\n",
    "$$\n",
    "which reduces to $\\text{N}(d_{1}) = \\delta$ for calls and $\\text{N}(d_{1}) = 1 - \\delta$ for puts. The easiest approach to find the root will be Newton-Raphson with:\n",
    "$$\n",
    "g'(K) = -\\frac{1}{K \\sigma \\sqrt{T-t}}\\text{N}'(d_{1}) \n",
    "$$\n",
    "\n",
    "And the implied volatilities are simple to obtain:\n",
    "\n",
    "$$\n",
    "\\sigma(K_{\\delta,c}) = \\frac{1}{2}\\sigma_{\\delta RR} + \\sigma_{\\delta BF} + \\sigma_{ATM} \n",
    "$$\n",
    "\n",
    "$$\n",
    "\\sigma(K_{\\delta,p}) = - \\frac{1}{2}\\sigma_{\\delta RR} + \\sigma_{\\delta BF} + \\sigma_{ATM}\n",
    "$$\n",
    "\n",
    "Models are typically calibrated to chain space quotes. In general to obtain delta-space quotes from the chain space, one first needs to calibrate a model. "
   ]
  },
  {
   "cell_type": "code",
   "execution_count": 10,
   "id": "40304188-618f-4943-9226-8fa7e211117d",
   "metadata": {},
   "outputs": [
    {
     "data": {
      "text/plain": [
       "87.19837145162928"
      ]
     },
     "execution_count": 10,
     "metadata": {},
     "output_type": "execute_result"
    }
   ],
   "source": [
    "K_put = bs_calc.strike_from_delta(forward, Delta(-0.25), ImpliedVol(0.3))\n",
    "K_put.K"
   ]
  },
  {
   "cell_type": "code",
   "execution_count": 11,
   "id": "4479812a-26be-489c-8027-1f164297cdc1",
   "metadata": {},
   "outputs": [
    {
     "data": {
      "text/plain": [
       "0.0"
      ]
     },
     "execution_count": 11,
     "metadata": {},
     "output_type": "execute_result"
    }
   ],
   "source": [
    "abs(bs_calc.delta(\n",
    "    forward, \n",
    "    Vanilla(\n",
    "        OptionType(is_call=False),\n",
    "        K_put,\n",
    "        Notional(1.),\n",
    "        TimeToMaturity(0.8)\n",
    "    ),\n",
    "    ImpliedVol(0.3)).pv + 0.25)"
   ]
  },
  {
   "cell_type": "code",
   "execution_count": 12,
   "id": "2ae6af74",
   "metadata": {
    "ExecuteTime": {
     "end_time": "2024-01-24T17:13:23.765717728Z",
     "start_time": "2024-01-24T17:13:21.748404553Z"
    }
   },
   "outputs": [
    {
     "data": {
      "text/plain": [
       "74.09097394683651"
      ]
     },
     "execution_count": 12,
     "metadata": {},
     "output_type": "execute_result"
    }
   ],
   "source": [
    "K_put = bs_calc.strike_from_delta(forward, Delta(-0.1), ImpliedVol(0.3))\n",
    "K_put.K"
   ]
  },
  {
   "cell_type": "code",
   "execution_count": 13,
   "id": "4cb6d68f-e198-4930-969e-3da771be2933",
   "metadata": {},
   "outputs": [
    {
     "data": {
      "text/plain": [
       "2.7755575615628914e-17"
      ]
     },
     "execution_count": 13,
     "metadata": {},
     "output_type": "execute_result"
    }
   ],
   "source": [
    "abs(bs_calc.delta(\n",
    "    forward, \n",
    "    Vanilla(\n",
    "        OptionType(is_call=False),\n",
    "        K_put,\n",
    "        Notional(1.),\n",
    "        TimeToMaturity(0.8)\n",
    "    ),\n",
    "    ImpliedVol(0.3)).pv + 0.1)"
   ]
  },
  {
   "cell_type": "code",
   "execution_count": 14,
   "id": "5fda0d14-4c0b-4e03-9a86-9eebdea0f9b5",
   "metadata": {},
   "outputs": [
    {
     "data": {
      "text/plain": [
       "125.23033444884504"
      ]
     },
     "execution_count": 14,
     "metadata": {},
     "output_type": "execute_result"
    }
   ],
   "source": [
    "K_call = bs_calc.strike_from_delta(forward, Delta(0.25), ImpliedVol(0.3))\n",
    "K_call.K"
   ]
  },
  {
   "cell_type": "code",
   "execution_count": 15,
   "id": "7767668c-5bee-4ec5-9359-5635bb75c8c2",
   "metadata": {},
   "outputs": [
    {
     "data": {
      "text/plain": [
       "1.970645868709653e-14"
      ]
     },
     "execution_count": 15,
     "metadata": {},
     "output_type": "execute_result"
    }
   ],
   "source": [
    "abs(bs_calc.delta(\n",
    "    forward, \n",
    "    Vanilla(\n",
    "        OptionType(is_call=True),\n",
    "        K_call,\n",
    "        Notional(1.),\n",
    "        TimeToMaturity(0.8)\n",
    "    ),\n",
    "    ImpliedVol(0.3)).pv - 0.25)"
   ]
  },
  {
   "cell_type": "code",
   "execution_count": 16,
   "id": "92951359",
   "metadata": {
    "ExecuteTime": {
     "end_time": "2024-01-24T17:13:23.875516129Z",
     "start_time": "2024-01-24T17:13:23.794702969Z"
    }
   },
   "outputs": [
    {
     "data": {
      "text/plain": [
       "147.3847708914916"
      ]
     },
     "execution_count": 16,
     "metadata": {},
     "output_type": "execute_result"
    }
   ],
   "source": [
    "K_call = bs_calc.strike_from_delta(forward, Delta(0.1), ImpliedVol(0.3))\n",
    "K_call.K"
   ]
  },
  {
   "cell_type": "code",
   "execution_count": 17,
   "id": "afa1d2de",
   "metadata": {
    "ExecuteTime": {
     "end_time": "2024-01-24T17:13:23.877649430Z",
     "start_time": "2024-01-24T17:13:23.820690511Z"
    }
   },
   "outputs": [
    {
     "data": {
      "text/plain": [
       "6.938893903907228e-17"
      ]
     },
     "execution_count": 17,
     "metadata": {},
     "output_type": "execute_result"
    }
   ],
   "source": [
    "abs(bs_calc.delta(\n",
    "    forward, \n",
    "    Vanilla(\n",
    "        OptionType(is_call=True),\n",
    "        K_call,\n",
    "        Notional(1.),\n",
    "        TimeToMaturity(0.8)\n",
    "    ),\n",
    "    ImpliedVol(0.3)).pv - 0.1)"
   ]
  },
  {
   "cell_type": "markdown",
   "id": "00d14263-4e83-4e7b-90c7-dcca3b6c600f",
   "metadata": {},
   "source": [
    "#### 1.4 Computing the volatility smile"
   ]
  },
  {
   "cell_type": "code",
   "execution_count": 18,
   "id": "0b4b75d9",
   "metadata": {
    "ExecuteTime": {
     "end_time": "2024-01-24T17:13:24.951593252Z",
     "start_time": "2024-01-24T17:13:24.889501640Z"
    }
   },
   "outputs": [],
   "source": [
    "strikes = np.array([1300., 1400, 1500, 1600, 1700, 1800., 1900, 2000, 2100, 2200])\n",
    "tau = 0.01\n",
    "F = 1723.75\n",
    "forward = Forward(Spot(F), ForwardYield(0.01), TimeToMaturity(tau))\n",
    "pvs = np.array([ 1.72375, 1.72375, 3.4475, 6.895, 26.718125, 11.204375,\n",
    "                4.309375, 1.72375, 0.861875, 0.861875])"
   ]
  },
  {
   "cell_type": "code",
   "execution_count": 25,
   "id": "93c83d56",
   "metadata": {
    "ExecuteTime": {
     "end_time": "2024-01-24T17:13:26.244607924Z",
     "start_time": "2024-01-24T17:13:24.913837101Z"
    }
   },
   "outputs": [
    {
     "data": {
      "text/plain": [
       "array([1.40286434, 1.07977775, 0.88064766, 0.65471368, 0.54875586,\n",
       "       0.53543347, 0.68346774, 0.79146338, 0.90117135, 1.07876289])"
      ]
     },
     "execution_count": 25,
     "metadata": {},
     "output_type": "execute_result"
    }
   ],
   "source": [
    "implied_vols = bs_calc.implied_vols(\n",
    "    forward, \n",
    "    Strikes(strikes),\n",
    "    Premiums(pvs)\n",
    ").data\n",
    "implied_vols"
   ]
  },
  {
   "cell_type": "code",
   "execution_count": 20,
   "id": "d192450f",
   "metadata": {
    "ExecuteTime": {
     "end_time": "2024-01-24T17:13:26.390441547Z",
     "start_time": "2024-01-24T17:13:26.247442337Z"
    }
   },
   "outputs": [
    {
     "data": {
      "image/png": "[encoded data removed]",
      "text/plain": [
       "<Figure size 1300x700 with 1 Axes>"
      ]
     },
     "metadata": {},
     "output_type": "display_data"
    }
   ],
   "source": [
    "plt.figure(figsize=(13, 7))\n",
    "plt.plot(strikes, 100*implied_vols, '.C3', markersize=20)\n",
    "plt.title('Market skew', fontsize=15)\n",
    "plt.xlabel('Strikes', color='white', fontsize=15)\n",
    "plt.ylabel('IV(%)', color='white', fontsize=15)\n",
    "plt.grid()\n",
    "plt.show()"
   ]
  },
  {
   "cell_type": "markdown",
   "id": "a85c59d4",
   "metadata": {},
   "source": [
    "## 2. Levenberg-Marquardt algorithm\n",
    "\n",
    "The Levenberg-Marquardt algorithm combines two numerical minimization algorithms: the gradient descent method and the\n",
    "Gauss-Newton method. In the gradient descent method, the sum of the squared errors is reduced by updating the parameters in the steepest-descent direction. In the\n",
    "Gauss-Newton method, the sum of the squared errors is reduced by assuming the least\n",
    "squares function is locally quadratic in the parameters, and finding the minimum of\n",
    "this quadratic. The Levenberg-Marquardt method acts more like a gradient-descent\n",
    "method when the parameters are far from their optimal value, and acts more like the\n",
    "Gauss-Newton method when the parameters are close to their optimal value.\n",
    "\n",
    "[\"The Levenberg-Marquardt algorithm for\n",
    "nonlinear least squares curve-fitting problems\" Henri P. Gavin 2022](https://people.duke.edu/~hpgavin/ExperimentalSystems/lm.pdf)"
   ]
  },
  {
   "cell_type": "markdown",
   "id": "d974551a",
   "metadata": {},
   "source": [
    "##### Levenberg-Marquardt\n",
    "\n",
    "$$\n",
    "\\chi^2(\\boldsymbol{\\theta}) =(\\boldsymbol{\\sigma}-\\hat{\\boldsymbol{\\sigma}}(\\boldsymbol{\\theta}))^{\\top} \\boldsymbol{W}(\\boldsymbol{\\sigma}-\\hat{\\boldsymbol{\\sigma}}(\\boldsymbol{\\theta}));\n",
    "$$\n",
    "\n",
    "$$ W_{ii} = \\frac{1}{w_i^2}, \\quad \\sigma = [\\sigma_i], \\quad \\hat{\\sigma} = [\\hat{\\sigma_i}] $$\n",
    "\n",
    "##### Gradient descent\n",
    "\n",
    "$$\n",
    "\\begin{aligned}\n",
    "\\frac{\\partial}{\\partial \\boldsymbol{\\theta}} \\chi^2 & =-2(\\boldsymbol{\\sigma}-\\hat{\\boldsymbol{\\sigma}})^{\\top} \\boldsymbol{W} \\boldsymbol{J}; \\quad \\boldsymbol{J} = \\left[\\frac{\\partial \\hat{\\boldsymbol{\\sigma}}(\\boldsymbol{p})}{\\partial \\boldsymbol{p}}\\right]\n",
    "\\end{aligned}\n",
    "$$\n",
    "\n",
    "$$ \\text{step: } h_g = \\lambda \\boldsymbol{J}^T \\boldsymbol{W} (\\boldsymbol{\\sigma}-\\hat{\\boldsymbol{\\sigma}}); \\quad \\lambda > 0 \\text{ - learning rate} $$\n",
    "\n",
    "##### Gauss-Newton Method  $ \\quad |h| << 1 $\n",
    "\n",
    "$$\\hat{\\boldsymbol{\\sigma}}(\\boldsymbol{\\theta}+\\boldsymbol{h}) \\approx \\hat{\\boldsymbol{\\sigma}}(\\boldsymbol{\\theta})+\\boldsymbol{J} \\boldsymbol{h}$$\n",
    "\n",
    "Note the approximations:\n",
    "$$\n",
    "\\chi^2(\\boldsymbol{\\theta}+\\boldsymbol{h}) \\approx \\boldsymbol{\\sigma}^{\\top} \\boldsymbol{W} \\boldsymbol{\\sigma}+\\hat{\\boldsymbol{\\sigma}}^{\\top} \\boldsymbol{W} \\hat{\\boldsymbol{\\sigma}}-2 \\boldsymbol{\\sigma}^{\\top} \\boldsymbol{W} \\hat{\\boldsymbol{\\sigma}}-2(\\boldsymbol{\\sigma}-\\hat{\\boldsymbol{\\sigma}})^{\\top} \\boldsymbol{W} \\boldsymbol{J} \\boldsymbol{h}+\\boldsymbol{h}^{\\top} \\boldsymbol{J}^{\\top} \\boldsymbol{W} \\boldsymbol{J} \\boldsymbol{h}\n",
    "$$\n",
    "so that\n",
    "$$\n",
    "\\frac{\\partial}{\\partial \\boldsymbol{h}} \\chi^2(\\boldsymbol{\\theta}+\\boldsymbol{h}) \\approx-2(\\boldsymbol{\\sigma}-\\hat{\\boldsymbol{\\sigma}})^{\\top} \\boldsymbol{W} \\boldsymbol{J}+2 \\boldsymbol{h}^{\\top} \\boldsymbol{J}^{\\top} \\boldsymbol{W} \\boldsymbol{J}\n",
    "$$\n",
    "\n",
    "Hence the optimal step:\n",
    "$$\n",
    "\\left[\\boldsymbol{J}^{\\top} \\boldsymbol{W} \\boldsymbol{J}\\right] \\boldsymbol{h}_{\\mathrm{gn}}=\\boldsymbol{J}^{\\top} \\boldsymbol{W}(\\boldsymbol{\\sigma}-\\hat{\\boldsymbol{\\sigma}})\n",
    "$$"
   ]
  },
  {
   "cell_type": "markdown",
   "id": "e8506bdd",
   "metadata": {},
   "source": [
    "##### Levenberg Equation\n",
    "\n",
    "$$\n",
    "\\left[\\boldsymbol{J}^{\\top} \\boldsymbol{W} \\boldsymbol{J}+\\lambda \\boldsymbol{I}\\right] \\boldsymbol{h}_{\\mathrm{lm}}=\\boldsymbol{J}^{\\top} \\boldsymbol{W}(\\boldsymbol{\\sigma}-\\hat{\\boldsymbol{\\sigma}})\n",
    "$$\n",
    "\n",
    "##### Levenberg-Marquardt equation\n",
    "\n",
    "$$\n",
    "\\left[\\boldsymbol{J}^{\\top} \\boldsymbol{W} \\boldsymbol{J}+\\lambda \\operatorname{diag}\\left(\\boldsymbol{J}^{\\top} \\boldsymbol{W} \\boldsymbol{J}\\right)\\right] \\boldsymbol{h}_{\\mathrm{Im}}=\\boldsymbol{J}^{\\top} \\boldsymbol{W}(\\boldsymbol{\\sigma}-\\hat{\\boldsymbol{\\sigma}})\n",
    "$$"
   ]
  },
  {
   "cell_type": "markdown",
   "id": "822d4930",
   "metadata": {},
   "source": [
    "##### Improvement metric\n",
    "\n",
    "If using LM equation:\n",
    "$$\n",
    "\\boldsymbol{\\mu}(\\boldsymbol{h}_{\\mathrm{lm}}) = \\frac{\\chi^2(\\boldsymbol{\\theta})-\\chi^2\\left(\\boldsymbol{\\theta}+\\boldsymbol{h}_{\\mathrm{lm}}\\right)}{\\boldsymbol{h}_{\\mathrm{lm}}^{\\top}\\left(\\lambda \\operatorname{diag}\\left(\\boldsymbol{J}^{\\top} \\boldsymbol{W} J\\right) \\boldsymbol{h}_{\\mathrm{lm}}+\\boldsymbol{J}^{\\top} \\boldsymbol{W}(\\boldsymbol{\\sigma}-\\hat{\\boldsymbol{\\sigma}}(\\boldsymbol{\\theta}))\\right)}\n",
    "$$\n",
    "\n",
    "\n",
    "$$\n",
    "\\mu << 1 \\quad \\rightarrow \\quad \\text{Gradient descent mode} \\quad (\\boldsymbol{\\lambda} \\text{ - is increasing})\n",
    "$$\n",
    "\n",
    "$$\n",
    "\\mu >> 1 \\quad \\rightarrow \\quad \\text{Gauss-Newton mode } \\quad (\\boldsymbol{\\lambda} \\text{ - is decreasing})\n",
    "$$\n",
    "\n",
    "##### Step procedure\n",
    "\n",
    "$$ \\boldsymbol{\\lambda} = 10^{-2}  \\quad \\quad L_{\\downarrow} = 2 \\quad \\quad L_{\\uparrow} = 2 \\quad \\quad \\boldsymbol{\\epsilon} = 10^{-1} $$\n",
    "\n",
    "$$ \\text{solve the L-M equation with} \\boldsymbol{\\lambda} \\quad \\rightarrow \\quad \\boldsymbol{h}_{\\mathrm{lm}} $$\n",
    "\n",
    "$$\n",
    "\\begin{aligned}\n",
    "& \\text{if } \\quad \\boldsymbol{\\mu}(\\boldsymbol{h}_{\\mathrm{lm}}) > \\boldsymbol{\\epsilon}: \\\\\n",
    "& \\quad \\quad \\boldsymbol{\\theta} = \\boldsymbol{\\theta} + \\boldsymbol{h}_{\\mathrm{lm}} \\\\\n",
    "& \\quad \\quad \\boldsymbol{\\lambda} = \\max (\\frac{\\lambda}{L_{\\downarrow}}, 10^{-7}) \\\\\n",
    "& \\text{else: } \\\\\n",
    "&  \\quad \\quad \\boldsymbol{\\lambda} = \\min (\\lambda L_{\\uparrow} , 10^{7})\n",
    "\\end{aligned}\n",
    "$$"
   ]
  },
  {
   "cell_type": "markdown",
   "id": "7e5e9f01",
   "metadata": {},
   "source": [
    "##### Convergence Criteria\n",
    "\n",
    "- Gradient convergence: $\\left|\\boldsymbol{J}^{\\top} \\boldsymbol{W}(\\boldsymbol{\\sigma}-\\hat{\\boldsymbol{\\sigma}})\\right|< 10^{-3}$;\n",
    "- Parameters convergence: $\\max \\left|h_i / \\theta_i\\right|<10^{-3} ;$ or\n",
    "- Convergence in $\\chi^2:$ uses the value of the reduced $\\chi^2, \\chi_\\nu^2=\\chi^2 /(m-n+1)$, where $n$ - sample size, $m$ - param. dimension.\n",
    "\n",
    "##### Error analysis\n",
    "\n",
    "$$ \\chi_\\nu^2 >> 1 \\text{ - poor fit };  \\quad \\chi_\\nu^2 \\approx 1 \\text{ - fit error of same order as measurement error }; \\quad \\chi_\\nu^2 << 1 \\text{ - overfit }; $$\n",
    "\n",
    "$$ \\text{parameters covariance: } (\\boldsymbol{J}^{\\top} \\boldsymbol{W} \\boldsymbol{J})^{-1} $$"
   ]
  },
  {
   "cell_type": "markdown",
   "id": "788f14b1",
   "metadata": {},
   "source": [
    "## 3. SABR calibration\n",
    "\n",
    "This is a stochastic volatility model that describes the dynamics of the forward directly in the risk neutral measure:\n",
    "\n",
    "$$ df_t = \\alpha_t f_t^{\\beta} dW_t^1 $$ \n",
    "\n",
    "$$ d \\alpha_t = v \\alpha_t dW_t^2$$ \n",
    "\n",
    "$$E[dW_t^1, dW_t^2] = \\rho dt$$\n",
    "\n",
    "where $-1 < \\rho < 1$ is the vol correlation, $0 \\leq \\beta \\leq 1$ is the CIR exponent and the Wiener processes are independent."
   ]
  },
  {
   "cell_type": "markdown",
   "id": "1af608d9",
   "metadata": {},
   "source": [
    "Hagan derived an asymptotic formula for implied volatility as $T \\rightarrow 0$:\n",
    "\n",
    "$$\n",
    "\\sigma_B(x, T) =I_B^0(x) \\left(1 + I_H^1(x)T\\right) + \\mathcal{O}(T^2), \\quad x = \\ln \\frac{f}{K}\n",
    "$$\n",
    "\n",
    "Hagan's original formula has arbitrage for small strikes and large maturities, and is inconsistent as $\\beta \\rightarrow 1$ at order zero. \n",
    "\n",
    "For the corrected expression see the [symbolic calculations notebook](sym_gradient_sv.ipynb) or the [source code](pyquant/sabr.py)."
   ]
  },
  {
   "cell_type": "markdown",
   "id": "ae2cb80c",
   "metadata": {},
   "source": [
    "For ATM we can approximate the formula as:\n",
    "$$\\sigma_{ATM} = \\sigma_{B} (f, f) \\approx  \\frac{\\alpha(1+[\\frac{(1-\\beta)^2}{24} \\frac{\\alpha^2}{(f)^{2-2\\beta}} + \\frac{\\rho \\beta v \\alpha}{4(f)^{(1-\\beta)}}+\\frac{2-3\\rho^2}{24}v^2]T)}{f^{1 - \\beta}} $$\n",
    "\n",
    "From there we see that the backbone $\\beta$ should satisfy:\n",
    "\n",
    "$$\n",
    "\\ln \\sigma_{ATM} \\approx \\ln \\alpha - (1 - \\beta) \\ln {f}\n",
    "$$\n",
    "\n",
    "and should be calibrated as such from regression on historical data. If quotes for $\\sigma_{ATM}$ are not available, one can run regression on historical calibrations with $\\beta \\equiv 1$. "
   ]
  },
  {
   "cell_type": "markdown",
   "id": "1511ce44-fcdd-429c-89e5-71b9135e1324",
   "metadata": {},
   "source": [
    "#### Calibration test"
   ]
  },
  {
   "cell_type": "code",
   "execution_count": 26,
   "id": "f9c6664f-950f-44f9-b440-d0bd2afd34a8",
   "metadata": {},
   "outputs": [],
   "source": [
    "from pyquant.sabr import *"
   ]
  },
  {
   "cell_type": "code",
   "execution_count": 27,
   "id": "131c84b1-250b-4d99-97d9-3f22405e8969",
   "metadata": {},
   "outputs": [],
   "source": [
    "vol_smile_chain = VolSmileChainSpace(\n",
    "    forward,\n",
    "    Strikes(strikes),\n",
    "    ImpliedVols(implied_vols)\n",
    ")"
   ]
  },
  {
   "cell_type": "code",
   "execution_count": 28,
   "id": "28e50ae6-be75-4218-9442-60a518969d57",
   "metadata": {},
   "outputs": [],
   "source": [
    "backbone = Backbone(0.95)\n",
    "weights = CalibrationWeights(np.ones_like(vol_smile_chain.Ks))"
   ]
  },
  {
   "cell_type": "code",
   "execution_count": 29,
   "id": "b8e119de-2790-4626-af5e-6253f210475f",
   "metadata": {},
   "outputs": [],
   "source": [
    "sabr_calc = SABRCalc()"
   ]
  },
  {
   "cell_type": "code",
   "execution_count": 30,
   "id": "11a76f88-21f3-4a60-aac7-3a49a9899c9b",
   "metadata": {},
   "outputs": [
    {
     "data": {
      "text/plain": [
       "array([ 0.6635055 , -0.19860312, 10.53338346])"
      ]
     },
     "execution_count": 30,
     "metadata": {},
     "output_type": "execute_result"
    }
   ],
   "source": [
    "calibrated_params, error = sabr_calc.calibrate(vol_smile_chain, backbone, weights)\n",
    "calibrated_params.array()"
   ]
  },
  {
   "cell_type": "code",
   "execution_count": 31,
   "id": "2d6401d6-605e-49cb-a43a-af9a16a4c26b",
   "metadata": {},
   "outputs": [],
   "source": [
    "test_strikes = Strikes(np.linspace(strikes[0], strikes[-1], 100))\n",
    "test_iv = sabr_calc.implied_vols(vol_smile_chain.forward(), test_strikes, calibrated_params)\n",
    "delta_space_chain = sabr_calc.delta_space(forward, calibrated_params).to_chain_space()"
   ]
  },
  {
   "cell_type": "code",
   "execution_count": 32,
   "id": "f87c2ba0-4513-4426-86cf-96a6e6cd6d0f",
   "metadata": {},
   "outputs": [
    {
     "data": {
      "image/png": "[encoded data removed]",
      "text/plain": [
       "<Figure size 1300x700 with 1 Axes>"
      ]
     },
     "metadata": {},
     "output_type": "display_data"
    }
   ],
   "source": [
    "plt.figure(figsize=(13, 7))\n",
    "plt.plot(strikes, 100*implied_vols, '.C3', markersize=20,  label='chain space')\n",
    "\n",
    "plt.plot(test_strikes.data, 100*test_iv.data, 'C1')\n",
    "\n",
    "plt.plot(delta_space_chain.Ks, 100*delta_space_chain.sigmas, '.C1', markersize=30, label='delta space')\n",
    "\n",
    "'''\n",
    "plt.plot(test_strikes.data, \n",
    "         100*sabr_calc.implied_vols(vol_smile_chain.forward(), test_strikes, calibrated_params.scale_alpha(1.2)).data,\n",
    "         'C4', label='+/- alpha', alpha=0.6)\n",
    "plt.plot(test_strikes.data, \n",
    "         100*sabr_calc.implied_vols(vol_smile_chain.forward(), test_strikes, calibrated_params.scale_alpha(0.8)).data,\n",
    "         'C4', alpha=0.6)\n",
    "\n",
    "plt.plot(test_strikes.data, \n",
    "         100*sabr_calc.implied_vols(vol_smile_chain.forward(), test_strikes, calibrated_params.scale_rho(2)).data,\n",
    "         'C5', label='-/+ rho', alpha=0.6)\n",
    "plt.plot(test_strikes.data, \n",
    "         100*sabr_calc.implied_vols(vol_smile_chain.forward(), test_strikes, calibrated_params.scale_rho(0.2)).data,\n",
    "         'C5', alpha=0.6)\n",
    "'''\n",
    "\n",
    "plt.plot(test_strikes.data, \n",
    "         100*sabr_calc.implied_vols(vol_smile_chain.forward(), test_strikes, calibrated_params.scale_v(1.2)).data,\n",
    "         'C6', label='+/- volvol', alpha=0.6)\n",
    "plt.plot(test_strikes.data, \n",
    "         100*sabr_calc.implied_vols(vol_smile_chain.forward(), test_strikes, calibrated_params.scale_v(0.8)).data,\n",
    "         'C6', alpha=0.6)\n",
    "\n",
    "\n",
    "plt.title('SABR Calibration', fontsize=15)\n",
    "plt.xlabel('Strikes', color='white', fontsize=15)\n",
    "plt.ylabel('IV(%)', color='white', fontsize=15)\n",
    "plt.grid()\n",
    "plt.legend(fontsize=10)\n",
    "plt.show()"
   ]
  },
  {
   "cell_type": "markdown",
   "id": "86c59531",
   "metadata": {},
   "source": [
    "#### SABR greeks\n",
    "Letting $PV = PV_B(\\sigma_B)$ to be the present value of a call option (premium), with $PV_B$ denoting the Black-Scholes formula and $\\sigma_B$ SABR implied vol. \n",
    "The forward value is:\n",
    "$$\n",
    "FV =\\frac{PV}{D}\n",
    "$$\n",
    "where $D$ is our numeraire (or discounting), so that the spot is $S = D \\cdot f$\n",
    "\n",
    "The SABR greeks are given below in terms of Black-Scholes-Merton greeks:"
   ]
  },
  {
   "cell_type": "markdown",
   "id": "e78830f4",
   "metadata": {},
   "source": [
    "* Sticky Delta (for the call):\n",
    "$$\\Delta_C =  \\frac{\\partial PV}{\\partial S} =  \\frac{1}{D}\\frac{\\partial PV}{\\partial f} =  \\frac{1}{D}\\frac{\\partial PV_B}{\\partial f} + \\frac{1}{D}\\frac{\\partial PV_B}{\\partial \\sigma_B} \\cdot \\left( \\frac{\\partial \\sigma_B}{\\partial f} + \\frac{\\partial \\sigma_B}{\\partial \\alpha}  \\frac{\\rho v}{f^\\beta} \\right) = $$\n",
    "$$ = \\Delta_{C,BSM} + \\frac{1}{D}\\mathcal{V}_{BSM} \\cdot \\left( \\frac{\\partial \\sigma_B}{\\partial f} + \\frac{\\partial \\sigma_B}{\\partial \\alpha}  \\frac{\\rho v}{f^\\beta} \\right)$$\n",
    "Note that for sticky strike one lets:\n",
    "$$\n",
    "\\frac{\\partial \\sigma_B}{\\partial \\alpha} = 0.\n",
    "$$\n",
    "Hence only infinitesimal changes in $f$ are considered ingnoring the correlation with $\\alpha$.\n",
    "\n",
    "For the put one can use the put-call parity:\n",
    "$$\\Delta_{P} = \\Delta_{C} - 1$$"
   ]
  },
  {
   "cell_type": "markdown",
   "id": "9e4ab832",
   "metadata": {},
   "source": [
    "* Gamma: \n",
    "$$\n",
    "\\Gamma = \\frac{\\partial \\Delta_C}{\\partial S} = \\frac{\\partial \\Delta_P}{\\partial S}  = \\frac{1}{D}\\frac{\\partial \\Delta_C}{\\partial f}\n",
    "$$\n",
    "\n",
    "$$\n",
    "= \\Gamma_{BSM} + \\frac{2}{D}\\text{Vanna}_{BSM} \\cdot \\left( \\frac{\\partial \\sigma_B}{\\partial f} + \\frac{\\partial \\sigma_B}{\\partial \\alpha}  \\frac{\\rho v}{f^\\beta} \\right) \n",
    "$$\n",
    "\n",
    "$$\n",
    "+  \\frac{1}{D^2}\\text{Volga}_{BSM}\\cdot \\left( \\frac{\\partial \\sigma_B}{\\partial f} + \\frac{\\partial \\sigma_B}{\\partial \\alpha}  \\frac{\\rho v}{f^\\beta} \\right) ^2\n",
    "$$\n",
    "\n",
    "$$\n",
    "+ \\frac{1}{D^2} \\mathcal{V}_{BSM} \\cdot \\left( \\frac{\\partial ^2 \\sigma_B}{\\partial f^2} + \\frac{\\partial ^2 \\sigma_B}{\\partial \\alpha \\partial f}  \\frac{\\rho v}{f^\\beta}  - \\frac{\\partial \\sigma_B}{\\partial \\alpha}  \\frac{\\beta \\rho v}{f^{\\beta + 1}} \\right)\n",
    "$$\n",
    "\n",
    "For sticky strike one lets:\n",
    "$$\n",
    "\\frac{\\partial \\sigma_B}{\\partial \\alpha} = \\frac{\\partial ^2 \\sigma_B}{\\partial \\alpha \\partial f} = 0 \n",
    "$$\n",
    "above."
   ]
  },
  {
   "cell_type": "markdown",
   "id": "9905e020",
   "metadata": {},
   "source": [
    "* Vega (ATM straddle):\n",
    "\n",
    "$$\n",
    "\\mathcal{V} = \\frac{\\partial PV}{\\partial \\alpha} \n",
    "$$\n",
    "$$\n",
    "= \\mathcal{V}_{BSM} \\cdot \\left( \n",
    " \\frac{\\partial \\sigma_B}{\\partial \\alpha} + \\frac{\\partial \\sigma_B}{\\partial f} \\cdot \\frac{\\rho f^\\beta}{v}\\right)\n",
    "$$\n",
    "with sticky strike one sets $ \\partial \\sigma_B /\\partial f = 0.$\n",
    " \n",
    " * Rega (risk reversal):\n",
    " $$ \\mathcal{R} =\\frac{ \\partial PV}{\\partial  \\rho} = \\mathcal{V}_{BSM} \\frac{\\partial \\sigma_B}{\\partial \\rho}$$\n",
    "\n",
    " * Sega (butterfly):\n",
    "$$ \\mathcal{S} =\\frac{ \\partial PV}{\\partial  v} = \\mathcal{V}_{BSM} \\frac{\\partial \\sigma_B}{\\partial v}$$"
   ]
  },
  {
   "cell_type": "markdown",
   "id": "dca03c3f",
   "metadata": {},
   "source": [
    "* Vanna: \n",
    "$$\n",
    "\\mathcal{Vanna} = \\frac{\\partial \\mathcal{V}}{\\partial S } =\\frac{1}{D} \\frac{\\partial \\mathcal{V}}{\\partial f }\n",
    "$$\n",
    "$$\n",
    "= \\left( \\text{Vanna}_{BSM} + \\frac{1}{D} \\text{Volga}_{BSM}\\cdot \\left( \\frac{\\partial \\sigma_B}{\\partial f} + \\frac{\\partial \\sigma_B}{\\partial \\alpha}  \\frac{\\rho v}{f^\\beta} \\right) \\right)\\cdot \\left( \n",
    " \\frac{\\partial \\sigma_B}{\\partial \\alpha} + \\frac{\\partial \\sigma_B}{\\partial f} \\cdot \\frac{\\rho f^\\beta}{v}\\right)\n",
    "$$\n",
    "$$\n",
    "+ \\frac{1}{D}\\mathcal{V}_{BSM} \\cdot \\left( \\frac{\\partial ^2 \\sigma_B}{\\partial f \\partial \\alpha} + \\frac{\\partial ^2 \\sigma_B}{\\partial f^2}  \\frac{\\rho f^\\beta}{v}  + \\frac{\\partial \\sigma_B}{\\partial f}  \\frac{\\beta \\rho f^{\\beta - 1}}{v} \\right)\n",
    "$$"
   ]
  },
  {
   "cell_type": "markdown",
   "id": "01af9063-47c5-4c70-90c5-44a9e6498fdc",
   "metadata": {},
   "source": [
    "with sticky strike one gets:\n",
    "$$\n",
    "\\mathcal{Vanna} = \\left( \\text{Vanna}_{BSM} + \\frac{1}{D} \\text{Volga}_{BSM} \\cdot \\frac{\\partial \\sigma_B}{\\partial f} \\right) \\cdot  \\frac{\\partial \\sigma_B}{\\partial \\alpha} + \\frac{1}{D}\\mathcal{V}_{BSM} \\cdot \\frac{\\partial ^2 \\sigma_B}{\\partial f \\partial \\alpha}  \n",
    "$$\n"
   ]
  },
  {
   "cell_type": "markdown",
   "id": "3da44a1f",
   "metadata": {},
   "source": [
    "* Volga: \n",
    "$$\n",
    "\\mathcal{Volga} = \\frac{\\partial \\mathcal{V}}{\\partial \\alpha }\n",
    "$$\n",
    "$$\n",
    "= \\text{Volga}_{BSM} \\cdot \\left( \n",
    " \\frac{\\partial \\sigma_B}{\\partial \\alpha} + \\frac{\\partial \\sigma_B}{\\partial f} \\cdot \\frac{\\rho f^\\beta}{v}\\right)^2\n",
    "$$\n",
    "$$\n",
    "+ \\mathcal{V}_{BSM} \\cdot \\left( \\frac{\\partial ^2 \\sigma_B}{\\partial \\alpha^2} + \\frac{\\partial ^2 \\sigma_B}{\\partial f \\partial \\alpha}  \\cdot \\frac{\\rho f^\\beta}{v} \\right)\n",
    "$$\n",
    "with sticky strike one lets:\n",
    "$$\n",
    " \\frac{\\partial \\sigma_B}{\\partial f}  = \\frac{\\partial ^2 \\sigma_B}{\\partial f \\partial \\alpha} = 0\n",
    "$$"
   ]
  },
  {
   "cell_type": "markdown",
   "id": "bbf31a13",
   "metadata": {},
   "source": [
    "#### Delta space\n",
    "Mapping from delta space:\n",
    "$$\n",
    "g(K) = \\Delta_{BSM} - \\delta \\equiv 0 \n",
    "$$\n",
    "with implied volatility constrained by SABR is achieved computing the smile sensitivity to the strike:\n",
    "$$\n",
    "g'(K) = \\frac{N'(d_1)}{\\sqrt T} \\left( -\\frac{1}{K\\sigma(K)} - \\frac{\\sigma'(K) \\ln \\frac{S}{K}}{\\sigma^2(K)} - \\frac{rT\\sigma'(K)}{\\sigma^2(K)} + T\\sigma'(K)    \\right)\n",
    "$$"
   ]
  },
  {
   "cell_type": "markdown",
   "id": "333cece9-01f0-4e7e-b510-dda43b915da6",
   "metadata": {},
   "source": [
    "##### Example 1: ATM Straddle"
   ]
  },
  {
   "cell_type": "code",
   "execution_count": null,
   "id": "17c28275-a142-40fd-9c75-17f4772825a7",
   "metadata": {},
   "outputs": [],
   "source": [
    "atm_straddle = SingleMaturityVanillas(\n",
    "            OptionTypes(np.array([False, True])), \n",
    "            Strikes(np.array([delta_space_chain.Ks[2], delta_space_chain.Ks[2]])), \n",
    "            Notionals(np.array([1000.,1000.])), \n",
    "            vol_smile_chain.time_to_maturity()\n",
    "        )\n",
    "atm_straddle.Ks"
   ]
  },
  {
   "cell_type": "code",
   "execution_count": null,
   "id": "140169a2-cd31-4bd1-995a-1628694c7a40",
   "metadata": {},
   "outputs": [],
   "source": [
    "def sabr_risk(portfolio, vol_smile_chain, calibrated_params):\n",
    "    bs_calc = BSCalc()\n",
    "    sabr_calc = SABRCalc()\n",
    "    forward = vol_smile_chain.forward()\n",
    "    \n",
    "    ivs = sabr_calc.implied_vols(forward, portfolio.strikes(), calibrated_params)\n",
    "    T = portfolio.time_to_maturity().T * np.ones_like(ivs.data)\n",
    "    \n",
    "    res_df = pd.DataFrame({\n",
    "        'present_value': sabr_calc.premiums(forward, portfolio, calibrated_params).data,\n",
    "        'notional': portfolio.Ns,\n",
    "        'call': portfolio.is_call,\n",
    "        'strike': portfolio.Ks,\n",
    "        'ttm': T,\n",
    "        'implied_vol': ivs.data,\n",
    "        \n",
    "        'delta': bs_calc.deltas(forward, portfolio, ivs).data,\n",
    "        'sticky_delta': sabr_calc.sticky_deltas(forward, portfolio, calibrated_params, StickyStrike(False)).data,\n",
    "        'strike_delta': sabr_calc.sticky_deltas(forward, portfolio, calibrated_params, StickyStrike(True)).data,\n",
    "\n",
    "        'vega': bs_calc.vegas(forward, portfolio, ivs).data,\n",
    "        'blip_vega': sabr_calc.blip_vegas(forward, portfolio, calibrated_params).data,\n",
    "        'sticky_vega': sabr_calc.sticky_vegas(forward, portfolio, calibrated_params, StickyStrike(False)).data,\n",
    "        'strike_vega': sabr_calc.sticky_vegas(forward, portfolio, calibrated_params, StickyStrike(True)).data,\n",
    "\n",
    "        'blip_rega': sabr_calc.blip_regas(forward, portfolio, calibrated_params).data,\n",
    "        'rho_rega': sabr_calc.regas_rho(forward, portfolio, calibrated_params).data,\n",
    "        \n",
    "        'blip_sega': sabr_calc.blip_segas(forward, portfolio, calibrated_params).data,        \n",
    "        'volvol_sega': sabr_calc.segas_volvol(forward, portfolio, calibrated_params).data,\n",
    "\n",
    "        'gamma': bs_calc.gammas(forward, portfolio, ivs).data,\n",
    "        'sticky_gamma': sabr_calc.sticky_gammas(forward, portfolio, calibrated_params, StickyStrike(False)).data,\n",
    "        'strike_gamma': sabr_calc.sticky_gammas(forward, portfolio, calibrated_params, StickyStrike(True)).data,\n",
    "        \n",
    "        \n",
    "        'volga': bs_calc.volgas(forward, portfolio, ivs).data,\n",
    "        'sticky_volga': sabr_calc.sticky_volgas(forward, portfolio, calibrated_params, StickyStrike(False)).data,\n",
    "        'strike_volga': sabr_calc.sticky_volgas(forward, portfolio, calibrated_params, StickyStrike(True)).data,\n",
    "        \n",
    "        'vanna': bs_calc.vannas(forward, portfolio, ivs).data,\n",
    "        'sticky_vanna': sabr_calc.sticky_vannas(forward, portfolio, calibrated_params, StickyStrike(False)).data,\n",
    "        'strike_vanna': sabr_calc.sticky_vannas(forward, portfolio, calibrated_params, StickyStrike(True)).data\n",
    "    })\n",
    "    \n",
    "    return res_df, res_df.drop(columns=['notional','call','strike', 'ttm', 'implied_vol']).sum()\n",
    " "
   ]
  },
  {
   "cell_type": "code",
   "execution_count": null,
   "id": "05a84ec2-77ad-4a22-81ee-79f6c7005205",
   "metadata": {},
   "outputs": [],
   "source": [
    "leg_risk, total_risk = sabr_risk(atm_straddle, vol_smile_chain, calibrated_params)"
   ]
  },
  {
   "cell_type": "code",
   "execution_count": null,
   "id": "dcb1fa67-ad14-441b-80ad-7a92dbd4c610",
   "metadata": {},
   "outputs": [],
   "source": [
    "leg_risk"
   ]
  },
  {
   "cell_type": "code",
   "execution_count": null,
   "id": "1d790f7a-5e33-4ae7-8b06-d671f491a37a",
   "metadata": {},
   "outputs": [],
   "source": [
    "total_risk"
   ]
  },
  {
   "cell_type": "markdown",
   "id": "c3396374-0dc9-498a-80af-22931eb1e1b0",
   "metadata": {},
   "source": [
    "##### Example 2: Risk Reversal"
   ]
  },
  {
   "cell_type": "code",
   "execution_count": null,
   "id": "ca620474-0277-4392-ab9f-67fcd1827dc5",
   "metadata": {},
   "outputs": [],
   "source": [
    "risk_reversal_10 = SingleMaturityVanillas(\n",
    "            OptionTypes(np.array([False, True])), \n",
    "            Strikes(np.array([delta_space_chain.Ks[0], delta_space_chain.Ks[-1]])), \n",
    "            Notionals(np.array([-1000.,1000.])), \n",
    "            vol_smile_chain.time_to_maturity()\n",
    "        )\n",
    "risk_reversal_10.Ks"
   ]
  },
  {
   "cell_type": "code",
   "execution_count": null,
   "id": "6a7151d1-32ca-464b-b618-8dfe8f6a57f6",
   "metadata": {},
   "outputs": [],
   "source": [
    "leg_risk_rr, total_risk_rr = sabr_risk(risk_reversal_10, vol_smile_chain, calibrated_params)"
   ]
  },
  {
   "cell_type": "code",
   "execution_count": null,
   "id": "44c338db-5e05-4c0d-9186-67572ecdbb9a",
   "metadata": {},
   "outputs": [],
   "source": [
    "leg_risk_rr"
   ]
  },
  {
   "cell_type": "code",
   "execution_count": null,
   "id": "22d27519-4f93-4e0c-aeef-67b9f6f1e06a",
   "metadata": {
    "scrolled": true
   },
   "outputs": [],
   "source": [
    "total_risk_rr"
   ]
  },
  {
   "cell_type": "markdown",
   "id": "3d0ee8a0-c811-4139-90d1-9fd60c1df7f0",
   "metadata": {},
   "source": [
    "##### Example 3: Vega Neutral Butterfly"
   ]
  },
  {
   "cell_type": "code",
   "execution_count": null,
   "id": "a034a9a0-fa5e-4fb5-971e-244f78736196",
   "metadata": {},
   "outputs": [],
   "source": [
    "butterfly_10 = SingleMaturityVanillas(\n",
    "            OptionTypes(np.array([False, False, True, True])), \n",
    "            Strikes(np.array([delta_space_chain.Ks[0], delta_space_chain.Ks[2], delta_space_chain.Ks[2], delta_space_chain.Ks[-1]])), \n",
    "            Notionals(np.array([1000.,-1000., -1000., 1000.])), \n",
    "            vol_smile_chain.time_to_maturity()\n",
    "        )\n",
    "butterfly_10.Ks"
   ]
  },
  {
   "cell_type": "code",
   "execution_count": null,
   "id": "6dbfe617-b725-43f2-aaaa-9114f2edf180",
   "metadata": {},
   "outputs": [],
   "source": [
    "ivs = np.array([delta_space_chain.sigmas[0], delta_space_chain.sigmas[2], delta_space_chain.sigmas[2], delta_space_chain.sigmas[-1]])\n",
    "vegas = bs_calc.vegas(forward, butterfly_10, ImpliedVols(ivs))\n",
    "vegas.data"
   ]
  },
  {
   "cell_type": "code",
   "execution_count": null,
   "id": "bde25af3-315f-443d-ac5f-a0d1b90cba3b",
   "metadata": {},
   "outputs": [],
   "source": [
    "butterfly_10.Ns[1:-1] = (vegas.data[0] + vegas.data[-1])  / (-2*vegas.data[1]) * butterfly_10.Ns[1:-1]\n",
    "butterfly_10.Ns"
   ]
  },
  {
   "cell_type": "code",
   "execution_count": null,
   "id": "b6a7ed20-3cdc-44d8-bf60-e5c2cc14191d",
   "metadata": {},
   "outputs": [],
   "source": [
    "leg_risk_bf, total_risk_bf = sabr_risk(butterfly_10, vol_smile_chain, calibrated_params)"
   ]
  },
  {
   "cell_type": "code",
   "execution_count": null,
   "id": "0ebfc18d-1ef8-4eb3-87ad-36578b1ef9f4",
   "metadata": {},
   "outputs": [],
   "source": [
    "leg_risk_bf"
   ]
  },
  {
   "cell_type": "code",
   "execution_count": null,
   "id": "9901e23c-37d1-4a5c-a57a-68162a65ce5f",
   "metadata": {},
   "outputs": [],
   "source": [
    "total_risk_bf.round(2)"
   ]
  },
  {
   "cell_type": "markdown",
   "id": "dd77bd39",
   "metadata": {},
   "source": [
    "#### Warm starting"
   ]
  },
  {
   "cell_type": "code",
   "execution_count": null,
   "id": "f837e279",
   "metadata": {
    "ExecuteTime": {
     "end_time": "2024-01-24T17:13:42.975884395Z",
     "start_time": "2024-01-24T17:13:42.926389249Z"
    }
   },
   "outputs": [],
   "source": [
    "new_forward = 1723.25\n",
    "new_pvs = np.array([ 0.861625,  1.72325 ,  3.4465  ,  6.893   , 26.710375,\n",
    "                    11.201125,  4.308125,  1.72325 ,  1.72325 ,  0.861625])"
   ]
  },
  {
   "cell_type": "code",
   "execution_count": null,
   "id": "d19124ef",
   "metadata": {
    "ExecuteTime": {
     "end_time": "2024-01-24T17:13:42.976636311Z",
     "start_time": "2024-01-24T17:13:42.953951398Z"
    }
   },
   "outputs": [],
   "source": [
    "new_implied_vols = bs_calc.implied_vols(\n",
    "    Forward(Spot(new_forward), ForwardYield(0.), TimeToMaturity(tau)),\n",
    "    Strikes(strikes),\n",
    "    Premiums(new_pvs)\n",
    ").data"
   ]
  },
  {
   "cell_type": "code",
   "execution_count": null,
   "id": "69af4b39",
   "metadata": {
    "ExecuteTime": {
     "end_time": "2024-01-24T17:13:42.994411449Z",
     "start_time": "2024-01-24T17:13:42.974318996Z"
    }
   },
   "outputs": [],
   "source": [
    "new_vol_smile_chain = VolSmileChainSpace(\n",
    "    Forward(Spot(new_forward), ForwardYield(0.), TimeToMaturity(tau)),\n",
    "    Strikes(strikes),\n",
    "    ImpliedVols(new_implied_vols)\n",
    ")"
   ]
  },
  {
   "cell_type": "code",
   "execution_count": null,
   "id": "40931f37",
   "metadata": {
    "ExecuteTime": {
     "end_time": "2024-01-24T17:13:43.053972639Z",
     "start_time": "2024-01-24T17:13:42.995316051Z"
    }
   },
   "outputs": [],
   "source": [
    "sabr_calc.update_cached_params(calibrated_params)"
   ]
  },
  {
   "cell_type": "code",
   "execution_count": null,
   "id": "e81b86b1",
   "metadata": {
    "ExecuteTime": {
     "end_time": "2024-01-24T17:13:43.099380357Z",
     "start_time": "2024-01-24T17:13:43.054710840Z"
    }
   },
   "outputs": [],
   "source": [
    "new_calibrated_params, error = sabr_calc.calibrate(new_vol_smile_chain, backbone, weights)\n",
    "print(error.v)\n",
    "new_calibrated_params.array()"
   ]
  },
  {
   "cell_type": "markdown",
   "id": "2a6d8219",
   "metadata": {},
   "source": [
    "#### BSM limit"
   ]
  },
  {
   "cell_type": "code",
   "execution_count": null,
   "id": "b3b3e98f",
   "metadata": {
    "ExecuteTime": {
     "end_time": "2024-01-24T17:13:43.468251749Z",
     "start_time": "2024-01-24T17:13:43.098825939Z"
    }
   },
   "outputs": [],
   "source": [
    "flat_implied_vols = np.ones_like(implied_vols)*0.8\n",
    "flat_vol_smile_chain = VolSmileChainSpace(\n",
    "    Forward(Spot(new_forward), ForwardYield(0.), TimeToMaturity(tau)),\n",
    "    Strikes(strikes),\n",
    "    ImpliedVols(flat_implied_vols)\n",
    ")\n",
    "sabr_calc.update_cached_params(\n",
    "    SABRParams(Volatility(1.), Correlation(0.), VolOfVol(0.), Backbone(1.0))\n",
    ")\n",
    "flat_calibrated_params, error = sabr_calc.calibrate(flat_vol_smile_chain, Backbone(1.0), weights)\n",
    "print(error.v)\n",
    "flat_calibrated_params.array()"
   ]
  },
  {
   "cell_type": "code",
   "execution_count": null,
   "id": "663166bd",
   "metadata": {
    "ExecuteTime": {
     "end_time": "2024-01-24T17:13:43.625385257Z",
     "start_time": "2024-01-24T17:13:43.469163134Z"
    }
   },
   "outputs": [],
   "source": [
    "flat_test_iv = sabr_calc.implied_vols(\n",
    "    Forward(Spot(new_forward), ForwardYield(0.), TimeToMaturity(tau)),\n",
    "    test_strikes,\n",
    "    flat_calibrated_params\n",
    ")\n",
    "new_test_iv = sabr_calc.implied_vols(\n",
    "    Forward(Spot(new_forward), ForwardYield(0.), TimeToMaturity(tau)),\n",
    "    test_strikes,\n",
    "    new_calibrated_params\n",
    ")\n",
    "plt.figure(figsize=(13, 7))\n",
    "plt.plot(strikes, 100*implied_vols, '.C3', markersize=20)\n",
    "plt.plot(strikes, 100*new_implied_vols, '.C2', markersize=20)\n",
    "plt.plot(strikes, 100*flat_implied_vols, '.C4', markersize=20)\n",
    "plt.plot(test_strikes.data, 100*test_iv.data, 'C1')\n",
    "plt.plot(test_strikes.data, 100*new_test_iv.data, 'C0')\n",
    "plt.plot(test_strikes.data, 100*flat_test_iv.data, 'C5')\n",
    "plt.title('Market skew', fontsize=15)\n",
    "plt.xlabel('Strikes', color='white', fontsize=15)\n",
    "plt.ylabel('IV(%)', color='white', fontsize=15)\n",
    "plt.grid()\n",
    "plt.show()"
   ]
  },
  {
   "cell_type": "markdown",
   "id": "9ee8d226",
   "metadata": {},
   "source": [
    "#### Hagan's original formula"
   ]
  },
  {
   "cell_type": "code",
   "execution_count": null,
   "id": "e835df42",
   "metadata": {
    "ExecuteTime": {
     "end_time": "2024-01-24T17:13:43.667407802Z",
     "start_time": "2024-01-24T17:13:43.628859157Z"
    }
   },
   "outputs": [],
   "source": [
    "def hagan_implied_volatility(K,T,f,alpha,beta,rho,gamma):\n",
    "    z        = gamma/alpha*np.power(f*K,(1.0-beta)/2.0)*np.log(f/K);\n",
    "    x_z      = np.log((np.sqrt(1.0-2.0*rho*z+z*z)+z-rho)/(1.0-rho))\n",
    "    A        = alpha/(np.power(f*K,((1.0-beta)/2.0))*(1.0+np.power(1.0-beta,2.0)/24.0*\n",
    "                               np.power(np.log(f/K),2.0)+np.power((1.0-beta),4.0)/1920.0*\n",
    "                               np.power(np.log(f/K),4.0)))\n",
    "    B1       = 1.0 + (np.power((1.0-beta),2.0)/24.0*alpha*alpha/(np.power((f*K),\n",
    "                1-beta))+1/4*(rho*beta*gamma*alpha)/(np.power((f*K),\n",
    "                             ((1.0-beta)/2.0)))+(2.0-3.0*rho*rho)/24.0*gamma*gamma)*T\n",
    "    impVol   = A*(z/x_z) * B1\n",
    "    B2 = 1.0 + (np.power(1.0-beta,2.0)/24.0*alpha*alpha/\n",
    "                (np.power(f,2.0-2.0*beta))+1.0/4.0*(rho*beta*gamma*\n",
    "                alpha)/np.power(f,(1.0-beta))+(2.0-3.0*rho*rho)/24.0*gamma*gamma)*T;\n",
    "\n",
    "\n",
    "    impVol[np.where(K==f)] = alpha / np.power(f,(1-beta)) * B2;\n",
    "    return impVol"
   ]
  },
  {
   "cell_type": "code",
   "execution_count": null,
   "id": "6247546a",
   "metadata": {
    "ExecuteTime": {
     "end_time": "2024-01-24T17:13:43.704168601Z",
     "start_time": "2024-01-24T17:13:43.651439615Z"
    },
    "scrolled": true
   },
   "outputs": [],
   "source": [
    "for t in [1., .5, .01]:\n",
    "    print(f'\\n////////////// time to maturity = {t} ////////////////')\n",
    "    for beta in [.5, .95,  1.]:\n",
    "        print(f'============== beta = {beta} =================')\n",
    "        for scale in [100., 5., 1.]:\n",
    "            new_strikes = test_strikes.data / scale\n",
    "            new_calibrated_params.beta = beta\n",
    "            error = np.abs(\n",
    "                sabr_calc.implied_vols(\n",
    "                    Forward(Spot(new_forward), ForwardYield(0.), TimeToMaturity(t)),\n",
    "                    Strikes(new_strikes),\n",
    "                    new_calibrated_params).data\\\n",
    "                - hagan_implied_volatility(new_strikes, t, new_forward, \n",
    "                                 new_calibrated_params.alpha, beta, \n",
    "                                 new_calibrated_params.rho, new_calibrated_params.v)).max()\n",
    "            print(f'min strike {new_strikes[0]}, max diff: {error}')\n",
    "    new_calibrated_params.beta = backbone.beta"
   ]
  },
  {
   "cell_type": "markdown",
   "id": "8afb6294",
   "metadata": {},
   "source": [
    "### Managing the vol surface with SABR\n",
    "For different maturities SABR dynamics take place in different $T$-forward measures. Nevertheless the map to the vol smiles and the associated calibrated parameters: \n",
    "$$\n",
    "T \\rightarrow \\sigma_i(K_i), \\left( \\alpha^T, \\rho^T, v^T \\right)\n",
    "$$\n",
    "is continuous in $T$. Therefore, after performing a calibration for each maturity $T_j$ separately, one can perform an interpolation for each of the three parameters $(\\alpha^{T_j}, \\rho^{T_j}, v^{T_j})$, via a cubic spline for example.\n",
    " \n",
    "#### Calendar Arbitrage\n",
    "The above approach might lead to **calendar arbitrage**: that is when for each moneyness level:\n",
    "\n",
    "$$\n",
    "k \\equiv \\log \\frac{K}{f_{t,T}} \n",
    "$$\n",
    "\n",
    "the map:\n",
    "$$\n",
    "T \\rightarrow \\sigma \\left(T,K \\right)^2T\n",
    "$$\n",
    "is not strictly increasing. The quantity on the RHS is called *total implied variance*. Note that for fixed $k$ the strike $K$ evolves as we move the maturity $T$ unless the forward yield is trivial.\n",
    "\n",
    "#### Market data interpolation\n",
    "As consequence, a safer approach is interpolation of the market data first. Interpolating the options chain accross maturities is challenging as each maturity typically would contain a different set of strikes. \n",
    "\n",
    "A better approach is to map the chain space to delta space. This is achieved by calibrating SABR to existing tenors and compute the ATM straddle, risk reversals and butterflies (as we did in the previous section). As those are now free of strikes on can interpolate each of them accross tenors separetely:\n",
    "$$\n",
    "T \\rightarrow \\sigma_{ATM}(T), \\sigma_{\\delta RR}(T), \\sigma_{\\delta BB} (T) \n",
    "$$\n",
    "One should get also the forward curve $T \\rightarrow f_{t,T}$. Those interpolations can be achieved with a cubic spline.\n",
    "\n",
    "Then, given a new maturity date $T_0$ not available in the market data, one maps delta space quotes to the options chain back simply using Black-Scholes:\n",
    "$$\n",
    "\\sigma_{ATM}(T_0), \\sigma_{\\delta RR}(T_0), \\sigma_{\\delta BB} (T_0) \\rightarrow \\sigma(T_0, K_{\\delta,p}), \\sigma(T_0, f_{t,T}), \\sigma(T_0, K_{\\delta,c})\n",
    "$$\n",
    "and calibrate SABR to it, getting $\\alpha^{T_0}, \\rho^{T_0}, v^{T_0}$.\n",
    "\n"
   ]
  },
  {
   "cell_type": "markdown",
   "id": "e12771bc",
   "metadata": {},
   "source": [
    "#### Greeks on the surface\n",
    "\n",
    "SABR greeks are computed according to each time to maturity separetely. For example, the vega of a calendar spread shorting a one-month call $PV_{C,1M}$ and buying a longer dated one, e.g. three-month $PV_{C,3M}$ is:\n",
    "$$\n",
    "\\mathcal{V}_{PV_{C,3M}-PV_{C,1M}} = \\frac{\\partial PV_{C,3M}}{\\partial \\alpha_{3M}} - \\frac{\\partial PV_{C,1M}}{\\partial \\alpha_{1M}}\n",
    "$$\n",
    "\n",
    "Similarly for volga, rega and sega. \n",
    "\n",
    "For delta (and gamma for that matter), this calculation is easier as we just differentiate w.r.t. spot:\n",
    "$$\n",
    "\\Delta_{PV_{C,3M}-PV_{C,1M}} = \\frac{\\partial PV_{C,3M}}{\\partial S_t} - \\frac{\\partial PV_{C,1M}}{\\partial S_t}\n",
    "$$\n",
    "\n",
    "Finally, vanna risk is defined as sensitivity of vega to spot, so it will read:\n",
    "$$\n",
    "\\text{Vanna}_{PV_{C,3M}-PV_{C,1M}} = \\frac{\\partial}{\\partial S_t}\\mathcal{V}_{PV_{C,3M}-PV_{C,1M}} =  \\frac{\\partial^2 PV_{C,3M}}{\\partial S_t \\partial \\alpha_{3M}} - \\frac{\\partial^2 PV_{C,1M}}{\\partial S_t \\partial \\alpha_{1M}}\n",
    "$$\n",
    "\n",
    "#### Unexplained PnL \n",
    "\n",
    "Given the present values $PV_t$, $S_t$ and calibrated parameters $\\alpha_t$, $\\rho_t$ and $v_t$, we observe the next update in the market $PV_{t+1}$, $S_{t+1}$, calibrate $\\alpha_{t+1}$, $\\rho_{t+1}$ and $v_{t+1}$ and measure:\n",
    "\n",
    "$$\n",
    "PV_{t+1} - PV_t = \\Delta_{PV_t} \\cdot (f_{t+1} - f_t) + \\frac{1}{2} \\Gamma_{PV_t} \\cdot(f_{t+1} - f_t)^2\n",
    "$$\n",
    "$$\n",
    "+ \\mathcal{V}_{PV_t}\\cdot(\\alpha_{t+1} - \\alpha_t) + \\mathcal{R}_{PV_t}\\cdot(\\rho_{t+1} - \\rho_t) + \\mathcal{S}_{PV_t}\\cdot(v_{t+1} - v_t)\n",
    "$$\n",
    "$$\n",
    "+ \\frac{1}{2} \\mathcal{Vanna}_{PV_t} \\cdot (\\alpha_{t+1} - \\alpha_t) \\cdot (f_{t+1} - f_t)   +  \\frac{1}{2} \\mathcal{Volga}_{PV_t} \\cdot (\\alpha_{t+1} - \\alpha_t)^2\n",
    "$$\n",
    "$$\n",
    "+ \\text{Unexplained Forward PnL}\n",
    "$$"
   ]
  },
  {
   "cell_type": "code",
   "execution_count": null,
   "id": "f7ca1585-713a-496a-84fa-de2cc004519c",
   "metadata": {},
   "outputs": [],
   "source": [
    "from deribit_vol_surface import get_vol_surface"
   ]
  },
  {
   "cell_type": "code",
   "execution_count": null,
   "id": "f473027d-a846-4a69-8dc3-5402fa477f75",
   "metadata": {},
   "outputs": [],
   "source": [
    "volsurface_chain = get_vol_surface('./deribit_vol_surface.csv')"
   ]
  },
  {
   "cell_type": "code",
   "execution_count": null,
   "id": "185c497c-189f-4fad-96af-4271734d4fae",
   "metadata": {},
   "outputs": [],
   "source": [
    "sabr_calc = SABRCalc()\n",
    "volsurface_delta = sabr_calc.surface_to_delta_space(volsurface_chain, Backbone(1.))"
   ]
  },
  {
   "cell_type": "code",
   "execution_count": null,
   "id": "960575c6-5c94-4213-b0dc-e585a796f1a5",
   "metadata": {},
   "outputs": [],
   "source": [
    "test_T = np.linspace(volsurface_delta.min_T, volsurface_delta.max_T, num=100) \n",
    "test_fwd = volsurface_delta.FWD.forward_yields(TimesToMaturity(test_T)).data"
   ]
  },
  {
   "cell_type": "code",
   "execution_count": null,
   "id": "2eff25a6-d07f-4f3c-a688-508439e8115d",
   "metadata": {},
   "outputs": [],
   "source": [
    "fig, ax1 = plt.subplots(figsize=(13, 7))\n",
    "\n",
    "ax1.set_ylabel('Forward Yield', color='C0') \n",
    "ax1.set_xlabel('Time to Maturity (T)')\n",
    "ax1.plot(test_T, test_fwd, 'C0')\n",
    "ax1.tick_params(axis='y', labelcolor='C0')\n",
    "\n",
    "ax2 = ax1.twinx() \n",
    "ax2.plot(test_T, volsurface_delta.atm_quotes(TimesToMaturity(test_T)).data, 'C1', label='ATM')\n",
    "ax2.plot(test_T, test_T*volsurface_delta.atm_quotes(TimesToMaturity(test_T)).data**2, 'C2', label='ATM TOT VAR')\n",
    "ax2.plot(test_T, volsurface_delta.rr25_quotes(TimesToMaturity(test_T)).data, 'C3', label='RR25')\n",
    "ax2.plot(test_T, volsurface_delta.bf25_quotes(TimesToMaturity(test_T)).data, 'C4', label='BF25')\n",
    "ax2.plot(test_T, volsurface_delta.rr10_quotes(TimesToMaturity(test_T)).data, 'C5', label='RR10')\n",
    "ax2.plot(test_T, volsurface_delta.bf10_quotes(TimesToMaturity(test_T)).data, 'C6', label='BF10')\n",
    "\n",
    "plt.title('Delta Space SABR Vol Surface', fontsize=15)\n",
    "fig.tight_layout()\n",
    "plt.legend()\n",
    "plt.show()"
   ]
  },
  {
   "cell_type": "code",
   "execution_count": null,
   "id": "5414366e-a5f7-4730-aace-39f7349e1fa0",
   "metadata": {},
   "outputs": [],
   "source": [
    "test_K = np.linspace(np.min(volsurface_chain.Ks)*0.9, np.max(volsurface_chain.Ks)*1.1, num=100)\n",
    "test_ivs = sabr_calc.surface_grid_ivs(volsurface_delta, Strikes(test_K), TimesToMaturity(test_T), Backbone(1.)).data"
   ]
  },
  {
   "cell_type": "code",
   "execution_count": null,
   "id": "2d7f6da8-ce48-439d-9de8-0004b9f8dc38",
   "metadata": {},
   "outputs": [],
   "source": [
    "test_grid_K, test_grid_T = np.meshgrid(test_K, test_T)\n",
    "test_grid_ivs = test_ivs.reshape(len(test_K), len(test_T))"
   ]
  },
  {
   "cell_type": "code",
   "execution_count": null,
   "id": "2e3c3925-8289-4f91-904d-76d72c6fafc8",
   "metadata": {},
   "outputs": [],
   "source": [
    "fig = go.Figure(data=[go.Surface(z=test_grid_ivs, x=test_grid_K, y=test_grid_T, colorscale='Tealgrn_r'),\n",
    "                      go.Scatter3d(z=volsurface_chain.sigmas, x=volsurface_chain.Ks, y=volsurface_chain.Ts, mode='markers')\n",
    "                     ])\n",
    "fig.update_layout(title='SABR Volatility Surface', template=\"plotly_dark\", width=1000, height=1000)\n",
    "fig.update_scenes(xaxis_title_text='strike',\n",
    "                  yaxis_title_text='time to maturity',\n",
    "                  zaxis_title_text='implied vol')\n",
    "fig.show()"
   ]
  },
  {
   "cell_type": "code",
   "execution_count": null,
   "id": "bb0bcedc-84a9-4235-bc8b-edb575a2ac36",
   "metadata": {},
   "outputs": [],
   "source": [
    "ttms = volsurface_chain.times_to_maturities()\n",
    "ttms.data"
   ]
  },
  {
   "cell_type": "code",
   "execution_count": null,
   "id": "864f50df-7a4e-4ee1-9199-edd144df2aad",
   "metadata": {},
   "outputs": [],
   "source": [
    "ttm = ttms.data[1]\n",
    "smileT = volsurface_chain.get_vol_smile(TimeToMaturity(ttm))\n",
    "calibrated_paramsT, errorT = sabr_calc.calibrate(smileT, Backbone(1.), CalibrationWeights(np.ones_like(smileT.Ks)))\n",
    "testK = np.linspace(smileT.Ks[0], smileT.Ks[-1], num=100)\n",
    "test_ivI = sabr_calc.implied_vols(smileT.forward(), Strikes(testK), calibrated_paramsT)\n",
    "\n",
    "plt.figure(figsize=(13, 7))\n",
    "plt.plot(smileT.Ks, 100*smileT.sigmas, '.C3', markersize=20,  label='market')\n",
    "\n",
    "plt.plot(testK, 100*test_ivI.data, 'C1', label='model')\n",
    "\n",
    "plt.title(f'SABR Calibration T={round(ttm, 4)}', fontsize=15)\n",
    "plt.xlabel('Strikes', color='white', fontsize=15)\n",
    "plt.ylabel('IV(%)', color='white', fontsize=15)\n",
    "plt.grid()\n",
    "plt.legend(fontsize=10)\n",
    "plt.show();"
   ]
  },
  {
   "cell_type": "markdown",
   "id": "0b6f86a0-c503-407d-a4ca-b4fed88fe7d4",
   "metadata": {},
   "source": [
    "#### Calendar Spreads\n",
    "Hedging an Iron Condor"
   ]
  },
  {
   "cell_type": "code",
   "execution_count": null,
   "id": "4aace690-11c9-4f12-aa28-bfa5ed5e82f4",
   "metadata": {},
   "outputs": [],
   "source": [
    "vol_smile_T1 = volsurface_delta.get_vol_smile(TimeToMaturity(0.1)).to_chain_space()\n",
    "short_butterfly_25_T1 = SingleMaturityVanillas(\n",
    "            OptionTypes(np.array([False, False, True, True])), \n",
    "            Strikes(np.array([vol_smile_T1.Ks[1], vol_smile_T1.Ks[2], vol_smile_T1.Ks[2], vol_smile_T1.Ks[-2]])), \n",
    "            Notionals(np.array([-1000., 1000., 1000., -1000.])), \n",
    "            vol_smile_T1.time_to_maturity()\n",
    "        )\n",
    "short_butterfly_25_T1.Ks"
   ]
  },
  {
   "cell_type": "code",
   "execution_count": null,
   "id": "4763ce92-06c7-4e1f-b4a8-6cf03f5b39b8",
   "metadata": {},
   "outputs": [],
   "source": [
    "vol_smile_T1.forward().forward_rate().fv"
   ]
  },
  {
   "cell_type": "code",
   "execution_count": null,
   "id": "dd8cdfe2-bbe6-4c64-a1d1-7b577f4bb6e2",
   "metadata": {},
   "outputs": [],
   "source": [
    "params_T1,_ = sabr_calc.calibrate(vol_smile_T1, Backbone(1.), CalibrationWeights(np.ones_like(vol_smile_T1.Ks)))\n",
    "params_T1.array()"
   ]
  },
  {
   "cell_type": "code",
   "execution_count": null,
   "id": "48f618d3-4a29-47a0-8f7f-20be1d3c28a7",
   "metadata": {},
   "outputs": [],
   "source": [
    "leg_risk_cs_T1, total_risk_T1 = sabr_risk(short_butterfly_25_T1, vol_smile_T1, params_T1)"
   ]
  },
  {
   "cell_type": "code",
   "execution_count": null,
   "id": "4cac5314-1099-4916-a9f9-5a73166a4345",
   "metadata": {},
   "outputs": [],
   "source": [
    "vol_smile_T2 = volsurface_delta.get_vol_smile(TimeToMaturity(0.3)).to_chain_space() \n",
    "butterfly_25_T2 = SingleMaturityVanillas(\n",
    "            OptionTypes(np.array([False, False, True, True])), \n",
    "            Strikes(np.array([vol_smile_T2.Ks[1], vol_smile_T2.Ks[2], vol_smile_T2.Ks[2], vol_smile_T2.Ks[-2]])), \n",
    "            Notionals(np.array([1000., -1000., -1000., 1000.])), \n",
    "            vol_smile_T2.time_to_maturity()\n",
    "        )\n",
    "butterfly_25_T2.Ks"
   ]
  },
  {
   "cell_type": "code",
   "execution_count": null,
   "id": "5ecb670a-e98e-48af-aa61-a3e106823dd2",
   "metadata": {},
   "outputs": [],
   "source": [
    "params_T2,_ = sabr_calc.calibrate(vol_smile_T2, Backbone(1.), CalibrationWeights(np.ones_like(vol_smile_T2.Ks)))\n",
    "params_T2.array()"
   ]
  },
  {
   "cell_type": "code",
   "execution_count": null,
   "id": "8b3857d7-bf0a-466c-a9cd-39d8a2a71ad2",
   "metadata": {},
   "outputs": [],
   "source": [
    "leg_risk_cs_T2, total_risk_T2 = sabr_risk(butterfly_25_T2, vol_smile_T2, params_T2)"
   ]
  },
  {
   "cell_type": "code",
   "execution_count": null,
   "id": "b750fef6-1750-4ccd-8eff-dc1026fd97e8",
   "metadata": {},
   "outputs": [],
   "source": [
    "cs_risk = pd.concat([leg_risk_cs_T1, leg_risk_cs_T2])"
   ]
  },
  {
   "cell_type": "code",
   "execution_count": null,
   "id": "0e16ec39-fa99-45dd-b961-4150eef42cb4",
   "metadata": {},
   "outputs": [],
   "source": [
    "cs_risk[cs_risk.call]"
   ]
  },
  {
   "cell_type": "code",
   "execution_count": null,
   "id": "6584a182-5a91-42ba-a121-e8e894616cb8",
   "metadata": {},
   "outputs": [],
   "source": [
    "cs_risk[cs_risk.call].drop(columns=['notional','call','strike', 'ttm', 'implied_vol']).sum()"
   ]
  },
  {
   "cell_type": "code",
   "execution_count": null,
   "id": "d40a543b-0dc8-4286-a0ab-c2eaccec136f",
   "metadata": {},
   "outputs": [],
   "source": [
    "cs_risk[~cs_risk.call]"
   ]
  },
  {
   "cell_type": "code",
   "execution_count": null,
   "id": "a190c8d5-47f3-4b5c-a630-3bbdf08b8911",
   "metadata": {},
   "outputs": [],
   "source": [
    "cs_risk[~cs_risk.call].drop(columns=['notional','call','strike', 'ttm', 'implied_vol']).sum()"
   ]
  },
  {
   "cell_type": "markdown",
   "id": "e7c38e67-cc52-4784-98fd-7d794aa7046c",
   "metadata": {},
   "source": [
    "## 5. Stochastic Volatility Inspired (SVI) parametrization\n",
    "\n",
    "SVI can be obtained as large-maturity limit of the Heston model. As SABR, the parametrization is performed per fixed maturity $t$ and might suffer from calendar arbitrage (which one should get rid of interpolating the surface in delta space, just as with SABR).\n",
    "\n",
    "SVI models the total implied variance over moneyness:\n",
    "$$\n",
    "w(t, k) =  \\sigma(t,k)^2 \\cdot t, \\quad k = \\log \\frac{K}{f_t}\n",
    "$$\n",
    "for strike $K$ and forward rate $f_t$ with time to maturity $t$.\n",
    "\n",
    "The so-called *raw parametrization* of a smile is given by:\n",
    "$$\n",
    "w(k) = a + b\\{\\rho(k - m) + \\sqrt{(k - m)^2 + \\sigma^2} \\}\n",
    "$$\n",
    "with all parameters typically allowed to evolve with time to maturity:\n",
    "* $a$ controls overall variance, ATM straddle risk \n",
    "* $b$ controls the butterfly risk\n",
    "* $\\rho$ influences the risk-reversal\n",
    "* $m$ slides the smile over moneyness\n",
    "* $\\sigma$ controls the ATM curvature of the smile helping to manage the 0.25 delta to 0.1 delta risk for RRs and BFs.\n",
    "\n",
    "Some desks might find more intuitive Tim Klassen's *jump-wings* parametrization:\n",
    "* the ATM variance:\n",
    "$$ v_t = \\frac{a + b\\{-\\rho m + \\sqrt{m^2 + \\sigma^2} \\}}{t} $$\n",
    "* the ATM skew:\n",
    "$$ \\psi_t = \\frac{b}{2\\sqrt{v_t t}} (-\\frac{m}{\\sqrt{m^2 + \\sigma^2}} + \\rho)$$\n",
    "* the curvature for puts:\n",
    "$$ p_t = \\frac{b(1 - \\rho)}{\\sqrt{v_t t}} $$\n",
    "* the curvature for calls:\n",
    "$$ c_t = \\frac{b(1 + \\rho)}{\\sqrt{v_t t}} $$\n",
    "* minimum implied variance:\n",
    "$$ \\tilde{v_t} = \\frac{a + b\\sigma \\sqrt{1 - \\rho^2})}{t} $$\n",
    "\n",
    "Since SVI is only an approximation of a genuine risk neutral model, it might suffer from another form of *static arbitrage*: *butterfly arbitrage*. Butterfly arbitrage appears when premiums form a non-convex function accross strikes for a fixed vanilla type (call or put). \n",
    "\n",
    "SVI parametrization is free of butterfly arbitrage if:\n",
    "$$\n",
    "g(k) \\equiv \\left( 1 - \\frac{k w'(k)}{2w(k)}\\right)^2 - \\frac{w'(k)^2}{4} \\left( \\frac{1}{w(k)} +  \\frac{1}{4} \\right) + \\frac{w''(k)}{2}\n",
    "$$\n",
    "is non-negative. The way to deal with regions where $g < 0$  is to first interpolate market data there with a model which is free of butterfly arbitrage such as SABR or Heston, overweighting the quotes in the region within the LM algorithm). The augmented quotes are then refitted with SVI, with the process interatively repearted until $g \\geq 0$ everywhere."
   ]
  },
  {
   "cell_type": "markdown",
   "id": "a4ac7629-b6f1-4209-85eb-5e82f97b4df4",
   "metadata": {},
   "source": [
    "## 6. Surface SVI (SSVI)\n",
    "\n",
    "For mark-price the smile by tenor parametrization is sufficient (e.g. to get delta space quotes). However, for risk accross tenors one should use the SSVI model. The latter is based on the  *natural parametrization*  $\\Delta \\in \\mathbb{R}, \\mu \\in \\mathbb{R}, \\rho \\in (-1,1), \\omega \\geq 0 , \\zeta >0$ :\n",
    "\n",
    "$$\n",
    "w(k) = \\Delta + \\frac{\\omega}{2} \\left( 1 + \\zeta \\rho (k - \\mu) \\sqrt{ (\\zeta(k-\\mu) + \\rho)^2 + 1 - \\rho^2} \\right)\n",
    "$$\n",
    "\n",
    "which is completely equivalent to the raw parametrisation with same $|\\rho| <1$:\n",
    "$$\n",
    "(a,b,m,\\sigma) =  \\left( \\Delta + \\frac{\\omega}{2}(1 - \\rho^2), \\frac{\\omega \\zeta}{2}, \\mu - \\frac{\\rho}{\\zeta}, \\frac{\\sqrt{1 - \\rho^2}}{\\zeta} \\right)\n",
    "$$\n",
    "and vice-versa: \n",
    "$$\n",
    "(\\Delta, \\mu, \\omega, \\zeta) = \\left(a - \\frac{\\omega}{2}(1-\\rho^2), m + \\frac{\\rho \\sigma}{\\sqrt{1 - \\rho^2}}, \\frac{2b\\sigma}{\\sqrt(1 - \\rho^2)}, \\frac{\\sqrt{1-\\rho^2}}{\\sigma}\\right)\n",
    "$$\n",
    "\n",
    "The main purpose for introducing this parametrisation, is that we obtain a good fit across tenors in terms of ATM total variance $\\theta_t = w^2(t, 0) \\cdot t$ for:\n",
    "$$\n",
    "\\zeta_t = \\eta \\theta_t^{\\lambda}, \\quad \\rho_t = \\alpha e^{-\\beta \\theta_t} + \\gamma\n",
    "$$\n",
    "with constants $\\lambda, \\eta, \\beta \\geq 0$, and $\\alpha, \\gamma$ s.t. $|\\rho| <1$.\n",
    "\n",
    "The SSVI parametrisation is given by:\n",
    "$$\n",
    "w(t,k) = \\frac{\\theta_t}{2} \\left(1 + \\rho_t \\zeta_t k + \\sqrt{(\\zeta_t k + \\rho_t)^2 + 1 - \\rho^2}  \\right)\n",
    "$$\n",
    "which corresponds to the natural parametrisation with $\\Delta, \\mu \\equiv 0$.\n",
    "\n",
    "The SSVI model is typically calibrated directly to delta space quotes. If such are unavailable, they are obtained first by calibrating SVI smiles tenor by tenor (which also provides initial values for SSVI parameters)."
   ]
  },
  {
   "cell_type": "code",
   "execution_count": null,
   "id": "1a97a1a1-0055-423f-804e-270bb0676a53",
   "metadata": {},
   "outputs": [],
   "source": [
    "import pyquant.svi\n",
    "from pyquant.svi import *"
   ]
  },
  {
   "cell_type": "code",
   "execution_count": null,
   "id": "2feaccb8-0345-4314-943d-d6de3979ab7e",
   "metadata": {},
   "outputs": [],
   "source": [
    "svi_calc = SVICalc()\n",
    "#T = 0.0001\n",
    "# set any value for maturity\n",
    "vol_smile_chain.T = butterfly_10.T\n",
    "# started params for calibration\n",
    "svi_calc.raw_cached_params"
   ]
  },
  {
   "cell_type": "code",
   "execution_count": null,
   "id": "f9432e5e-47ed-44dc-98be-8d19afaf10a5",
   "metadata": {},
   "outputs": [],
   "source": [
    "def get_svi_weights(vol_smile_chain):\n",
    "    \"\"\"\n",
    "    Generates weights which are bigger to the ATM\n",
    "    \"\"\"\n",
    "    lenght = len(vol_smile_chain.Ks)\n",
    "    middle = lenght//2\n",
    "    arr = np.ones(lenght)\n",
    "    \n",
    "    for i in range(middle):\n",
    "        arr[i] = i + 1\n",
    "\n",
    "    for i in range(middle, lenght):\n",
    "        arr[i] =  lenght - i + 1\n",
    "    return CalibrationWeights(arr)\n",
    "\n",
    "# ordinary variant with all weights equal\n",
    "# weights = CalibrationWeights(np.ones(len(vol_smile_chain.Ks)))\n",
    "\n",
    "weights = get_svi_weights(vol_smile_chain)\n",
    "\n",
    "# calibrate to market, caching params\n",
    "svi_calibrated_params, svi_error = svi_calc.calibrate(vol_smile_chain, weights, False, False) \n",
    "print(svi_error.v)\n",
    "svi_calibrated_params.array()"
   ]
  },
  {
   "cell_type": "code",
   "execution_count": null,
   "id": "7df0d85f-4d87-4dfc-a95c-1c556901cab7",
   "metadata": {},
   "outputs": [],
   "source": [
    "svi_test_iv = svi_calc.implied_vols(vol_smile_chain.forward(), test_strikes, svi_calibrated_params)\n",
    "svi_delta_space_chain = svi_calc.delta_space(vol_smile_chain.forward(), svi_calibrated_params).to_chain_space()\n",
    "print(\"Delta space spread:\", svi_delta_space_chain.strikes().data.max() - svi_delta_space_chain.strikes().data.min())\n",
    "svi_delta_space_chain.strikes().data"
   ]
  },
  {
   "cell_type": "code",
   "execution_count": null,
   "id": "8cd36c4c-ff9c-44d1-b933-7cd4345fffdc",
   "metadata": {},
   "outputs": [],
   "source": [
    "svi_calibrated_params_delta, __ = svi_calc.calibrate(svi_delta_space_chain, CalibrationWeights(np.ones(5)), False, True)\n",
    "\n",
    "# with small delta space, e.g. with T = 0.0001, even SABR might not be able to calibrate correctly\n",
    "print(\"Delta space params,\", svi_calibrated_params_delta.array())\n",
    "svi_test_iv_delta = svi_calc.implied_vols(vol_smile_chain.forward(), test_strikes, svi_calibrated_params_delta)"
   ]
  },
  {
   "cell_type": "code",
   "execution_count": null,
   "id": "46ea12f9-fe92-4a2c-ae6d-ba0ef73e139d",
   "metadata": {},
   "outputs": [],
   "source": [
    "_, __ = svi_calc.calibrate(vol_smile_chain, weights, True, False) # cache parameters\n",
    "svi_delta_space_chain_cached, __ = svi_calc.calibrate(vol_smile_chain, weights, False, False) \n",
    "svi_test_iv_delta_cached = svi_calc.implied_vols(vol_smile_chain.forward(), test_strikes, svi_delta_space_chain_cached)"
   ]
  },
  {
   "cell_type": "code",
   "execution_count": null,
   "id": "a281c984-95db-4175-99fe-a50cffefdd96",
   "metadata": {},
   "outputs": [],
   "source": [
    "plt.figure(figsize=(13, 7))\n",
    "plt.plot(strikes, 100*implied_vols, '.C3', markersize=20, label='Market')\n",
    "\n",
    "plt.plot(delta_space_chain.Ks, 100*delta_space_chain.sigmas, '.C1', markersize=20, label='SABR')\n",
    "plt.plot(test_strikes.data, 100*test_iv.data, 'C1')\n",
    "\n",
    "plt.plot(svi_delta_space_chain.Ks, 100*svi_delta_space_chain.sigmas, '.C2', markersize=20, label='SVI')\n",
    "plt.plot(test_strikes.data, 100*svi_test_iv.data, 'C2')\n",
    "plt.plot(test_strikes.data, 100*svi_test_iv_delta.data, 'C4', label='SVI-D')\n",
    "\n",
    "plt.title('SVI vs SABR Calibration', fontsize=15)\n",
    "plt.xlabel('Strikes', color='white', fontsize=15)\n",
    "plt.ylabel('IV(%)', color='white', fontsize=15)\n",
    "plt.grid()\n",
    "plt.legend(fontsize=10)\n",
    "plt.show()"
   ]
  },
  {
   "cell_type": "code",
   "execution_count": null,
   "id": "41638f1e-0621-48a6-bc9d-4ac7d22ebc95",
   "metadata": {},
   "outputs": [],
   "source": [
    "plt.figure(figsize=(18, 9))\n",
    "\n",
    "plt.plot(strikes, 100*implied_vols, '.C3', markersize=20, label='Market')\n",
    "plt.plot(test_strikes.data, 100*svi_test_iv.data, 'C2')\n",
    "\n",
    "\n",
    "plt.plot(test_strikes.data, \n",
    "         100*svi_calc.implied_vols(vol_smile_chain.forward(), test_strikes, svi_calibrated_params.scale_a(1.001)).data,\n",
    "         'C4', label='+/- a', alpha=0.6)\n",
    "\n",
    "\n",
    "plt.plot(test_strikes.data, \n",
    "         100*svi_calc.implied_vols(vol_smile_chain.forward(), test_strikes, svi_calibrated_params.scale_a(0.997)).data,\n",
    "         'C4', alpha=0.6)\n",
    "\n",
    "\n",
    "\n",
    "plt.plot(test_strikes.data, \n",
    "         100*svi_calc.implied_vols(vol_smile_chain.forward(), test_strikes, svi_calibrated_params.scale_b(1.001)).data,\n",
    "         'C5', label='+/- b', alpha=0.6)\n",
    "\n",
    "plt.plot(test_strikes.data, \n",
    "         100*svi_calc.implied_vols(vol_smile_chain.forward(), test_strikes, svi_calibrated_params.scale_b(0.9995)).data,\n",
    "         'C5', alpha=0.6)\n",
    "\n",
    "\n",
    "\n",
    "plt.plot(test_strikes.data, \n",
    "         100*svi_calc.implied_vols(vol_smile_chain.forward(), test_strikes, svi_calibrated_params.scale_rho(1.002)).data,\n",
    "         'C6', label='+/- rho', alpha=0.6)\n",
    "plt.plot(test_strikes.data, \n",
    "         100*svi_calc.implied_vols(vol_smile_chain.forward(), test_strikes, svi_calibrated_params.scale_rho(0.993)).data,\n",
    "         'C6', alpha=0.6)\n",
    "\n",
    "\n",
    "\n",
    "plt.plot(test_strikes.data, \n",
    "         100*svi_calc.implied_vols(vol_smile_chain.forward(), test_strikes, svi_calibrated_params.scale_m(1.02)).data,\n",
    "         'C7', label='+/- m', alpha=0.6)\n",
    "plt.plot(test_strikes.data, \n",
    "         100*svi_calc.implied_vols(vol_smile_chain.forward(), test_strikes, svi_calibrated_params.scale_m(0.99)).data,\n",
    "         'C7', alpha=0.6)\n",
    "\n",
    "plt.plot(test_strikes.data, \n",
    "         100*svi_calc.implied_vols(vol_smile_chain.forward(), test_strikes, svi_calibrated_params.scale_sigma(1.01)).data,\n",
    "         'C8', label='+/- sigma', alpha=0.6)\n",
    "plt.plot(test_strikes.data, \n",
    "         100*svi_calc.implied_vols(vol_smile_chain.forward(), test_strikes, svi_calibrated_params.scale_sigma(0.99)).data,\n",
    "         'C8', alpha=0.6)\n",
    "\n",
    "\n",
    "plt.title('SVI Calibration', fontsize=15)\n",
    "plt.xlabel('Strikes', color='white', fontsize=15)\n",
    "plt.ylabel('IV(%)', color='white', fontsize=15)\n",
    "plt.grid()\n",
    "plt.legend(fontsize=10)\n",
    "plt.show()"
   ]
  },
  {
   "cell_type": "code",
   "execution_count": null,
   "id": "84fca469",
   "metadata": {},
   "outputs": [],
   "source": [
    "# let's first calibrate to the biggest tau\n",
    "svi_calc.strike_lower = 0.01\n",
    "svi_calc.strike_upper = 100.\n",
    "svi_calc.raw_cached_params = np.array([10.0, 1.0, 0.0, 1.0, 1.0])\n",
    "svi_volsurface_delta = svi_calc.surface_to_delta_space(volsurface_chain)"
   ]
  },
  {
   "cell_type": "code",
   "execution_count": null,
   "id": "f629b123-f126-4f6a-bcaf-6d36f95476b3",
   "metadata": {},
   "outputs": [],
   "source": [
    "fig, ax1 = plt.subplots(figsize=(13, 7))\n",
    "\n",
    "ax1.set_ylabel('Forward Yield', color='C0') \n",
    "ax1.set_xlabel('Time to Maturity (T)')\n",
    "ax1.plot(test_T, test_fwd, 'C0')\n",
    "ax1.tick_params(axis='y', labelcolor='C0')\n",
    "\n",
    "ax2 = ax1.twinx() \n",
    "ax2.plot(test_T, svi_volsurface_delta.atm_quotes(TimesToMaturity(test_T)).data , 'C1', label='ATM')\n",
    "ax2.plot(test_T, test_T*svi_volsurface_delta.atm_quotes(TimesToMaturity(test_T)).data**2, 'C2', label='ATM TOT VAR')\n",
    "ax2.plot(test_T, svi_volsurface_delta.rr25_quotes(TimesToMaturity(test_T)).data, 'C3', label='RR25')\n",
    "ax2.plot(test_T, svi_volsurface_delta.bf25_quotes(TimesToMaturity(test_T)).data, 'C4', label='BF25')\n",
    "ax2.plot(test_T, svi_volsurface_delta.rr10_quotes(TimesToMaturity(test_T)).data, 'C5', label='RR10')\n",
    "ax2.plot(test_T, svi_volsurface_delta.bf10_quotes(TimesToMaturity(test_T)).data, 'C6', label='BF10')\n",
    "\n",
    "plt.title('Delta Space SVI Vol Surface', fontsize=15)\n",
    "fig.tight_layout()\n",
    "plt.legend()\n",
    "plt.show()"
   ]
  },
  {
   "cell_type": "code",
   "execution_count": null,
   "id": "5798123c-1c6f-466d-85fc-50e07a9c4b48",
   "metadata": {},
   "outputs": [],
   "source": [
    "svi_calc.raw_cached_params = np.array([0. , 0.1, 0. , 1. , 0.1])\n",
    "svi_test_ivs = svi_calc.surface_grid_ivs(svi_volsurface_delta, Strikes(test_K), TimesToMaturity(test_T)).data"
   ]
  },
  {
   "cell_type": "code",
   "execution_count": null,
   "id": "9afd0507-f737-44a4-a0cd-21e67d9bef74",
   "metadata": {},
   "outputs": [],
   "source": [
    "fig = go.Figure(data=[go.Surface(z=svi_test_ivs.reshape(len(test_K), len(test_T)), x=test_grid_K, y=test_grid_T, colorscale='turbo'),\n",
    "                      go.Scatter3d(z=volsurface_chain.sigmas, x=volsurface_chain.Ks, y=volsurface_chain.Ts, mode='markers')\n",
    "                     ])\n",
    "fig.update_layout(title='SVI Volatility Surface', template=\"plotly_dark\", width=1000, height=1000)\n",
    "fig.update_scenes(xaxis_title_text='strike',\n",
    "                  yaxis_title_text='time to maturity',\n",
    "                  zaxis_title_text='implied vol')\n",
    "fig.show()"
   ]
  },
  {
   "cell_type": "code",
   "execution_count": null,
   "id": "c026c63e-fcc8-45cd-8adf-f6303fd48066",
   "metadata": {},
   "outputs": [],
   "source": [
    "ttm = ttms.data[1]\n",
    "smileT = volsurface_chain.get_vol_smile(TimeToMaturity(ttm))\n",
    "\n",
    "# weights = CalibrationWeights(np.ones_like(smileT.Ks))\n",
    "weights = get_svi_weights(smileT)\n",
    "\n",
    "calibrated_paramsT, errorT = svi_calc.calibrate(smileT, weights)\n",
    "testK = np.linspace(smileT.Ks[0], smileT.Ks[-1], num=100)\n",
    "test_ivI = svi_calc.implied_vols(smileT.forward(), Strikes(testK), calibrated_paramsT)\n",
    "\n",
    "plt.figure(figsize=(13, 7))\n",
    "plt.plot(smileT.Ks, 100*smileT.sigmas, '.C3', markersize=20,  label='market')\n",
    "\n",
    "plt.plot(testK, 100*test_ivI.data, 'C1', label='model')\n",
    "\n",
    "plt.title(f'SVI Calibration T={round(ttm, 4)}', fontsize=15)\n",
    "plt.xlabel('Strikes', color='white', fontsize=15)\n",
    "plt.ylabel('IV(%)', color='white', fontsize=15)\n",
    "plt.grid()\n",
    "plt.legend(fontsize=10)\n",
    "plt.show()"
   ]
  },
  {
   "cell_type": "code",
   "execution_count": null,
   "id": "b4550849-2035-4aae-82fc-0515b990bd2b",
   "metadata": {},
   "outputs": [],
   "source": [
    "def svi_risk(portfolio, vol_smile_chain, calibrated_params):\n",
    "    svi_calc = SVICalc()\n",
    "    svi_calc.raw_cached_params = np.array([1.0, 1.0, 0.0, 1.0, 1.0])\n",
    "    forward = vol_smile_chain.forward()\n",
    "    \n",
    "    ivs = svi_calc.implied_vols(forward, portfolio.strikes(), calibrated_params)\n",
    "    T = portfolio.T * np.ones_like(ivs.data)\n",
    "    \n",
    "    res_df = pd.DataFrame({\n",
    "        'present_value': svi_calc.premiums(forward, portfolio, calibrated_params).data,\n",
    "        'notional': portfolio.Ns,\n",
    "        'call': portfolio.is_call,\n",
    "        'strike': portfolio.Ks,\n",
    "        'ttm': T,\n",
    "        'implied_vol': ivs.data,\n",
    "        \n",
    "        'delta': svi_calc.deltas(forward, portfolio, calibrated_params).data,\n",
    "        'gamma': svi_calc.gammas(forward, portfolio, calibrated_params).data,\n",
    "\n",
    "        'a_atm_straddle': svi_calc.a_greeks(forward, portfolio, calibrated_params).data,\n",
    "        'blip_vega': svi_calc.blip_vegas(forward, portfolio, calibrated_params).data,\n",
    "\n",
    "        'rho_rega': svi_calc.rho_greeks(forward, portfolio, calibrated_params).data,\n",
    "        'blip_rega': svi_calc.blip_regas(forward, portfolio, calibrated_params).data,\n",
    "\n",
    "        'b_sega': svi_calc.b_greeks(forward, portfolio, calibrated_params).data,\n",
    "        'blip_sega': svi_calc.blip_segas(forward, portfolio, calibrated_params).data, \n",
    "\n",
    "        'sigma_smile': svi_calc.sigma_greeks(forward, portfolio, calibrated_params).data,\n",
    "\n",
    "        'm_moneyness': svi_calc.m_greeks(forward, portfolio, calibrated_params).data,\n",
    "    })\n",
    "    \n",
    "    return res_df, res_df.drop(columns=['notional','call','strike', 'ttm', 'implied_vol']).sum()\n",
    "\n",
    "leg_svi_risk_bf, total_svi_risk_bf = svi_risk(butterfly_10, vol_smile_chain, svi_calibrated_params)"
   ]
  },
  {
   "cell_type": "code",
   "execution_count": null,
   "id": "111b14bc-7a42-422e-a0dd-dc89b8d53485",
   "metadata": {},
   "outputs": [],
   "source": [
    "leg_svi_risk_bf"
   ]
  },
  {
   "cell_type": "code",
   "execution_count": null,
   "id": "463a784b-1589-4a46-a4b9-baa3813a12ca",
   "metadata": {},
   "outputs": [],
   "source": [
    "total_svi_risk_bf"
   ]
  },
  {
   "cell_type": "markdown",
   "id": "96a753be",
   "metadata": {},
   "source": [
    "### References\n",
    "* Hagan, P. S. et al. *Implied volatility formulas for Heston models.* Wilmott 2018.98 (2018)\n",
    "* Hagan, P.S., Lesniewski, A.S. and Woodward, D.E., *Managing vol surfaces*. Wilmott (93), pp.24-43, (2018)\n",
    "* Bartlett, B. *Hedging Under SABR Model.* Wilmott Magazine, (2006)\n",
    "* Oblój, J. *Fine-Tune Your Smile: Correction to Hagan et al*. preprint [arXiv:0708.0998](https://arxiv.org/abs/0708.0998) (2007)\n",
    "* Paulot, L. *Asymptotic implied volatility at the second order with application to the SABR model.* In Large Deviations and Asymptotic Methods in Finance (pp. 37-69). Springer, Cham. (2015)\n",
    "* Henry-Labordere, P. *A general asymptotic implied volatility for stochastic volatility models.* preprint [arXiv:cond-mat/0504317\n",
    "](http://arxiv.org/abs/cond-mat/0504317) (2005)\n",
    "* Cui, Y. et al. *Full and fast calibration of the Heston stochastic volatility model*, preprint [arXiv:1511.08718\n",
    "](https://arxiv.org/abs/1511.08718) (2016)\n",
    "* Gatheral, J. et al. *Arbitrage-free SVI volatility surfaces*, preprint [arXiv:1204.0646](https://arxiv.org/abs/1204.0646) (2013)"
   ]
  }
 ],
 "metadata": {
  "kernelspec": {
   "display_name": "Python 3 (ipykernel)",
   "language": "python",
   "name": "python3"
  },
  "language_info": {
   "codemirror_mode": {
    "name": "ipython",
    "version": 3
   },
   "file_extension": ".py",
   "mimetype": "text/x-python",
   "name": "python",
   "nbconvert_exporter": "python",
   "pygments_lexer": "ipython3",
   "version": "3.12.7"
  }
 },
 "nbformat": 4,
 "nbformat_minor": 5
}
