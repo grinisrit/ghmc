{
 "cells": [
  {
   "cell_type": "markdown",
   "id": "493c439e",
   "metadata": {},
   "source": [
    "<h1 style=\"text-align: center;\"><b>Heston model simulations</b></h1>\n",
    "\n",
    "### Maksim Sosnin, Roland Grinis, Ivan Novikov"
   ]
  },
  {
   "cell_type": "markdown",
   "id": "616dfcb4",
   "metadata": {},
   "source": [
    "Heston model is a stochastic volatility model for the forward dynamics in the risk neutral measure, and CIR dynamics for the variance:\n",
    "$$\n",
    "\\left\\{\n",
    "\\begin{array}{l}\n",
    "    \\text{d}X_t =  \\sqrt{V_t} X_t \\text{d}W_t^X,  \\\\\n",
    "    \\text{d}V_t =  \\kappa (\\theta - V_t)\\text{d}t + \\varepsilon \\sqrt{V_t} \\text{d} W_t^V,\n",
    "\\end{array}\\right.\n",
    "$$\n",
    "\n",
    "where underlying Brownian motions are correlated:\n",
    "$$ \\text{d} W_t^V = \\rho\\text{d}W_t^X + \\sqrt{1-\\rho^2} \\text{d}W_t,$$\n",
    "$$ -1 < \\rho < 1. $$"
   ]
  },
  {
   "cell_type": "markdown",
   "id": "4b0f4556",
   "metadata": {},
   "source": [
    "We can impose the Feller condition:\n",
    "$$\n",
    "2\\kappa\\theta > \\varepsilon ^2\n",
    "$$\n",
    "to ensure that the variance $V_t$ stays strictly positive. For real markets, Feller condition is hardly satisfied. For continious time, this is not an issue, because at the moment the variance reaches 0, it will instantly go away from 0. For discretization is requires special consideration for different schemes."
   ]
  },
  {
   "cell_type": "markdown",
   "id": "adb8496f-65cd-428b-ad08-4432a087a569",
   "metadata": {},
   "source": [
    "# Heston Simulation\n",
    "\n",
    "$$d \\ln X(t) = -\\frac{1}{2} V(t) dt + \\sqrt{V(t)} d W_X(t),$$\n",
    "\n",
    "$$d V(t) = \\kappa(\\theta-V(t)) dt + \\varepsilon \\sqrt{V(t)} d W_V(t),$$\n",
    "\n",
    "$$d W_X(t) d W_V(t) = \\rho dt.$$"
   ]
  },
  {
   "cell_type": "markdown",
   "id": "93cb949e",
   "metadata": {},
   "source": [
    "### Euler Discretization Scheme\n",
    "\n",
    "$$\n",
    "\\begin{aligned}\n",
    "\\ln \\hat{X}(t+\\Delta) & =\\ln \\hat{X}(t)-\\frac{1}{2} \\hat{V}(t) \\Delta+\\sqrt{\\hat{V}(t)} Z_X \\sqrt{\\Delta}, \\\\\n",
    "\\hat{V}(t+\\Delta) & =V(t)+\\kappa(\\theta-\\hat{V}(t)) \\Delta+\\varepsilon \\sqrt{\\hat{V}(t)} Z_V \\sqrt{\\Delta},\n",
    "\\end{aligned}\n",
    "$$\n",
    "\n",
    "where $Z_X$ and $Z_V$ are standardized Gaussian variables with correlation $\\rho$. So they can be computed as follows:\n",
    "\n",
    "$$\n",
    "\\begin{array}{l}\n",
    "    Z_V = \\Phi^{-1}\\left(U_1\\right), \\\\\n",
    "    Z_X = \\rho Z_V+\\sqrt{1-\\rho^2} \\Phi^{-1}\\left(U_2\\right),\n",
    "\\end{array}\n",
    "$$\n",
    "\n",
    "where $U_1$ and $U_2$ are independent uniform samples, and $Φ^{−1}$ is the inverse cumulative Gaussian distribution function.\n",
    "\n",
    "However, the discrete process for $V$ can become negative with non-zero probability, which in turn would make computation of $\\sqrt{\\hat{V}}$ impossible and cause the time-stepping scheme to fail. The scheme that appears to produce the smallest discretization bias can be written on the form:\n",
    "\n",
    "$$\n",
    "\\begin{aligned}\n",
    "\\ln \\hat{X}(t+\\Delta) & =\\ln \\hat{X}(t)-\\frac{1}{2} \\hat{V}(t)^{+} \\Delta+\\sqrt{\\hat{V}(t)^{+}} Z_X \\sqrt{\\Delta} \\\\\n",
    "\\hat{V}(t+\\Delta) & =\\hat{V}(t)+\\kappa\\left(\\theta-\\hat{V}(t)^{+}\\right) \\Delta+\\varepsilon \\sqrt{\\hat{V}(t)^{+}} Z_V \\sqrt{\\Delta},\n",
    "\\end{aligned}\n",
    "$$\n",
    "where we use the notation $x^{+}=\\max (x, 0)$."
   ]
  },
  {
   "cell_type": "markdown",
   "id": "dea0534e",
   "metadata": {},
   "source": [
    "### Bias free Scheme\n",
    "\n",
    "To obtain a bias-free scheme for sampling the asset price process, first integrate the SDE for $V(t)$, to yield\n",
    "$$\n",
    "V(t+\\Delta)=V(t)+\\int_t^{t+\\Delta} \\kappa(\\theta-V(u)) d u+\\varepsilon \\int_t^{t+\\Delta} \\sqrt{V(u)} d W_V(u)\n",
    "$$\n",
    "or, equivalently,\n",
    "$$\n",
    "\\int_t^{t+\\Delta} \\sqrt{V(u)} d W_V(u)=\\varepsilon^{-1}\\left(V(t+\\Delta)-V(t)-\\kappa \\theta \\Delta+\\kappa \\int_t^{t+\\Delta} V(u) d u\\right)\n",
    "$$\n",
    "A Cholesky decomposition shows that\n",
    "$$\n",
    "d \\ln X(t)=-\\frac{1}{2} V(t) d t+\\rho \\sqrt{V(u)} d W_V(u)+\\sqrt{1-\\rho^2} \\sqrt{V(u)} d W(u)\n",
    "$$\n",
    "where $W$ is a Brownian motion independent of $W_V$. In integral form,\n",
    "$$\n",
    "\\begin{aligned}\n",
    "\\ln X(t+\\Delta)=\\ln X(t)+\\frac{\\rho}{\\varepsilon} & (V(t+\\Delta)-V(t)-\\kappa \\theta \\Delta) \\\\\n",
    "& +\\left(\\frac{\\kappa \\rho}{\\varepsilon}-\\frac{1}{2}\\right) \\int_t^{t+\\Delta} V(u) d u+\\sqrt{1-\\rho^2} \\int_t^{t+\\Delta} \\sqrt{V(u)} d W(u)\n",
    "\\end{aligned}\n",
    "$$\n",
    "\n",
    "As $W$ is independent of $V$, conditional on $V(t)$ and $\\int_t^{t+\\Delta} V(u) d u$, the Ito integral $\\int_t^{t+\\Delta} \\sqrt{V(u)} d W(u)$ is Gaussian with mean zero and variance $\\int_t^{t+\\Delta} V(u) d u$."
   ]
  },
  {
   "cell_type": "markdown",
   "id": "662ebf2c",
   "metadata": {},
   "source": [
    "### Process for $V$ (CIR)\n",
    "\n",
    "Non-central chi-squared distribution:\n",
    "$$\n",
    "\\mathbb{P}\\left(V_{t + \\Delta}<V \\mid V_{t}\\right) \\quad = \\quad F_{\\chi'^{2}}\\left(\\frac{4 \\kappa V}{\\varepsilon^{2}\\left(1-e^{-\\kappa \\Delta}\\right)} ; \\frac{4 \\kappa \\theta}{\\varepsilon^{2}}, \\frac{4 V_{t} \\kappa e^{-\\kappa \\Delta}}{\\varepsilon^{2}\\left(1-e^{-\\kappa \\Delta}\\right)}\\right) \\quad\n",
    "$$\n",
    "\n",
    "\n",
    "$$\n",
    "\\begin{aligned}\n",
    "m = \\mathbb{E}\\left( V_{t+\\Delta} \\mid V_t \\right) \\quad & = \\quad \\theta+(\\hat{V}(t)-\\theta) e^{-\\kappa \\Delta} \\\\\n",
    "s^2 = Var\\left( V_{t+\\Delta} \\mid V_t \\right) \\quad & = \\quad \\frac{\\hat{V}(t) \\varepsilon^2 e^{-\\kappa \\Delta}}{\\kappa}\\left(1-e^{-\\kappa \\Delta}\\right)+\\frac{\\theta \\varepsilon^2}{2 \\kappa}\\left(1-e^{-\\kappa \\Delta}\\right)^2\n",
    "\\end{aligned}\n",
    "$$\n"
   ]
  },
  {
   "cell_type": "markdown",
   "id": "f40ec8e9",
   "metadata": {},
   "source": [
    "### Quadratic exponential (QE) approximation\n",
    "\n",
    "Switching rule:\n",
    "- $ V_t \\gg 1: \\quad V_{t+\\Delta} \\approx a \\left( b + Z_V \\right)^2,\\quad \\text{where } Z_V \\sim \\mathcal{N}(0,1).$\n",
    "- $V_t \\ll 1: \\quad f_{V_{t+\\Delta}}(v) \\approx p \\delta(v) + \\beta(1-\\rho) e^{-\\beta v}.$\n",
    "\n",
    "Fast sampling for PDF $f_{V_{t+\\Delta}}(v)$:\n",
    "$$\n",
    "\\begin{aligned}\n",
    "F_{V_{t+\\Delta}}^{-1}(u) & \\approx\\left\\{\n",
    "    \\begin{array}{l}\n",
    "        0,\\ \\ 0 \\leq u \\leq p, \\\\\n",
    "        \\beta^{-1} \\ln \\left(\\frac{1-p}{1-u}\\right),\\ \\ p \\leq u \\leq 1,\n",
    "    \\end{array}\\right. \\\\\n",
    "\\end{aligned}\n",
    "$$\n",
    "where $u \\sim \\mathcal{U}[0,1]$ – uniform."
   ]
  },
  {
   "cell_type": "markdown",
   "id": "7d6ad886",
   "metadata": {},
   "source": [
    "### Generating random numbers\n",
    "\n",
    "Pseudo-random integers:\n",
    "$$\n",
    "0 \\leq N_k \\leq N, \\quad \\quad N_{k+1} = f(N_k) \\equiv N\n",
    "$$\n",
    "\n",
    "$$\n",
    "u \\sim \\mathcal{U}[0,1], \\quad \\quad u_k = \\frac{N_k}{N}.\n",
    "$$\n",
    "\n",
    "Box-Muller method:\n",
    "$$ u_1 u_2 \\sim \\mathcal{U}[0,1] \\quad \\theta = 2\\pi u_2 \\quad p = \\sqrt{-2 \\ln{u_1}} $$\n",
    "\n",
    "$$ Z_1 = p\\cos{\\theta} $$\n",
    "$$ Z_2 = p\\sin{\\theta} $$\n",
    "Then $Z_1$ and $Z_2$ are independent random variables with a standard normal distribution $\\mathcal{N}(0,1).$\n"
   ]
  },
  {
   "cell_type": "markdown",
   "id": "9132605d",
   "metadata": {},
   "source": [
    "### Computing parameters $(a,\\ b,\\ p,\\ \\beta)$\n",
    "\n",
    "$\\psi \\equiv \\frac{S^{2}}{m^{2}} \\quad \\text { if } \\psi \\leqslant 2$:\n",
    "$$\n",
    "\\begin{array}{l}\n",
    "b^{2}=2 \\psi^{-1}-1+\\sqrt{2 \\psi^{-1}} \\sqrt{2 \\psi^{-1}-1} \\geq 0 \\\\\n",
    "a=\\frac{m}{1+b^{2}} \\\\\n",
    "\\implies \\text {2nd moment matches.}\n",
    "\\end{array}\n",
    "$$\n",
    "\n",
    "if $\\psi \\geqslant 1$:\n",
    "$$\n",
    "\\begin{array}{l}\n",
    "p=\\frac{\\psi-1}{\\psi+2} \\in[0,1) \\\\\n",
    "\\beta=\\frac{1-p}{m}=\\frac{2}{m(1+\\psi)} \\\\\n",
    "\\implies \\text {moment matching at order 2.}\n",
    "\\end{array}\n",
    "$$\n",
    "\n",
    "Switching rule: $\\psi_{c} \\in [1,2]$, e.g. $\\psi = 1.5$."
   ]
  },
  {
   "cell_type": "markdown",
   "id": "8aeba1ca",
   "metadata": {},
   "source": [
    "### Moment matching technique\n",
    "\n",
    "$$\n",
    "\\begin{array}{l}\n",
    "Y_{t_{j+1}}^{k}=\\hat{V}_{t_{j+1}}^{k}-\\hat{V}_{t_{j}}^{k}, \\quad \\Delta_{j}=t_{j+1}-t_{j}, \\quad \\hat{V}_{t_{N}}^{k}=\\sum_{j=1}^{N} \\hat{Y}_{t_{j}}^{k} \\\\\n",
    "\\Delta=t_{N}-t_{0} ; \\quad k=1, \\ldots, M \\\\\n",
    "\\hat{m}_{T}=\\frac{1}{M} \\sum_{k} \\hat{V}_{t_{N}}^{k} \\\\\n",
    "\\hat{S}_{T}^{2}=\\frac{1}{M-1} \\sum_{k}\\left(\\hat{V}_{t_{N}}^{k}-\\hat{m}\\right)^{2}\n",
    "\\end{array}\n",
    "$$\n",
    "\n",
    "$$\n",
    "\\begin{array}{l}\n",
    "\\hat{m}_{T} = M_T \\quad \\quad m_T = \\mathbb{E}[V_T \\mid V_{t_0}] \\\\\n",
    "\\hat{S}^{2}_T = S^{2}_T \\quad \\quad S^{2}_T = Var[V_T \\mid V_{t_0}] \\\\\n",
    "\\implies V^{k}_T = m_T + \\frac{S_T}{\\hat{S}_T} (\\hat{V}^{k}_T - \\hat{m}_T) = \\sum_{j=1}^{N} \\left(\\frac{m_T}{N} + \\frac{S_T}{\\hat{S}_T} \\left(\\hat{Y}^{k}_{t_j} - \\frac{m_T}{N}\\right)\\right).\n",
    "\\end{array}\n",
    "$$\n"
   ]
  },
  {
   "cell_type": "markdown",
   "id": "bc230253",
   "metadata": {},
   "source": [
    "### Simulating $\\ln{X_{t+\\Delta}}$\n",
    "\n",
    "Euler Scheme for $\\ln{X_{t+\\Delta}}$ with QE sampling for $V_{t+\\Delta}$ leads to **correlation leaks**.\n",
    "\n",
    "We use approximation\n",
    "$$\n",
    "\\begin{array}{l}\n",
    " \\int_{t}^{t+\\Delta} V_{u} d u \\approx \\Delta \\left[\\gamma_{1}V_{t} + \\gamma_{2}V_{t+\\Delta}\\right],\n",
    "\\end{array}\n",
    "$$\n",
    "where\n",
    "\n",
    "$$\n",
    "\\begin{array}{l}\n",
    "    \\gamma_{1} + \\gamma_{2} = 1 \\\\\n",
    "    \\gamma_{1}, \\gamma_{2} \\geq 0,\n",
    "\\end{array}\n",
    "$$\n",
    "\n",
    "satisfying the regularity condition:\n",
    "$$\n",
    "\\mathbb{E}\\left(X_{t + \\Delta} \\mid X_{t}\\right)<\\infty \\Longrightarrow \\frac{\\rho}{\\varepsilon}\\left(1+\\kappa \\gamma_{2} \\Delta\\right)-\\frac{1}{2} \\gamma_{2} \\Delta \\rho^{2}<\\frac{2 \\kappa}{\\varepsilon^{2} (1-e^{-\\kappa \\Delta})}.\n",
    "$$\n",
    "\n",
    "We use discretization scheme\n",
    "$$\n",
    "\\begin{aligned}\n",
    "\\ln \\hat{X}(t+\\Delta)= & \\ln \\hat{X}(t) + \\frac{\\rho}{\\varepsilon} \\left( \\hat{V}(t+\\Delta) - \\hat{V}(t)-\\kappa \\theta \\Delta \\right)+\\Delta\\left(\\frac{\\kappa \\rho}{\\varepsilon}-\\frac{1}{2}\\right)\\left(\\gamma_1 \\hat{V}(t)+\\gamma_2 \\hat{V}(t+\\Delta)\\right) \\\\\n",
    "& +\\sqrt{\\Delta} \\sqrt{1-\\rho^2} \\sqrt{\\gamma_1 \\hat{V}(t)+\\gamma_2 \\hat{V}(t+\\Delta)} \\cdot Z \\\\\n",
    "= & \\ln \\hat{X}(t)+K_0+K_1 \\hat{V}(t)+K_2 \\hat{V}(t+\\Delta)+\\sqrt{K_3 \\hat{V}(t)+K_4 \\hat{V}(t+\\Delta)} \\cdot Z,\n",
    "\\end{aligned}\n",
    "$$\n",
    "where $Z$ is a standard Gaussian random variable, independent of $\\hat{V}$, and $K_0, \\ldots, K_4$ are given by\n",
    "$$\n",
    "\\begin{aligned}\n",
    "& K_0=-\\frac{\\rho \\kappa \\theta}{\\varepsilon} \\Delta, \\quad K_1=\\gamma_1 \\Delta\\left(\\frac{\\kappa \\rho}{\\varepsilon}-\\frac{1}{2}\\right)-\\frac{\\rho}{\\varepsilon}, \\\\\n",
    "& K_2=\\gamma_2 \\Delta\\left(\\frac{\\kappa \\rho}{\\varepsilon}-\\frac{1}{2}\\right)+\\frac{\\rho}{\\varepsilon}, \\quad K_3=\\gamma_1 \\Delta\\left(1-\\rho^2\\right), \\quad K_4=\\gamma_2 \\Delta\\left(1-\\rho^2\\right) .\n",
    "\\end{aligned}\n",
    "$$\n",
    "\n",
    "If we add drift to the Heston model:\n",
    "$$\n",
    "    \\text{d}X_t = \\mu X_t \\text{d}t + \\sqrt{V_t} X_t \\text{d}W_t^X,  \\\\\n",
    "$$\n",
    "\n",
    "the term $\\mu \\Delta$ is added to $\\ln \\hat{X}(t+\\Delta)$."
   ]
  },
  {
   "cell_type": "markdown",
   "id": "d92486a5",
   "metadata": {},
   "source": [
    "\n",
    "### Enforcing Martingale property $\\mathbb{E}\\left(X_{t+\\Delta} \\mid X_{t}\\right)=X_{t} $\n",
    "Instead of $K_0$, use\n",
    "\n",
    "$$\n",
    "\\begin{array}{l}\n",
    "K_{0}^{*} = \\left\\{\n",
    "    \\begin{array}{l}\n",
    "        -\\frac{A b^{2} a}{1-2 A a}+\\frac{1}{2} \\ln (1-2 A a)-\\left(K_{1}+\\frac{1}{2} \\Delta \\gamma_1\\right), \\quad \\psi \\leq \\psi_{c} \\\\\n",
    "        -\\ln \\left(\\frac{\\beta(1-\\rho)}{\\beta-A}\\right)-\\left(K_{1}+\\frac{1}{2} \\Delta \\gamma_{1}\\right), \\quad \\psi > \\psi_{c}, \\\\\n",
    "    \\end{array}\\right.\n",
    "\\end{array}\n",
    "$$\n",
    "\n",
    "where\n",
    "\n",
    "$$\n",
    "A=\\frac{\\rho}{\\varepsilon^{2}}\\left(1+\\kappa \\gamma_{2} \\Delta\\right)-\\frac{1}{2} \\gamma_{2} \\Delta\\rho^{2}.\n",
    "$$"
   ]
  },
  {
   "cell_type": "markdown",
   "id": "542c1aa6",
   "metadata": {},
   "source": [
    "### Variance reduction: antithetic variates\n",
    "\n",
    "$$\n",
    "\\begin{array}{l}\n",
    "u \\sim \\mathcal{U}(0,1) \\longrightarrow 1-u \\sim \\mathcal{U}(0,1) \\longrightarrow \\hat{V}=\\mathbb{E}\\left[P\\left(V_{T}\\right)\\right] \\\\\n",
    "Z \\sim \\mathcal{N}(0,1) \\longrightarrow-Z \\sim \\mathcal{N}(0,1) \\longrightarrow V^{-} \\\\\n",
    "V_{A V}=\\frac{1}{2}\\left(\\hat{V}+V^{-}\\right) \\\\\n",
    "\\operatorname{Var}\\left[V_{A V}\\right]=\\frac{1}{4} \\operatorname{Var}\\left[\\hat{V}+V^{-}\\right]=\\frac{1}{4} \\operatorname{Var} \\hat{V}+\\frac{1}{4} \\operatorname{Var} V^{-}+\\frac{1}{2} \\operatorname{Cov}\\left(\\hat{V}, V^{-}\\right) \\\\\n",
    "\\left|\\operatorname{cov}\\left(\\hat{V}, V^{-}\\right)\\right| \\leqslant \\frac{1}{2} \\operatorname{Var} \\hat{V}+\\frac{1}{2} \\operatorname{Var} V^{-} \\Rightarrow \\\\\n",
    " \\Rightarrow \\operatorname{Var V}_{A V} \\leqslant \\operatorname{Var} \\hat{V} \\text{ - negative correlation effect for antithetics}\n",
    "\\end{array}\n",
    "$$\n",
    "\n",
    "### Variance reduction: control variates\n",
    "$$\n",
    "\\begin{array}{l}\n",
    "\\hat{V} = \\mathbb{E}[P(V_T)] \\\\\n",
    "\\text{C – analytic formula (like a vanilla call)} \\\\\n",
    "\\hat{C} = \\mathbb{E}[P_C(V_T)] \\\\\n",
    "V = \\hat{V} + \\alpha (C - \\hat{C}) \\\\\n",
    "\\end{array}\n",
    "$$\n"
   ]
  },
  {
   "cell_type": "markdown",
   "id": "fb3c5830",
   "metadata": {},
   "source": [
    "---"
   ]
  },
  {
   "cell_type": "markdown",
   "id": "8f5a2914",
   "metadata": {},
   "source": [
    "We provide two identical implementations in Python and C++. Throughout this notebook we will use the Python implementation.\n",
    "\n",
    "The C++ source code is located in `src/noa/quant/heston_sim.hh` and can be loaded as a pytorch extension."
   ]
  },
  {
   "cell_type": "code",
   "execution_count": 1,
   "id": "00476fae",
   "metadata": {
    "ExecuteTime": {
     "end_time": "2024-01-25T16:14:38.014291381Z",
     "start_time": "2024-01-25T16:14:35.897922528Z"
    }
   },
   "outputs": [],
   "source": [
    "%load_ext autoreload\n",
    "%autoreload 2\n",
    "\n",
    "import torch\n",
    "import matplotlib.pyplot as plt\n",
    "import pandas as pd\n",
    "from tqdm.auto import tqdm\n",
    "\n",
    "from pyquant.heston_sim import *\n",
    "from pyquant.heston import *\n",
    "from pyquant.common import *\n",
    "\n",
    "pd.set_option('display.expand_frame_repr', False)\n",
    "pd.set_option(\"display.precision\", 3)"
   ]
  },
  {
   "cell_type": "code",
   "execution_count": 2,
   "id": "a1bef3c5",
   "metadata": {
    "ExecuteTime": {
     "end_time": "2024-01-25T16:14:38.062569150Z",
     "start_time": "2024-01-25T16:14:38.057474936Z"
    }
   },
   "outputs": [],
   "source": [
    "KAPPA = torch.tensor([1.2], dtype=torch.double)\n",
    "THETA = torch.tensor([0.066], dtype=torch.double)\n",
    "EPS   = torch.tensor([0.592], dtype=torch.double)\n",
    "RHO   = torch.tensor([-0.65], dtype=torch.double)\n",
    "\n",
    "RATE = torch.tensor([0.03], dtype=torch.double)\n",
    "\n",
    "S0 = torch.tensor([100], requires_grad=True, dtype=torch.double)\n",
    "V0 = torch.tensor([0.066], requires_grad=True, dtype=torch.double)\n",
    "\n",
    "N_PATHS = 2_000_000\n",
    "DT = 45 / 365  # later we will use maturities with step 45/365\n",
    "N_STEPS = round(1/DT * 1.47945)  # latest maturity we will have is 1.47945"
   ]
  },
  {
   "cell_type": "code",
   "execution_count": 3,
   "id": "ae1569bf38103a04",
   "metadata": {
    "ExecuteTime": {
     "end_time": "2024-01-25T16:14:38.080675449Z",
     "start_time": "2024-01-25T16:14:38.057861088Z"
    },
    "collapsed": false,
    "jupyter": {
     "outputs_hidden": false
    }
   },
   "outputs": [
    {
     "name": "stdout",
     "output_type": "stream",
     "text": [
      "DT: 0.1232876712328767\n",
      "N_STEPS: 12\n"
     ]
    }
   ],
   "source": [
    "print(f'DT: {DT}')\n",
    "print(f'N_STEPS: {N_STEPS}')"
   ]
  },
  {
   "cell_type": "code",
   "execution_count": 4,
   "id": "d2c71071",
   "metadata": {
    "ExecuteTime": {
     "end_time": "2024-01-25T16:14:38.120356309Z",
     "start_time": "2024-01-25T16:14:38.067592933Z"
    }
   },
   "outputs": [
    {
     "name": "stdout",
     "output_type": "stream",
     "text": [
      "Feller condition (2κθ > ε²) satisfied: False\n",
      "2κθ = 0.1584\n",
      "ε² = 0.35046399999999994\n"
     ]
    }
   ],
   "source": [
    "print('Feller condition (2κθ > ε²) satisfied:', (2 * KAPPA * THETA > EPS ** 2).item())\n",
    "print('2κθ =', (2 * KAPPA * THETA).item())\n",
    "print('ε² =', (EPS ** 2).item())"
   ]
  },
  {
   "cell_type": "markdown",
   "id": "48dc96ca",
   "metadata": {},
   "source": [
    "# Heston and CIR process simulation"
   ]
  },
  {
   "cell_type": "code",
   "execution_count": 5,
   "id": "612cec433e9469b5",
   "metadata": {
    "ExecuteTime": {
     "end_time": "2024-01-25T16:14:38.514484604Z",
     "start_time": "2024-01-25T16:14:38.097003199Z"
    },
    "collapsed": false,
    "jupyter": {
     "outputs_hidden": false
    }
   },
   "outputs": [],
   "source": [
    "N_PATHS_EXAMPLE = 10\n",
    "DT_EXAMPLE = 1/365\n",
    "N_STEPS_EXAMPLE = round(1/DT_EXAMPLE) * 2  # 2 years\n",
    "\n",
    "init_state_price = S0 * torch.ones(N_PATHS_EXAMPLE, dtype=torch.double)\n",
    "init_state_var = V0 * torch.ones(N_PATHS_EXAMPLE, dtype=torch.double)\n",
    "heston_paths, var_paths = generate_heston(\n",
    "    N_PATHS_EXAMPLE, N_STEPS_EXAMPLE, DT_EXAMPLE, init_state_price, init_state_var,\n",
    "    KAPPA, THETA, EPS, RHO, RATE)"
   ]
  },
  {
   "cell_type": "code",
   "execution_count": 6,
   "id": "d20b0cc0",
   "metadata": {
    "ExecuteTime": {
     "end_time": "2024-01-25T16:14:38.561565113Z",
     "start_time": "2024-01-25T16:14:38.514371012Z"
    }
   },
   "outputs": [],
   "source": [
    "def plot_heston(i):\n",
    "    time = torch.linspace(0, N_STEPS_EXAMPLE * DT_EXAMPLE, N_STEPS_EXAMPLE + 1)\n",
    "    plt.plot(time, heston_paths[i].detach().numpy())\n",
    "    plt.ylabel('S')\n",
    "    plt.xlabel('Time')\n",
    "    plt.show()\n",
    "\n",
    "    plt.plot(time, var_paths[i].detach().numpy())\n",
    "    plt.axhline(THETA.item(), ls='--', label='θ', lw=1, c='darkred')\n",
    "    plt.ylabel('Variance (CIR process)')\n",
    "    plt.xlabel('Time')\n",
    "    plt.legend()\n",
    "    plt.show()"
   ]
  },
  {
   "cell_type": "code",
   "execution_count": 7,
   "id": "fcd4666b0b9a805e",
   "metadata": {
    "ExecuteTime": {
     "end_time": "2024-01-25T16:14:38.785427769Z",
     "start_time": "2024-01-25T16:14:38.538707481Z"
    },
    "collapsed": false,
    "jupyter": {
     "outputs_hidden": false
    }
   },
   "outputs": [
    {
     "data": {
      "image/png": "[encoded data removed]",
      "text/plain": [
       "<Figure size 640x480 with 1 Axes>"
      ]
     },
     "metadata": {},
     "output_type": "display_data"
    },
    {
     "data": {
      "image/png": "[encoded data removed]",
      "text/plain": [
       "<Figure size 640x480 with 1 Axes>"
      ]
     },
     "metadata": {},
     "output_type": "display_data"
    }
   ],
   "source": [
    "plot_heston(0)"
   ]
  },
  {
   "cell_type": "markdown",
   "id": "8d7b950a10c2c661",
   "metadata": {
    "collapsed": false,
    "jupyter": {
     "outputs_hidden": false
    }
   },
   "source": [
    "\n",
    "For further usage, let's generate more trajectories but with bigger time step. This time we will set the value of `minimum_var` parameter of `generate_heston()` function in order to compute the vega Greek with automatic differentiation (autograd) later on."
   ]
  },
  {
   "cell_type": "code",
   "execution_count": 8,
   "id": "12978b86d7909b19",
   "metadata": {
    "ExecuteTime": {
     "end_time": "2024-01-25T16:14:39.002579785Z",
     "start_time": "2024-01-25T16:14:38.787230503Z"
    },
    "collapsed": false,
    "jupyter": {
     "outputs_hidden": false
    }
   },
   "outputs": [],
   "source": [
    "init_state_price = S0 * torch.ones(N_PATHS, dtype=torch.double)\n",
    "init_state_var = V0 * torch.ones(N_PATHS, dtype=torch.double)\n",
    "heston_paths, var_paths = generate_heston(\n",
    "    N_PATHS, N_STEPS, DT, init_state_price, init_state_var,\n",
    "    KAPPA, THETA, EPS, RHO, RATE, minimum_var=0.005)"
   ]
  },
  {
   "cell_type": "markdown",
   "id": "c17bf9c6",
   "metadata": {},
   "source": [
    "# Monte-Carlo pricing of European options\n",
    "\n",
    "By the principle of risk-neutral valuation, the present value of a derivative contract with possibly path-dependent payoff $\\mathcal{P}$ is given by discounted expectation of the payoff:\n",
    "\n",
    "$$\n",
    "V(S_0, 0) = e^{-rT} \\cdot \\mathbb{E}_Q[\\mathcal{P}\\, |\\, S_t\\ \\text{starting from}\\ S_0],\n",
    "$$\n",
    "\n",
    "where $S_t$ is the price of the underlying asset at time $t$, $V(S_t, t)$ is the value of a contract, $\\mathbb{E}_Q$ is the expectation under a risk-neutral measure (see `introduction.ipynb`, section \"Risk Neutral Valuation\").\n",
    "\n",
    "The idea of Monte-Carlo pricing is to simulate a big number of paths of the underlying asset and estimate $\\mathbb{E}_Q$ as the mean of the payoffs.\n",
    "\n",
    "We use PyTorch for all mathematical operations in simulation algorithm, so we can in fact apply autograd to the calculated price in order to compute the Greeks for arbitrary derivatives. We will demonstrate this in the following sections."
   ]
  },
  {
   "cell_type": "code",
   "execution_count": 9,
   "id": "69eae0d5",
   "metadata": {
    "ExecuteTime": {
     "end_time": "2024-01-25T16:14:39.049051885Z",
     "start_time": "2024-01-25T16:14:39.004144794Z"
    }
   },
   "outputs": [],
   "source": [
    "time_arr = np.linspace(0, N_STEPS * DT, N_STEPS + 1)"
   ]
  },
  {
   "cell_type": "code",
   "execution_count": 10,
   "id": "c6d38981",
   "metadata": {
    "ExecuteTime": {
     "end_time": "2024-01-25T16:14:39.069181831Z",
     "start_time": "2024-01-25T16:14:39.037333031Z"
    }
   },
   "outputs": [],
   "source": [
    "# list of strikes from code in supplementary materials to [Cui2017]\n",
    "strike_arr = [\n",
    "    0.6137, 0.6699, 0.7216, 0.7470, 0.7760, 0.8112, 0.8603, 0.9025,\n",
    "    0.9175, 0.9358, 0.9371, 0.9464, 0.9588, 0.9728, 0.9868, 0.9956,\n",
    "    1.0427, 1.0463, 1.0499, 1.0530, 1.0562, 1.0593, 1.0663, 1.0766,\n",
    "    1.2287, 1.2399, 1.2485, 1.2659, 1.2646, 1.2715, 1.2859, 1.3046,\n",
    "    1.3939, 1.4102, 1.4291, 1.4456, 1.4603, 1.4736, 1.5005, 1.5328]\n",
    "strike_arr = [k * S0.item() for k in strike_arr]\n",
    "\n",
    "# list of maturities\n",
    "maturity_arr = 5 * [x / 365 for x in [45., 90., 135., 180., 225., 270., 405., 540.]]\n",
    "\n",
    "assert len(strike_arr) == len(maturity_arr)"
   ]
  },
  {
   "cell_type": "markdown",
   "id": "e5f067693b187a4",
   "metadata": {
    "collapsed": false,
    "jupyter": {
     "outputs_hidden": false
    }
   },
   "source": [
    "## Vanilla Call Option"
   ]
  },
  {
   "cell_type": "code",
   "execution_count": 11,
   "id": "b91c790b",
   "metadata": {
    "ExecuteTime": {
     "end_time": "2024-01-25T16:14:39.089185592Z",
     "start_time": "2024-01-25T16:14:39.062803613Z"
    }
   },
   "outputs": [],
   "source": [
    "def call_payoff(S, K):\n",
    "    return torch.maximum(S - K, torch.zeros_like(S))"
   ]
  },
  {
   "cell_type": "code",
   "execution_count": 12,
   "id": "fd516c61",
   "metadata": {
    "ExecuteTime": {
     "end_time": "2024-01-25T16:14:43.575505678Z",
     "start_time": "2024-01-25T16:14:39.084581935Z"
    }
   },
   "outputs": [
    {
     "data": {
      "application/vnd.jupyter.widget-view+json": {
       "model_id": "cced9661f6ae4322b8d0dbf6fc834fb0",
       "version_major": 2,
       "version_minor": 0
      },
      "text/plain": [
       "  0%|          | 0/40 [00:00<?, ?it/s]"
      ]
     },
     "metadata": {},
     "output_type": "display_data"
    }
   ],
   "source": [
    "euro_prices_mc = []\n",
    "euro_deltas_autograd = []\n",
    "euro_vegas_autograd = []\n",
    "\n",
    "for i in tqdm(range(len(strike_arr))):\n",
    "    expiry_idx = np.argmin(np.abs(time_arr - maturity_arr[i]))\n",
    "    T_actual = DT * expiry_idx\n",
    "    price = torch.exp(-RATE * T_actual) * call_payoff(heston_paths[:, expiry_idx], strike_arr[i]).mean()\n",
    "    delta, vega = torch.autograd.grad(price, [S0, V0], retain_graph=True)\n",
    "    \n",
    "    euro_prices_mc.append(price.item())\n",
    "    euro_deltas_autograd.append(delta.item())\n",
    "    euro_vegas_autograd.append(vega.item())"
   ]
  },
  {
   "cell_type": "markdown",
   "id": "9acdb5804d810e21",
   "metadata": {
    "collapsed": false,
    "jupyter": {
     "outputs_hidden": false
    }
   },
   "source": [
    "Here we list the calculated prices and greeks. We also compare the Monte-Carlo prices to the prices computed with the analytical method from [Cui2017]."
   ]
  },
  {
   "cell_type": "code",
   "execution_count": 13,
   "id": "f1e1128d65cc79e5",
   "metadata": {
    "ExecuteTime": {
     "end_time": "2024-01-25T16:14:54.002973450Z",
     "start_time": "2024-01-25T16:14:43.578606051Z"
    },
    "collapsed": false,
    "jupyter": {
     "outputs_hidden": false
    }
   },
   "outputs": [],
   "source": [
    "heston_params = HestonParams(\n",
    "    Variance(V0.item()),\n",
    "    VarReversion(KAPPA.item()),\n",
    "    AverageVar(THETA.item()),\n",
    "    VolOfVar(EPS.item()),\n",
    "    Correlation(RHO.item())\n",
    ")\n",
    "\n",
    "heston_calc = HestonCalc(heston_params)\n",
    "\n",
    "euro_prices_analytic = heston_calc.premiums(\n",
    "    Spot(S0.item()),\n",
    "    TimesToMaturity(np.array(maturity_arr)),\n",
    "    Strikes(np.array(strike_arr)),\n",
    "    OptionTypes(np.full(len(strike_arr), True)),\n",
    "    ForwardYield(RATE.item())\n",
    ").data\n",
    "\n",
    "market_params = MarketParams(\n",
    "    Spot(S0.item()),\n",
    "    ForwardYield(RATE.item()),\n",
    "    TimesToMaturity(np.array(maturity_arr)),\n",
    "    Strikes(np.array(strike_arr)),\n",
    "    OptionTypes(np.full(len(strike_arr), True)),\n",
    "    Premiums(np.full(len(strike_arr), np.nan))\n",
    ")"
   ]
  },
  {
   "cell_type": "code",
   "execution_count": 14,
   "id": "264d5add2f95c445",
   "metadata": {
    "ExecuteTime": {
     "end_time": "2024-01-25T16:14:54.055037436Z",
     "start_time": "2024-01-25T16:14:54.005457820Z"
    },
    "collapsed": false,
    "jupyter": {
     "outputs_hidden": false
    }
   },
   "outputs": [
    {
     "name": "stdout",
     "output_type": "stream",
     "text": [
      "κ = 1.2, θ = 0.066, ε = 0.592,ρ = -0.65, rate = 0.03\n",
      "S₀ = 100.0\n",
      "\n",
      "======== In the money =========\n",
      "\n",
      "   Maturity  Strike  Price MC  Price analyt.  Price rel. diff, %  Delta    Vega\n",
      "0     0.123   61.37    38.832         38.857              -0.065  1.000   0.608\n",
      "1     0.247   66.99    33.478         33.563              -0.252  0.993   3.114\n",
      "2     0.370   72.16    28.824         29.000              -0.609  0.971   8.816\n",
      "3     0.493   74.70    26.909         27.189              -1.032  0.949  14.237\n",
      "4     0.616   77.60    24.811         25.195              -1.523  0.925  19.753\n",
      "5     0.740   81.12    22.343         22.813              -2.061  0.896  25.386\n",
      "6     1.110   86.03    20.049         20.764              -3.448  0.842  32.355\n",
      "7     1.479   90.25    18.597         19.483              -4.549  0.794  34.843\n",
      "\n",
      "    Maturity  Strike  Price MC  Price analyt.  Price rel. diff, %  Delta    Vega\n",
      "8      0.123   91.75     9.492          9.525              -0.343  0.862  14.960\n",
      "9      0.247   93.58     9.368          9.459              -0.966  0.786  27.267\n",
      "10     0.370   93.71    10.332         10.504              -1.639  0.775  32.877\n",
      "11     0.493   94.64    10.578         10.829              -2.314  0.755  37.197\n",
      "12     0.616   95.88    10.558         10.871              -2.875  0.733  40.165\n",
      "13     0.740   97.28    10.414         10.776              -3.365  0.710  41.941\n",
      "14     1.110   98.68    11.559         12.097              -4.452  0.694  41.841\n",
      "15     1.479   99.56    12.829         13.527              -5.164  0.687  39.917\n",
      "\n",
      "======= Out of the money =======\n",
      "\n",
      "    Maturity  Strike  Price MC  Price analyt.  Price rel. diff, %  Delta    Vega\n",
      "16     0.123  104.27     1.759          1.769              -0.570  0.378  24.895\n",
      "17     0.247  104.63     2.913          2.959              -1.541  0.449  34.715\n",
      "18     0.370  104.99     3.771          3.863              -2.384  0.483  39.742\n",
      "19     0.493  105.30     4.508          4.644              -2.942  0.505  42.431\n",
      "20     0.616  105.62     5.158          5.335              -3.325  0.520  43.721\n",
      "21     0.740  105.93     5.754          5.972              -3.648  0.532  44.203\n",
      "22     1.110  106.63     7.415          7.777              -4.657  0.558  43.315\n",
      "23     1.479  107.66     8.736          9.225              -5.305  0.569  41.163\n",
      "\n",
      "    Maturity  Strike  Price MC  Price analyt.  Price rel. diff, %  Delta    Vega\n",
      "24     0.123  122.87     0.004          0.006             -25.895  0.002   0.395\n",
      "25     0.247  123.99     0.068          0.070              -3.535  0.020   3.391\n",
      "26     0.370  124.85     0.196          0.199              -1.388  0.043   7.226\n",
      "27     0.493  126.59     0.316          0.318              -0.471  0.059   9.756\n",
      "28     0.616  126.46     0.542          0.541               0.034  0.088  13.835\n",
      "29     0.740  127.15     0.741          0.741               0.010  0.108  16.454\n",
      "30     1.110  128.59     1.461          1.470              -0.609  0.170  22.580\n",
      "31     1.479  130.46     2.193          2.225              -1.473  0.216  25.438\n",
      "\n",
      "    Maturity  Strike  Price MC  Price analyt.  Price rel. diff, %      Delta   Vega\n",
      "32     0.123  139.39     0.000      7.529e-06            -100.000  0.000e+00  0.000\n",
      "33     0.247  141.02     0.001      1.538e-03             -10.180  4.205e-04  0.091\n",
      "34     0.370  142.91     0.010      1.012e-02              -3.578  2.331e-03  0.492\n",
      "35     0.493  144.56     0.029      2.838e-02               1.682  5.532e-03  1.163\n",
      "36     0.616  146.03     0.057      5.556e-02               1.768  9.506e-03  1.958\n",
      "37     0.740  147.36     0.091      9.035e-02               0.227  1.401e-02  2.803\n",
      "38     1.110  150.05     0.251      2.470e-01               1.703  3.196e-02  5.710\n",
      "39     1.479  153.28     0.455      4.443e-01               2.387  5.167e-02  8.193\n",
      "\n"
     ]
    }
   ],
   "source": [
    "relat_diff = (np.array(euro_prices_mc) - euro_prices_analytic) / np.abs(euro_prices_analytic)\n",
    "table_vanilla = pd.DataFrame({\n",
    "    'Maturity': maturity_arr, 'Strike': strike_arr, 'Price MC': euro_prices_mc,\n",
    "    'Price analyt.': euro_prices_analytic, 'Price rel. diff, %': relat_diff * 100,\n",
    "    'Delta': euro_deltas_autograd, 'Vega': euro_vegas_autograd\n",
    "})\n",
    "\n",
    "print(f'κ = {KAPPA.item()}, θ = {THETA.item()}, ε = {EPS.item()},'\n",
    "      f'ρ = {RHO.item()}, rate = {RATE.item()}')\n",
    "print(f'S₀ = {S0.item()}\\n')\n",
    "print('======== In the money =========\\n')\n",
    "for i in range(5):\n",
    "    print(table_vanilla.iloc[i * 8: (i + 1) * 8], end='\\n\\n')\n",
    "    if i == 1:\n",
    "        print('======= Out of the money =======\\n')"
   ]
  },
  {
   "cell_type": "markdown",
   "id": "3891a094",
   "metadata": {},
   "source": [
    "The prices calculated by Monte-Carlo method are generally very close to the analytical values. The precision can be further improved by increasing the number of simulated paths."
   ]
  },
  {
   "cell_type": "markdown",
   "id": "8c8e168a",
   "metadata": {},
   "source": [
    "## Barrier Options\n",
    "\n",
    "Barrier options have the following payoffs:\n",
    "$$\\text{UpIn Call}_T = \\max[S_T - K,\\ 0] \\cdot 1_{\\left\\{ \\max_{t\\in[0, T]}[S(t)]\\ \\geq\\ B \\right\\}},$$\n",
    "\n",
    "$$\\text{UpIn Put}_T = \\max[K - S_T,\\ 0] \\cdot 1_{\\left\\{ \\max_{t\\in[0, T]}[S(t)]\\ \\geq\\ B \\right\\}},$$\n",
    "\n",
    "$$\\text{UpOut Call}_T = \\max[S_T - K,\\ 0] \\cdot 1_{\\left\\{ \\max_{t\\in[0, T]}[S(t)]\\ <\\ B \\right\\}},$$\n",
    "\n",
    "$$\\text{UpOut Put}_T = \\max[K - S_T,\\ 0] \\cdot 1_{\\left\\{ \\max_{t\\in[0, T]}[S(t)]\\ <\\ B \\right\\}},$$\n",
    "\n",
    "$$\\text{DownIn Call}_T = \\max[S_T - K,\\ 0] \\cdot 1_{\\left\\{ \\min_{t\\in[0, T]}[S(t)]\\ \\leq\\ B \\right\\}},$$\n",
    "\n",
    "$$\\text{DownIn Put}_T = \\max[K - S_T,\\ 0] \\cdot 1_{\\left\\{ \\min_{t\\in[0, T]}[S(t)]\\ \\leq\\ B \\right\\}},$$\n",
    "\n",
    "$$\\text{DownOut Call}_T = \\max[S_T - K,\\ 0] \\cdot 1_{\\left\\{ \\min_{t\\in[0, T]}[S(t)]\\ >\\ B \\right\\}},$$\n",
    "\n",
    "$$\\text{DownOut Put}_T = \\max[K - S_T,\\ 0] \\cdot 1_{\\left\\{ \\min_{t\\in[0, T]}[S(t)]\\ >\\ B \\right\\}},$$\n",
    "\n",
    "where $S$ – price of the underlying, $T$ – maturity, $K$ – strike, $B$ – barrier. See [review of barrier options](https://bookdown.org/maxime_debellefroid/MyBook/barrier-options.html).\n"
   ]
  },
  {
   "cell_type": "code",
   "execution_count": 15,
   "id": "5874539c",
   "metadata": {
    "ExecuteTime": {
     "end_time": "2024-01-25T16:14:54.097761762Z",
     "start_time": "2024-01-25T16:14:54.044265555Z"
    }
   },
   "outputs": [],
   "source": [
    "from pyquant.barrier import price_barrier_option"
   ]
  },
  {
   "cell_type": "code",
   "execution_count": 16,
   "id": "74278eca",
   "metadata": {
    "ExecuteTime": {
     "end_time": "2024-01-25T16:14:57.295773587Z",
     "start_time": "2024-01-25T16:14:54.085491406Z"
    }
   },
   "outputs": [
    {
     "data": {
      "application/vnd.jupyter.widget-view+json": {
       "model_id": "d1aa0ad85c1c4369980566793453d6c6",
       "version_major": 2,
       "version_minor": 0
      },
      "text/plain": [
       "  0%|          | 0/8 [00:00<?, ?it/s]"
      ]
     },
     "metadata": {},
     "output_type": "display_data"
    },
    {
     "data": {
      "application/vnd.jupyter.widget-view+json": {
       "model_id": "2df734ae3ab04c2e90f320d2b9ca523b",
       "version_major": 2,
       "version_minor": 0
      },
      "text/plain": [
       "  0%|          | 0/8 [00:00<?, ?it/s]"
      ]
     },
     "metadata": {},
     "output_type": "display_data"
    },
    {
     "data": {
      "application/vnd.jupyter.widget-view+json": {
       "model_id": "d6c04209ad064c289b17d04ebc420075",
       "version_major": 2,
       "version_minor": 0
      },
      "text/plain": [
       "  0%|          | 0/8 [00:00<?, ?it/s]"
      ]
     },
     "metadata": {},
     "output_type": "display_data"
    },
    {
     "data": {
      "application/vnd.jupyter.widget-view+json": {
       "model_id": "7a4309f390274a2eb0ec0d523da67294",
       "version_major": 2,
       "version_minor": 0
      },
      "text/plain": [
       "  0%|          | 0/8 [00:00<?, ?it/s]"
      ]
     },
     "metadata": {},
     "output_type": "display_data"
    }
   ],
   "source": [
    "strike_arr_up = torch.tensor(strike_arr[16:24], dtype=torch.double)\n",
    "strike_arr_down = torch.tensor(strike_arr[8:16], dtype=torch.double)\n",
    "maturity_arr_up = torch.tensor(maturity_arr[16:24], dtype=torch.double)\n",
    "maturity_arr_down = torch.tensor(maturity_arr[8:16], dtype=torch.double)\n",
    "\n",
    "prices_vanilla_itm = table_vanilla['Price MC'][8:16]\n",
    "prices_vanilla_otm = table_vanilla['Price MC'][16:24]\n",
    "\n",
    "barriers_up_in = torch.tensor([K + (K-S0)*3 for K in strike_arr_up], dtype=torch.double)\n",
    "barriers_up_out = torch.tensor([K + (K-S0)*4 for K in strike_arr_up], dtype=torch.double)\n",
    "barriers_down_in = torch.tensor([95., 95., 94., 94., 94., 93., 92., 92.], dtype=torch.double)\n",
    "barriers_down_out = torch.tensor([95., 95., 94., 94., 94., 93., 92., 92.], dtype=torch.double)\n",
    "\n",
    "prices_up_in, prices_up_out, prices_down_in, prices_down_out = [], [], [], []\n",
    "deltas_up_in, deltas_up_out, deltas_down_in, deltas_down_out = [], [], [], []\n",
    "vegas_up_in, vegas_up_out, vegas_down_in, vegas_down_out = [], [], [], []\n",
    "\n",
    "# Up-and-In\n",
    "for i in tqdm(range(len(barriers_up_in))):\n",
    "    expiry_idx = np.argmin(np.abs(time_arr - maturity_arr_up[i].item()))\n",
    "    price = price_barrier_option(\n",
    "        heston_paths[:, :expiry_idx+1],\n",
    "        strike_arr_up[i],\n",
    "        maturity_arr_up[i],\n",
    "        RATE,\n",
    "        barrier=barriers_up_in[i],\n",
    "        barrier_type='up-in',\n",
    "        call=True)\n",
    "    delta, vega = torch.autograd.grad(price, [S0, V0], retain_graph=True)\n",
    "    deltas_up_in.append(delta.item())\n",
    "    vegas_up_in.append(vega.item())\n",
    "    prices_up_in.append(price.item())\n",
    "\n",
    "# Up-and-Out\n",
    "for i in tqdm(range(len(barriers_up_out))):\n",
    "    expiry_idx = np.argmin(np.abs(time_arr - maturity_arr_up[i].item()))\n",
    "    price = price_barrier_option(\n",
    "        heston_paths[:, :expiry_idx+1],\n",
    "        strike_arr_up[i],\n",
    "        maturity_arr_up[i],\n",
    "        RATE,\n",
    "        barrier=barriers_up_out[i],\n",
    "        barrier_type='up-out',\n",
    "        call=True)\n",
    "    delta, vega = torch.autograd.grad(price, [S0, V0], retain_graph=True)\n",
    "    deltas_up_out.append(delta.item())\n",
    "    vegas_up_out.append(vega.item())\n",
    "    prices_up_out.append(price.item())\n",
    "\n",
    "# Down-and-In\n",
    "for i in tqdm(range(len(barriers_down_in))):\n",
    "    expiry_idx = np.argmin(np.abs(time_arr - maturity_arr_down[i].item()))\n",
    "    price = price_barrier_option(\n",
    "        heston_paths[:, :expiry_idx+1],\n",
    "        strike_arr_down[i],\n",
    "        maturity_arr_down[i],\n",
    "        RATE,\n",
    "        barrier=barriers_down_in[i],\n",
    "        barrier_type='down-in',\n",
    "        call=True)\n",
    "    delta, vega = torch.autograd.grad(price, [S0, V0], retain_graph=True)\n",
    "    deltas_down_in.append(delta.item())\n",
    "    vegas_down_in.append(vega.item())\n",
    "    prices_down_in.append(price.item())\n",
    "\n",
    "# Down-and-Out\n",
    "for i in tqdm(range(len(barriers_down_out))):\n",
    "    expiry_idx = np.argmin(np.abs(time_arr - maturity_arr_down[i].item()))\n",
    "    price = price_barrier_option(\n",
    "        heston_paths[:, :expiry_idx+1],\n",
    "        strike_arr_down[i],\n",
    "        maturity_arr_down[i],\n",
    "        RATE,\n",
    "        barrier=barriers_down_out[i],\n",
    "        barrier_type='down-out',\n",
    "        call=True)\n",
    "    delta, vega = torch.autograd.grad(price, [S0, V0], retain_graph=True)\n",
    "    deltas_down_out.append(delta.item())\n",
    "    vegas_down_out.append(vega.item())\n",
    "    prices_down_out.append(price.item())"
   ]
  },
  {
   "cell_type": "code",
   "execution_count": 17,
   "id": "dfb51b0e",
   "metadata": {
    "ExecuteTime": {
     "end_time": "2024-01-25T16:14:57.346115831Z",
     "start_time": "2024-01-25T16:14:57.298850196Z"
    }
   },
   "outputs": [
    {
     "name": "stdout",
     "output_type": "stream",
     "text": [
      "κ = 1.2, θ = 0.066, ε = 0.592, ρ = -0.65, rate = 0.03\n",
      "S₀ = 100.0\n",
      "\n",
      "===================== Up-and-In Call ======================\n",
      "\n",
      "   Maturity  Strike  Barrier  Price  Vanilla price  Delta    Vega\n",
      "0     0.123  104.27   117.08  0.263          1.759  0.020   2.878\n",
      "1     0.247  104.63   118.52  0.963          2.913  0.066   9.429\n",
      "2     0.370  104.99   119.96  1.635          3.771  0.103  14.674\n",
      "3     0.493  105.30   121.20  2.278          4.508  0.135  18.899\n",
      "4     0.616  105.62   122.48  2.849          5.158  0.160  21.905\n",
      "5     0.740  105.93   123.72  3.384          5.754  0.181  24.201\n",
      "6     1.110  106.63   126.52  5.034          7.415  0.242  29.385\n",
      "7     1.479  107.66   130.64  6.163          8.736  0.265  30.131\n",
      "\n",
      "=================== Up-and-Out Call =======================\n",
      "\n",
      "   Maturity  Strike  Barrier  Price  Vanilla price  Delta    Vega\n",
      "0     0.123  104.27   121.35  1.693          1.759  0.374  24.204\n",
      "1     0.247  104.63   123.15  2.475          2.913  0.424  30.656\n",
      "2     0.370  104.99   124.95  2.880          3.771  0.437  32.190\n",
      "3     0.493  105.30   126.50  3.144          4.508  0.437  31.693\n",
      "4     0.616  105.62   128.10  3.353          5.158  0.435  30.503\n",
      "5     0.740  105.93   129.65  3.529          5.754  0.431  28.974\n",
      "6     1.110  106.63   133.15  3.801          7.415  0.409  22.855\n",
      "7     1.479  107.66   138.30  4.196          8.736  0.399  19.446\n",
      "\n",
      "=================== Down-and-In Call ======================\n",
      "\n",
      "   Maturity  Strike  Barrier  Price  Vanilla price  Delta   Vega\n",
      "0     0.123   91.75     95.0  0.157          9.492  0.085 -5.193\n",
      "1     0.247   93.58     95.0  0.625          9.368  0.111 -3.335\n",
      "2     0.370   93.71     94.0  0.987         10.332  0.124 -2.742\n",
      "3     0.493   94.64     94.0  1.357         10.578  0.148 -2.275\n",
      "4     0.616   95.88     94.0  1.620         10.558  0.162 -1.540\n",
      "5     0.740   97.28     93.0  1.562         10.414  0.149 -1.102\n",
      "6     1.110   98.68     92.0  2.066         11.559  0.166 -1.674\n",
      "7     1.479   99.56     92.0  2.801         12.829  0.197 -2.382\n",
      "\n",
      "=================== Down-and-Out Call =====================\n",
      "\n",
      "   Maturity  Strike  Barrier   Price  Vanilla price  Delta    Vega\n",
      "0     0.123   91.75     95.0   9.335          9.492  0.776  20.153\n",
      "1     0.247   93.58     95.0   8.743          9.368  0.676  30.601\n",
      "2     0.370   93.71     94.0   9.345         10.332  0.651  35.619\n",
      "3     0.493   94.64     94.0   9.222         10.578  0.607  39.473\n",
      "4     0.616   95.88     94.0   8.939         10.558  0.571  41.705\n",
      "5     0.740   97.28     93.0   8.852         10.414  0.561  43.043\n",
      "6     1.110   98.68     92.0   9.493         11.559  0.527  43.516\n",
      "7     1.479   99.56     92.0  10.028         12.829  0.491  42.299\n"
     ]
    }
   ],
   "source": [
    "table_up_in = pd.DataFrame({\n",
    "    'Maturity': maturity_arr_up, 'Strike': strike_arr_up,\n",
    "    'Barrier': barriers_up_in, 'Price': prices_up_in,\n",
    "    'Vanilla price': prices_vanilla_otm,\n",
    "    'Delta': deltas_up_in, 'Vega': vegas_up_in\n",
    "}).reset_index(drop=True)\n",
    "\n",
    "table_up_out = pd.DataFrame({\n",
    "    'Maturity': maturity_arr_up, 'Strike': strike_arr_up,\n",
    "    'Barrier': barriers_up_out, 'Price': prices_up_out,\n",
    "    'Vanilla price': prices_vanilla_otm,\n",
    "    'Delta': deltas_up_out, 'Vega': vegas_up_out\n",
    "}).reset_index(drop=True)\n",
    "\n",
    "table_down_in = pd.DataFrame({\n",
    "    'Maturity': maturity_arr_down, 'Strike': strike_arr_down,\n",
    "    'Barrier': barriers_down_in, 'Price': prices_down_in,\n",
    "    'Vanilla price': prices_vanilla_itm,\n",
    "    'Delta': deltas_down_in, 'Vega': vegas_down_in\n",
    "}).reset_index(drop=True)\n",
    "\n",
    "table_down_out = pd.DataFrame({\n",
    "    'Maturity': maturity_arr_down, 'Strike': strike_arr_down,\n",
    "    'Barrier': barriers_down_out, 'Price': prices_down_out,\n",
    "    'Vanilla price': prices_vanilla_itm,\n",
    "    'Delta': deltas_down_out, 'Vega': vegas_down_out\n",
    "}).reset_index(drop=True)\n",
    "\n",
    "print(f'κ = {KAPPA.item()}, θ = {THETA.item()}, ε = {EPS.item()}, ρ = {RHO.item()}, rate = {RATE.item()}')\n",
    "print(f'S₀ = {S0.item()}\\n')\n",
    "print('===================== Up-and-In Call ======================\\n')\n",
    "print(table_up_in)\n",
    "print('\\n=================== Up-and-Out Call =======================\\n')\n",
    "print(table_up_out)\n",
    "print('\\n=================== Down-and-In Call ======================\\n')\n",
    "print(table_down_in)\n",
    "print('\\n=================== Down-and-Out Call =====================\\n')\n",
    "print(table_down_out)"
   ]
  },
  {
   "cell_type": "markdown",
   "id": "3a0b3814",
   "metadata": {},
   "source": [
    "We can see that barrier options have lower prices than the similar vanilla options. That's because they carry an additional risk to expire worthless."
   ]
  },
  {
   "cell_type": "markdown",
   "id": "78f4cc9c",
   "metadata": {},
   "source": [
    "# References\n",
    "\n",
    "* [Andersen2007] [Andersen, L.B., 2007. Efficient simulation of the Heston stochastic volatility model. Available at SSRN 946405.](https://papers.ssrn.com/sol3/papers.cfm?abstract_id=946405)\n",
    "* [Grzelak2019] Grzelak, L.A. et al. *Mathematical Modeling and Computation in Finance: With Exercises and Python and MATLAB Computer Codes*, World Scientific Pub. (2019)\n",
    "* [Cui2017] [Cui, Y. et al. *Full and fast calibration of the Heston stochastic volatility model.* European Journal of Operational Research 263.2 (2017)](https://www.sciencedirect.com/science/article/pii/S0377221717304460)\n",
    "* [Online book about derivatives by Maxime de Bellefroid](https://bookdown.org/maxime_debellefroid/MyBook/)"
   ]
  }
 ],
 "metadata": {
  "kernelspec": {
   "display_name": "Python 3 (ipykernel)",
   "language": "python",
   "name": "python3"
  },
  "language_info": {
   "codemirror_mode": {
    "name": "ipython",
    "version": 3
   },
   "file_extension": ".py",
   "mimetype": "text/x-python",
   "name": "python",
   "nbconvert_exporter": "python",
   "pygments_lexer": "ipython3",
   "version": "3.8.18"
  },
  "vscode": {
   "interpreter": {
    "hash": "a2eb1cc65c1cd3482bb506e74265dd8500e20c6cb1477154dcf5a78d31810c3d"
   }
  }
 },
 "nbformat": 4,
 "nbformat_minor": 5
}
