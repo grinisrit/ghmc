{
 "cells": [
  {
   "cell_type": "markdown",
   "id": "57e433a1-626d-442d-a9f9-ffa02feba50d",
   "metadata": {},
   "source": [
    "# Symbolic Gradient Calculation for SABR and SVI \n",
    "#### Dmitry Bazanov, Roland Grinis"
   ]
  },
  {
   "cell_type": "code",
   "execution_count": 2,
   "id": "63eabd5a-5879-48ad-8ea3-cd23cfc60700",
   "metadata": {},
   "outputs": [],
   "source": [
    "import sympy as sym"
   ]
  },
  {
   "cell_type": "markdown",
   "id": "2b2a5943-e131-4333-9fe6-59bddbfae5a4",
   "metadata": {},
   "source": [
    "## 1. SABR \n",
    "\n",
    "Implied volatility is given by:\n",
    "\n",
    "$$ \\sigma_B(x, T) \\approx I_B^0(x) (1 + I_H^1(x)T), \\quad x = \\ln \\frac{f}{K}$$\n",
    "\n",
    "$$I_H^1(x) = \\frac{\\alpha^{2} \\left(K f\\right)^{\\beta - 1} \\left(1 - \\beta\\right)^{2}}{24} + \\frac{\\alpha \\beta \\rho v \\left(K f\\right)^{\\frac{\\beta}{2} - \\frac{1}{2}}}{4} + \\frac{v^{2} \\cdot \\left(2 - 3 \\rho^{2}\\right)}{24}$$\n",
    "\n",
    "The order zero term is treated below.\n"
   ]
  },
  {
   "cell_type": "code",
   "execution_count": 4,
   "id": "9ada44b6-3199-4a51-8256-025a297b9450",
   "metadata": {},
   "outputs": [],
   "source": [
    "alpha, beta, v, rho, f, K, T = sym.symbols('alpha beta v rho f K T')\n",
    "x = sym.log(f/K)\n",
    "I_H_1 = (((1 - beta)**2)*alpha**2/(24*(f*K)**(1 - beta)) + (rho*v*alpha*beta)/(4*(f*K)**((1-beta)/2)) + \n",
    " ((2 - 3*rho**2)*v**2)/24 )"
   ]
  },
  {
   "cell_type": "markdown",
   "id": "6aa18179-c544-46dd-a653-34fefe43ae45",
   "metadata": {},
   "source": [
    "Derivatives of $I_H^1(x)$:"
   ]
  },
  {
   "cell_type": "code",
   "execution_count": 6,
   "id": "5f02c20c-c8ea-4ec2-8aad-e09b6463942e",
   "metadata": {},
   "outputs": [],
   "source": [
    "I_H_1.diff(alpha) # vega\n",
    "I_H_1.diff(rho) # rega\n",
    "I_H_1.diff(v) # sega\n",
    "I_H_1.diff(f) # delta\n",
    "I_H_1.diff(f).diff(f) # gamma\n",
    "I_H_1.diff(f).diff(alpha) # gamma, vanna, volga\n",
    "I_H_1.diff(alpha).diff(alpha) # volga\n",
    "I_H_1.diff(K); # map to delta space"
   ]
  },
  {
   "cell_type": "markdown",
   "id": "6eccda59-4229-40db-bf83-03543854136e",
   "metadata": {},
   "source": [
    "Derivatives of $I_H^0(x)$:\n",
    "\n",
    "$\\textbf{Case 1}: x = 0$ "
   ]
  },
  {
   "cell_type": "code",
   "execution_count": 7,
   "id": "56c55ea6-3fa3-4087-a080-ce8c1d168b3a",
   "metadata": {},
   "outputs": [
    {
     "data": {
      "text/latex": [
       "$\\displaystyle K^{\\beta - 1} \\alpha$"
      ],
      "text/plain": [
       "K**(beta - 1)*alpha"
      ]
     },
     "execution_count": 7,
     "metadata": {},
     "output_type": "execute_result"
    }
   ],
   "source": [
    "I_B_x = alpha*K**(beta-1)\n",
    "I_B_x"
   ]
  },
  {
   "cell_type": "code",
   "execution_count": 8,
   "id": "d9ee65f0-2f0e-499c-b7f9-4a4adca345a5",
   "metadata": {},
   "outputs": [],
   "source": [
    "I_B_x.diff(alpha) # vega\n",
    "I_B_x.diff(rho) # rega\n",
    "I_B_x.diff(v) # sega\n",
    "I_B_x.diff(f) # delta\n",
    "I_B_x.diff(f).diff(f) # gamma\n",
    "I_B_x.diff(f).diff(alpha) # gamma, vanna, volga\n",
    "I_B_x.diff(alpha).diff(alpha) # volga\n",
    "sym.simplify(I_B_x.diff(K)); # map to delta space"
   ]
  },
  {
   "cell_type": "markdown",
   "id": "fe0e9bc3-b91d-49d8-84cd-5ae70d5e03f5",
   "metadata": {},
   "source": [
    "$\\textbf{Case 2}: v = 0$ "
   ]
  },
  {
   "cell_type": "code",
   "execution_count": 9,
   "id": "abd4ee9f-1a1c-4b28-b3ee-7765657cf898",
   "metadata": {},
   "outputs": [
    {
     "data": {
      "text/latex": [
       "$\\displaystyle \\frac{\\alpha \\left(1 - \\beta\\right) \\log{\\left(\\frac{f}{K} \\right)}}{- K^{1 - \\beta} + f^{1 - \\beta}}$"
      ],
      "text/plain": [
       "alpha*(1 - beta)*log(f/K)/(-K**(1 - beta) + f**(1 - beta))"
      ]
     },
     "execution_count": 9,
     "metadata": {},
     "output_type": "execute_result"
    }
   ],
   "source": [
    "I_B_v = x*alpha*(1 - beta)/(f**(1 - beta) - K**(1 - beta))\n",
    "I_B_v"
   ]
  },
  {
   "cell_type": "code",
   "execution_count": 10,
   "id": "c8c2d886-589d-4643-a2f1-0bd02dafba87",
   "metadata": {},
   "outputs": [],
   "source": [
    "I_B_v.diff(alpha).subs(x, \"x\") # vega\n",
    "I_B_v.diff(rho) # rega\n",
    "I_B_v.diff(v) # sega\n",
    "sym.simplify(I_B_v.diff(f).subs(x, \"x\")) # delta\n",
    "sym.simplify(I_B_v.diff(f).diff(f).subs(x, \"x\")) # gamma\n",
    "I_B_v.diff(f).diff(alpha).subs(x, \"x\") # gamma, vanna, volga\n",
    "I_B_v.diff(alpha).diff(alpha) # volga\n",
    "sym.simplify(I_B_v.diff(K).subs(x, \"x\")); # map to delta space"
   ]
  },
  {
   "cell_type": "markdown",
   "id": "134019ba-e092-452c-890d-6b1f57233079",
   "metadata": {},
   "source": [
    "$\\textbf{Case 3}: \\beta = 1$"
   ]
  },
  {
   "cell_type": "code",
   "execution_count": 11,
   "id": "d3ad314f-dfa2-49e1-a9d3-592862b047c5",
   "metadata": {},
   "outputs": [
    {
     "data": {
      "text/latex": [
       "$\\displaystyle \\frac{v \\log{\\left(\\frac{f}{K} \\right)}}{\\log{\\left(\\frac{- \\rho + \\sqrt{1 - \\frac{2 \\rho v \\log{\\left(\\frac{f}{K} \\right)}}{\\alpha} + \\frac{v^{2} \\log{\\left(\\frac{f}{K} \\right)}^{2}}{\\alpha^{2}}} + \\frac{v \\log{\\left(\\frac{f}{K} \\right)}}{\\alpha}}{1 - \\rho} \\right)}}$"
      ],
      "text/plain": [
       "v*log(f/K)/log((-rho + sqrt(1 - 2*rho*v*log(f/K)/alpha + v**2*log(f/K)**2/alpha**2) + v*log(f/K)/alpha)/(1 - rho))"
      ]
     },
     "execution_count": 11,
     "metadata": {},
     "output_type": "execute_result"
    }
   ],
   "source": [
    "z_b = v*x/alpha\n",
    "xi_b = sym.sqrt(- 2*rho*z_b+z_b**2+1 )\n",
    "I_B_b = v*x/sym.ln((xi_b + z_b - rho)/(1 - rho))\n",
    "I_B_b"
   ]
  },
  {
   "cell_type": "code",
   "execution_count": 12,
   "id": "8bd7e14a-f3e2-4004-b9e1-9846f996c62d",
   "metadata": {},
   "outputs": [],
   "source": [
    "# vega\n",
    "sym.simplify(I_B_b.diff(alpha).subs(xi_b, sym.Symbol(r\"\\xi\")).subs(z_b, \"z\").subs(x, \"x\"))\n",
    "# rega\n",
    "sym.simplify(I_B_b.diff(rho).subs(xi_b, sym.Symbol(r\"\\xi\")).subs(z_b, \"z\").subs(x, \"x\"))\n",
    "# sega\n",
    "sym.simplify(I_B_b.diff(v).subs(xi_b, sym.Symbol(r\"\\xi\")).subs(z_b, \"z\").subs(x, \"x\"))\n",
    "# delta\n",
    "sym.simplify(I_B_b.diff(f).subs(xi_b, sym.Symbol(r\"\\xi\")).subs(z_b, \"z\").subs(x, \"x\"))\n",
    "# gamma\n",
    "sym.simplify(I_B_b.diff(f).diff(f).subs(xi_b, sym.Symbol(r\"\\xi\")).subs(z_b, \"z\").subs(x, \"x\"))\n",
    "# gamma, vanna, volga\n",
    "sym.simplify(I_B_b.diff(f).diff(alpha).subs(xi_b, sym.Symbol(r\"\\xi\")).subs(z_b, \"z\").subs(x, \"x\"))\n",
    "# volga\n",
    "sym.simplify(I_B_b.diff(alpha).diff(alpha).subs(xi_b, sym.Symbol(r\"\\xi\")).subs(z_b, \"z\").subs(x, \"x\"))\n",
    "# map to delta space\n",
    "sym.simplify(I_B_b.diff(K).subs(xi_b, sym.Symbol(r\"\\xi\")).subs(z_b, \"z\").subs(x, \"x\"));"
   ]
  },
  {
   "cell_type": "markdown",
   "id": "5b4b1325-81e6-4355-9e6b-be2f8e3b160b",
   "metadata": {},
   "source": [
    "$\\textbf{Case 4}: \\beta < 1$"
   ]
  },
  {
   "cell_type": "code",
   "execution_count": 13,
   "id": "6f1f7636-6946-4054-8006-30c85f69bde5",
   "metadata": {},
   "outputs": [
    {
     "data": {
      "text/latex": [
       "$\\displaystyle \\frac{v \\log{\\left(\\frac{f}{K} \\right)}}{\\log{\\left(\\frac{- \\rho + \\sqrt{1 - \\frac{2 \\rho v \\left(- K^{1 - \\beta} + f^{1 - \\beta}\\right)}{\\alpha \\left(1 - \\beta\\right)} + \\frac{v^{2} \\left(- K^{1 - \\beta} + f^{1 - \\beta}\\right)^{2}}{\\alpha^{2} \\left(1 - \\beta\\right)^{2}}} + \\frac{v \\left(- K^{1 - \\beta} + f^{1 - \\beta}\\right)}{\\alpha \\left(1 - \\beta\\right)}}{1 - \\rho} \\right)}}$"
      ],
      "text/plain": [
       "v*log(f/K)/log((-rho + sqrt(1 - 2*rho*v*(-K**(1 - beta) + f**(1 - beta))/(alpha*(1 - beta)) + v**2*(-K**(1 - beta) + f**(1 - beta))**2/(alpha**2*(1 - beta)**2)) + v*(-K**(1 - beta) + f**(1 - beta))/(alpha*(1 - beta)))/(1 - rho))"
      ]
     },
     "execution_count": 13,
     "metadata": {},
     "output_type": "execute_result"
    }
   ],
   "source": [
    "z = v*(f**(1 - beta) - K**(1 - beta))/(alpha * (1 - beta))\n",
    "xi = sym.sqrt(- 2*rho*z+z**2+1 )\n",
    "I_B_0 = v*x/sym.ln((xi + z - rho)/(1 - rho))\n",
    "I_B_0"
   ]
  },
  {
   "cell_type": "code",
   "execution_count": 14,
   "id": "dbeeae2c-3d93-4738-a461-54f8e5849e88",
   "metadata": {},
   "outputs": [],
   "source": [
    "# vega\n",
    "sym.simplify(I_B_0.diff(alpha).subs(xi, sym.Symbol(r\"\\xi\")).subs(z, \"z\").subs(x, \"x\"))\n",
    "# rega\n",
    "sym.simplify(I_B_0.diff(rho).subs(xi, sym.Symbol(r\"\\xi\")).subs(z, \"z\").subs(x, \"x\"))\n",
    "# sega\n",
    "sym.simplify(I_B_0.diff(v).subs(xi, sym.Symbol(r\"\\xi\")).subs(z, \"z\").subs(x, \"x\"))\n",
    "# delta\n",
    "sym.simplify(I_B_0.diff(f).subs(xi, sym.Symbol(r\"\\xi\")).subs(z, \"z\").subs(x, \"x\"))\n",
    "# gamma\n",
    "sym.simplify(I_B_0.diff(f).diff(f).subs(xi, sym.Symbol(r\"\\xi\")).subs(z, \"z\").subs(x, \"x\"))\n",
    "# gamma, vanna, volga\n",
    "sym.simplify(I_B_0.diff(f).diff(alpha).subs(xi, sym.Symbol(r\"\\xi\")).subs(z, \"z\").subs(x, \"x\"))\n",
    "# volga\n",
    "sym.simplify(I_B_0.diff(alpha).diff(alpha).subs(xi, sym.Symbol(r\"\\xi\")).subs(z, \"z\").subs(x, \"x\"))\n",
    "# map to delta space\n",
    "sym.simplify(I_B_0.diff(K).subs(xi, sym.Symbol(r\"\\xi\")).subs(z, \"z\").subs(x, \"x\"));"
   ]
  },
  {
   "cell_type": "markdown",
   "id": "8d24561f-6c66-42e6-8650-5b1211bc188d",
   "metadata": {},
   "source": [
    "Implied volatility senstivities are easy to obtain:\n",
    "$$ \\nabla_{\\alpha, \\rho, v, f, K} \\sigma_B(x, T) =  \\nabla_{\\alpha, \\rho, v, f, K} I_B^0(x) \\cdot \\left(1 + I_H^1(x)T \\right) + I_B^0(x) \\cdot T \\cdot \\nabla_{\\alpha, \\rho, v, f, K}I_H^1(x)\n",
    "$$\n",
    "\n",
    "$$\n",
    "\\nabla_{\\alpha, f}^2 \\sigma_B= \\nabla_{\\alpha, f}^2 I_B^0(x) + T\\left( \\nabla_{\\alpha,f}^2 I_B^0(x) \\cdot I_H^1(x) +  \\nabla_{\\alpha, f}^2  I_H^1(x) \\cdot I_B^0(x)  + 2 \\nabla_{\\alpha, f} I_B^0(x) \\cdot \\nabla_{\\alpha, f} I_H^1(x) \\right)\n",
    "$$\n",
    "\n",
    "$$ \\frac{\\partial ^2 \\sigma_B}{\\partial \\alpha \\partial f} = \\frac{\\partial^2 I_B^0(x)}{\\partial \\alpha \\partial f} (1 + I_H^1(x)T) + \\frac{\\partial I_B^0(x)}{\\partial \\alpha} \\frac{\\partial I_H^1(x)}{\\partial f}T + \\frac{\\partial^2 I_H^1(x)}{\\partial \\alpha \\partial f} I_B^0(x) T +\\frac{\\partial I_H^1(x)}{\\partial \\alpha} \\frac{\\partial I_B^0(x)}{\\partial f}T $$"
   ]
  },
  {
   "cell_type": "markdown",
   "id": "97605b95-3db5-4063-bc5c-b9b8c45a4444",
   "metadata": {},
   "source": [
    "## 2. SVI\n",
    "Raw parametrization:\n",
    "\n",
    "$$ w(k, X_R) = a + b\\{\\rho(k - m) + \\sqrt{(k - m)^2 + \\sigma^2} \\}$$"
   ]
  },
  {
   "cell_type": "code",
   "execution_count": 9,
   "id": "f0d23702-36cf-49cb-89fa-d0aa17302624",
   "metadata": {},
   "outputs": [],
   "source": [
    "a, b, rho, m, sigma, f, K, T = sym.symbols('a b rho m sigma f K T')\n",
    "k = sym.log(K/f)\n",
    "w = a + b *(rho*(k - m) + sym.sqrt((k-m)**2 + sigma**2)) #total iv\n",
    "v = sym.sqrt(w/T) # iv"
   ]
  },
  {
   "cell_type": "code",
   "execution_count": 10,
   "id": "4d5ce0d8-d422-4b56-af08-7256585c5a35",
   "metadata": {},
   "outputs": [
    {
     "data": {
      "image/png": "[encoded data removed]",
      "text/latex": [
       "$\\displaystyle a + b \\left(\\rho \\left(k - m\\right) + \\sqrt{\\sigma^{2} + \\left(k - m\\right)^{2}}\\right)$"
      ],
      "text/plain": [
       "      ⎛               _______________⎞\n",
       "      ⎜              ╱  2          2 ⎟\n",
       "a + b⋅⎝ρ⋅(k - m) + ╲╱  σ  + (k - m)  ⎠"
      ]
     },
     "execution_count": 10,
     "metadata": {},
     "output_type": "execute_result"
    }
   ],
   "source": [
    "w.subs(k, \"k\")"
   ]
  },
  {
   "cell_type": "code",
   "execution_count": 11,
   "id": "d4cde4b0-6a79-4c0e-9ee7-9b79e676d7d4",
   "metadata": {},
   "outputs": [
    {
     "data": {
      "image/png": "[encoded data removed]",
      "text/latex": [
       "$\\displaystyle \\sqrt{\\frac{a + b \\left(\\rho \\left(k - m\\right) + \\sqrt{\\sigma^{2} + \\left(k - m\\right)^{2}}\\right)}{T}}$"
      ],
      "text/plain": [
       "      ________________________________________\n",
       "     ╱       ⎛               _______________⎞ \n",
       "    ╱        ⎜              ╱  2          2 ⎟ \n",
       "   ╱   a + b⋅⎝ρ⋅(k - m) + ╲╱  σ  + (k - m)  ⎠ \n",
       "  ╱    ────────────────────────────────────── \n",
       "╲╱                       T                    "
      ]
     },
     "execution_count": 11,
     "metadata": {},
     "output_type": "execute_result"
    }
   ],
   "source": [
    "v.subs(k, \"k\")"
   ]
  },
  {
   "cell_type": "code",
   "execution_count": 12,
   "id": "708cd37c-d80b-43ee-b5e9-62f9ca89a42d",
   "metadata": {},
   "outputs": [
    {
     "data": {
      "image/png": "[encoded data removed]",
      "text/latex": [
       "$\\displaystyle \\frac{b \\sqrt{\\frac{a + b \\left(\\rho \\left(k - m\\right) + \\sqrt{\\sigma^{2} + \\left(k - m\\right)^{2}}\\right)}{T}} \\left(- \\frac{\\rho}{f} - \\frac{k - m}{f \\sqrt{\\sigma^{2} + \\left(k - m\\right)^{2}}}\\right)}{2 \\left(a + b \\left(\\rho \\left(k - m\\right) + \\sqrt{\\sigma^{2} + \\left(k - m\\right)^{2}}\\right)\\right)}$"
      ],
      "text/plain": [
       "        ________________________________________                             \n",
       "       ╱       ⎛               _______________⎞                              \n",
       "      ╱        ⎜              ╱  2          2 ⎟                              \n",
       "     ╱   a + b⋅⎝ρ⋅(k - m) + ╲╱  σ  + (k - m)  ⎠  ⎛  ρ          k - m        ⎞\n",
       "b⋅  ╱    ────────────────────────────────────── ⋅⎜- ─ - ────────────────────⎟\n",
       "  ╲╱                       T                     ⎜  f        _______________⎟\n",
       "                                                 ⎜          ╱  2          2 ⎟\n",
       "                                                 ⎝      f⋅╲╱  σ  + (k - m)  ⎠\n",
       "─────────────────────────────────────────────────────────────────────────────\n",
       "                    ⎛      ⎛               _______________⎞⎞                 \n",
       "                    ⎜      ⎜              ╱  2          2 ⎟⎟                 \n",
       "                  2⋅⎝a + b⋅⎝ρ⋅(k - m) + ╲╱  σ  + (k - m)  ⎠⎠                 "
      ]
     },
     "execution_count": 12,
     "metadata": {},
     "output_type": "execute_result"
    }
   ],
   "source": [
    "v.diff(f).subs(k, \"k\")"
   ]
  },
  {
   "cell_type": "code",
   "execution_count": 13,
   "id": "a3be44ce-e8e9-4fe6-8ccd-953bd476f87a",
   "metadata": {},
   "outputs": [
    {
     "data": {
      "image/png": "[encoded data removed]",
      "text/latex": [
       "$\\displaystyle b \\left(- \\frac{\\rho}{f} - \\frac{k - m}{f \\sqrt{\\sigma^{2} + \\left(k - m\\right)^{2}}}\\right)$"
      ],
      "text/plain": [
       "  ⎛  ρ          k - m        ⎞\n",
       "b⋅⎜- ─ - ────────────────────⎟\n",
       "  ⎜  f        _______________⎟\n",
       "  ⎜          ╱  2          2 ⎟\n",
       "  ⎝      f⋅╲╱  σ  + (k - m)  ⎠"
      ]
     },
     "execution_count": 13,
     "metadata": {},
     "output_type": "execute_result"
    }
   ],
   "source": [
    "#delta\n",
    "w.diff(f).subs(k, \"k\")# sym.sqrt(T*w)"
   ]
  },
  {
   "cell_type": "code",
   "execution_count": 14,
   "id": "e199c676-8e74-416b-9e58-341390146611",
   "metadata": {},
   "outputs": [
    {
     "data": {
      "image/png": "[encoded data removed]",
      "text/latex": [
       "$\\displaystyle b \\left(\\frac{\\rho}{f^{2}} - \\frac{\\left(k - m\\right)^{2}}{f^{2} \\left(\\sigma^{2} + \\left(k - m\\right)^{2}\\right)^{\\frac{3}{2}}} + \\frac{k - m}{f^{2} \\sqrt{\\sigma^{2} + \\left(k - m\\right)^{2}}} + \\frac{1}{f^{2} \\sqrt{\\sigma^{2} + \\left(k - m\\right)^{2}}}\\right)$"
      ],
      "text/plain": [
       "  ⎛                   2                                                      ⎞\n",
       "  ⎜ρ           (k - m)                  k - m                     1          ⎟\n",
       "b⋅⎜── - ───────────────────── + ───────────────────── + ─────────────────────⎟\n",
       "  ⎜ 2                     3/2         _______________         _______________⎟\n",
       "  ⎜f     2 ⎛ 2          2⎞       2   ╱  2          2     2   ╱  2          2 ⎟\n",
       "  ⎝     f ⋅⎝σ  + (k - m) ⎠      f ⋅╲╱  σ  + (k - m)     f ⋅╲╱  σ  + (k - m)  ⎠"
      ]
     },
     "execution_count": 14,
     "metadata": {},
     "output_type": "execute_result"
    }
   ],
   "source": [
    "#gamma\n",
    "w.diff(f).diff(f).subs(k, \"k\")"
   ]
  },
  {
   "cell_type": "code",
   "execution_count": 15,
   "id": "d000f7cc-cb04-4766-a04d-235b31c7bce8",
   "metadata": {},
   "outputs": [
    {
     "data": {
      "image/png": "[encoded data removed]",
      "text/latex": [
       "$\\displaystyle 1$"
      ],
      "text/plain": [
       "1"
      ]
     },
     "execution_count": 15,
     "metadata": {},
     "output_type": "execute_result"
    }
   ],
   "source": [
    "# a\n",
    "w.diff(a).subs(k, \"k\")"
   ]
  },
  {
   "cell_type": "code",
   "execution_count": 16,
   "id": "310a123d-f940-40af-adc0-9f86dd4673d8",
   "metadata": {},
   "outputs": [
    {
     "data": {
      "image/png": "[encoded data removed]",
      "text/latex": [
       "$\\displaystyle \\rho \\left(k - m\\right) + \\sqrt{\\sigma^{2} + \\left(k - m\\right)^{2}}$"
      ],
      "text/plain": [
       "               _______________\n",
       "              ╱  2          2 \n",
       "ρ⋅(k - m) + ╲╱  σ  + (k - m)  "
      ]
     },
     "execution_count": 16,
     "metadata": {},
     "output_type": "execute_result"
    }
   ],
   "source": [
    "# b\n",
    "w.diff(b).subs(k, \"k\")"
   ]
  },
  {
   "cell_type": "code",
   "execution_count": 17,
   "id": "6884aee8-5f6d-4b62-9c5d-65e57d951002",
   "metadata": {},
   "outputs": [
    {
     "data": {
      "image/png": "[encoded data removed]",
      "text/latex": [
       "$\\displaystyle b \\left(k - m\\right)$"
      ],
      "text/plain": [
       "b⋅(k - m)"
      ]
     },
     "execution_count": 17,
     "metadata": {},
     "output_type": "execute_result"
    }
   ],
   "source": [
    "# rho\n",
    "w.diff(rho).subs(k, \"k\")"
   ]
  },
  {
   "cell_type": "code",
   "execution_count": 18,
   "id": "e206266f-f439-4fcd-b4b7-029dffd8b2cd",
   "metadata": {},
   "outputs": [
    {
     "data": {
      "image/png": "[encoded data removed]",
      "text/latex": [
       "$\\displaystyle b \\left(- \\rho + \\frac{- k + m}{\\sqrt{\\sigma^{2} + \\left(k - m\\right)^{2}}}\\right)$"
      ],
      "text/plain": [
       "  ⎛           -k + m      ⎞\n",
       "b⋅⎜-ρ + ──────────────────⎟\n",
       "  ⎜        _______________⎟\n",
       "  ⎜       ╱  2          2 ⎟\n",
       "  ⎝     ╲╱  σ  + (k - m)  ⎠"
      ]
     },
     "execution_count": 18,
     "metadata": {},
     "output_type": "execute_result"
    }
   ],
   "source": [
    "# m\n",
    "w.diff(m).subs(k, \"k\")"
   ]
  },
  {
   "cell_type": "code",
   "execution_count": 19,
   "id": "be62e38d-0032-4005-80ce-3e8606392a08",
   "metadata": {},
   "outputs": [
    {
     "data": {
      "image/png": "[encoded data removed]",
      "text/latex": [
       "$\\displaystyle \\frac{b \\sigma}{\\sqrt{\\sigma^{2} + \\left(k - m\\right)^{2}}}$"
      ],
      "text/plain": [
       "       b⋅σ        \n",
       "──────────────────\n",
       "   _______________\n",
       "  ╱  2          2 \n",
       "╲╱  σ  + (k - m)  "
      ]
     },
     "execution_count": 19,
     "metadata": {},
     "output_type": "execute_result"
    }
   ],
   "source": [
    "# sigma\n",
    "w.diff(sigma).subs(k, \"k\")"
   ]
  },
  {
   "cell_type": "code",
   "execution_count": 20,
   "id": "79dc2f72-20e6-4f4c-89ec-fb22dba3547e",
   "metadata": {},
   "outputs": [
    {
     "data": {
      "image/png": "[encoded data removed]",
      "text/latex": [
       "$\\displaystyle b \\left(\\frac{\\rho}{K} + \\frac{k - m}{K \\sqrt{\\sigma^{2} + \\left(k - m\\right)^{2}}}\\right)$"
      ],
      "text/plain": [
       "  ⎛ρ          k - m        ⎞\n",
       "b⋅⎜─ + ────────────────────⎟\n",
       "  ⎜K        _______________⎟\n",
       "  ⎜        ╱  2          2 ⎟\n",
       "  ⎝    K⋅╲╱  σ  + (k - m)  ⎠"
      ]
     },
     "execution_count": 20,
     "metadata": {},
     "output_type": "execute_result"
    }
   ],
   "source": [
    "# K\n",
    "w.diff(K).subs(k, \"k\")"
   ]
  },
  {
   "cell_type": "code",
   "execution_count": 4,
   "id": "c2dfc8d2-118e-42ab-aa69-e3a6063c28cc",
   "metadata": {},
   "outputs": [],
   "source": [
    "import torch"
   ]
  },
  {
   "cell_type": "code",
   "execution_count": 5,
   "id": "aefb4f74-ef6b-47b9-a5ce-1e9d1d02b2e5",
   "metadata": {},
   "outputs": [],
   "source": [
    "from pyquant.torch_spline import CubicSpline1D"
   ]
  },
  {
   "cell_type": "code",
   "execution_count": 7,
   "id": "9a492ae1-f32e-445d-80dd-8cd329db7b35",
   "metadata": {},
   "outputs": [],
   "source": [
    "y = torch.tensor([1.40286434, 1.07977775, 0.88064766, 0.65471368, 0.54875586,\n",
    "       0.53543347, 0.68346774, 0.79146338, 0.90117135, 1.07876289], requires_grad=True)\n",
    "x = torch.tensor([1300., 1400, 1500, 1600, 1700, 1800., 1900, 2000, 2100, 2200])"
   ]
  },
  {
   "cell_type": "code",
   "execution_count": 8,
   "id": "8129911e-5d6f-4b27-bfe4-273738ce1203",
   "metadata": {},
   "outputs": [],
   "source": [
    "spline = CubicSpline1D(x,y)"
   ]
  },
  {
   "cell_type": "code",
   "execution_count": 9,
   "id": "a3e6bc35-0026-498a-b8c8-372ff02ea76f",
   "metadata": {},
   "outputs": [],
   "source": [
    "xs = torch.linspace(x[0], x[-1], 100)"
   ]
  },
  {
   "cell_type": "code",
   "execution_count": 12,
   "id": "aad297eb-7313-4b5b-a793-f8b01f54f0f8",
   "metadata": {},
   "outputs": [
    {
     "data": {
      "text/plain": [
       "tensor([1.4029, 1.3701, 1.3376, 1.3054, 1.2736, 1.2426, 1.2124, 1.1832, 1.1551,\n",
       "        1.1285, 1.1033, 1.0798, 1.0580, 1.0379, 1.0190, 1.0011, 0.9840, 0.9673,\n",
       "        0.9507, 0.9341, 0.9170, 0.8993, 0.8806, 0.8608, 0.8401, 0.8186, 0.7967,\n",
       "        0.7747, 0.7528, 0.7313, 0.7105, 0.6906, 0.6719, 0.6547, 0.6392, 0.6253,\n",
       "        0.6129, 0.6018, 0.5919, 0.5830, 0.5749, 0.5677, 0.5610, 0.5547, 0.5488,\n",
       "        0.5430, 0.5376, 0.5327, 0.5286, 0.5253, 0.5231, 0.5223, 0.5229, 0.5251,\n",
       "        0.5293, 0.5354, 0.5437, 0.5540, 0.5659, 0.5791, 0.5933, 0.6083, 0.6236,\n",
       "        0.6392, 0.6545, 0.6694, 0.6835, 0.6966, 0.7087, 0.7199, 0.7304, 0.7402,\n",
       "        0.7495, 0.7584, 0.7669, 0.7752, 0.7833, 0.7915, 0.7997, 0.8080, 0.8166,\n",
       "        0.8255, 0.8347, 0.8443, 0.8545, 0.8652, 0.8764, 0.8884, 0.9012, 0.9147,\n",
       "        0.9290, 0.9439, 0.9595, 0.9756, 0.9921, 1.0090, 1.0262, 1.0436, 1.0611,\n",
       "        1.0788], grad_fn=<ViewBackward0>)"
      ]
     },
     "execution_count": 12,
     "metadata": {},
     "output_type": "execute_result"
    }
   ],
   "source": [
    "l = spline.evaluate(xs).flatten()\n",
    "l"
   ]
  },
  {
   "cell_type": "code",
   "execution_count": 14,
   "id": "5b4eda1c-b514-4cfd-b52d-62f0e8e662f3",
   "metadata": {},
   "outputs": [],
   "source": [
    "v = torch.autograd.grad(l.sum(), y)"
   ]
  }
 ],
 "metadata": {
  "kernelspec": {
   "display_name": "Python 3 (ipykernel)",
   "language": "python",
   "name": "python3"
  },
  "language_info": {
   "codemirror_mode": {
    "name": "ipython",
    "version": 3
   },
   "file_extension": ".py",
   "mimetype": "text/x-python",
   "name": "python",
   "nbconvert_exporter": "python",
   "pygments_lexer": "ipython3",
   "version": "3.12.7"
  }
 },
 "nbformat": 4,
 "nbformat_minor": 5
}
