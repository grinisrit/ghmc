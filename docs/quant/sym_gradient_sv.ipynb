{
 "cells": [
  {
   "cell_type": "markdown",
   "id": "57e433a1-626d-442d-a9f9-ffa02feba50d",
   "metadata": {},
   "source": [
    "# Symbolic Gradient Calculation for SABR and SVI \n",
    "#### Dmitry Bazanov, Roland Grinis"
   ]
  },
  {
   "cell_type": "code",
   "execution_count": 3,
   "id": "63eabd5a-5879-48ad-8ea3-cd23cfc60700",
   "metadata": {},
   "outputs": [],
   "source": [
    "import sympy as sym"
   ]
  },
  {
   "cell_type": "markdown",
   "id": "2b2a5943-e131-4333-9fe6-59bddbfae5a4",
   "metadata": {},
   "source": [
    "## 1. SABR \n",
    "\n",
    "Implied volatility is given by:\n",
    "\n",
    "$$ \\sigma_B(x, T) \\approx I_B^0(x) (1 + I_H^1(x)T), \\quad x = \\ln \\frac{f}{K}$$\n",
    "\n",
    "$$I_H^1(x) = \\frac{\\alpha^{2} \\left(K f\\right)^{\\beta - 1} \\left(1 - \\beta\\right)^{2}}{24} + \\frac{\\alpha \\beta \\rho v \\left(K f\\right)^{\\frac{\\beta}{2} - \\frac{1}{2}}}{4} + \\frac{v^{2} \\cdot \\left(2 - 3 \\rho^{2}\\right)}{24}$$\n",
    "\n",
    "The order zero term is treated below.\n"
   ]
  },
  {
   "cell_type": "code",
   "execution_count": 4,
   "id": "9ada44b6-3199-4a51-8256-025a297b9450",
   "metadata": {},
   "outputs": [],
   "source": [
    "alpha, beta, v, rho, f, K, T = sym.symbols('alpha beta v rho f K T')\n",
    "x = sym.log(f/K)\n",
    "I_H_1 = (((1 - beta)**2)*alpha**2/(24*(f*K)**(1 - beta)) + (rho*v*alpha*beta)/(4*(f*K)**((1-beta)/2)) + \n",
    " ((2 - 3*rho**2)*v**2)/24 )"
   ]
  },
  {
   "cell_type": "markdown",
   "id": "6aa18179-c544-46dd-a653-34fefe43ae45",
   "metadata": {},
   "source": [
    "Derivatives of $I_H^1(x)$:"
   ]
  },
  {
   "cell_type": "code",
   "execution_count": 6,
   "id": "5f02c20c-c8ea-4ec2-8aad-e09b6463942e",
   "metadata": {},
   "outputs": [],
   "source": [
    "I_H_1.diff(alpha) # vega\n",
    "I_H_1.diff(rho) # rega\n",
    "I_H_1.diff(v) # sega\n",
    "I_H_1.diff(f) # delta\n",
    "I_H_1.diff(f).diff(f) # gamma\n",
    "I_H_1.diff(f).diff(alpha) # gamma, vanna, volga\n",
    "I_H_1.diff(alpha).diff(alpha) # volga\n",
    "I_H_1.diff(K); # map to delta space"
   ]
  },
  {
   "cell_type": "markdown",
   "id": "6eccda59-4229-40db-bf83-03543854136e",
   "metadata": {},
   "source": [
    "Derivatives of $I_H^0(x)$:\n",
    "\n",
    "$\\textbf{Case 1}: x = 0$ "
   ]
  },
  {
   "cell_type": "code",
   "execution_count": 7,
   "id": "56c55ea6-3fa3-4087-a080-ce8c1d168b3a",
   "metadata": {},
   "outputs": [
    {
     "data": {
      "text/latex": [
       "$\\displaystyle K^{\\beta - 1} \\alpha$"
      ],
      "text/plain": [
       "K**(beta - 1)*alpha"
      ]
     },
     "execution_count": 7,
     "metadata": {},
     "output_type": "execute_result"
    }
   ],
   "source": [
    "I_B_x = alpha*K**(beta-1)\n",
    "I_B_x"
   ]
  },
  {
   "cell_type": "code",
   "execution_count": 8,
   "id": "d9ee65f0-2f0e-499c-b7f9-4a4adca345a5",
   "metadata": {},
   "outputs": [],
   "source": [
    "I_B_x.diff(alpha) # vega\n",
    "I_B_x.diff(rho) # rega\n",
    "I_B_x.diff(v) # sega\n",
    "I_B_x.diff(f) # delta\n",
    "I_B_x.diff(f).diff(f) # gamma\n",
    "I_B_x.diff(f).diff(alpha) # gamma, vanna, volga\n",
    "I_B_x.diff(alpha).diff(alpha) # volga\n",
    "sym.simplify(I_B_x.diff(K)); # map to delta space"
   ]
  },
  {
   "cell_type": "markdown",
   "id": "fe0e9bc3-b91d-49d8-84cd-5ae70d5e03f5",
   "metadata": {},
   "source": [
    "$\\textbf{Case 2}: v = 0$ "
   ]
  },
  {
   "cell_type": "code",
   "execution_count": 9,
   "id": "abd4ee9f-1a1c-4b28-b3ee-7765657cf898",
   "metadata": {},
   "outputs": [
    {
     "data": {
      "text/latex": [
       "$\\displaystyle \\frac{\\alpha \\left(1 - \\beta\\right) \\log{\\left(\\frac{f}{K} \\right)}}{- K^{1 - \\beta} + f^{1 - \\beta}}$"
      ],
      "text/plain": [
       "alpha*(1 - beta)*log(f/K)/(-K**(1 - beta) + f**(1 - beta))"
      ]
     },
     "execution_count": 9,
     "metadata": {},
     "output_type": "execute_result"
    }
   ],
   "source": [
    "I_B_v = x*alpha*(1 - beta)/(f**(1 - beta) - K**(1 - beta))\n",
    "I_B_v"
   ]
  },
  {
   "cell_type": "code",
   "execution_count": 10,
   "id": "c8c2d886-589d-4643-a2f1-0bd02dafba87",
   "metadata": {},
   "outputs": [],
   "source": [
    "I_B_v.diff(alpha).subs(x, \"x\") # vega\n",
    "I_B_v.diff(rho) # rega\n",
    "I_B_v.diff(v) # sega\n",
    "sym.simplify(I_B_v.diff(f).subs(x, \"x\")) # delta\n",
    "sym.simplify(I_B_v.diff(f).diff(f).subs(x, \"x\")) # gamma\n",
    "I_B_v.diff(f).diff(alpha).subs(x, \"x\") # gamma, vanna, volga\n",
    "I_B_v.diff(alpha).diff(alpha) # volga\n",
    "sym.simplify(I_B_v.diff(K).subs(x, \"x\")); # map to delta space"
   ]
  },
  {
   "cell_type": "markdown",
   "id": "134019ba-e092-452c-890d-6b1f57233079",
   "metadata": {},
   "source": [
    "$\\textbf{Case 3}: \\beta = 1$"
   ]
  },
  {
   "cell_type": "code",
   "execution_count": 11,
   "id": "d3ad314f-dfa2-49e1-a9d3-592862b047c5",
   "metadata": {},
   "outputs": [
    {
     "data": {
      "text/latex": [
       "$\\displaystyle \\frac{v \\log{\\left(\\frac{f}{K} \\right)}}{\\log{\\left(\\frac{- \\rho + \\sqrt{1 - \\frac{2 \\rho v \\log{\\left(\\frac{f}{K} \\right)}}{\\alpha} + \\frac{v^{2} \\log{\\left(\\frac{f}{K} \\right)}^{2}}{\\alpha^{2}}} + \\frac{v \\log{\\left(\\frac{f}{K} \\right)}}{\\alpha}}{1 - \\rho} \\right)}}$"
      ],
      "text/plain": [
       "v*log(f/K)/log((-rho + sqrt(1 - 2*rho*v*log(f/K)/alpha + v**2*log(f/K)**2/alpha**2) + v*log(f/K)/alpha)/(1 - rho))"
      ]
     },
     "execution_count": 11,
     "metadata": {},
     "output_type": "execute_result"
    }
   ],
   "source": [
    "z_b = v*x/alpha\n",
    "xi_b = sym.sqrt(- 2*rho*z_b+z_b**2+1 )\n",
    "I_B_b = v*x/sym.ln((xi_b + z_b - rho)/(1 - rho))\n",
    "I_B_b"
   ]
  },
  {
   "cell_type": "code",
   "execution_count": 12,
   "id": "8bd7e14a-f3e2-4004-b9e1-9846f996c62d",
   "metadata": {},
   "outputs": [],
   "source": [
    "# vega\n",
    "sym.simplify(I_B_b.diff(alpha).subs(xi_b, sym.Symbol(r\"\\xi\")).subs(z_b, \"z\").subs(x, \"x\"))\n",
    "# rega\n",
    "sym.simplify(I_B_b.diff(rho).subs(xi_b, sym.Symbol(r\"\\xi\")).subs(z_b, \"z\").subs(x, \"x\"))\n",
    "# sega\n",
    "sym.simplify(I_B_b.diff(v).subs(xi_b, sym.Symbol(r\"\\xi\")).subs(z_b, \"z\").subs(x, \"x\"))\n",
    "# delta\n",
    "sym.simplify(I_B_b.diff(f).subs(xi_b, sym.Symbol(r\"\\xi\")).subs(z_b, \"z\").subs(x, \"x\"))\n",
    "# gamma\n",
    "sym.simplify(I_B_b.diff(f).diff(f).subs(xi_b, sym.Symbol(r\"\\xi\")).subs(z_b, \"z\").subs(x, \"x\"))\n",
    "# gamma, vanna, volga\n",
    "sym.simplify(I_B_b.diff(f).diff(alpha).subs(xi_b, sym.Symbol(r\"\\xi\")).subs(z_b, \"z\").subs(x, \"x\"))\n",
    "# volga\n",
    "sym.simplify(I_B_b.diff(alpha).diff(alpha).subs(xi_b, sym.Symbol(r\"\\xi\")).subs(z_b, \"z\").subs(x, \"x\"))\n",
    "# map to delta space\n",
    "sym.simplify(I_B_b.diff(K).subs(xi_b, sym.Symbol(r\"\\xi\")).subs(z_b, \"z\").subs(x, \"x\"));"
   ]
  },
  {
   "cell_type": "markdown",
   "id": "5b4b1325-81e6-4355-9e6b-be2f8e3b160b",
   "metadata": {},
   "source": [
    "$\\textbf{Case 4}: \\beta < 1$"
   ]
  },
  {
   "cell_type": "code",
   "execution_count": 13,
   "id": "6f1f7636-6946-4054-8006-30c85f69bde5",
   "metadata": {},
   "outputs": [
    {
     "data": {
      "text/latex": [
       "$\\displaystyle \\frac{v \\log{\\left(\\frac{f}{K} \\right)}}{\\log{\\left(\\frac{- \\rho + \\sqrt{1 - \\frac{2 \\rho v \\left(- K^{1 - \\beta} + f^{1 - \\beta}\\right)}{\\alpha \\left(1 - \\beta\\right)} + \\frac{v^{2} \\left(- K^{1 - \\beta} + f^{1 - \\beta}\\right)^{2}}{\\alpha^{2} \\left(1 - \\beta\\right)^{2}}} + \\frac{v \\left(- K^{1 - \\beta} + f^{1 - \\beta}\\right)}{\\alpha \\left(1 - \\beta\\right)}}{1 - \\rho} \\right)}}$"
      ],
      "text/plain": [
       "v*log(f/K)/log((-rho + sqrt(1 - 2*rho*v*(-K**(1 - beta) + f**(1 - beta))/(alpha*(1 - beta)) + v**2*(-K**(1 - beta) + f**(1 - beta))**2/(alpha**2*(1 - beta)**2)) + v*(-K**(1 - beta) + f**(1 - beta))/(alpha*(1 - beta)))/(1 - rho))"
      ]
     },
     "execution_count": 13,
     "metadata": {},
     "output_type": "execute_result"
    }
   ],
   "source": [
    "z = v*(f**(1 - beta) - K**(1 - beta))/(alpha * (1 - beta))\n",
    "xi = sym.sqrt(- 2*rho*z+z**2+1 )\n",
    "I_B_0 = v*x/sym.ln((xi + z - rho)/(1 - rho))\n",
    "I_B_0"
   ]
  },
  {
   "cell_type": "code",
   "execution_count": 14,
   "id": "dbeeae2c-3d93-4738-a461-54f8e5849e88",
   "metadata": {},
   "outputs": [],
   "source": [
    "# vega\n",
    "sym.simplify(I_B_0.diff(alpha).subs(xi, sym.Symbol(r\"\\xi\")).subs(z, \"z\").subs(x, \"x\"))\n",
    "# rega\n",
    "sym.simplify(I_B_0.diff(rho).subs(xi, sym.Symbol(r\"\\xi\")).subs(z, \"z\").subs(x, \"x\"))\n",
    "# sega\n",
    "sym.simplify(I_B_0.diff(v).subs(xi, sym.Symbol(r\"\\xi\")).subs(z, \"z\").subs(x, \"x\"))\n",
    "# delta\n",
    "sym.simplify(I_B_0.diff(f).subs(xi, sym.Symbol(r\"\\xi\")).subs(z, \"z\").subs(x, \"x\"))\n",
    "# gamma\n",
    "sym.simplify(I_B_0.diff(f).diff(f).subs(xi, sym.Symbol(r\"\\xi\")).subs(z, \"z\").subs(x, \"x\"))\n",
    "# gamma, vanna, volga\n",
    "sym.simplify(I_B_0.diff(f).diff(alpha).subs(xi, sym.Symbol(r\"\\xi\")).subs(z, \"z\").subs(x, \"x\"))\n",
    "# volga\n",
    "sym.simplify(I_B_0.diff(alpha).diff(alpha).subs(xi, sym.Symbol(r\"\\xi\")).subs(z, \"z\").subs(x, \"x\"))\n",
    "# map to delta space\n",
    "sym.simplify(I_B_0.diff(K).subs(xi, sym.Symbol(r\"\\xi\")).subs(z, \"z\").subs(x, \"x\"));"
   ]
  },
  {
   "cell_type": "markdown",
   "id": "8d24561f-6c66-42e6-8650-5b1211bc188d",
   "metadata": {},
   "source": [
    "Implied volatility senstivities are easy to obtain:\n",
    "$$ \\nabla_{\\alpha, \\rho, v, f, K} \\sigma_B(x, T) =  \\nabla_{\\alpha, \\rho, v, f, K} I_B^0(x) \\cdot \\left(1 + I_H^1(x)T \\right) + I_B^0(x) \\cdot T \\cdot \\nabla_{\\alpha, \\rho, v, f, K}I_H^1(x)\n",
    "$$\n",
    "\n",
    "$$\n",
    "\\nabla_{\\alpha, f}^2 \\sigma_B= \\nabla_{\\alpha, f}^2 I_B^0(x) + T\\left( \\nabla_{\\alpha,f}^2 I_B^0(x) \\cdot I_H^1(x) +  \\nabla_{\\alpha, f}^2  I_H^1(x) \\cdot I_B^0(x)  + 2 \\nabla_{\\alpha, f} I_B^0(x) \\cdot \\nabla_{\\alpha, f} I_H^1(x) \\right)\n",
    "$$\n",
    "\n",
    "$$ \\frac{\\partial ^2 \\sigma_B}{\\partial \\alpha \\partial f} = \\frac{\\partial^2 I_B^0(x)}{\\partial \\alpha \\partial f} (1 + I_H^1(x)T) + \\frac{\\partial I_B^0(x)}{\\partial \\alpha} \\frac{\\partial I_H^1(x)}{\\partial f}T + \\frac{\\partial^2 I_H^1(x)}{\\partial \\alpha \\partial f} I_B^0(x) T +\\frac{\\partial I_H^1(x)}{\\partial \\alpha} \\frac{\\partial I_B^0(x)}{\\partial f}T $$"
   ]
  },
  {
   "cell_type": "code",
   "execution_count": null,
   "id": "6b2a26d8-053b-491f-b347-2eb5d9dd128e",
   "metadata": {},
   "outputs": [],
   "source": []
  }
 ],
 "metadata": {
  "kernelspec": {
   "display_name": "Python 3 (ipykernel)",
   "language": "python",
   "name": "python3"
  },
  "language_info": {
   "codemirror_mode": {
    "name": "ipython",
    "version": 3
   },
   "file_extension": ".py",
   "mimetype": "text/x-python",
   "name": "python",
   "nbconvert_exporter": "python",
   "pygments_lexer": "ipython3",
   "version": "3.11.5"
  }
 },
 "nbformat": 4,
 "nbformat_minor": 5
}
